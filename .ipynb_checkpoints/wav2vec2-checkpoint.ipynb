{
 "cells": [
  {
   "cell_type": "code",
   "execution_count": 1,
   "metadata": {
    "id": "pFSqZ0jwCMSv"
   },
   "outputs": [],
   "source": [
    "import os\n",
    "import sys\n",
    "import torchaudio\n",
    "import glob\n",
    "import numpy as np\n",
    "import pandas as pd\n",
    "from dotenv import load_dotenv\n",
    "from pathlib import Path\n",
    "from tqdm import tqdm\n",
    "\n",
    "from sklearn.model_selection import train_test_split\n",
    "from database import Database\n",
    "from dataset_preprocessor import Preprocessor, Standard_Scaler"
   ]
  },
  {
   "cell_type": "code",
   "execution_count": 24,
   "metadata": {},
   "outputs": [
    {
     "name": "stdout",
     "output_type": "stream",
     "text": [
      "Collecting matplotlib\n",
      "  Using cached matplotlib-3.5.1-cp37-cp37m-manylinux_2_5_x86_64.manylinux1_x86_64.whl (11.2 MB)\n",
      "Collecting cycler>=0.10\n",
      "  Using cached cycler-0.11.0-py3-none-any.whl (6.4 kB)\n",
      "Requirement already satisfied: pyparsing>=2.2.1 in /usr/local/lib/python3.7/dist-packages (from matplotlib) (3.0.7)\n",
      "Requirement already satisfied: kiwisolver>=1.0.1 in /usr/local/lib/python3.7/dist-packages (from matplotlib) (1.3.2)\n",
      "Requirement already satisfied: python-dateutil>=2.7 in /usr/local/lib/python3.7/dist-packages (from matplotlib) (2.8.2)\n",
      "Requirement already satisfied: fonttools>=4.22.0 in /usr/local/lib/python3.7/dist-packages (from matplotlib) (4.29.1)\n",
      "Requirement already satisfied: packaging>=20.0 in /usr/local/lib/python3.7/dist-packages (from matplotlib) (21.3)\n",
      "Collecting pillow>=6.2.0\n",
      "  Downloading Pillow-9.0.1-cp37-cp37m-manylinux_2_17_x86_64.manylinux2014_x86_64.whl (4.3 MB)\n",
      "\u001b[2K     \u001b[90m━━━━━━━━━━━━━━━━━━━━━━━━━━━━━━━━━━━━━━━━\u001b[0m \u001b[32m4.3/4.3 MB\u001b[0m \u001b[31m43.7 MB/s\u001b[0m eta \u001b[36m0:00:00\u001b[0ma \u001b[36m0:00:01\u001b[0m\n",
      "\u001b[?25hRequirement already satisfied: numpy>=1.17 in /usr/local/lib/python3.7/dist-packages (from matplotlib) (1.21.5)\n",
      "Requirement already satisfied: six>=1.5 in /usr/lib/python3/dist-packages (from python-dateutil>=2.7->matplotlib) (1.12.0)\n",
      "Installing collected packages: pillow, cycler, matplotlib\n",
      "Successfully installed cycler-0.11.0 matplotlib-3.5.1 pillow-9.0.1\n",
      "\u001b[33mWARNING: Running pip as the 'root' user can result in broken permissions and conflicting behaviour with the system package manager. It is recommended to use a virtual environment instead: https://pip.pypa.io/warnings/venv\u001b[0m\u001b[33m\n",
      "\u001b[0m"
     ]
    }
   ],
   "source": [
    "#!apt-get install libsndfile1-dev -y\n",
    "#!pip3 install scipy\n",
    "#!pip3 install sklearn\n",
    "#!pip3 install librosa\n",
    "# !pip3 install datasets\n",
    "# !pip3 install transformers\n",
    "# !pip3 install praat-parselmouth\n",
    "# !pip3 install audiomentations\n",
    "# !pip3 install matplotlib"
   ]
  },
  {
   "cell_type": "code",
   "execution_count": 2,
   "metadata": {},
   "outputs": [],
   "source": [
    "db = Database('IEMOCAP')"
   ]
  },
  {
   "cell_type": "code",
   "execution_count": 14,
   "metadata": {
    "colab": {
     "base_uri": "https://localhost:8080/"
    },
    "id": "7MXAESg_Dqr6",
    "outputId": "42738658-ca98-4fff-e780-e0b478ce6abb"
   },
   "outputs": [
    {
     "name": "stderr",
     "output_type": "stream",
     "text": [
      "100%|███████████████████████████████████████████████████████████████████████| 10039/10039 [00:26<00:00, 383.56it/s]\n"
     ]
    }
   ],
   "source": [
    "data = []\n",
    "\n",
    "for path in tqdm(glob.glob(\"IEMOCAP_mp3/*.mp3\")):\n",
    "    name = str(os.path.basename(path)).split('_')[:-1]\n",
    "    label = str(path).split('_')[-1].split('.')[0]\n",
    "    if label == 'ang':\n",
    "        label = 'positive'\n",
    "    elif label == 'xxx':\n",
    "        continue\n",
    "    else:\n",
    "        label = 'negative'\n",
    "    \n",
    "    try:\n",
    "        # There are some broken files\n",
    "        s = torchaudio.load(path)\n",
    "        data.append({\n",
    "            \"name\": name,\n",
    "            \"path\": path,\n",
    "            \"emotion\": label\n",
    "        })\n",
    "    except Exception as e:\n",
    "        # print(str(path), e)\n",
    "        pass\n",
    "\n",
    "    # break"
   ]
  },
  {
   "cell_type": "code",
   "execution_count": 15,
   "metadata": {
    "colab": {
     "base_uri": "https://localhost:8080/",
     "height": 206
    },
    "id": "10b89ZpLDqx9",
    "outputId": "38522ad0-a2e4-461c-9f89-ec24595f45cc"
   },
   "outputs": [
    {
     "data": {
      "text/html": [
       "<div>\n",
       "<style scoped>\n",
       "    .dataframe tbody tr th:only-of-type {\n",
       "        vertical-align: middle;\n",
       "    }\n",
       "\n",
       "    .dataframe tbody tr th {\n",
       "        vertical-align: top;\n",
       "    }\n",
       "\n",
       "    .dataframe thead th {\n",
       "        text-align: right;\n",
       "    }\n",
       "</style>\n",
       "<table border=\"1\" class=\"dataframe\">\n",
       "  <thead>\n",
       "    <tr style=\"text-align: right;\">\n",
       "      <th></th>\n",
       "      <th>name</th>\n",
       "      <th>path</th>\n",
       "      <th>emotion</th>\n",
       "    </tr>\n",
       "  </thead>\n",
       "  <tbody>\n",
       "    <tr>\n",
       "      <th>0</th>\n",
       "      <td>[Ses02F, script02, 1, M025]</td>\n",
       "      <td>IEMOCAP_mp3/Ses02F_script02_1_M025_exc.mp3</td>\n",
       "      <td>negative</td>\n",
       "    </tr>\n",
       "    <tr>\n",
       "      <th>1</th>\n",
       "      <td>[Ses05F, impro03, M044]</td>\n",
       "      <td>IEMOCAP_mp3/Ses05F_impro03_M044_exc.mp3</td>\n",
       "      <td>negative</td>\n",
       "    </tr>\n",
       "    <tr>\n",
       "      <th>2</th>\n",
       "      <td>[Ses01M, impro07, F034]</td>\n",
       "      <td>IEMOCAP_mp3/Ses01M_impro07_F034_hap.mp3</td>\n",
       "      <td>negative</td>\n",
       "    </tr>\n",
       "    <tr>\n",
       "      <th>3</th>\n",
       "      <td>[Ses01M, script01, 1, M034]</td>\n",
       "      <td>IEMOCAP_mp3/Ses01M_script01_1_M034_ang.mp3</td>\n",
       "      <td>positive</td>\n",
       "    </tr>\n",
       "    <tr>\n",
       "      <th>4</th>\n",
       "      <td>[Ses05M, impro05, F014]</td>\n",
       "      <td>IEMOCAP_mp3/Ses05M_impro05_F014_neu.mp3</td>\n",
       "      <td>negative</td>\n",
       "    </tr>\n",
       "  </tbody>\n",
       "</table>\n",
       "</div>"
      ],
      "text/plain": [
       "                          name                                        path  \\\n",
       "0  [Ses02F, script02, 1, M025]  IEMOCAP_mp3/Ses02F_script02_1_M025_exc.mp3   \n",
       "1      [Ses05F, impro03, M044]     IEMOCAP_mp3/Ses05F_impro03_M044_exc.mp3   \n",
       "2      [Ses01M, impro07, F034]     IEMOCAP_mp3/Ses01M_impro07_F034_hap.mp3   \n",
       "3  [Ses01M, script01, 1, M034]  IEMOCAP_mp3/Ses01M_script01_1_M034_ang.mp3   \n",
       "4      [Ses05M, impro05, F014]     IEMOCAP_mp3/Ses05M_impro05_F014_neu.mp3   \n",
       "\n",
       "    emotion  \n",
       "0  negative  \n",
       "1  negative  \n",
       "2  negative  \n",
       "3  positive  \n",
       "4  negative  "
      ]
     },
     "execution_count": 15,
     "metadata": {},
     "output_type": "execute_result"
    }
   ],
   "source": [
    "df = pd.DataFrame(data)\n",
    "df.head()"
   ]
  },
  {
   "cell_type": "code",
   "execution_count": 17,
   "metadata": {
    "colab": {
     "base_uri": "https://localhost:8080/",
     "height": 245
    },
    "id": "iMhTHur8voOp",
    "outputId": "90cb6c3d-3b65-48cf-cf2b-c2206ac04c43"
   },
   "outputs": [
    {
     "name": "stderr",
     "output_type": "stream",
     "text": [
      "/usr/local/lib/python3.7/dist-packages/ipykernel_launcher.py:7: FutureWarning: In a future version of pandas all arguments of DataFrame.drop except for the argument 'labels' will be keyword-only\n",
      "  import sys\n"
     ]
    },
    {
     "name": "stdout",
     "output_type": "stream",
     "text": [
      "Step 0: 7532\n",
      "Step 1: 7532\n"
     ]
    },
    {
     "data": {
      "text/html": [
       "<div>\n",
       "<style scoped>\n",
       "    .dataframe tbody tr th:only-of-type {\n",
       "        vertical-align: middle;\n",
       "    }\n",
       "\n",
       "    .dataframe tbody tr th {\n",
       "        vertical-align: top;\n",
       "    }\n",
       "\n",
       "    .dataframe thead th {\n",
       "        text-align: right;\n",
       "    }\n",
       "</style>\n",
       "<table border=\"1\" class=\"dataframe\">\n",
       "  <thead>\n",
       "    <tr style=\"text-align: right;\">\n",
       "      <th></th>\n",
       "      <th>name</th>\n",
       "      <th>path</th>\n",
       "      <th>emotion</th>\n",
       "    </tr>\n",
       "  </thead>\n",
       "  <tbody>\n",
       "    <tr>\n",
       "      <th>0</th>\n",
       "      <td>[Ses05F, impro04, F037]</td>\n",
       "      <td>IEMOCAP_mp3/Ses05F_impro04_F037_fru.mp3</td>\n",
       "      <td>negative</td>\n",
       "    </tr>\n",
       "    <tr>\n",
       "      <th>1</th>\n",
       "      <td>[Ses04M, script03, 2, M018]</td>\n",
       "      <td>IEMOCAP_mp3/Ses04M_script03_2_M018_fru.mp3</td>\n",
       "      <td>negative</td>\n",
       "    </tr>\n",
       "    <tr>\n",
       "      <th>2</th>\n",
       "      <td>[Ses05F, script02, 2, M002]</td>\n",
       "      <td>IEMOCAP_mp3/Ses05F_script02_2_M002_neu.mp3</td>\n",
       "      <td>negative</td>\n",
       "    </tr>\n",
       "    <tr>\n",
       "      <th>3</th>\n",
       "      <td>[Ses03M, impro05b, M006]</td>\n",
       "      <td>IEMOCAP_mp3/Ses03M_impro05b_M006_fru.mp3</td>\n",
       "      <td>negative</td>\n",
       "    </tr>\n",
       "    <tr>\n",
       "      <th>4</th>\n",
       "      <td>[Ses04F, script02, 2, F011]</td>\n",
       "      <td>IEMOCAP_mp3/Ses04F_script02_2_F011_ang.mp3</td>\n",
       "      <td>positive</td>\n",
       "    </tr>\n",
       "  </tbody>\n",
       "</table>\n",
       "</div>"
      ],
      "text/plain": [
       "                          name                                        path  \\\n",
       "0      [Ses05F, impro04, F037]     IEMOCAP_mp3/Ses05F_impro04_F037_fru.mp3   \n",
       "1  [Ses04M, script03, 2, M018]  IEMOCAP_mp3/Ses04M_script03_2_M018_fru.mp3   \n",
       "2  [Ses05F, script02, 2, M002]  IEMOCAP_mp3/Ses05F_script02_2_M002_neu.mp3   \n",
       "3     [Ses03M, impro05b, M006]    IEMOCAP_mp3/Ses03M_impro05b_M006_fru.mp3   \n",
       "4  [Ses04F, script02, 2, F011]  IEMOCAP_mp3/Ses04F_script02_2_F011_ang.mp3   \n",
       "\n",
       "    emotion  \n",
       "0  negative  \n",
       "1  negative  \n",
       "2  negative  \n",
       "3  negative  \n",
       "4  positive  "
      ]
     },
     "execution_count": 17,
     "metadata": {},
     "output_type": "execute_result"
    }
   ],
   "source": [
    "# Filter broken and non-existed paths\n",
    "\n",
    "print(f\"Step 0: {len(df)}\")\n",
    "\n",
    "df[\"status\"] = df[\"path\"].apply(lambda path: True if os.path.exists(path) else None)\n",
    "df = df.dropna(subset=[\"path\"])\n",
    "df = df.drop(\"status\", 1)\n",
    "print(f\"Step 1: {len(df)}\")\n",
    "\n",
    "df = df.sample(frac=1)\n",
    "df = df.reset_index(drop=True)\n",
    "df.head()"
   ]
  },
  {
   "cell_type": "markdown",
   "metadata": {
    "id": "TWku4ra3Bp52"
   },
   "source": [
    "Let's explore how many labels (emotions) are in the dataset with what distribution."
   ]
  },
  {
   "cell_type": "code",
   "execution_count": 18,
   "metadata": {
    "colab": {
     "base_uri": "https://localhost:8080/",
     "height": 276
    },
    "id": "beNpKMh5xXmX",
    "outputId": "c1413ba0-4ce4-46cf-c958-4381ca332b1e"
   },
   "outputs": [
    {
     "name": "stdout",
     "output_type": "stream",
     "text": [
      "Labels:  ['negative' 'positive']\n",
      "\n"
     ]
    },
    {
     "data": {
      "text/html": [
       "<div>\n",
       "<style scoped>\n",
       "    .dataframe tbody tr th:only-of-type {\n",
       "        vertical-align: middle;\n",
       "    }\n",
       "\n",
       "    .dataframe tbody tr th {\n",
       "        vertical-align: top;\n",
       "    }\n",
       "\n",
       "    .dataframe thead th {\n",
       "        text-align: right;\n",
       "    }\n",
       "</style>\n",
       "<table border=\"1\" class=\"dataframe\">\n",
       "  <thead>\n",
       "    <tr style=\"text-align: right;\">\n",
       "      <th></th>\n",
       "      <th>path</th>\n",
       "    </tr>\n",
       "    <tr>\n",
       "      <th>emotion</th>\n",
       "      <th></th>\n",
       "    </tr>\n",
       "  </thead>\n",
       "  <tbody>\n",
       "    <tr>\n",
       "      <th>negative</th>\n",
       "      <td>6429</td>\n",
       "    </tr>\n",
       "    <tr>\n",
       "      <th>positive</th>\n",
       "      <td>1103</td>\n",
       "    </tr>\n",
       "  </tbody>\n",
       "</table>\n",
       "</div>"
      ],
      "text/plain": [
       "          path\n",
       "emotion       \n",
       "negative  6429\n",
       "positive  1103"
      ]
     },
     "execution_count": 18,
     "metadata": {},
     "output_type": "execute_result"
    }
   ],
   "source": [
    "print(\"Labels: \", df[\"emotion\"].unique())\n",
    "print()\n",
    "df.groupby(\"emotion\").count()[[\"path\"]]"
   ]
  },
  {
   "cell_type": "markdown",
   "metadata": {
    "id": "i2hwRai7BNrx"
   },
   "source": [
    "Let's display some random sample of the dataset and run it a couple of times to get a feeling for the audio and the emotional label."
   ]
  },
  {
   "cell_type": "code",
   "execution_count": 27,
   "metadata": {
    "colab": {
     "base_uri": "https://localhost:8080/",
     "height": 120
    },
    "id": "DZaQ_sP5xkIX",
    "outputId": "21da7ea9-828e-4b9a-c870-b87106cc0233"
   },
   "outputs": [
    {
     "name": "stdout",
     "output_type": "stream",
     "text": [
      "ID Location: 1071\n",
      "      Label: positive\n",
      "\n"
     ]
    },
    {
     "data": {
      "text/html": [
       "\n",
       "                <audio  controls=\"controls\" autoplay=\"autoplay\">\n",
       "                    <source src=\"data:audio/wav;base64,UklGRqR+AQBXQVZFZm10IBAAAAABAAEAgD4AAAB9AAACABAAZGF0YYB+AQAAAAAAAAAAAAAAAAAAAAAAAAAAAAAAAAAAAAAAAAAAAAAAAAAAAAAAAAAAAAAAAAAAAAAAAAAAAAAAAAAAAAAAAAAAAAAAAAAAAAAAAAAAAAAAAAAAAAAAAAAAAAAAAAAAAAAAAAAAAAAAAAAAAAAAAAAAAAAAAAAAAAAAAAAAAAAAAAAAAAAAAAAAAAAAAAAAAAAAAAAAAAAAAAAAAAAAAAAAAAAAAAAAAAAAAAAAAAAAAAAAAAAAAAAAAAAAAAAAAAAAAAAAAAAAAAAAAAAAAAAAAAAAAAAAAAAAAAAAAAAAAAAAAAAAAAAAAAAAAAAAAAAAAAAAAAAAAAAAAAAAAAAAAAAAAAAAAAAAAAAAAAAAAAAAAAAAAAAAAAAAAAAAAAAAAAAAAAAAAAAAAAAAAAAAAAAAAAAAAAAAAAAAAAAAAAAAAAAAAAAAAAAAAAAAAAAAAAAAAAAAAAAAAAAAAAAAAAAAAAAAAAAAAAAAAAAAAAAAAAAAAAAAAAAAAAAAAAAAAAAAAAAAAAAAAAAAAAAAAAAAAAAAAAAAAAAAAAAAAAAAAAAAAAAAAAAAAAAAAAAAAAAAAAAAAAAAAAAAAAAAAAAAAAAAAAAAAAAAAAAAAAAAAAAAAAAAAAAAAAAAAAAAAAAAAAAAAAAAAAAAAAAAAAAAAAAAAAAAAAAAAAAAAAAAAAAAAAAAAAAAAAAAAAAAAAAAAAAAAAAAAAAAAAAAAAAAAAAAAAAAAAAAAAAAAAAAAAAAAAAAAAAAAAAAAAAAAAAAAAAAAAAAAAAAAAAAAAAAAAAAAAAAAAAAAAAAAAAAAAAAAAAAAAAAAAAAAAAAAAAAAAAAAAAAAAAAAAAAAAAAAAAAAAAAAAAAAAAAAAAAAAAAAAAAAAAAAAAAAAAAAAAAAAAAAAAAAAAAAAAAAAAAAAAAAAAAAAAAAAAAAAAAAAAAAAAAAAAAAAAAAAAAAAAAAAAAAAAAAAAAAAAAAAAAAAAAAAAAAAAAAAAAAAAAAAAAAAAAAAAAAAAAAAAAAAAAAAAAAAAAAAAAAAAAAAAAAAAAAAAAAAAAAAAAAAAAAAAAAAAAAAAAAAAAAAAAAAAAAAAAAAAAAAAAAAAAAAAAAAAAAAAAAAAAAAAAAAAAAAAAAAAAAAAAAAAAAAAAAAAAAAAAAAAAAAAAAAAAAAAAAAAAAAAAAAAAAAAAAAAAAAAAAAAAAAAAAAAAAAAAAAAAAAAAAAAAAAAAAAAAAAAAAAAAAAAAAAAAAAAAAAAAAAAAAAAAAAAAAAAAAAAAAAAAAAAAAAAAAAAAAAAAAAAAAAAAAAAAAAAAAAAAAAAAAAAAAAAAAAAAAAAAAAAAAAAAAAAAAAAAAAAAAAAAAAAAAAAAAAAAAAAAAAAAAAAAAAAAAAAAAAAAAAAAAAAAAAAAAAAAAAAAAAAAAAAAAAAAAAAAAAAAAAAAAAAAAAAAAAAAAAAAAAAAAAAAAAAAAAAAAAAAAAAAAAAAAAAAAAAAAAAAAAAAAAAAAAAAAAAAAAAAAAAAAAAAAAAAAAAAAAAAAAAAAAAAAAAAAAAAAAAAAAAAAAAAAAAAAAAAAAAAAAAAAAAAAAAAAAAAAAAAAAAAAAAAAAAAAAAAAAAAAAAAAAAAAAAAAAAAAAAAAAAAAAAAAAAAAAAAAAAAAAAAAAAAAAAAAAAAAAAAAAAAAAAAAAAAAAAAAAAAAAAAAAAAAAAAAAAAAAAAAAAAAAAAAAAAAAAAAAAAAAAAAAAAAAAAAAAAAAAAAAAAAAAAAAAAAAAAAAAAAAAAAAAAAAAAAAAAAAAAAAAAAAAAAAAAAAAAAAAAAAAAAAAAAAAAAAAAAAAAAAAAAAAAAAAAAAAAAAAAAAAAAAAAAAAAAAAAAAAAAAAAAAAAAAAAAAAAAAAAAAAAAAAAAAAAAAAAAAAAAAAAAAAAAAAAAAAAAAAAAAAAAAAAAAAAAAAAAAAAAAAAAAAAAAAAAAAAAAAAAAAAAAAAAAAAAAAAAAAAAAAAAAAAAAAAAAAAAAAAAAAAAAAAAAAAAAAAAAAAAAAAAAAAAAAAAAAAAAAAAAAAAAAAAAAAAAAAAAAAAAAAAAAAAAAAAAAAAAAAAAAAAAAAAAAAAAAAAAAAAAAAAAAAAAAAAAAAAAAAAAAAAAAAAAAAAAAAAAAAAAAAAAAAAAAAAAAAAAAAAAAAAAAAAAAAAAAAAAAAAAAAAAAAAAAAAAAAAAAAAAAAAAAAAAAAAAAAAAAAAAAAAAAAAAAAAAAAAAAAAAAAAAAAAAAAAAAAAAAAAAAAAAAAAAAAAAAAAAAAAAAAAAAAAAAAAAAAAAAAAAAAAAAAAAAAAAAAAAAAAAAAAAAAAAAAAAAAAAAAAAAAAAAAAAAAAAAAAAAAAAAAAAAAAAAAAAAAAAAAAAAAAAAAAAAAAAAAAAAAAAAAAAAAAAAAAAAAAAAAAAAAAAAAAAAAAAAAAAAAAAAAAAAAAAAAAAAAAAAAAAAAAAAAAAAAAAAAAAAAAAAAAAAAAAAAAAAAAAAAAAAAAAAAAAAAAAAAAAAAAAAAAAAAAAAAAAAAAAAAAAAAAAAAAAAAAAAAAAAAAAAAAAAAAAAAAAAAAAAAAAAAAAAAAAAAAAAAAAAAAAAAAAAAAAAAAAAAAAAAAAAAAAAAAAAAAAAAAAAAAAAAAAAAAAAAAAAAAAAAAAAAAAAAAAAAAAAAAAAAAAAAAAAAAAAAAAAAAAAAAAAAAAAAAAAAAAAAAAAAAAAAAAAAAAAAAAAAAAAAAAAAAAAAAAAAAAAAAAAAAAAAAAAAAAAAAAAAAAAAAAAAAAAAAAAAAAAAAAAAAAAAAAAAAAAAAAAAAAAAAAAAAAAAAAAAAAAAAAAAAAAAAAAAAAAAAAAAAAAAAAAAAAAAAAAAAAAAAAAAAAAAAAAAAAAAAAAAAAAAAAAAAAAAAAAAAAAAAAAAAAAAAAAAAAAAAAAAAAAAAAAAAAAAAAAAAAAAAAAAAAAAAAAAAAAAAAAAAAAAAAAAAAAAAAAAAAAAAAAAAAAAAAAAAAAAAAAAAAAAAAAAAAAAAAAAAAAAAAAAAAAAAAAAAAAAAAAAAAAAAAAAAAAAAAAAAAAAAAAAAAAAAAAAAAAAAAAAAAAAAAAAAAAAAAAAAAAAAAAAAAAAAAAAAAAAAAAAAAAAAAAAAAAAAAAAAAAAAAAAAAAAAAAAAAAAAAAAAAAAAAAAAAAAAAAAAAAAAAAAAAAAAAAAAAAAAAAAAAAAAAAAAAAAAAAAAAAAAAAAAAAAAAAAAAAAAAAAAAAAAAAAAAAAAAAAAAAAAAAAAAAAAAAAAAAAAAAAAAAAAAAAAAAAAAAAAAAAAAAAAAAAAAAAAAAAAAAAAAAAAAAAAAAAAAAAAAAAAAAAAAAAAAAAAAAAAAAAAAAAAAAAAAAAAAAAAAAAAAAAAAAAAAAAAAAAAAAAAAAAAAAAAAAAAAAAAAAAAAAAAAAAAAAAAAAAAAAAAAAAAAAAAAAAAAAAAAAAAAAAAAAAAAAAAAAAAAAAAAAAAAAAAAAAAAAAAAAAAAAAAAAAAAAAAAAAAAAAAAAAAAAAAAAAAAAAAAAAAAAAAAAAAAAAAAAAAAAAAAAAAAAAAAAAAAAAAAAAAAAAAAAAAAAAAAAAAAAAAAAAAAAAAAAAAAAAAAAAAAAAAAAAAAAAAAAAAAAAAAAAAAAAAAAAAAAAAAAAAAAAAAAAAAAAAAAAAAAAAAAAAAAAAAAAAAAAAAAAAAAAAAAAAAAAAAAAAAAAAAAAAAAAAAAAAAAAAAAAAAAAAAAAAAAAAAAAAAAAAAAAAAAAAAAAAAAAAAAAAAAAAAAAAAAAAAAAAAAAAAAAAAAAAAAAAAAAAAAAAAAAAAAAAAAAAAAAAAAAAAAAAAAAAAAAAAAAAAAAAAAAAAAAAAAAAAAAAAAAAAAAAAAAAAAAAAAAAAAAAAAAAAAAAAAAAAAAAAAAAAAAAAAAAAAAAAAAAAAAAAAAAAAAAAAAAAAAAAAAAAAAAAAAAAAAAAAAAAAAAAAAAAAAAAAAAAAAAAAAAAAAAAAAAAAAAAAAAAAAAAAAAAAAAAAAAAAAAAAAAAAAAAAAAAAAAAAAAAAAAAAAAAAAAAAAAAAAAAAAAAAAAAAAAAAAAAAAAAAAAAAAAAAAAAAAAAAAAAAAAAAAAAAAAAAAAAAAAAAAAAAAAAAAAAAAAAAAAAAAAAAAAAAAAAAAAAAAAAAAAAAAAAAAAAAAAAAAAAAAAAAAAAAAAAAAAAAAAAAAAAAAAAAAAAAAAAAAAAAAAAAAAAAAAAAAAAAAAAAAAAAAAAAAAAAAAAAAAAAAAAAAAAAAAAAAAAAAAAAAAAAAAAAAAAAAAAAAAAAAAAAAAAAAAAAAAAAAAAAAAAAAAAAAAAAAAAAAAAAAAAAAAAAAAAAAAAAAAAAAAAAAAAAAAAAAAAAAAAAAAAAAAAAAAAAAAAAAAAAAAQAAAAIA//8BAP7/AgD9/8j/zv/I/5P/Yv9Z/4j/qf+n/2//bP+V/5D/oP+w/5z/iv+G/5D/l/91/1b/UP9g/3z/i/+m/7X/wf/L/7b/tf/W//X/EAAVAPv/6/8AABAA7P/R//b/KwBLAEYAIAAAAMz/lv+n/9H/8f/b/6H/kf+B/3D/Yf9G/yv/EP8W/0v/cP92/3v/a/9W/1D/Zf+K/6X/wP+7/6r/tf+n/5X/kP+A/2z/Kv/x/uX+y/7W/gH/K/91/6b/pv+s/6X/sv/a/+H/6v/x//D//P/Q/4z/kP+m/3v/Vv97/6H/q//A/8z/1v/8/ykAYACUAJQAjgCvALUArwC1AM8A7wCrAGwAbwA7ABAAFgArAFUAbwCQALsAsACVAIAAYQBlAG8AbwB1AHQAdQBrAFwAVQBbAHEAegBlAF4AbABrAEYA///n/xQAQABkAKsA6gDxAPsAFgEbARABBgH6AOEAxQC7AJoAWwA5AEsAgQDGABABOwElAe8AugCkAKAAiQCWAM8A5gDbANUA5QDwAMwAmgBxAE8ANwAaAO3/2v/y/xUAQABqAIAAigClAKYAlQDFAAoBGgHvAKQAdABUABoA/P8FABQAFgArAFYAUAAlAAAA6//G/4D/Yf91/4H/lv/G/+b/8f/3/wUAGgAvADsAOQAvAA8A8f/L/5b/cP9w/5v/y//n/+H/1v/1/xsAHwAWABUAFQApAFQAVQAvAAAA0P+7/7X/pv+A/3H/dv9R/0b/lf/7/x8AIAAvAEQAOgAUAPv/1f+x/6//sf+q/6b/lf+W/8v/9/8aADAACgDL/6X/mv+V/4H/av+A/7b/4P/m/9b/xv+m/4b/lv+x/5b/hf+B/1z/UP9a/2v/mv/Q/9X/wf/W/8b/mv+w/8r/1v/6/ysATwA/AB8A9f+h/2H/Zv97/2f/YP93/3D/d/+G/3z/hf+L/3v/YP8x//b+tv58/nv+q/7b/hX/Uf9b/yD/xf6r/tv+8P7s/vb+B/8b/yz/Nv87/1D/Zf97/5b/oP+l/6X/q/+1/6r/q//b/+v/0f/w/wkAAAAEAAUABQAlAG4AhQB0AJYArgCgAJQAZQA6ADYADwDV/5D/Rf8m/xD//P4a/1v/mv/G//D/BQAAAAoA8f/F/7f/wP/h/+//7f/W/8b/0P/W/9D/u/+a/1T/Ff8K/wb/5f67/qr+kP6G/qv+1v7h/vv+G//x/sD+2/4V/zv/cP+8//X/5v+x/8f/+/8cACsABQDL/8L/5//y/+b/EABMAGAAWwBFABAA1f/h/xkARgB1AIEAbwBWAEQATwBUAEUAUABlAFUASgB1AHQAOwBhALsA1gDJAKUAXgAlACMAKgAfACEAKQArACoAJQAaAOz/rP+h/8j/+v8bADMAOgAuADsAVABJACkAGwAPABUAKwA2ADUASQBqAHAAawB7AIoAkQDGAPAAAAEWAQoB9QDqAOAAoQBJAFEAegByAGoAYwBVAFcAXwCBAJAAewBVADUAUQBqAGEATwAlAOD/tv/L/+r/EwAzAD8AQwAwACkAIQAJABEAJgA3AFYAhwCxAJsAYABUAHsAmgCZAK4AygDEANAA7wAAAQoB+gDgAAsBWgGAAZYBsQGbAUUBGgE2ATUBIQEVAfoAFAFwAagBnwGKAXkBUAEqAQABsABrAEkAJQDh/8f/+/8UABYAWgCmALUA0QD7ABYBEwHaAJQAfwCOAH4AcwB6AHUAdQBgAEoANAD6/9D/5P8fAGUApADFANoACgFAAXYBegFEAR8BBAHvAOUAuwCKAHUASwAlABUAAAD2/9D/of+F/3X/mv/A/7//xP/J/9X/7/8ZAEUAOQA0AEkANAAPANL/kP+c/8v/4f8PADsAGADl/8//sf+1/+D/yv+h/6D/i/9//6b/tP+m/7X/xv+7/4v/cP+S/5b/i//L/xAANQBrAHUAKwDn/8z/q/+A/2D/Rf9F/1b/Vv9B/zH/Nv8g//z+6/7B/rb+8f4B/+D++v46/1r/UP9b/4v/lv+G/5b/1v8KAAAA8P/b/7X/pf+q/6r/pf/A/8z/pv+M/4D/Yf9g/5b/1f8MACUADADr/+b/BQAeAAQA2v/H/6v/jP+U/6b/o/+K/2j/UP80/zf/XP9s/1b/Qf9R/1r/K//w/tf+wP6x/qH+oP7F/sv+zf7n/v3+Hf8p/wb/8P4A/wv/Kv9h/1f/B//R/sv+2v7g/sb+yv75/gv/HP87/0X/bP+W/6f/x/+9/5z/sP/F/8b/1//M/8f/7P/8/woANQBUAD4ACQDv/8//j/9m/2X/lv+8/5H/T/8L/+/+JP+E/+r/LwA/ABQAzP+7/9v/0P/i/yYATABbADoABQD1/7r/hf+g/5n/e/+A/4L/ev96/37/av94/6//xv/w/wAAwf+y/9b/7P8QACsAIwAqADQANAAuAA4ACQBDAJoA1QDbAMUAoQCfALAAmQB5AHkAaQA5AB8ACgD8//H/1f/q/xoALwAvACQAJQArACsAXwCbAIUATwBJAFUAWwCAAJwAagAQALv/dP91/7X/4f/c/83/xv+t/5H/k/+H/43/2v8vAEkALwAgACUACwDs//b/BAABAPv/1//Q/yYAegCwAOYAAAEWASEB9wCqAFoAOAA6ACMAIQBgAHEAKgAVADMAPgBkAIkAigCFAHEANQAAAA4AGgD0/+L/9f8lAFkASgA0ADoAAACh/2v/cP+m/8b/3f8GABwAMAAqAPr/4P/Q/7X/2v8FANv/xf/W/8z//f9VAJAAwADqAAsB9gCxAHUAVQBFACQAGQBEAFQALgAQAPv/3P/Q/+H/9f/2/+D/xv/Q/xMAXgB/AK4A3gCvAFkACgCm/2b/a/+F/7D/4P/1//r/DwAeAAAAAwBKAKoA5QC6AK4A9QD6APUANQFrAXABNgHwANYAqgBwAGUAgADFABoBEAHhANAAwADlACoBbwGwAZoBUgElAeUAugDRAOUA6wDaAK8AjwB+AHoAgwCFAIoApQCzAK4AsACZAGoATwBAAFIAkACoAJcAfwBHABQA8f+w/6L/zP/R//z/UABKAAQA2//V/9f/4P8RAFwAkACGAHwAwADJAJQAqgCvAI8AhQBwAFUANQDv/6v/wP/7/wkAEAAYAPH/tf+r/9//EAAJAAAA7P+w/3v/Zf9b/0H/QP+F/73/pv+X/6z/h/9m/4z/q//Q////AAAAAAYAvf9G/yH/O/9G/zH/If9b/2//IP/m/vX+Nf9M/1X/m/+1/3b/Rf9Q/3T/oP/E//D/+v/R/5b/YP9x/6v/tv+l/7b/sP9w/zv/Iv8b/zz/gf+b/2b/G//r/vv+UP+V/7b/AAAlAOD/gf9Q/0L/Jf8g/zT/EP8J/xX/0P67/uH+A/9S/6f/4P/S/2L/6/61/s/+9f4W/1X/dv91/0r/Cv8m/1b/QP8h/1X/sP+a/0z/Nv8q/zX/gP/V/yUAWgARAJz/gv+b/6r/tf/R/8X/jP9h/1H/gP+r/6L/xv8ZAFEATgAMANH/4v/6/wEALgBRABkAwf+R/3b/a/93/4v/hf9w/3D/dv9b/xH/8f4g/2H/sf/m/+b/6//7//X/6v8EACsAWgCbAJsAXAAmAPv/4P/R/9H/9v8/AH8AnwCrAIQAVQA+ADoAZACQAJ4AmwBpADAADgAAACkARAAvAD8AegCZAHAATwBaAH8AoQCVAJAAhQBKAD8AdAB2AEoARgBrAHYASgA0ABkA7v/7/wMACwBUAKAAlAA7AA8ADwAJAEsAnwC/AM8AqgB0AH4AhQBfAGoAoACAAAsA0v/c/8//xv+7/8b//P8KAOH/0P/X/8D/yv8DAEAAegCaAIUAZABbAE8ASgAqAOf/z//h//r/BQAJAC8AWgBaAEYAWgCUAK8AhwBqAKYAvwCmAKoAhQBaAFAAQABwAKsAZQAaACkAVQCPAKYAoACwAMQAxAC1AL8AwAB6AE8ARAD2/9H/AAAvACsACQABAAMAEQAlACAA8P+W/2D/Zv9r/3b/gP+2/zoAdABKAC8ADgDV/7//u//F/9b/wf+2/5v/W/9m/7v/5v/6/w8A9f/x/xkASwCaAM8AxADAAMAAqgCfAHoAMAAeAEUAKQAAAC4AVgA0ABYAJQAlAC8AWwBVACAA+//r/9v/2//c/7z/sP/B/9r/FgA1APL/r//h/yQAFQD2/+3/7P/c/7X/t//t/wAA6//W/8b/pv9n/0b/ff+x/4H/S/9M/zz/If8l/yL/Jf9m/6//y//q/zEAPwAaACAA8f+1/8r/uv9//5X/6v/w/5r/Uf8w/yr/K/8w/3L/uv/B/6z/nP9g/wb/EP9b/4b/sP/b/7v/d/9Q/xv/Kv+H/5v/gf98/1//P/81/yv/Hv8L/zP/hv+l/6f/df9G/2D/df+s/y8AcQAPAJX/oP/S/9X/5v8EAAsA/P/c/8T/4P/3/9f/5v8AAKX/cP/L/wUA8f8EAC8ARQBAACoAOgAlAPf/AAAaADUAIADl/6H/Rf9B/6z/y//A/8z/pv+r/8X/wf/m/+H/oP+X/7b/0f/l/83/hv9I/0D/J/8A/zz/T//6/gv/TP8W/wv/a/9l/yb/Rf9g/zX/Ff8l/zr/Vv97/4D/df92/5D/pv/F/xUAWQA4ALT/av9//2r/a/+2/8//sP96/4X/tf9a//r+LP+X/8b/of9s/2b/kP9//0//hv/7/xUAzP+3//b/KgAgAAsAKgArAOf/vf/L/+b/1//X/0QAtgDVAMAAigBQAC8AQAClADYBiwHAAfUBxgE2AeYA2wC1ALsAJQF7AVIBGgE7ASQBnwBZALcAKAEVAeQA4ADKAKYAhACgAO8A7wDLAMAAqwCrAMYA1QDgAOoA6gDVAKUAVQDl/5v/wP8qAJsAGwFVAfoAlQB7AHkAgwClAJ4AdACAAJoAqwDKAMQAugDQANAA1QDuANsAnwB+AKMAxQC1AL8AzwCWAEoABQDr/yUANAD1/8b/sf/b/zUAJACx/4v/wP/Q/8H/AAApAOr/q/+0/9X/wP+8//b/9v/B/7z/3P8EABYACgAlADkALABZAIYAGwCy/+v/GwBIALAA2QDAAMkABQEaAQYBCgH5ANAA2wDgANoA7wC+AGAAJAAFAPX/EABvAK8AnwCFAHUAWwBKADYAIAAaABMAKgBaADsAy/9l/zD/DP/x/hX/Ov8c/xD/Of8//0v/sP/K/5//tv+1/5X/i/+b/7H/hv9x/6//8f/k/4D/QP88/0H/l/8EAPH/u//G/5//UP9x/wQAVQA6ACYAJgA1AB4A5v8AAE8AIADC/+v/+/+P/1f/lf/m/xkAAADL//f/CgC2/6D/+v8qABAAWwDfAJYADwDs/4r/TP+K/8H/+/8sAO//dv9K/2b/dv9X/2D/gf9h/zz/J/8r/1v/bP9c/1v/Zf9l/yv/Cv96/9r/xv/H/9z/zP+M/0f/Yf+l/9f/5v/A/9b/FgD7/7X/q//L/9H/wP/E/7X/m/+E/yv/+v41/0//Vf+V/+H/6v+R/1r/kP+b/3v/pP/R/7r/kf92/13/H//X/sD+9/5g/6L/xv/W/9z/BgALABUAfADLALEAagAyADUASwAPANb/JAB7AHAAZQBrAFAA+v+p/9X/WgDGAPMA/wDaAJQAdABVAFUAywA2ARYBywDFAMUAdQAkAEAAkwDEAL8AvgDpALoASgAfACQASgBKAB4A9f/G/7P/cf8w/3v/y//G/9X/0P+C/1f/S/9R/4r/oP+l/6r/Wv8V/0b/lv+1/x4AxAC6AEkAGgAPADEAawB2AGUAZQB/AIsAjwCLAGUAcACqAKUAOQDK/7n/qf+r/xgASgApAEQAbgBaABQA+/8gAEYAXgBOACAACQAfAD8AUQCEALAAhAArAPH/EABkAK8A5ADrAPkA8ACaAEAAEwBFAL4ABAEJAesAigBBAFUAVgBVAJYA1ADrAPsA1gBXANz/y/8OAFYAWQAhAA8A3P81//f+Zv++/xMAZABKADAA8f97/4v/0P+w/6r/AQAaAMv/hv9n/1D/Z/+Q/4r/Sv/1/rL+bP6H/gz/Vv+8/2YAWgCb/1b/pv/L/9v/SwCfAJIAiABgACAA+/8AADkAdQCeAJoAHwBs/yb/W/+u/xUAhgCRAD8A7/+X/0X/Vf+w/8D/2/97AK8APQD3/8r/a/8l/1b/0P8LAOH/rv+d/33/gP/Q/yAAPABAADsAIQAAAOH/+/8VAPX/3P/L/9f/DADn/4z/zP8kAA8ANQB1AAsAe/+r/wMAPQCEAJkA1AD1ALAAYQAwAEUAewB7AD8A+//Q/5z/P/8x/7b/CgDb/6r/ev8//1D/Yf+B/xsAhAB7AKAAvgBOAKX/Rv89/3v/z//m/+v/9v+2/zz/4f4S/5b/2/8FAPv/hf8g/wb/Bv87/5f/1/8ZADQArP8A/xv/gf9h/3b/GQBuAGoAMADV/+X/9v/d/yAAewCJAB8Au//o/ysAYACWAIEAhQCgACcAtv+t/2X/Jv95/93/6//u/+H/w/+0/8D/7v/j/9D/+/8VABEABQDx/7X/Vv8t/0P/dv/G/9L/kP9X/yb/I/9W/7H/FwBFAFUAYAAvAOr/3P/r/xIAbADNANsAYAAWACwA0f+A/+//VQBTAFMATgAwABEA7P/n/0AArwCvAKQA3wC/AFsAOwBQAG8AXwAjAPT/3P/Y/7r/pv/V/wsAXwCwAKkAqgB1ANH/hv+l/5//hP+v/9D/t//Q/7z/cP98/5//sv+x/3r/Zf+j/9H/6/87AEUAFQBUAFoA6f/h/zMAagCAAHAANAD2//D/AADv/8v/xP8tAIAAUwBKAFYAUQB0AKUA0wD/AEkBYAHgAHEAewCkAHsAAwDp/zkAfgCkAMUA3wCOAAkAFABSAFMARQA0AFoASgDW/5H/iv+7/wUARQCEAIUARAAVADYAigCYAGQAlQDpAL4AegCLALsA0QDbAPAA8AC1AFsAFAD9/9b/uP8FAFAANQAJANr/m/9b//b+9P6q/ykAOwBgAFAA9v/d/wAADAAKAEAAngCbAHAANQDL/8H/FQA6AAcA8v8sAPX/fP9f/1f/kf/o/w4ADADW/9b/vP+L/5z/d/+g/8D/TP9W/0H/hf6A/gv/Kv9Q/7//7P/W/6z/TP/8/ub+zf7V/hb/bP+Q/2b/Kv+7/oP+2v4K/xb/Uf9V/+X+hf6g/s/+/P4//zz/f//3/2T/sf4Y/6D/l/+R/8X/x/+A/yv//v78/g3/Yf/X//D/5P8PAOP/S/9g/zsAsQCsALkAwQCfACcA0v8AACAAJAAQAOX/RQDAADgAmf8aAG8A9v/2/ywA/P/b/6L/m/8WAC4A5f/d//H/yv+Y/7H/5/8YAD8ALgD1/9z/1P+V/3L/i/+n/wUAbwBKAKb/RP+B/4H/aP/K/9z/0P8gADkAIgAAAJ//Vf+K/8D/ev+a/x4Awf8V/wD/O/+s/wsALwBEAB8Ay/+V/5D/yf8XAEQAWwCoALoAy//0/gT/RP/F/x8ABAAOAOv/if9g/3r/wf/R/9z//v/W/8H/wf+q/6P/q//V////HwBaAHsAfwCCAFIADAAuAF0AXgCTAFwAxv+w/9r/2v+s/+r/kwCpAKEAAAEcAe8AogB2ANEAJQEAAfAARAGbAZYBcAGUAbsBqgGaAcQB9wF6AdAAAQErAZAANwBcAFoATgA5APD/2v9gAOUA+gArATwB3AC2AMEArwDUACQBmwHgAYABEQGwAFUARwBpAJEAjABUABYA9v/1/9f/u/8wAIUA7f92/5//xf/E/8b/KgC6AMYAXAD8//3/EADm/wMAhQCzAC4AhP9g/2X/Qf+Q/yAAZQBGAO//4P+k/wH/C/+8/w4AAAAZAFwAdQD3/2z/h//B/wQANAAgAFsAcwAaAPz/EAAlAGAA8QCLAWsBDAHPAG4AcwBkAC8AvwADAekAIAHIADwAPQBlAKYAIQFyAVUBFAHPAGYAIAAFAN//IwDAALkAJgDn/+H/q/+F/5T/7P91ALoAtwCcAG8ATQAvAAUALwDFAAEBzACjADEAdf8c/2v/BQBGAPb/4P8wAOD/PP9g/+D/CgAlAGQAeQD//3v/e/96/5z/GQB6ALEAhwDm/zH/5P4X/zH/F/8l/xf/wv7H/gH/qv6L/lT/5f9g/4r+af6s/qf+o/4V/5P/oP9s/zb/8f6R/lH+h/41/6//sP+L/2//qf+s/yb/G/+V/73/cP8a/x//Vv9R/yX/RP9l/z//RP9f/0D/Ff8W/2v/1//y/+z/6/+r/1z/Yf+g/9D/6P8wAJUAjgAWAKD/Nv/0/ur+oP52/u/+M//r/rf+4v4r/07/av91/2D/MP8S/w3/wv6W/sP+y/6s/qX+AP8m/4b+hP4g/+H+ev7G/jf/Sv8J/5T+df7S/qz+SP6D/gb/RP/9/rf+F/9H/83+wv4z/yr/sP67/mL/7P/7/4n/j/8PANv/hf+K/4b/b/86/+z+l/7J/hz/9v5P/8f/WP/R/gz/Pf8H/xz/L/87/4z/tv+f/3H/Tf81/zT/cf+Q/5f/5//R/xL/rf76/kn/Vv+G/7z/gf8R/yb/Xv/w/vn+yf8GAAwAUAA2AOb/zf/f//T/JwBFAEAAlwC1AE8AZADfAOUAlwBhAGkAwQDqAI8AZwCKAF4ADgD//yEASQA+ABYAQAB1AEkAJQANAPb/FAAbACUAiADUAJkAaACVAIwAegCgANYAOwFxARwBrwCAAGAAWQClAAMB6gCvAMUAhwAlABMATwDgAEABjwEWAhsCrgG6AdsBtAHgAR8CLAIlAgYC5QGkAToBxgCuABABGgHpAAEB2wDIAN4AiwCUAAMBCQEZAYMBowE4AdoAlQD2/7D/AAAkAIQALgEzAcQAWgDw/wwAbwCtAB8BTgEPAcUAbwBVAIAAZgB1AAsBIQHQAMIAaAAIAF8ACgFqAXUBcAFLAfsArwBxAIkA8wApAUEBUQEHAYsAFgDu/xkAQwCPAOMAywA0AIb/Kv8//7T/GgBtAOoAEwF8AAAAUQC0AJ8ApAAxAYYBLAHIAEwApP+r/yUARgB0AMwApQDy/3H/ov8bAEkAOgBqAJ8AjwCPAKQApgCUAJ8A1AAgAXQBegE0AekA2wCxADkAZQAGAUQBKwHWAJAAKgCV/6v/RQCIAIUAoACkAEQAHwAuABQAiAAZASIBLAEBAXoAAAC7/6H/n//R/wMAGAD1/3D/QP83/9b+5P51/8L/pf+E/2b/5v51/r3+gP8rAEAAFQAuACsA8//l/yoAOwD1/9T/yv/E/6r/b/9//6r/jP9j/4L/1P+v/zP/T/+h/5H/fv/m/3AAewBuAHsAJAC0/6H/zf/i//D/EwAwADUAq/8H/yD/LP/3/mH/LwCoAOoA5gCLACAAsf97/5L/5v9RAFAA0P97/6P/wv+v/+H/agCmAG4AJAD1/yQAaQCKACQB5AEfAhoC9gF1AZAAGQBlALsA4QDqAO8AmgDG/zX/Ff8G/xH/PP+A/5b/Pf/2/tj+Af+y/+v/df9e/3D/Av/L/vz+Bf81/2n/MP/Z/nH+Mv5j/mn+Vv6m/uz+wP6X/sb+sf5d/nD+9f6l/xYAGgDc/2r//f4C/yr/M/+b/w8AGAAUAB8AEgASAAAAxv/L/8H/ev+F/2X/DP8+/5D/lv/e/zkA1P9q/47/af/5/tv+NP9s/0H/FP/q/tb+4f4q/2//gP+s/9H/yv9d/+D+8P40/3j/8P9RAEMAJQD3/4H/L/8w/3b/vP+7/6D/nf+p/8//FAApADUAnwDwALYASwAuACkA8P/g/9v/vv+1/6L/pf/m//r/0P/r/8v/Qf8L/xr/Rf+b/87/u/+y/7r/YP+h/nD+Bv9s/4X/ev9W/3X/cP8T/0r/9f8LAOf/EAA5ACAA4f8QAIEAXAD9/6z/Iv80/9H/lv9S/9r/DAD7/wAAq/9y/8D/5f/V/w8ANQA2AHkAqACJAGQALQAdAFsASgBFAHcAHAC//7b/gP93/8f/CQBeANQA1ACTAIAAIADh/y8AegDnACoB2ACFAF8AFACa/3j/i/9u/9f/MADR/4D/U/9L/2X/r/8qADoAKQBPAFoAgQCdAGEATwBaAD8ALwAqAFAAZAAWAJf/Uf92/2f/Bf/m/h//Rf8r/1//0P/7/+3/8f8mAPv/i/+f/xEAmgDoAIoADADG/3v/bP+D/8H/XwDBAHkA9f+D/yn/Kf+1/1UAbAByAKkASwCw/4v/dv9y////cgA+ABYAIgAHAML/tv8sAJAAxAAJAcIAIQAAADQAJAAWAJYA2ABkABAAIQDx/2X/ZP/9/2gAegBQADYAIgCW/yT/e/9kAF4BvwGmAS8BlQBxAEEAFQB5AMQAkABtAHEACABk/0//pP+b/3j/vv/l/4X/2/6A/vH+iv+n/wUAYgDn/67/HwA/AAAAAABfAKAAqgCdAFoAFgDd/6b/5v+QANQAaAAcAEcAVAAHAJL/hv/1//v/pf+2/+//7//f/+j/RwBxACUAMwBfAAkAov+Y/7L/1//o/5H/dv/n/5X/pP6X/t3+4f5O/2v/EP8w/1P/Mv8x/zD/Gv8X/3r/yv+o/6f/vf/b/xYANQBYADsA0f+t/4z/af/P/0IAZQCIAFsA2P/A/7b/Mv/8/oT/9//l//v/KwDw/5X/MP/7/mz/lv8x/2X/HgBeAMf/Mv9m/6//m//G//P/i/9q/9X/wf9m/3//vf/O/6z/S/9Q/+H/zP8m/yX/Zv8x//z+Fv9T/1v/Ff/2/kP/xf9DALIA4QCwAJoAtQB4AC8APABdACIAuf/c//v/lv8C/5D+GP/P/2r/YP81AEMA3//w/+7/AABPAD8AOQCEAHgAUgBrAGgAFQD+/0MACADx/54AtAAvABMAMABOAB8Am//j/4gASAA1ANEAGwG9AG4AiQBlACsALwBRALEAtAAtADgAygC5AF0A4wCIASMBygDdALMAsACxAOIAJAHNAHQAXABbAIsAigAzAHQAQQGuAHT/4/9oALX/ev8TAL4AIAHwAIkAtwDTAF4AdgDFAJ0AawAnANX/7/9jAFQA5P/j/xkAYgCXAIAA3wBOAfUAfgBJAHEAzwD7AJIBDwJ6AS4BMAHWAMcAWgA9ABgBTAEkATsBvADi/6L/CABxANwAFQHAAGgANQDt/8z/IgCaANYAHwEnAYIArf/K/8AA5wDhAJUBpAFTAVsB6ACLAOAA7gDnACYB6gCgAG8AuP+I/x0A8f9D/z//iP96/1b/WP/M/84AUAH/AIUABQCC/+/+3f5u/7D/+f+qAPEAdgCK/wf/Ef/g/g3/8/+fAJsAKACV/+H+h/6//mb/WgCEACEAYAA4AIv/0v9BADAAbwCrAC0Al/+R/27/E/9i/zsAhgBWAI0AYAB8/wf/T/9BAA4BGwE5AR4BagAuAIUAXgDp/2kAWAE3AaUAaQAKALn/mv/r/0UAMwDJAN4Atv89/5H/9f8IAMb/3v/k/5b/l/8R/4D+Lv+5/3H/QP9o/xv/wP5F/2X/iv+QALwATAA+AK3/6f5J/z4AYAD2/7n/of9T/+X+7f5C/4X/eP9D/zv/A//D/tH+F/+o/xgA8v8jALIAMwB4/3T/2P+zAO4AYgBNABkAfP8Z/zT/i/+s/xMAQADY/8L/nP86/8v+VP7n/hYATgAOABYARwBjAKf/9/6X/9P/FP8L/2L/Xv8p/83+DP/b/zcAEgD3/zgAawCR/z/+Wf4R/0T/1P////T/dAD7/x3/Hf9E/03/iP/c/8X/eP9N//7+//7s/4IASgCQAJAAGQBfAEsAsv+//+b/3/8eAIMAdgDP/5j/xP9u/1j/BQCxAJYA7/+W/zv/mf6p/iL/Uv9n/1j/wv8mAMP/fv9M/xX/Xv/B/5X/Zv/i/8j/T/+F/0z/Nv/1/y4A4f/W/zcAJgBd/6D/ZgAAAJb/iP9h/yAA/wCXADoA5QBkAfoAvADvAK4ApgDSABIAcP8DAGMAq/+7/6YAWQCd/8H/9f/x/1oA2gDZAJkAIAD0/3YA0gC/AEoA9f9NALsA5QCqAFAAXADh/7j+g/4o/yX/9f6V/1YASQCt/6z/PgCSAKEAgwCaALgAUQAJAEIAwgACAYoAGQC+/1X/h/+z/9H/cQBhAJr/xf+AAHYAFQD6/zkAhQBMAHcA+QCcAJ8AHQGuAB0AAADI/33/d/9s/1T/u/8rAEsAKgCP/0P/j/9P/6f+u/5N/3r/I/8E/5T/wv/x/hn+OP5F//f/MgDEALIA4P9n/47/MABqAPv/0/82AJMASQA+APYASgEaAVcA9P+2AJMAt/+O/1r/Gv9X/63/6//H/+j+mf4k/x3/r/9EAbMBdQFmAboAaf96/g7/5//d/xkA1QDzAMT/W/5D/v/+hv+z/9//RAD//wL/VP4d/pP+Qf92/9H/dQAUABP/O/9q/+z+Pf/q/w8AIwDm/zX/9/6P/2oAaAAxAO8ACgEJALb//f/r/7P/uf9IAKwA6v/H/or+8P7K/rH+Tf/H/wcA1v9p/8D/GwDs/8//6//8/7L/fv+E/5H/tv+N/5n/3f9R/8X+Bv8o//P+Iv+K/5T/uv/c/2v/Gf8q/4H/NgBrAM3/nf8OAKr/B/9J/5j/uP/O/9v/OAC2AJQA7P8SAI8AOgBQAPQA6gA8ANP/DQA6AG8AXgD//2QATwBr/wT/9/66/2wAsv9t/zQAUwDu/6P/2/+8APoAkADqAFIBTwBO/4L/w//C/3L/Tf/w/wIAgv9g/7X/TAA2AJ3/WP9w/4z/hv/C//r/bwCOAaIBxwDNALIAIgCUABcB0QD4APcAJAA6ANEAgwBlALcAtgB6ACIAwf/J//7/7v9eAB8B8wD+/5f/1v+3/7r/IQBdAFQAzf8e//7+VP92/4P/OgAYARIBJwCr/zkAYQCu/4P/gwA0AZIA9/8iAH8AgABPANIAaQFAAe8AiwBdAJEAvQAIATcBRwFRAV4BvgGqAQEBxgC1AIgAnACHAFMAUwAvAMf/lP/o/ykALAAnAP7/x//Y/3AA6wDLAKEAzwDRADYA4f8XAA8A5P/W/+P/2v85/3r+Uf6e/vX+Of+o/xQAJgC//2v/FgDuAOAAuQATAYABbwEAAR0BsAG/AUAB9gAZASgBpgAsAJ8ATQEyAdAA8wD8AIsAbQDCANsAhQAgAD8A4wBsAB7/X/90AHEAxv/d/7sATwEPAYMApAC3ABMAAgDxAG4BqwAtAI0AqABFAMv/LgDmAHoA+//1//j/4P+H/+j/gACWAOsA0gBQAGMAigCLAJsAXwD7/9f/8P/x/6z/aP+S/wkAGwDv/0sAYQCL/0z/k/9H/33/XQDJALAAYQCP/6T+8P6k/+L/mQAPAWQAsP9//4f/Tf+p/sT+0P8JAGv/xP9OALb/SP9g/47/YAAiAc8AcwDPAOgAlgBxAJIAmQDq/2n/+v9CANT/NwD0ALAAnwCsABoAMwBKAJn/av+s/5v/YP9w/wAAXwBLAHMAyQAoAO7+Jf8LADUAXQBmADIAs/8I/1//1P9x/4L/KADjAPwAp/9y/pn+FP8a/2P/cwDnAMX/u/7n/gD/j/6q/sr/twCNAA8Aqf9R/1n/3P/8/7z/EwASAFP/u/5u/mj+pP56/3sAmABmAOj//P7U/lr/vP+n/9n/tQDEALT/2v7K/v3+JP9L/zP/XP///7H/jP4u/m7+wf42/8n/WABKAJ//Q/9O/5D/GAD+/9f/dABNAMH/u/+c/87/3f9F/2P/FgD4/27/R/8n/zb/o/9d/x7/vv+A/8/+Y/9NAJgAnQBfAPz/8f+2/wj/9v6C/9L/sf9A/wX/Of+B/6D/lf9Y//D+8/5U/1X/D//f/hv/Tf9V/+b/bf8O/ir+sf58/lv+zf6A/1H/kv6D/uv+PP8x/xb/E/8F/1z/PP+u/hD/jv+L/8z/FgDJ/5H/pf81/8b+rf7j/sf/KgDI/9H/1/+b/7P/JABBABMAeQDTALAAIQBW/3//fQAEAdAA0QAJAU4AS/9t//3/GwA/AMAAGAFuADT/4P7P/7gA5gAaAbUB+AFNATMAdv+a/x8AdAAMAV0B6wB2AG4AXgDE/5j/PwCwALcAMQCb/wsAywDGAJkA6QAJAaIATAAVAAgANQBwAPsARAHAAEwANgA2ADcAZQAuAfoBVQKrAnYCvAFgAScBFgFvAdEB2wF6AR0BrQAHAAEAvgAQAcsA1wDpAJcAGwCr/9//fADJADUByAG2AQ4BYwD+/wMAPQBJAH8ANQF5AbQA0/+1/ycAaQByAOAAVAHtADoA+f+1/1X/MP+O/2UAoADj/3n/if+J/2//Uf8ZAKAAAABLALYAu/8I/4D/PQDnAEEB4QBuACYAX/+2/u/+hf8eAKQAuACJAD4Am/88/8T/RQBPAIUArQBgALT/C/8B/43/GwA8AIUAPAEhAUcAs/+b/ycAfQAlACkAeQAKAOn+hP4m/4z/wP8GACUA+/82/3D+Mv6b/mT/0/9VAOQA4gCHANb/Kf/4/ib/r/8aAEMAXwAaAKj/NP8P/5X/BADx/83/7P/p/2v/8f4B/3b/nf+j/+f/0P9c/yP/Fv/y/hb/i//j//v/rf9c/1z/Kv/S/gr/cv8v/7L+bP4+/kD+Pf6F/lz/vf+5/+v/6/+3/2f/Lv9L/4D/lv+i//b/VgBkAE4AJQAPAD4AYAAvAM//Zf8v/0r/TP9h/8j/3//l/xkA+P+U/0D/R/+R//H/FgC+/4L/Jv92/kH+aP7C/if/G//5/sf+p/4A/zb/df/x/+j/1f8AAOL/0f/s/wgANABGAEQAJACt//L+iv7O/g7/Lf/C/20AlwAnAIb/fP+t/1f/Lf+h/xsAQQDY/2H/W/9A/xD/O/+H/5b/YP8N/73+bv6M/lv/2//L/9r/3v+r/3X/b//X/1cAmAC6ALMAewAAAHD/Vf+2/w0AHQBQAKEAdAAIANX/yP8AAGUAmwCxAJwAPQDy/+v/yf+o/9P/7//f/6f/Xf9h/5v/zP/X/+T/QABQAMn/hv+X/8X/QACEAG8AiwClAHwASABMAHkAhACqAK8ANgDx/+D/1P8DANT/iv/I/+b/6v///wAARABbAGQAjABKAEYAvAD1AOcA4wAkAU8B7wCEAGQATwBWAJ8A5ADcAMoAywCMAEQAPwAfAPv/TgDUAN8AdgBKAHUAQADh/xoAaQBgAHYAigCpAOwAxQBeAG0A0QD6ANoAvwC+AH8AFgAgAHQApACwAJIAlQCkAGUANQAdAB4ARABvAL8ACgE2AUEBOwFZAWoBeQHQAeIBWwH/AOQApgC0AP8A+gDwAN8AbgAeACYAJQAfAE8AdABjAFkAUgBlAJQAuADaAPMA4QCPADQABAABACQATwBFAEgAjgCOAFkAYgBTAC0AeQCsAEMADQANAK//lP8EAD0AJgBgAJsATwD8/+b/6v8jAGoAigCJAIQApQC2AKQAywAKARwB5wCGAD4A4P+F/4r/gP9Q/2X/hP9q/0T/Rv8f/8r+IP/O//f/BwAbAPz/CgBAAHAAtgDwAOEAnAB1AF8AMgAPAC4AdQCKAFgAFQAmAPr/cP+J/9H/6/8vADMACgAAACQAdACFAHEAYQBBAFAARAAIACQAJADW/8D/xv/V/wkAJQAVAPT/1v/w/wAAzP+8/9X/4f/W/9H/6v/S/53/vv/9/9f/i/9a/yP/Fv8a/yX/WP+N/7f/3//u//r/LwA7AAAA3//P/6v/u//g/6r/ev+7/woAIQArADUAEwCx/0T/Bv8J/0v/av9w/57/gf+Q/xYAFAADAEMA5v+K/6r/a/82/5X/2v/m/zQAiQBFAOD/DwA/ADUAZACYAG4ABADv/x8A8v/G/w8AGgAFAAkA3//z//b/5v9FAF0AMwCDAN8AwwCvAOUA8QDaAO4AAAHwANkAlAB1AK8ArwBlACoA6/+U/2X/kP+g/1v/N/8A/9f+PP93/3b/3P8CANL/GgA2APD/6//I/63/xv+s/3b/Jv/R/rz+uP66/ur+If8//w//6f4q/x//Fv+L/6T/X/9J/yn/3f7K/vP+Cv8s/1v/T/88/zD/3P6b/nz+Mf4k/jb+Jf4m/iL+Qv6E/o3+lf6t/or+TP4k/if+IP7q/e79RP6W/uD+LP9q/6v/tf+G/6X/5v/v//T/DwAcACQARABkAHUAbgBeAGQAYABJAE8AKgDR/9X/AAAlAFUARgA8AF0AOwDc/6L/of+l/5D/if+6/+r/1f+Q/zr/Av/4/uD+x/7M/vD+F/8a/zH/Sv9b/4//pv+R/3X/cf+R/5D/Yv9N/3L/y//7/+D/0f/L/9b///8UAAUA8P/y/wEAMQBwAIUAdQBoAHcAdgB7AKsAvwCbADIAvP+e/7L/2v8LAAEA1v+n/3n/gP+V/4D/hP/A//j/FQAlACkAMABEAH8AowCRAJAAkQBlACEACgAcADEAbwC/APsAEAH7APoAFgEMAeYA5ADbANQA9QDvAMUArwC7ANkACgE1ARQB0wC1AKYAmgCIAHUAhgCOAIQAmwCwAKsAhQB8AKEAtgDfANwAegAqAAQA6//a/8r/uv+b/4r/sP/W/6H/f/+P/2//tv8OACoAXwBbAF8AQQAVAEsAVAA/AD4ACwD7/wUA2//l/w8AJABPAB0AvP/G/9z/1f8AACQAGwAIAAAA+//V/6//j/91/3X/av9Q/1v/lv+x/6D/rP/W/wEAFAArAG4AhQBzAHYAVAAqADQARQApAPb/7//x/+L/9//7/+b/8P/v/8//wP/L/+X/DgAvADAAJQAvAEUARQArAAQACQA6AE8ATwBLAEsAcQCLAHAAWgBVADQAAADq/w8AGQDm/9H/5/8GABsANQBgAGsAUAAlAPH/wf+b/5D/q//B/7r/tv+8/7b/tv/b/xoAcACVAI8AiwBQABEABQASACYAMQAfABEANABXAFQAPwAvACwANQBRAGYAfAC2AMcAmwCVAKQAtQDEAL8AugCwAJoAbwBPAEQANQAZAPz/4P/H/9X/8f///xIAKgBVAHkAYAAPANX/4f/w//r/IwAxADQARQA6ABsA9v/h/+D/1v/L/8v/0f/w/xoAKgAgAEAAegB6AH8AmgCKAGUAeQC6AL8AlgB2AGUAWwBVAEAAHwAVABsAMABIAEoARABEACQABQAAAND/uv/L/7H/gP9c/0v/Sv9V/2r/ev9w/3D/lf+6/8b/wf/S//r/CwAKABUAHgAcAB8AJgA5AEYAPgALANX/2//C/3v/cP9r/1b/dv+y/+D/9v8FAAsAAAArAGsAWgAxABQAAAAOAAQA1f+r/6v/tv+1/9X/9v/v/8r/tf+x/7H/1/8KADsAZwB6AHUAigC2AL8ApgCYAJoAeQAwAAoADwAAAOz/5v/w/xoAGgD2/8n/d/9l/6H/q/+c/7b/zP/g/+v/z/+2/6v/lf+Q/5D/lf+2/8D/of+A/4v/zP8FABoAJQAQANv/rP92/1z/Vv87/xz/C/8R/wX/7P7r/vz+Ef8N/wH/+/4G/wv/5v7K/uH+H/9R/27/fP90/4H/lf+N/4D/fP9r/1H/UP9g/2b/W/9b/3z/nP/G/+z/9v8VACAACgAAAPD/8f/m/8D/1f/r/7v/hv9q/3b/hf+F/5r/oP+l/8D/y//g/xkAOwAvAAUA5f/2/xQAHAAPAPH/1v/c/9//0f/a/+v/2v+x/7H/7P8lADwAWgBkAD4AMAA6ACYABAD2//r/EAApACwAKQBAAE4ANgA5ACUA4f+3/7v/y/+7/7D/7P9EAFsARABPAHMAgAB1AHUAdABwAH8ApADFANAAxgCbAD8A+//c/5v/a/9r/2X/Vv9q/5z/1f8AABQALgA6AEQAWgBUAFYATwBFAH8AqgCeAIAAWwBmAIoApQChAIsAlgC7AOEA8AD6APoA0ACxAMAA2wDwAPEA2gCwAIkAdQBaAFsAiwDAAPAAIAExATABPAE2AUcBcAF7AXoBkAGFAUYBNAFQAXQBlgGQAWUBNgEMAekA2wDLALAAvwDkAOAA6gD7AOUAzACrAIEAhAC7ALoAewBJACsANABFAD8AUAB0AJYApAB6ADoAJgAgACAAOgBRAG8AiwB6AFsARQArAAoA8f/w//r/+v/1/+X/y//r/x4AEAAVADsANAA7AD8AFQAAAOr/3v/6//D/u/+Q/1z/Ov9R/2T/YP9a/1z/W/9B/yr/PP9g/3H/hf+w/8r/xf+6/6X/jv+b/7//y//A/5z/X/82/w//5v7V/tz+5f71/iH/Qf9P/0v/Sf9U/1T/cv+l/8v/AAAKANX/x//g/+v/8f8AABQACwAAAB4AOgAwACwAOAAgAPr/AADr/5P/Z/+K/7//1v/d/9f/jf84/xP/6f7f/vv+/P4K/y//Rv9F/yL/Cv8C/wb/Jv8//0f/Qv8+/yX/8v7w/gv/If9T/4z/g/9O/zL/Q/9g/1b/Qf89/2b/nv+i/53/tf/F/9z/DgAjACAABgDB/4z/Yf8//y3/6f62/sv+1f7c/vv+C/8u/0T/H/8f/zz/O/8v/wb/8/4a/2L/h/+J/4v/Wv8W/9H+t/7c/vX+Av/r/sX+7v4e/wD/8v72/ub+//5N/7H/6P/r//r/GgA4AHsA0wDPALwA0wCkAH0AjABoAD8AMQAzAF4AgwCSAJcAqQDLALkAewBzAI4AfwBlAIIAlAB+AJ0ApgB4AIcApACTAIoAmACUAJ4AwQDXANcAtwCHAG4AdAB2AIcAtQDLAKEAfABQANv/lP97/0//R/9J/z7/Hv/d/qD+ev6V/tP+yP6w/r3+vf63/qD+mv6q/mj+Iv4t/hP+z/2g/YH9W/05/SL9FP0U/fH84vwF/fn83Pzm/O/8/fzx/K/8k/yL/HX8dPx4/Iz8xPwC/Tn9iP20/bD96f1a/qf+C/+2/yQAmgBZAdcBIgKJAjoD7gM2BEIETQRvBMsEXQXoBTUGYQaABqQGvQajBncGVgZCBggGwwWmBXIFQwVFBS0F6ASeBFwEKAQMBPgD+gMNBOADvQPtAwoExAObAwYEkQPaAz0H1whDBgIE+gM6A6QAGwDtABj/8Pxz/ML7QfpK+cj5Kvp++Yj5I/pB+Xr4XvnR+Wn5ePme+bv5Mvoi+j35QPiM9x73zvae9gn2wfRO8xHyZPGn8bryDPQc9q740/kj+nX7Pf0Z/k3/kwKeBTsHIAkFC1kLhgrZCg4MiwzcDEcN9QyfCycKmgjDBo8FvwTHA3EDjwPEApUBWAGcAYIB0gEqAwgEIwSxBGAFfwXWBdAGZwfRB5cI1Aj0B5gGnQWABCADhwJcAoEBYgDK/+v+if3L/Nj85/wL/eL99P5E/zb/3v+LAG8A6gCnAhAEcwTQBEIFwgSxA4sD9QOXA4wCpQHwAN3/R/7a/Kn7r/qZ+vz6tPqi+cT4FPiH9oX1Ffab9t32nPfe97n2IvVZ9DP0SfSj9Gb0PPPD8TzwC++N7kfvnvDG8Zj0JvoR/+r/gv8PAXIC2wOMB0sLVwyxDA4O7g1lDJQLtQqwCQcKMwuJCvYHmwXDA0oCpgFpAQ0BFwFfAr4DbgPnAn4D3wRQB8YJfgojCtIKQQu+CXIIfAhfCNIHDAh5B7kEHAL8/9v9i/xc/GX9w/20/H787vy+/PX8Sf6u/+YA0AJfBDcEggM/A84CmQIOA2kDVwMyA90CqAEzAED/5/7s/lz+qf1x/cb83PoT+SD5rvm7+fz5TPoy+g76GfoH+QX3vPVM9Yv1MfUP8wDwTu2J6wfqIenR6C/orugR6vHpC+oG7fnybPxvBwkO5A1yDOkMew28DgUQ9Q55DegO5A+nC5AFWwGa/iL+6AA+A78BMgA+AbUBsgAGAQ4DXwX/CA4NsA1tCw4LDg1/Du0PYhHvD2EM6AokCnkGEAMUAtcAw//1AF8BRP7L+w78k/wF/Zn+MADsAHAC8wPrA6ADAARbBKcEDQV+BAUDjAFWAAT/tf16/ef9D/6P/oj/o//L/kr+gf6K/yMBsAHVAEgAdABDALT/hv7B+9n5Xvo/+hX4rPW09NH0OfWk9L/w/eoz51Lm8+Yi513my+Uf5prmseaL53Lpy+xi8ub62QfWFEEa0RfLExARMg5hDR4NVwmPBw0LhQuHBKT98Pvf+0X90AEDBkIHkwcyCUcK0gmfCaQKiw2qEDcSQBIXEFQNEw0uDo8OKw4mDF8J5wYGBJQBKwDh/hz+tv/BAoYD6wFwAQ4CogFAAR0C5AINA+wDGwW7BIUDTwOKAlcAmP9LAHP/c/2L/BT8bvvy+zT9k/06/swAQQNFBH8EKQRbBNAE3wPkAU8AYv+j/pz+0P4y/XP6svcQ9Xrzx/Jl8tXx4PDG74bu6usp5zbjweM25zvoGei76Wjo6eOl43roTeyy7Qzx6PsMD4gflyA0F6cRaBCSDS0KDwh6BuMFswdpCR0G8/7G+uz71v6dAm8IhQwYDJALKA3mDFgKGQoIDKMN1w/WETYRKg/JDUQNuA20De8KlgbWBJsFFQS8/+f8oPxD/OT8Nf/Y/4f+K/4I/0j/kf9VAPIAdgIBBaIG3wWsAwMB8/0n/DP8afxR/Pn8W/77/r/+B/7Z/G383/2kABgD4ATjBXAFuwRKBIACYwCV/4j+5vwD/EH7o/ie9Yb0PPOq8T3yCvMf8R7uHexX6jfpTugv5qDkuuU/6JDoBuc+5cDi2uHY4xroq+vV7zH+9xT3I90i9hyzGbsSjQrKBgwEYQDqAZAIMgv+CH4EFf+o+3P7If+4BNEJDQ1PD1AS8RIUEMwM1QrfCfEK2Q5cEiQUjxXoFpoVaRARC5AGAgJp/4r/M/92/J36Rfuv+wv7FPtv/OT9Yv5i/4oBzwKEAm4C2QNuBWkFvgOsAfD/qP1p+7j6BPsg+8/7wP1Y//n/+v8q/wP+AP6l/+kA+AH/A58F/gWABX8EGQLW/ij8WfrV+Vv5b/ha+On3j/Ww8gfw0utu52vm2+cu6WDpjuis6AzrNO0G7J/pReee4/HhKOV76ufrmu34/SUZ0imiKVclXyG5F3oM3ASb/5z84PzPAFQGQApDCPcBtP1Y/Cr9M/+BA+UJOQ+AEswUgRffFUcOFAjjB04LCQ6+EBEVGRl6GIISGQzqBWL+mvhg95H4VPm6+c/64Pyv/uX+Hv7Q/cv+7QC3AygGdQfzB/4HMwinCHMHdgPV/ir8H/v3+Zz4FvnG+oT7aP2ZAEwBKQB8AOsAlgA3AkYEOAUfB4YIyAc5BkkDGP7V+Z73IfXj8/j0CvaT9ZDz3PDz7cXq5+ab44/i3+IR5HzmGuoC7q3v9OyA6AznAOZ+5IbmaOh97qAFCSMfMFYvbC6LKX8cqg0PAKL2efNw9Aj6jQSIDLsLRQiJBo0DXf/y/HX/6gUdDNgQ9xYnHUkcLBU/DooJOAfnBsgHBwxGFN8YNxaIEXkMOwVc/BL1uvHm8TTzKvU6+lkA0wLMAbcAqwATAc0CiwUcCCAKCgy8DRAOVww8BzgA/vrR99L1tvQj9Z/3nvvW/9sCbgWsBpIFPwQBBOADDQO4A8AFHQdNCAAJmAeOA9/++/qf99f06vLg8eXw8++d743u8eq75Yvh0N+v4GTi+ePr56fsD+7Y7VDtqeov53zmIeVn4kLt2Am5JGsvYDG3M8YwGyQyEbf+BfJ96mPoee59+2UGRQqyDDAPgw0mBq/+SvxJ/bsAGghmE6AdJSLDIMUaRBOtC0cE5v6o/5EG8wtvDSEPOhEGDzAHIP489ibwPu0D7pXxx/b7/MABwwMkBZkF3AKI/hL9pf8hA9EFLAm0DDUNawoPBnoA8fll89XumO5X8kr31vytA+IJdg16DsoMGwmGBSUCFf/o/ucBZwQVBYUGIwjtBcP/i/km9Wrxou5Y7oDvFPCM7+bt2ep650blbOIu39ff+eOX6Pvsje8d8LjvNe5t6/HlZeR88x4O8iCDJ6ouujYjMx8kGRIjAZDxA+W34Jrn7PPE/AwE5A3pFKYTtQxGBrMACPw8+0UALQsaFrccfSBHIukgMRvKEeEIkgV/BKoA8v7nAqEH4gj6B0cFUgAj+531vvAd7xTwjPK19mv84QGHBqYJ5QgaBq0EHQRTAowBWQO9BDsGfwjICCwGhQKB/rr5zfYt9uL1rfdE/bQDcgjuDDgQCxDGDZMKYgZmAtj/Wv7U/ngB+QIQAikAFv5P+073HfO/75/sB+nH5oPmHOaG5VzlXeVE5qboX+vS7E/sLeoh6CPoW+iB5cjo1P2FGMglrCkQMu05zTMFIuYOEv9u8PriKN4P5Snvq/V9/oULmhOREgENfQcIAqr9U/wu/0oHxRBhF/gbvCAcJP0hsRpTE6sOcwju/sr4pfgF+tj6KPxR/ez9Sf4z/Cv4bvUw82rwv+9g84X5Rf/eA/AH/gsKDvwMCAutBzUCfv5b/sj+0v4MACwBmwGyAqICZgBC/r78TfuO+8b9IACQA5kINAx3DRMOSQ3jCdkFUAI5/iP6afdw9s/26vZ99ov2rfVY8u3tmen65K3gsd0J3HLcK+B/5T7q1O6z8cXwLO5g7AnqOur/9eIJghhPILkpdTReNmIspBztDKX9lu3M4S3ft+Ld55Tw8P1/CUEPdBDYDvMKuwV8AVH/igDDBPAJng+lFe8bZCBZIB8dqRm/FAAMiwJr+yv21fJm8Svx2vJP91X7pPxo/Wr9Hvu894v1UvVT9kv4gvsJAeIH3AyeD/sQURDhDHQHAgGs+/X5Gvko+IX6H/+9AmgFhgdrBysGrgSaAY7/DgCgAFEBnwTQCBMLdAwjDCUJSQXSAP/6i/V98snwue+y7+Dvp+8v793tHOvV55vjF9/33VDfsuAx46LmSOlT6vrq0utx8bQBbRM/HPIh5CuUNAEzpCgHG2gNfP/Z8LrmpuMW5JTm5+5o+8EEuwqODpkOOwv5BroDlwHDATMENAiZDR0TfRjLHMcegx56HE4XWA6pBab+GPg58wDwxe1/7kfzW/g3+1/9KP/f/7n+5vsa+aX3Mfe894/7rwHXBtoKUQ67ENUQ7A3cB+4AO/vY9bLzNPZQ+ZT8TQLSCPAM7Q4aDqIKggcIBJH/Pf29/Vj+xQB2BjUKigopCogIZQTi/o/4h/Eb7JjofOXP4xzkFuR/41fkSuUT5fXkeOSY4+TiguHT4TPnHfMDBLITFh9AKLIx3zeFNDMqTx22DvD+G/BD5f7ejN2j4Dro7/Lr/WYIShDPEwgTwQ+MC2gGdQIvAZ4CQgYqCzcR3RfqHYQhwiGrHVsVTAzMA676TvGH6mTon+nk7JHxEfid/1YFyAiPCuAJjAXt/vP46fTo8jTylPNR+Ir/BAcHDSIR/RFHDxAKfwOV/HL1Tu/r673uaPeI/9oFwgy6Ew4YyBgKFr4PDQkiAy79JPkf+BP4uvgw/LH/RQFsAt8BSf5J+ZX0Ju7G5mnh3txm2XjY/9nQ3KPgOuVL6SrurfIK9gn+qwpWFIsYxxviINskASTWHdcV/w5tB9D+jvf98UftKetD7DvtdO9q9eb7RwC+A1QIXQxTDRkMkgvsDMINqA3gDgcRihIfFHUVaRTcEWMOswg3Auz8svgU9L7vae7/73PyVfR39kX6rf73AXoDnwORAtcAXf9h/rz9lPzI+8j8R/80AqUEXgbEBicGJQUJA3L/HfsU9+Lzp/Kb84n1bPhb/B4BcwaPC3cQqBQaFgMV7BPdEjEQWQy0CGUFGwII/0D82fln94P0L/LC8Fvv9O2P7Sfuwe7G7z7xAPJn8onysfGT8KPvDe5H7BHsWuwz76D5xwZZD8QUaxylJBgnryOvHNgUewzrAdf3lPAK7OLpueuE79/yU/mfAFUDqgJ+A/QEowLq/ir9sf68AkUHJA1eFEQbxSDDJDYlbiF4HAgVfwk6/UXzeepz4Rbcsty14IzlUOse81v7PwI0B/8JLApDCF8GKgR8Ac//m//VADgDaAZDCeYKNQskCoUH9AIq/Wv3lvL57gTtUO3y7hry1vdr/v0DhAhPDAgP/w+BDwoORwv9BrMCIgBu/nr8A/tv+tP5+fil+GX43/aK9PzyovJv80r13/eB+7AAEgcfDlkVeRuxH5kh0SBAHlYaSRSADJ8Es/1z91HxCezH6Ffnlubl5Wfl3OVX59Too+ok7ADuIvUnACkJLw9KFZIdOyTbJvomcCUyIpIb9xEIBwr8xvH26PLhHdz62uPeeeOp5ybtZPU2/HH/RgIdBZAGhwYNB+IIsQt1DzsTqxUkFr0WbBZAEuwLcQWo/qj2H+/w6SnmGeSk5AfoXu2/84D7RwNDCfkNoxIWFcATZxG9DvMKPweNBNoBn/6R/I77TfoR+Sv4e/du9tb0yPKj8Jzuz+xx7Ezty+5L8uj3J/6ABOIK/A8ZE7EUNRRmEYANTAm9BLIA/f1y/Ej8+vxy/bL9F/4W/hL90Puo+kz5w/jS+fr7SP8KBCwJrQ2gEbQU4xWsFJARzQyqBlEAxvqq9iz0ZfNz9N72GfrN/YIB8QOnBMEEEwTwAfr+KvyB+fH2vPVI9rr3Pvmz+rH89f64AN8BSQN6BD0E3APdA7UDkwNTAzYDCQN0AukB0wEyAS3//vxp+tj2l/IQ7qLqm+cw5qPpUPBq99z9vwRhDeQUuxi4GLYVbhEbDNAER/3x+Oz2HfUR9Bz1EPjG+ZX5dPim9lj1m/M08SDwYfFR9Gn40f32A7QKcxHFFoQZOhrvGfgWRREPC18F5f8s+k32jvU79oP3tfks/E7+wQBlAuUBrACk/5D+uf1q/sAAIAOiBdsIBQwpDrkOjg3qCkUHvwKk/dL4uPVm9NTzdPSd9rb5sPzm/i8A7v+O/tj8SfoA9//0MvWo9oL5+P0hA/0HDAz6Ds8PnQ7aC00HwQFu/Jn3YfMy8bnxnfOC9sv6rP+eA0kGKwipCGUHRwVxA+cBiQAdAMkAZgJ5BB4GngZuBSQD7//D+9/36vSO8krxjPIl9nz6yP6kAooF6AbVBtUFQQQqAsn/tf6z/1UBxgJzBFwG2wfLCBcJDQiIBV8CqP+a/eb7mPpl+vj7Xv64AGADzwXdBtoGuQY8BscEqQL0AEEAOwBoAJIAzADzANUAhwBLAAoALP///Yr91f13/kb/4v9IAN8AwgEpAm8BDgCb/mb9Wvwl+975Jflm+VD61vu+/Tz/DgCqAFwB9QEyAikCTQIAAw8EFQWrBYoF5ATJA1ECvAAg/1v9hfuY+gz7bvz4/ST/QwBgAV8CNANyAwoDdAJNAqYC3wJ7AtUBaQGyAH3/W/5S/Sj8afu9+4b8sPy1/LP9Df+i/+T/wgC/AQUCQgIhAxwEWAQEBA8EewS+BFgEOwMZAkcBMQCL/uj85vua++v7qPyh/dz+5/96AAcBhgF4AQUBygCLAAUApP87/2P+nf1z/a794/0i/qT+L/9s/3L/sP+5/6j/ggBqAY4BXgH3AIcADQD+/oT9wfzJ/Lr8GP1n/nz/2/8cADYAAwCb/xP/6/2Q+0n6E/39Ab0EYQXFBsAIPAnLBz0FSALK/z/+/Pwl/GP8yPzG+9n5Uvka+kz6CPq3+vf8/P+iAiIEZgQbBDwDlgHX/5n+7P33/TX/WQEpA4sDjwI1Abr/qv1L+w/6w/rM/Nf/ewOgBhUI7wdkB2EGdQSGAk0BiACNABECHAQtBSkFogTYA+UCuQESAH3+uv20/ej9Af4R/rb9ofyK+yf7a/vn+5v8uv0L/yoA3gAAATUAqv5I/Xz8aPw3/bD+XQDOAdIC4wKJASD/Avy2+FT2GPWs9Of16/hd/PH/3gN4B+4JCgsWCx8KBgh+BVEDZgGw/6j+mf4B/4P/VABDAfkBTgIkAnwBcwBD/zH+XP3P/OL80f0w/40AygH1AgIEXATzA4sDUwNuAq4ACP/Q/b38zfsj+8z61fpu+378l/1R/pP+2P55/xwAYACyALkBAgPQA28EHQUxBVsEZwPAAucB9ACJAMUAMQFwAbIBAAI9Ak8CBAKtAXcBIgHaANIAxwBLACv/4P3T/Ar80/vb+8/7TvxQ/WX+gP9DAD0ArP8Y/8H+sv7A/p/+kf7b/hH/Mf85/3j+3fwu+wL6Tvn9+Dr5PfoC/Eb+pACeAuYDdwSeBIwE7APrAjYC3AGmAbQBDgIxAqsBwAAFAGT/L/6//D38dvyh/Ar9AP47/00A6ABuAQwCMwLmAbkB7gEgAuYBmgGRAXIBGAHPAIQAnf9G/lP9rfwX/LL7ivvT+3L8mf1g/wABeQL8AxsF1AVLBksGkQU+BK4CVQEpABH/bP4X/q3+MQBkAZ0C2gNiBNIDWgJ1AHf9+/kW9yD2lPm6/3ICYv+Q+3P70/16/3b/LQCCAkIEPwOuAHr/P/47+874xvlc/b3/1v4//Aj7cfsm++f5jfmM+kT7s/uE/UQAJQIcA6sExQY6CJIIswf8BdcDlwHd/1n/HABBAc4B/QGcAgoDwwHd/lP8qPvi++z7gPws/i8AmwHCAiQEWAXoBXEFHATKAvABEQHA/4L+N/6Y/vL+SP9C/33+ev3u/Mz82Pwb/YH9Gf7s/vL/+wDZAbkCnwOqBNsFXga7BZEEWAMLAtUAGACj/1r/PP93/7QA/QESAhQBLQCKAIYBNgLxAacBVwLPAQcA3P4H/kj9nvy1+536cfoO++f6GPvv/Jr+Bv+9/5UAfwCsAGwBBQKCAlICugA7/8f/ygBDABX/uP0T/I/6Kvnt99r21fXW85XzUfx2C48SDwrg/JL5LAAkB9kIHghfCYAKbwa9/979hP9N/bj3mvaF+4z+bfr981fzF/k9/zMDlAZWCPEFpAGDACsDgwUABWQDzgLEAlQBVv6E/Cf9Of5I/nr+jv/r/lj7l/ix+Sn96/+OAXcDCwVKBf4EkwXwBuwHPAjKB/4GegZLBdoCiQCZ/53/h//m/vH9tfyG+0z7Dvwp/Tr+8v4H/2n+3v3i/SH+1f4rAH8BagLhApQCjgFeAL3/nP8p//n9b/wa+675a/gq+C35vPqS+0D8sf0R/0X/7v76/ykClgPxAwgEHQS4A7oC+wG4AY4B8gBS/6D+UQDSAUkAvPx1+y79S//6AKUB+wCn/yb+kvyl+/L7HPxp/Hn+9QCBAS8A9f4s/2MAnABM/3v+ZP7x/Cz60Pdv9rH19fTK81X0YPsuB18MqwRR+U74SQKfCwANsQlzBywGiwLV/Qr+lQMUBq8BOv2W/uQA0f0S+Vb6NAE4BaUDbAGLACL/bP0n/5ME3gi+CKkFMwMrAsIAIP+f/60BqwFQ/rr6F/r1+sX6tvok/UYAQQCc/ej7Rvwv/dv9Mf94Af8CPALz/yL+Av4U/woAigDLAKIAMQBMAD0BXAIUA2ADkgN0A5wCgQGrAAgAu/8qAP0AIQFdAJ//V/98/wcAkwAoAQ8CDANJA80ClwJXAlUBn/8P/kz9hfzm/a0F/w+DEtYKPAFO/L/9XwRjCfEHXgL6+xv2VPNo9mL7ePwt+gD4JPd69nb1m/Ri9Bf0QvSm9Yf5dAVvFusaLgoa+Er8vw9xG/IVrAl9AhL/WPok9eT2Qf5i/tr00+0N8vn3L/Wz8aT4XQWLCTsE1wDoAsAEUAV5CnYSPhMbC3QDqgHUATgADv5v/gcACv7V96zzgfYu+xz8tPweARQF9wL1/v3//gTbB0MH+QagB+0GXAT1AdoBswPCBCkDnwAA/4H9sPvT+j37mfsN+4H6AvuH/Ob+sAHfBDsHgwZeBCsEuAU0BtcEmgMkAioA5ANpDswTvw6ABjkAjv5RBLEKXAc8/+v6ifgK9Ybzi/br+Hz3afSN8t7yRfFm7UzsH++a8o3zKPJ5+EkP3iNwGkz9kvTVCaEeFB3XDaIDTv/J+KjxXfFy+bD8TfNC6AHpufF68rDttfIiAfsHBAEV/GIBogYABqIIXBKqFSYMDAP7BOEJtQcdApcAhQK5APX4Q/Kq87b5nvu2+a/6xf3M+932/PhAAlEIqQYuBNQFLQjpB/UGOQgECikJyQVDApH/D/3++pL6iPvb+w76efYK+PQAxQQx/5T8pgPDCl8OSRM7E0MOww1gELsOHAuUC8UJeANi/xL8efbK8Arut+zu6tbptunw6hvrDulf6grwCfQd80Hx4PJ986z4+xFcL9YrEwir8bEBRx6wKOkauAXj+tr34fBe6LXuH/09+wrrgOOD7PrzMvH88x8EWxE8DCMBxwFmCasMQw6mFXIbrhRIB5MBVAW4B6sDNP9T/w//bPhX70nuevep/qf8pvmL/Lf+w/qa+q8EIQ76C6sEwgMtBz8ICAdUBjYGuQQJArb+Gvyq/ML7RfxXCTcV9QsN+az1RgInDvEUYRNoCV0CWgNeB7gJ/gwwDYMFNP32+Ef3OvUj9FT2fPjx9F/sUecS567mfOaA6evrZecd4eLhMeho9YMTLDIwLNAEEO5gAwwmyjCVIKYJ0P1H+7T2n+8+9IwCSALn7kDgR+Za8Yrx+/JyAWQOTAeu+Hr6JgnvEUcSiBVBGmcVTQo4Bs0Kggx/Btz/UP4j/oX46e+B7q72Df0Y+sz1mPje/Gb6zvi7AWkMKwvKAn0CRgnFC2YILQavB3wHigkbE6MYNREWAxn7ZwAdDr8UpglT+jT3nPv9/A394wDPAjn/lPt8+438VftF++H+aAC9+nHx8+yn7Zvt8us76innsuKc3ovcsdwd4oH5vB0GLNwQy+lN6AEQODUWNdoX0QHc/+8AmPnT9hwFsA/sACjmw9wb6erz7/Qy+hkI4QyT/yP1Cf+oEr0cCxxdG1saOxNnC9YMTxSwFKUKugCC/pT8N/Mp6oXtH/k7/LPze+2V8L/0Uvav/aoK/w/nCIkCdghhFPUawRuYHj0juR2VC2b92wEqD4AQYAQX+JvxcO1f697vRPgg/DD4V/JL8bPzJ/dK/HgCawVxALH3r/Mb9df0KvG78J7xr+xT4wjcPdmm1hbdLP0WJTYnoPiQzxHjlR8IRHMzDg9jAG4GogjLAbIF/Ra3GM/9cOFw4LrvBfV58sz4WQPO/uvvlu5g/40QOBZ2F7EZExd3D7wNBxdCH8gZRQzdBlALbgln+x/xffYV/zv6v+0f6i/ws/PY8h33CgH6Ba0Afv31C8Mjbi33IjwVLRJJFscZ/hntFbIMGQFK+T732/YT9B/w6e1M7AnqvOkE7BvvcfL/9F33UvhO9THx0++78tv11/JE6/7jIt9T3ffdZepBDJ4p5Rvo6pDOl+mDHCw2ESaQBDPzffYcAP4EBAylF/UV1QCP6S3nbfbFADUB/QAmAn77s/Bc8d3+8Q3YFIUURBGEDdwNBhPPF78XpxIbC7cFVAQLA1f+6fg3+Y/8uvkO8prvTPUg+4X8of2cANMBQwPKDUMfLyq5JM4UPgsyD6gYXBqPEWEF/fp59SD11Pe8+cP3BfL16jDou+qn7bjuO++m79ft/evD7PvqGea45ETnN+b+4P/fCeNU43Pg8O1LF0I2DyEI6tHUJf2+MBk7NRoo+cf1eP/5/z76yAJhEeMJMPCE4OLp1fif+7P9vgggD94BT/Gw9PsHWRhBHO0ZQxaqEK8MNxB2GQodSxQ7BpX/mgDL/Tj0/O7t9e78lvYG6zTp4e8686fzFPonA7AF/wVZDuMdgCgNJPkWFxB/FF0aDxZmC8UD7QAb/7v77vdY82nuWOw87sHvxewl6a/qfO/i8Hbu/e3B8KHxU+0h50DkAOOf4AHhtePu40rh7eysFKo0zyH16yDTH/jXLKg51RrE+Xz2KAHeAq/9lQPMEWIOHPe55Hnpu/fk+8799AesDi0DjfJn9OcG+BaaG6ga/xdCE60QMRWuHDEdMxVyDL4JgQkGA8P3cvN6++0CI/3K8NDrMfD89Sv7IQPeDKYRgBDfElUcWSOAHzUYOxcJGLUSzQfv/nf8AP3c+yb5V/af8XLrAOm+7d7yg/F37CrnlOWu6KzrZ+uu6B/lG+Gr3pjdftwg3aThaOjA8ugNYTDAMz8Nbedr8xkj6D9bL1QGCvBf95YDGwE8+usBYAqc/nPpjeXN9BH/6fyy/foH8gyTAlj3yPsqDNIYExtsF50T+RKzFZQZZxrIFbQOJAuHC+0Hofzn8sb1PP+v/6X1du3y7qnzMvW/+fQGHRYzG7gVJRLeF5AgPSLKHAQXjBI+DDYEmP5g/Pr6mvmk9wH0RO976RnkmORo643vKeqG4H3chd2e3wHjFuSM36bXtdJI1dvduOnm+0Yc6jqEMyYGEeVX+n8uNUkWNKEH9uxr7zL7xP86Ad4G6QPg8Hvf2OKs9Lv/qQIoCVMQOQzTAIT/hwx5HM8kViTFHW0U7A5REvUZjhoTEb4E0/yf+h75EvRK7x/ytvh892/vGO3S83L6CP9ECWkXRxwgFCENrhIBHpIgXRcaDfQINQftAaT6lfdI+Zr5yvPY7EXrVuvD6R/rge+v7mTlKdx02yLgZuGV2x3VzNLd0VXUn9yn5uLuMQShLY9CCiSZ8WvnlBK1PkQ+yRTF73vuhfzd/lf3SPuhBjAAgevS4nfvFvyD/K4A4A81GEINWQCWBMoUnSDJIuAgVx2DGI4UgxSnFlMVfA6gBcgBagGj+/jxfPDY+H38gPXX75zzwPnK/bMFGBJsGoQY1hKOE8gZUxwjFsQNzQmpB7AByffn8G7wtvH+783tWO2R6v7lq+UH6nXs4eoJ6D3kLN882afW2tfP1kTSgdBY2fnlsvMyEmw1CDWsCQXmPPeDJNo5tCRm/kbt3PTh+2L1ZvL6/8wHzPh555vrfPqb/ff8sgrfGysZNgcgAMcLmRpJILweOBswF9YSQBCOEJAQkQwfBu8EFwpDCXD76+5d9JICLgVS/Pv3gPwaAXgEdQwOGIUdSBqWFj4XNhrlGFYRbwkkBn4GywLK+NLvFu3F7kTwhfAL7sTopebh6J/r3uoC56DlaeU+4lncadch1v7U4dZQ4Mvp6vQSEsc2SjfZCRTlG/drJL01exwV9qLmz+8A+Sj1q/Bb+SABaPmt8Hj3AAFm+2f37wkNIRAgiQ1rBAMLbRViG7sdVx2RGGkTXxItE4AQUQlHA6MEFQyJDAj+WfCe9H4BfwT8/9MAUAQeA9MDxw2DGTQbohVVE9wVbRiGFvcP5gnnB68H0ANI/OD2lvNs7/zsfu167OHnWOWg55foMuQe3v/bsNu12YzXYNQJ0p3TPtsv5775KCDcRGw81gsR6xIBkCq9NQ4fIP7x7ILrQer35KPlP/Ov/er36e0V7uLylfTn/QwUiiM6G/IKvQg9EfgYEB4VI1kiMBjuDiIPUhPBD9UDjfoc/U0GzgR59m3uTfhjBecEjP+kAiUJ3QrQDdwYniK7HnATqxAPF98a9hRZCcUBvQBuAfX9YPcW9FTymO4p6/TqTOwh6fPijeEB5a7kxdxL1I3QI9DA0BXUUdqq317j4e0NEtFBGkpvHizx0fe6ILIz6CF9AWLtWejX5SjkFObF60DuHuwZ7u30K/bY8Cz3QA/QIwohsBE9DPwQ9RaQHd0ldyg6H/0SSw+tEmQQYgTR+gb+NgVKAGPyyunU7Yr5VQKyBvQIVAmICZwPvh1PJhsfKhQdFOgZMRiiDb8Cj/0j/Z798vrv8+zsM+qA6n/qWOoU6Sfkxd8A4Ivfd9h1znnJa8jpxeDEVM2B33HxjAfzK0RG7DXgC/EATCO7QO03XRi1/ob0/u7B5tXdH9xI4h/ksN9z4Prl2ORY5Sz6XRnNI9IV+QsxESQZ1x50Jtct4CssI74djBsQFl4KSv60+jMAYQJU9R/i8t2y6uL1C/hv+5oDvAheDSAbJSodLEcm0iXwKBQniSAnGDcNfwPr/+H8rPK25pviWuLy38/eqd/N3WbYpdWO1H/OZ8l1yu3KWcbGxS3Uk+bp9DET6D33SZImNQHLDNIz+kBQKzIL2Phk81Ts2OEz2wjfwuQB4HvYKtrM3ijg2euuCO8goB2tDC0LGRk3JqsrSy02LSkpjCRgIm4f3RZGCuwBigKdBrz/j+xx367kgfM++gj4tfc5/H4F5BGxGykeNB3zIY0rKTBRLB0kkBn2D8QL9wkOAm3zKujV4rvgpuB43urZadIUzLPL8smmxX3AS7zuv+nKJdsJ62IA9iXxPlguBgzHCpYxdk6BRfEndQ6GAZ36tPTG7IjjZduI1oLUFtIlz4HOxdsc9+8NcxP9C80JNBQQJNcw2jVjNdYwSCo2JrMloCDfEQMFUASWB3X9nOkl4AHlqe4H9Tj3qfeJ+fUAPQwCFHgVYBdrHQQkgydSJnghaRpBFdMUHRMYCzAAq/S06pTmHeZm5GTbNc0+xlTFt8JAvvi6wL4kyrvXr+Rm+OsakjbPLOgMrwdAJ8A//TajIVcYgBbeDOP/GvjC9MfwxOjk3wzYTNDTybrOJeVV/Z0C3PcF9GMAJROBIXsqwTKUNq8ySy6RMJkzCiwAHroWNxRzCP/zBubM5bnqa+su64nuA/M89hz5FP5oBQ8NfRTeGokdTB01HZ0cOBxqHv8cCRMoBZj52fR48HfpGuZ33YzM9r3Wtmi2HbITrSG1isaC1ubmswg4MZg6XSFeEMspCU+sUYY0NxkUE+wSUQr5/T71ve6U5XzdWdgi1DbOos283KXwPPg38ZvsWfgaDTQe0CR0JlYqDC7+L7wzdTdkMEshDBpDG4gWrwUM9lnyWfN08YzuLu9U8RTxvPGM9mn9UwJHBkMMlxHhE1MT8hF5En8SMRAyDdkHSwBy+Q/0gfAu64/g19GGxNK9aLflrVitz7tby6/Zx/ZUFooa5AQpAbcoeVEVU9c3kCJrIgslrh7iE5gKZQLs+MntXt8i0l/Lk9Bs3wzq7+f03I7akOodAy8UABgEGuohfykWLYEyejnBOFwwBSpXKBYgnQwH/bX83gGX/u30Xu066bXnG+ru7w319fbq9tf3i/xPBGIMIxGnDqAHxgPWBFgGKgV2AX36iu8y5I7aTNPwy4PAd7XusSC5zcJez/jq3gY6Cezzpu/4FLg/j0gNNIckNSaOKmspQyGjF+UNzARU+4Ts1t3B1JjYAOdn78TqQ+F04PrpJ/oaC/MSoxKWFAUewSWHKCwtVDCJLY4o4CdVJhMbXBCiD7cRLQ6ZBgP/M/Yr8DryPfe79onyN/Ko9Af2T/dE/NICnQJP/En3lvZr9/b2IfV68b/rvOJq2ALRGsySx0fHn86k1ODaOu6yBAEFxe6l6R4NLjbeOckfNhA+FpgfYSI2IZ8ajw2LBUgB4/bZ6NLeAeJA7473ge+b3nPaPeit+/sI+w1eDjEQDRi8IqgrYi4DLOMp6ydyJkgidxeCDikRABpTGqAPRgXgAB8BwwV7CUoE9/lZ9aP5df81/sT5lfhT+Pf2jPSc8UvuE+t/6RjnweFj207Vps9DyxzL9dHt2XfdL+cT+ygFnPeq5ejwzhaVL7Mn6RPkDoUXKh15H7Ih8xzNFJoRHw12/5Luj+ig8AT6YvlY7t/h6t1B47/tDvpzA9wHLQr3DLYSLhojH90jLSqtLswtySW7G/IWGhmNHhwfvRaJCsMAgP3T/9wAt/0G+uD54fyl/PL3pvbI+hv+0/1I/FT5/vFx6lzq6u4T70fpGuPb3ofcr90P4UnjVOT06cD1k//i/gD1rO/L9vUC+QfIAyoChgYPCQUHlwRjBOwEUgc7CmQJvQOy/dr8IP+IAT4DtQUoCe8IogU8A14FqQudEbUUXxP1D3cNvgzPDAANIw7ADLgIYwU7BOoEHQTDApUCigIRAz8EYwWbBqYIuQlFCSwKCg1tD9EOcAx7ClAJ1AkuCzMLIAkeBUQA9fvK+F32MPMH7tPnTuJ43czYPtYp2P/coeBj4Snin+N04rrh2+Xx673vfe8x7g3ucO538gX55PvF+vD6Zf+uBRkKLQ3TEpYZohxQHE8c1B0nHvcdnB+0IKoeYxqvF7gW3BTQEkERPw8ZC9YFAQTLBiMK9wjLA8IAsgKEBu0IPAp9C7ILKQuCDO0Ouw6oDDgLaAkdBgAC3/34+QH3vvZ79x71/e525x3iNeCq3sba5NWf0nrR1NGK0hnU29VH1kvZbd/45M7pFu8d9t38hgFgBZIHUgfZBv8IbwybDzMSvBLLElkT4BP1E6MSTBEgEX4SQhT5E+wRBhCXD8gQXxOcFZAVMxRDE0QTuBJrEj8U9hTUEXUN9wqNCecHyQYdBukD2wDsADYDNwR3BN8FdgeKBpUE8ANyAyUCjgAC//T7GPbr7ifoAePz31vc+tTZy3DGMsYEyAfJPsnCyLDJ8M9g2DTfpuYN8dr7oANHC3cTSBepFnsXlhvUHoUfiB3JGD8Tnw9jDpUMbgljB04H8AcWCSILxwzaDQwP1g9QDz0OZA8TEUcQvg9kERoTrxLGEdsSIhRnE40SyxOLFCcSbw29CVoKCQy2CcgEMAIwArwA7P1d/KX7PfqD+HX3nPXz8Bzrnud45c/gSNpO1f/SAdJQ0fTQkM9PzF7K0Mz90WjX7Nyw4zvs9fQy/YAFPgxKEMgUoxuNIhgnyycjJuUkkSRaJJQhEhteE3MMMQigB80HygVbAuz/c/97ABgDuwYBCSYJnAlbDNYQMxQ5FegVmBZdFpsVkxWDFrMWMxWdE14TpxLxDlAJ+wU5BpUFzQBu+kz21/MI8bbvyPAZ8Lfqx+S/4inhj9zV1jvTO9PU0/bSis/syZfLINaR3SXh5eU16Ufup/h7AeoFsQkaDdkPCBQoGd8czB/AIqUjbCHVHpMdxhv4GFcWEBS4ERYOLgh3AXT93/we/qL/gP6C+zX6MvwOATsGZgqDDWEQ4BMkF1UYQhcFGEMcrB+rHlgbHRkZFwoUGxDsC1QIsQTc/1H7qPin9NPtcuin5bDhwtuQ1bvQO88H0CXTU9ql4EjgndyC3Bfhc+gB8OfzzfSe94L9MgKPBD0IIA3VER8XYxwqHzMePhu2F5UVhRW/FJ8R0QuTBAj/cP04/VX78Plm+mL8zP7d//L/CQDWAI4CEQY5CsAL7wshDh0SQBTYFHUWwxefGYocTx4CHokcUBqoFiUVLRYyEzQL8QPv/yX8QfZA7g3nbePG35rZy9PcznTK7Md/yHXKDczu0q7do+GR3UfbP+PN8tkBSQgnB44HqAuEEikcMCZKKewlhiV1Jowjvx3NGPIX9hi5FXALCQB495XwRu6q8mv2tfA1523j2edT8lH6GPxP+0v9pAOmCV4NAg+QEB8V0hwjI04ivhxiGP8Z7x9uITUbjRIQDyEPrQzRBzoCg/2v+t344fTd7hTqc+Zc5MDjT+Ga2urScc7XzVDRRtbC1XTQ5tZq6Y7yz+zX5frs0f88EXIYoxL4Cg0MbRblJewwFSwtHIoW7B14I70eXBTgDS8MbgvCBYX6UvEb7dXr/OyJ7T3nct6+3U7nDPWW+9H3gPMS+LEFQBMnGZAW6xAGErAcwietKqEmCh94GXcb+B41G6cRJAvHCSUHEAF3+D/wau5p8kvz7Ox05dPigeWQ6t/rCuYL3j7Z7tl/347j4N6U1qvfm/U3+YfpVeDG7QUGjxO8ENgEagDOCl8cmytRL3YhIw+7EFwgJyZgG+8L5QVcB+cHHgFP9fTuf+848GLtl+i/4+7j/+u99dP6p/fd8bz0YALnEF8T5gvzBykN6xf+IKUgqRnyFucX1xjTG1wcFBXTC/wJwguLCPoCiv5b+pb3xfRA7ujolOpc7U/s8Ong5TDg596Q4+Dnsuf+4xHfmdym5/n8UgE28BjjJu6FCEsWFA9y/qj2rQL3F3AlfCJXEjkELgr5GzUgtxNeBGn+YwLXB6wEjvfw75HzofXB8ILriunk683zCPtC/J355PfN/NUI/BMjE3YJGge1D6kabx/rGuMSUBA/FJkX2xdBFDgLowRaCHYOvAtQBND+9Pvl/S0Aa/vA81ryQPXg9Qv1+PJh7pXqZ+rS6aroeOmm5jPgO9+67Df80PXv4i7ftPPiClYNXADX8xX2BgisGvoe1xMbBqkC4Q6KG50YtgvW//D95gVhC0kDm/Z/9eT4R/Uu8Qv0qfdv94b3/Pir/PL/+P8AA6UKTg5ACgMJFhC2FpAYKBgtFcIQcRBwEV8RNRM3EWsK7QWpBvUK5w2dCvoBnf29ATkGPwbHBOoA8vlb+WEAyAHn+srzyO+87/HwG+/Y6vbkyuFS5Znu2PWA7A/dU+BX9AcEGwGQ88jrrPLKA5IPwQ2DBGf/MgEaCY8QAQ1vBF3/Nf+CA+oGpAM0/Xb8iP2h+Wz3mfwCABz8iflv+nv9iAOgBqoEgAPtBbIIkQraDDsNTwxBDUoP/g8ODn0LCQqjDTwW3BejEAcKUQqpEQcX0RP9CxsHYAg4DuEQMQqJAZr+kABrASH9VfZi75bq3Oms6v7p/ObZ4D/aStoJ5tXxtek015LVlenc+zj6Du+56Afv8//sC8UK9wN3AIsDtQ1pFSsSWwlBA0cEDgpPDSkIqAHuAQYBMvuU+f/96v0C+Y72gvag+sz/4v4d+1H8DwKvBWsHYwmKClQM0w7aD1MQSBK+ElYReRLhEZ8PDxM3Fl4V1xKqDW4MHRG6EasKuQT/BE8HrwYJAuL8tPk6++796voT9ljxI+z961Hu0+s66CjkXt4P3UHkke9J7Gbbk9ax45/0kfn+8Izmpeet9l4ETwalARz/IAGeCe4S/hJLEGEOlwojCzcQdw+zCd4IPgY//Or44gAGBAb+0Pgv9Pb07v6ZA67+z/ySAVUFRAiMDPMMGAytD5YSSBJRFMcUFxDQD/0SRxLLDh0NHBExEQUKRgX/AmcELwfLAlP7/Pco+G/7If4P++f2+/Wb+uMAaf+r+u34uvea97X4tfQD72Lr/OU84wnj8OiP7RThlNZ33E/pkvFf7j7mgeT+7mH9SgRtA04CXAKlBKoO3RLWD0QSERH3CzgOOBMGEWYNaA3NB+L/gAEXBocCLf9U/kn6zP4nCLAG+AFJBN4IOws7DwISmA/nD00TjhE9EMETJBHHCRcJRAr9B/oGlwPJ/h0BYANv/7/5U/d2+tj9Df5r+/r4UfwrAzcGOAWrA4ICbgWTCfwI5Qa5A+X+Kvv49yD0sPLb8Arosd6K2a/bmuXb5XPZh9GG2X7q/fAy69/jrORO83AEhggMBBcEOAi1D4QY6BpgGSgXVBX7FXcYuRmpFqoSSg+eCmMIvQoZC+UGzQK5/kz+DgUJCqQHxwK5AWYEuAapB30GYgTjAwYD3gF8A3sEbQHy/jX/7P8KAI7/Z//K/WH+ugNWBLIBlgFpAh4HBAz8CWkFgAUSCugNlg0RC6MHxgQPB3QIFwSHAIf80/Xk8ZLvTOsD6ern2+J+267W2ddW4SHsJOcx2NfZte6j/k/85/MG8bT4fwh+EX4PqwsWCxwOpBY/HlEcFhdpFAcULBUiFugUDhIlEGsKNQLFAbcFJATF/iH6YfVk9Zf7l/2T+d723/cV+4D/AALx/3D+rwDwAvAEXAekBiQE6wTyBjQI6AlHCo4HrwVYCQ8MRAlYBRYCtQJpB44JeAXR/zT+fv/WAWIEUQOC/Zv6NPyH/NX84/uK96v0EfaI9771cfPu8QnxmfB67yzsgOgv7kT4GvTO5gnk2O8e/Yr+bvao7w/z+P9iCUcJIwe/BfQFuQ0eFXkRTww/DMsMag3YDcAKxQbwBwYHi/8M/hUDuQFn/LH7w/pN+kf/CwBT+gL5Av2J/ycByAI6AM7+qgTFCf8IcgcaBmEEXAY8CdEHsgZNBlcD0AIQBvAFmgA5/v0BmgW2BLr/Qfv1/J0DHwcXBYUCrwF9AgkFhgdBBxQF3gISArICQAFF/uT7SfmT9TXxFO9N7lHsneng5iDo/OpZ5zTjbeYh7Fnude3U62frfPD3+Wv/df/R/34BlgS5C2YPfAwDDc4PFRABEeUR+g5eDKgOUw3LBrIENQViArIA7AFh/yb9dP9B/zH+TADjAZYBTwJUA0ICpgMvB18GpgRGBsMGRAWuBhYIAge+CQgMaAi/Bl8JoAuMDJULbgdaBKEG7glBCu8JgAmKBrgFDQlVCXwG8wMvAfL/RwH3/hv4q/Rs8wrxzu2J6YjlEOH33ojdXdvT4EvlPd0f1n/cUegR7jntaOo763Hyg/zGA08G0Qb8BKsHJRSIGvQVKxJBEikVGhlSGIURlA7LEEUNPwbNBSII8wP0/o7+q/2T/k0BQQDl/iwAzgChAZUFYwiSBsIFrQgdCpkJZwp1CtkKZA5bEC0PHg8QEOEPmxDqEl4SUQ58C/kKZAusDJcLqwbTArcB4AH/AYP/bfpY9dTzwPS68/bwQO1z6Zfm7+WE5bviKOAs3DfaddvE2q7gQelk5YTaXdnk5qr0/vag8Mzrq+8c+QICGAjzDF8JEAPLDLIYHRgdFIISBBSgFwYabhXEEA0U2RKsCiYJjwwBCXMFLgjrBe8BzQJoAwMFtweyBt4C+QP4CDMJhQmLDQ0NWwoEDcYPGRCqEcwQ4w6EEbwTAhDWC/AM5AxKCP4FpAVHAy4BE//6+8n6yvmL9vX0cvVu8+fv8+5r7zPtd+l+6O3oQuhm5rPh396s4anhL90F2NTWPeI+7Q3mUNiR2DvowfXN9nLy2O/98Vb7lQfuEIsUggxnB4YWJiRLIfMaUBmTHEghpCGlGucWyxshGq8Q+Az4C8UGWgfbDHUIrgAo/3kBywavCYQGZwJEA7IGfgcAC6EPjAypCOUKKg5vEPMQ9gwNCtEMtA64C28ImweDBT4CUwHx/y/95fvk+lL5sveO9dr0s/W69Mnxq+5z7cjtIuzA6TDoC+b/4xbiueD13ircH9pV2LLX1tbu2tbnMOwR4v7ZGuMl94sBKQCE+yn6yf7PCMwXHiISHmASDBXLJd4siSiaIUseQiEJI+YeqhgxGFYXvQ8QC3YJXARNAGAE0QjLA3b7ivhn/vsGjgj0BCoDHAR4BU8JrA9dEWkN4gqbC1QOMBHAD5oM5QvmCpAI3wa8BhAFSQBd/WP9Mf3j+ir34fW59mX1V/I98STx3u/j7THs6Oqj6XXpO+hR5efjAeN84nTkaeSb3zXcL9yD4OrituEJ6xfz0+3W5nDp0frSCFIHpQJTA3wGJQoOFDsgBSOHGP0R/Bv3IxIkkyAkG5kbNRz3GHEWuxb+FbAPWwzlDacKDQQBBaULFwyNBigB+AFACA8K+QiiCtgKwQfBB34NvBEoETUQIQ+RDOcLzgzSDMQMqQn7Az0C8AKLACj8gfqP+uf3jvMc8Fzv/PCh8DftUOtj60foOuXP5lbo9+Ze4xniAOT35EPke+E24Rji2OLU5afkTOF33ybnCvW09aDwRO9S86n7zQGFB/UIjQd5BYIHlRKqGTUZ7hUjGMMc7Rp7HD8eYR43HxobCBhOGGIZhRZ8EqwTzRBkCnUJjwy2DAMJygfsB7QHJQhRCOAJ4wqeCPQHwQvmDmwNnQrwCnULTwrdCL4FTwR5BE0C1v86/ZL60Pg9+FT42fUJ8gzvwu1g7lvtWetb6l7pqecD5p/lK+RQ47jkJeRa4fTdnd1Y4D3gr97K3DbbTt1R3g3f9eVo7NbsaOp16drwE/zFACICeATfB6gLaw7wE+wbBh6uHH8fDCJ4I7gkVCM1JDYlYSOJIPgbshnSF7kUnBOvEMsLJgpvCzQLVwpXCYAH/Qf4B8oHTgpXC74KIArQCkgMtgpYCdgKGQvMCaIH2gP9AeIBYABk/0H+vPq69bjxRPGp8JTtAevR56zk8OIo4JbdM92m3Q3cddkS2EvWRdb21o7WAdd6103ag9s32YfcmeXM7rHzZ/Py8mn3sP/dBxcQ3RTRFLEUxxdiHqIhISLrJUMoWyeyJPkgpSBwI8ckiyKnHpAa8BSuETsURRYJE34O/gsxCzMM8w3FDpEP8g4wDO0Lug0UDuMNhw7wDlkMAgkLCFkH0Qa7BQwDpgEBAIn7F/i+94P3zvSI8JHtuOsq6kzoR+W6433i4N4x3Pvcrt2t2nTYDdiD1iDX/dc+1wnZfNp52p7b0dw84l/qNu567y7wB/Qa/HgDXAmGDhsRKhL6Fi4cHCDRI/gj3yV+KAwpECi8JK0k/CRWJB0jPh5HGsQXqRb2FiYWehM/DwIN8gxJDUgOvQ6hDWQLtQomDCIMwAu2C7UJZAj7BuwE7QRYBDACC/9a/EH7Wvkx+Gb3ZfTW8DPu/utm6aboIuhT5cbiauAK32ffmuBT4fbf/90F3KjatNv63areTN7x22DZdN+c6OPrI+sE6THrg/C09sj+GgWDCOMJAg1SEoQYMx7lIMEktyYFJ7co4Sf9KHEp5ib7JP0idSIAHq4XbRaeFucVBxOEEFcOZgvQCiYLhAuxCdIHngm+CY8IyQf4BtEHWgjHCOIH8wQyA1YCZwJwAG799Pwn+9D4+fYB9RjyUu4L7Tfru+k46g7oQ+US5C3k7+SU5LXkJePo4Mri7eKY4nvjFuEn4W/iA+Mr5fTmV+iI5/bnouo27WXycfh9/QIA4QGCBo0L7A8gFHsaQSCFIbchFSJlI5skpSXoJx0nZCQRIoQf3B1QHCkadxf0FbQUFhFaDRULTgmeB94GVAcjB1gFVgN2AiEDGAOMAVwCwwPSARz/W/4H/4b/Z/7p/Lr8+vgi9gH4AfZq9QT0U/JF9fXww/Al8QjqFuud6wnqd+he6C/q+ORl5OjkD+T15QDjH+Xq5WvioObe52vl9OV35rXoDuvC7ATxL/Xp98b6Gf9VA0sHdgwJEIMUOhiXGOga8B3/IDsi6CHeIxckKiPKIYIfuB6YHaEbqxmdGGEVSBBhDhENdQv4CNwF2wQoAxACiQIdAQz/zf3x/QIABwFI/wX+Fv9JADoAzP/t/sP8v/4oAf/8bf1G/PD2Qvni+pH8oPsO+LT1bPAa8m/yCfGW8mbuLu2M7EPriunc43rmxOsC6wrsOeg74cbim+Nx5BDpaeo/6f7n1+n96qDsu/EN9TP6x/6nAPMDtwbsCfANSRK5F2ccpR36HVcf8R08H/shpSELJOki8B9+H4YbfBiqFsoVmRVtE7sRxQ27CdkGwAMABO8FAgekBKMCRQKs/gMAtgIf/zQBIwOE/j4ArwHq/Xf+xv6e/psBTQAAAVQBuvrp/t3+OPbd/Pj8uvTU9lj0Ae558bbzGO8c8Cnwy+yV7QvpNuev6zjoZOmO7BvmXefM6Xnla+ji66HrI+5d78rwz/Pd80/0wfae+I36b/77AesCPAWhB8II8wuMD98RexTAF9MYXhjeGOsYLBqgG74azBpcGQEW7BQbEwQRTBAmDtEL8QqeCTcHJwcnCEMGUwYEBg0FLwjkBjQHjQe2AgUHzwdbBu4KygYfBbYDlP/GBNAD0P6kATwEagLt+5f5iP/T+9/0rvsU97LwYflD7erm8/aj7NDmuPb17mDtG/dE7NbvH/f+7iH0Z/iQ9RX4gfV98rP3SPi49wH8yffs9lr6e/SW9cf6Z/d398L6rffS9+X7Pfl7+YP9qvxi/10EPwJoAZYFYwYwB/wKxAuFCwAOgg0rDPEOmQ65DYsPtQ6LDQwOYg3CCVQL4A02CtkMoAygCTYMCwkcCasMPQtOCmkOLgzPB9IPBQqVBXMNgAaFBHMG7AIwAoYBk/4X/fv+ePt6+7z5LPdl+0L2bPgU+5vzrPkT/gf4Pflt/Z764fxO/tj3t/3J/Rj40f27+ff4+/wB+I76cfkp9dj58/Uc9VT79PHb8OX5hvJ08Ov0nPGG8kzyvvA39aHz7O8E9Pr0NvT09cL0YPYz9wj3BvxY+9T7TgEn/+b/UQRoBSQIQQn2CrYMLwxuDeENYw2pDTwOig5uD/kNOgx/DaELwQqcCssJNQw0Cr0HZgqaB6oEMwhjB7EHKgpPBpIFJgZ7BDkGvQHxALAGZwGfASoEoACh/4n/zQHJAbEBjP7FAqsBBPkmBAj9T/qNBHr2ov3NALnybfxW+uvzuvxB+XLyofjr/BP0jfXu+LTzlPVn+Jv75vPa+EH9qO9n+9f7efY7/Hn46vsf+rH5yPtz+WP6Tfwu/fT6xP2X/D38OgBd+jj7GQAx+037Uf4U/TT/EQBW/5r/JgG/AdwA/AWTBoUEzwbjBgUI3AcGBksGCgc/BqEFWAZgBN4CMAUcBBsCMgIRAp4D/gFtBD8FjwHoAwICAAWpBNkA8QYz/0wA9gky+wn9YwYo+mQAmgKX+R4CXv/7+18AW/5y/yz/5P94AvMAlAHWA0sApQKWBRoAXQMIBGIBBwEeAtEDnv/lBIIDGAHQBA4A4wGKAukDOwKJAfQEjgNHBRwE5wOC/0sE6QRQ/pQFqP25/YIBmPxg/U/7Ff2s+ET4uviZ9Yj4yvhD9sTzVvfa8T3wO/bs8kv2qPMf8jr3y/Oz9SP4FPax+K77mvp5/Ir9bv02ABH+RP+nAn4BawA9AxcGmQFBAVcFCgVSBEYGAgfoBxMIMAgLCqwGmQkHCfEIdA0+CFcLaAikB18LTQhJC2gHiwkDC5sGaQdYCAMImQZ6DMwJZgenCxUIIAdtCEYHSgYUCYIHSAaFCJcHhQUsA70FVgSeAXQD0AL0/eH+jAGQ+C38Pv1v88n7Hvkb8VH4L/S78Ef09vK48onvkvCL8Avsqe1J7RruCe4e7o/xIfFa8X/xTPJX8svxovQ+9uj3N/iL+f77Pvso/1z/Y/1OAn0CngRiBgoF/Qd9Bs4GkwgFCeMKvAkyC5sLpAkQCugJYgrqCroKmwvACi8KsgqPCSoLZggyCL4N0gkgCiUM2QjiCYYLvAspCk4JtQp1CUAH4wmfBxoFlwXbAAoDnwJF/04Bnf9t/tX8nPuF/Uj7s/rA/O34ifvY+f32Kv0R9ej3nvzy84D6Wfib8yL6w/eI91P4TfaM9173cPh19lb36vjJ9XT4/vTr9UP5n/Pb9hD3XvWu+Az5Nfil9dr2wfcO9tn46Ppg+tz7g/3k/YP+PAAxAFz/qgPwBYgF+QaYBu8GPwXlBPUGMQbkCMMHpgU0CegGfQV2BtQFOQd4BhkISAm0B6YJsAYsBZMHLAXHBx0I1AQ4BeACbwPRAi8BqwFzAdoBF/9TARUAq/vkAMf/3f7bAgv/tP4AAgv/QgFoBJn+pP7yAi4BPwDHAs7/QP6rADr/PwJN/oj9SgTL+xf/4QSo+7X9uP6b+uX8Ifrr+ov9r/Ra+Ov7YPG+9bj3HfFL9qH15fEt+Cv0V+/M9cn07vP09375Z/qF+Yb62vuO+7v+rP9//qkC5wRfA8sCHwPoAd0A5gNDBQIGVQbzAjUCzwOQAZkAegJdAVMBCgPMBHsCJAEJA3D/zgLBBTUC2QTXA0wCxgTMA8cCJgOWAysEKATWBDgFMwL6AIEBhQL7BSoFbAdfCFYD6wVhBkUGrgf7BbsJfgmzB4cK9gbiBI4HTwdVBtgGyAhIA+cBXANd/WgANvxJ+oH/RflS+VX3ifQj9fHwVvJD87LuNfCT8+TwBfI+8knvAvFf9LD0CfUI+YT5//ka+3f8pP6g/gQBVwIsBVIGLgR9BmYGgARyA0YDhgUlBKoCFQLv/w4BdP4n/WYAqf+RAKn/q//2AWoAw/+RAPwDQgMZAtkFAgULBdsE3gMZBjsEcwPSBpYGfAV1BcsCYgJVBKoDbAO1BH8FrgX0BUgG7gctCEcGQAiFCgsLrAtWDIYMPgk4CbULggo0CrkI1wWeBaUETAKcAj0Bavug+Y/5EffB9DTxLvAa77fsVO+k7kbtz/Gq71zs1e4w783wa/PX9X/6h/zf+5b9JwDyAOoBZAOIB9gKBQkBCfIJqggyB5EGswj6CAIGdwTRA5kCLP9M/Xz/GQBr/2L/ugA5AAj8/PvZ/Tn+hv/L/6cA8gBU/13+av5NAMsAw/8ZAvsDHwJfAHcAGQE3AbsBXQOOBR8GeARSBFcE3gNMBj0Kyw2LDg0N5AteCxgMtAx0DYwOVA9MD5kN7woJB3gD3gEbAokCOQEX/Q73mfMz75Dq7emW5vfkROfN5aTk8eXm5k7mQOQm5//ttvGm9O33EvsM/mb/KAMFCewMug1YEKsWoBZlE3YTxxKGEjIRsQ+/EEkOmQciA9YC/gC0+wv6OvtJ+Qz2C/XK9PXx0e8P8RX0f/gG+Sr30fiR+cn5K/z6/m4BmQLsA0YFtwZWB/MEbgWUCRsLDwszDEgLIggqB9YG9wZBB4gFQQdrC8oKlQYRBEwDzQMRB5AIswkLCvMEZAP7BBwD5f+P/icAfP/X/J75KfUg8izvTOx168zpSeVc5OPlqOXh6I3sJ+pH5QDp+/Df82/4pPzs/zgECgZkCpAP3hDfD2UT6RutHLsXbRXLE5IRtQ8CEKIP9grCA7T/XgAq/U726fRy9XPzFvSy9fvy9e6K7SbwEvac+qj7X/vp+2X9Yv7+ALUE5AXkBvkJGg1zDVULTAgEB4EJgwuPCzcLWQjxA34BmQHNAW4B0wTBCG0IRAWiAGb+hf6uAZkEBAa9CFcFaAKKATz+rf3k/AcAjwFl/c76YPWx8QzupOlD6wXqAOf/5sHmguaN6R3vBu1A6YzwLvhd+lf/1APcBSkJrQyCERUWORdtFV0XCB77HeoYfxa4FDIRfg1ZDYkMIgVf/cL7yvtv94nxQPCj8YLxOPK/9FD0svCM8Ab17fqv/0MArv9OAigFPAU3BwILEgr0CVoN/w2QDSAL5gYJBkoH0wezBZ8DPwEs/Cr+7ARNBdwByf4B/pH+FgFrAdP+rAFiAtgB2wWzBET+Zvp1/EX/zP+h/Ub4/fRX8RzsbOu068Xmx+Fu4yzmWeWs6Mvtve317Obtw/Qs/RT/XQDjBsoP2BAlEd8XJRqxGCEa8SAUJHoeQhmnFlsW4RImDCELXwrdApf8Z/1N+67yNO5X8DvznPNP81/08PSC9Gr1+fr4AQ0DxwLHBusJkQk+Ce0JsApdDJANbg4xD8oKcgSOAx4FUQR6Av4CvQT3BNEC0f/0/Yr74/pt/lQCKQNTAJ79sf05/s388vv3/G38d/sW+pX30PQW7j/ps+qp6czlkuIo4AvfT94Y3u7h4et7863yy+/09Jr72/vkAQUMrRTBGOsWZhtYHwYd3BuNIEAoISbyH7EcYBnJEh4ItAbLCuwF1fym+Sz6RvIo6YrrDPGX8XvxQ/Yq+4L5JvXK9on/7gVRBwILUBAOEIwKtQlkDiUOLwtHDHQP9Q1VBgECQQHy/1oAUAMRB0wFX/4w+gj7p/tB+dP5Mv4mAdAAU/+c/vv7rfch9+T7ev77+tX2NPOo7k3p7uTA4wXj7OAB33De+t2R2QzXa+Bl7V/xc+7Q8Hf4SPro/DIG5RDrFaIUOBoDImwiEh6oGyUivCSgID8fzR0jGD8MpAWUCE4H7P7N+PP5AvhF7+/rvO4Y72XtfvDT+IP9Y/r69wH9IQOSBKEGJg3IEX0PeQ3oEGsRDgyUCBMLhw5cDBAHSwR0A6wAnv6eACACe/+k+xX9m/8s/YT6yfp7/lkA6P9jAtACSP/P+/r7q/6I/Ur6DPlJ987ypeyQ6L7m4uJO4C3gkN/23YHYD9oS5rrtHe5q68nu0fSU9YX7NwVvDdMQwBAmGKYe1x0tGi4a1SBsIiQg+x6XHFQXdA2PCeEL9gg2ATn8h/0b+8Tzj/E68vHwOu/n8lD7/v7r+3v5f/3GAsMD0AWpC6APJA5NDCIPNhCEClUGqAkEDtIMfgnPCGYIzwS+AbAD+ASdAQb/3ACuA5UBHf1F/JH+mgDjAGwCYARqAUb8mvvQ/W78//fZ9bb1XvMl7orpKed+49neW9653yPeGNre2h3kreu1607ptOvO7yDwkvSq/hgI4ArlCgMSPhhHGGAWiBdjHcoewB3GH0EgURsdEmsOqg8MDZYHIwTHBPwBLvvm+Bb5evfW9FL2XPxi/+L97/wn/zkBwQC8AREHkAvnCtYKOg4DD8wLxQj9CAgLNgoFCWcLSA08C98HlwbWBRwE/gL4A0YGWQbNA4MCZwOIAkkANgAfAacAUv6V/VD+lvtM91j0hPIe8R3uceuQ6n/nWuMa4bLf8t5f3Jbb9eHK6A/rPupd69DtcOy37eb0y/1zAx4FXAoRECkSCxONE8oW0xgDGVMc2iCUIY0bPhZSFegSsw5KC2IKewgmBNgC+wMSA6L+XvvY/Gj+yf4EAAUChQOFAlEBMgOEBYYE8wJvBCIHaggiCHQI/AhRB24FyQXoB9gItweLB88HDAd0BQ4E4QMDAxQCNAIBA/gDOAMYAs4BZQEdAO3+CP9y/jj9p/z6+3769Pf99Iny9vCI79Dt8uvr6R3oTeYT5JfiFeO75F3mvefN6JHodecD6XXtj/LN9oX44vk0/QECawZXCJoJlApmC/8OzhNiFi0V3hGCENwRlRP7EosQzw1tC4ALWA1XDqYMNQmhB/cHkgnKCjwJyQbQBMcEpQcWCg4J5QRtAa4BpQO4BGwEqQKQAHD/iQAnA5ADkAF1/wH/KQGsAwYELQP+AloD1AQjB8kHmgYhBREFcQbsBnkFZQOOAdf/ZP63/IP6JPiN9X3zTvJh8DLt0+ke59LljOQy4ifgk9403jbgmOLI4/XikuDm4c7nY+3W8Pvyh/UG+bf9MAPhBwQKVAg2CJwNrhMlFkcVWBRCFLcUHhf+GAIYSRS0D80PyBP9FJYSlA9YDSQMrgxIDoQOBgwQCMsG2QlKDKUKTAeTBNwCXQIUA6kD+QG+/g79Xv4dAcUBZP/e/FT8N/0U/6UBYQIiAcsAvgELBO0F3QRDAyUDzwOTBNwEEQSTAbL+Mf2O/E77j/gY9fjy4/ET8L/t6+r055zlO+TT44ribOB43yPha+S05Wvk8OKm4wTnyuuk8Pnzp/V792D7GgF9Bv4IAAiIBykLsxDvFEUWrBRzEwEU3BVLGJ4XrROJD04OOBHIE8oSVg/IC7cJ/wkoDF4M+AnBBsoEBgfVCQoJ2QXLAYv/9f9eATwCUgDv/Nz6c/vk/twASP87/Sv81PzB/3sC6AINAp0BDgMMBp8HoAYCBVIEGgXXBqcHMAYnA8YAwv9b/3v+z/sh+KX14vTZ86vx6u5862bo5Oao5tTlp+NB4bXgyuOD56PoROfb5AzlLOkT75nzbPV79mr4Cf3FA6kIwAnvB40HJwzhElwXrRcnFcMTQBQZFn0YDBcbEjsOtQ3FEB8TChFdDFUI4QZLCPcKiwudCLMEZANYBiUKRQoABzkD3AHLAjAEPQXqA/IAyf4t/24C9ANFAsH/m/5KAEoCngMFBM8C7AFBAjAENQarBSYE8wPuBPUF3AXRBA8DqABN/1T/7/4G/Qz6tvfL9hb2gvQo8r3vdu2n6zjr8+r66FHmceS75Pzn8uq76gnoReXr5VTq3++e87D0//UB+eb96QOpB0oIqgeoCDMNQhOMFl8VCRMzEiQTpRWwFiwUxg/5C7QLng5OEEoOjAknBvgFAgfDCFYJ6QYsBAUEhQYNCYwI5wR2AcEAywFgA9ADpQEA/6z9Ff7v//AAz/+5/Qj9Pv52//3/zf91/ir+OQAvAiYDLwN9AmsCDwPeA14EDQQEAw4C9wFcAosB9v5w/PL6Ifqc+U34EPYl9GPyiPCE70juIuzs6Z/nROZ+5vDng+l26Zjo3ecy6DHrJ+/d8eTz7fb0+u/+TAOxBuQHaAhDCQgNTBOEFroVUBQfFGQUfxSaFGcTsxDTDZwMZg7bD8wNYAp1CMMIkAmdCWsJTwgXBqkELAacCOQH7wQHAp4AGQFJATwBuwDQ/h39iPyu/ZD+Jf0K/NH7Dfwf/Qn+nP69/pH+cv+qAVkDcgMTAyUDHgQOBRkFEAVSBDYDxAIuAuUB2ACB/vj82/vw+u/5B/g39rT02vLk8LzvuO7M7F3qN+hf59nnd+ly693rMOpz6Ofp2u1W8Tr0l/bj+B/8AAAOBO0GHAgjCPsIiA0zElkT3hL2EcURORKLEpkSaBFZDyoNoAyDDkEPJA1JCsIIyggNCUwJRgnCB3AFkARFBtMHTgZaA0oB5ABMAWUB3gBS/3v9KvyB/H3+H/+b/VP8ffxY/Qz+tP4e/wf/gP/ZAIACqANTA3gCvgIfBK0EHwQOBPQDTAN+At0BXwHP/3/9Xvxv/Jf7a/mK9x32FfUY9LTyaPHU707ub+w96sToQ+e255XqWezC62PpcOj36uHu1vJH9az2a/lh/CIA8wTHB+UHFQf5CV4QlhSxFbMUbRO9E/kUkBbsFscUKREJD8MQFhNNEjkP2AuEChALugtIDOgKgAcMBXkF2wdVCIsFsQFj/8n/DgFBAd3/mf3e+0T7PfxQ/Wf8Q/rU+M35Gfwz/QP9Nvwe/Bf9dP5nAHsB6gDpAHoCWQR9Bf4EiANrA/8D9AP1A1sD3QH4AMMAcgCT/4P9gfve+jf6+fhl9zz1S/Or8bPvve3K67Dp3eh86s3sDu1x6nnn1ueF6+vvF/MG9Vz3Gvpv/VUCvAYiCPUGiQf0DBUTuhUSFXkTYRNbFAIWRhf0FUsSgw48DjcRXhKnD7QLwAn4CRYKowmuCDoG7gOoA3IFRQerBegBM/+p/rX/9P9r/hv8U/o9+fL4u/mx+br3MPbF9o/4d/oD+0H6kfoB/JD9Pf+WAG0B9gEjA3AFwwbxBRgFqAX8BukHUwf+BToFjQQgBCgEGgOzAEH+n/wp/F377vhR9hf0SfKH8UzwdO266ZHmxOWm563q/+sy6u/mAeYe6Yft6PBk8p3zqvbf+hoAdAT5BX0F7QRqCDoPRhMAEywR6BCvEk4UwRShE94Q9w0TDfoOGxHxD6cLVghZCJIJsAlLCCIG/AO+AlUDrwRSBCYBsf0M/Vz+Fv8N/vL7NfqN+dT5Vvpj+lP5Dfi5+CH7JP1e/Sf8fvvT/D7/QQGpApQDbAQaBk0IEwqjCssJyQgRCY8KMwsHCqYI1AeBB4UH1gYOBaQC/v/8/ez8u/ux+cb2DPS58qvxpe/G7FDpVubc5Eflwufw6bbocOWu41nlSem27LbuIPCd8kj2EfstALcCSAMFA3wEJwppD04R9xCPELERaRN1FegVaBMQEMwNNw4HEOUPBQ1BCZsHUAjzCEoILwaWA7cB0gEFBBsFgQPVAGn/FQDAAHgA1f4l/PX6avs4/EH8O/tM+sD5lfrt/Mn+K/8j/s79iP+wAfwCSgP4A4cFEQcKCboK9go2ClkJEQqvC1wLmwleCMwHLgccBtUEZQMkAY/+9vzt+6H6svjx9bfzNfLj727tPOsC6VLm1+Ox4xjkXuXs5EDgtd8+4uPiP+Uu6jru2++a9MH8egISBZMGjAkIDKgMcw+XE3gV4xRDE3UUqhefFt0R3w0jDIMKgAfFBZAFywRFAv7/YQFaA+UBh/5h/Wf/oQB8AGkBoAPkBGcD7AIyBQEG+wO/ASUClgMaA5UChAO/BKsEGgN1AyYG0gbzBBgEyAU7ByYG5gX7B34IYAacBEsFcgaZBTYEpQRSBlAG3gQfBG4DxwEO/z39+Py3+974qvUo9NHyGe9/63Hp6ufF5LfgVN8t327ee+Da5wbwAvO08cPylPYb90X3lfsrA7AJiQt5Dx8W5xgwFlwQFRC9EtkPlQz6DQ8RbA5KBwEFxQQ7/7f2aPPU9on4Fver+IH9fABy/pT8Ff9lAQMBAAEYBokNWA9yDR4OUxDUDfEH1wZJCe4IMgb7BXcIOgeMAe/8JPvD+UP2LvSi9ub5Lvzz/cYAOgRIBGgCngNlCL8Lmwz9D3EV0BehFXYTdxPLEbgOaA0cDnIOkAtHB3QEVQF9+2j0xe/O7Rbrxeau4/fh99562nDX/tZ91VXTCNT71l/aWt2l5hf2rf4j/wT/WAS8CTQI6AnfEbcZZhxQGzIf8yEcHKIRegrVC4ILNgUyAkUFWAZJ/Wj0v/Td87Lspue+7IL15vaE9tn7kwIKBIABrQOMCq8OaA+EEmEaUB6NGbQUFBXDFKwNlQZhBxMJyQTw/uX8Xft/9Kzs6ur+7EHt5+v27YPz3feW+Qv8BwJ/B3IJXAz6Ei4ZJBo7GfobEB9bHQ4ZVBd3F9EUTBAADn4MkQf5/8/62Phf9S7vCepu6CjnbOJX3T/bD9qL19bUYtWF2PTYoteq2Wfe8+Ai4CrmiPeYBdgHBwYbCsYQDw8hDHgRahm6HJ4aABwlIfoe1xPTCNAH/wnDBMn+FACBBDQAofUF87v1zfIX67rqsPR9+9/7cf5HBYUKXwnVB/IL+hGCFNIToRaCHC8ctxVIESsRfg6YBvgBTANIA9v9KfjH9qD01e556t7qcO2u7lDvFfJG99H72P24AAwHFA0kEJ0TVxmtHXcdrxtGHE0dXRuTF4YVihQiEX4M9wi5BS8BHfsg9rjzk/EY7m/qJujn5pvkFuGO3ondnNwn24fbed4D4CzfCN904MPhn+KV5bbuWfxnBn4JHQnjCgoO7A1GDYIQYRf7G14cOx4tIDcdhRTBCvgG/AaJBRAC4/+TAYMAqPko9Nvy1/Gq7UrrrvCf+PX8nv46Af8EowYhBg0G6giqDYQQIBKbFHcXOxdKEukMkAknBywENAGPAIcAw/7I+yf4/fSU8gHw3e0d7oTxEPXG9hf5Tv3aAdoE8gZqCtcOZBLaFB8XRRl4Gi4avRgiF4kVQhMsEJwNDgzaCRwGvQEh/vX60vZi8kLvl+157O3qOelG6NfmLeTq4UDhDeKp4tniluO05Bnm4Obg5h/oT+0y9hD+IgHXAM0BKAQBBdUEwAVRCaYMww0CD9gQbRMhE/UNbgn4B4EIvgcKBVAEoQTrA8cBMP8Q/hH8RPh79Tz13/cc++j8Mf7B//kBgwNwA3YDxwT8BnkIxAktDK4OuA9MDhAMzQo4CskJawhsBt0E7wNVAwICQQDM/tL8gfpu+Qj6Hvu9+0n8Nf2G/nMAPgLqAvMCgQNMBWkH7whACmwLSQwxDVoOVA/PD8cPHQ9XDkUOhQ6aDfgKcAhUB4cGDAW1Aub/zPxR+Sf2mfMt8TTu+eqX6FLnTeZT5LThZd923fLbntuH3QTgM+AE377er+Dk42Hm0umQ7Z7vvPFd9Q/7oP9qAV4CdwMoB48LZg7KEAARJxAOEHIQhBIYFOcSkBCID8cQpxGEEdkRGxFyD08PohFeFBgVPRTuEoASLBOPE0UTvRFKD2ANNQwkDNcL5QjpAyv/ifwh+2D51Pci9gH0V/L78dvyafPM8hDyQvKK80L2v/mv/B3/dgFHBCQHZglAC1gM1wxlDTsOeA+MEKcQ1w+4Dm4NmwsvCeQGJAVbA/UAPP7p+5v5r/Yj86HvSu1v6zDp/uYx5aTjHuHY3djbdtuL2xXck9363tTeJN7L30njZOcX7E7v+PGn9dH56v6ZA40HdAo+CzMN9BFCFkwXqxZoF5oX1Ra6F0wYrhboE50RBBFBEV0SnxIQEBYOVg5wDxsQIBAwEBUP6g3IDmEQyxBUDzMNsgvcCp4KBApWCNEFggI//wD9Dfw8+9f4IfYX9Wn1qPVq9T31C/Ub9fj1v/eM+pH9z/9wASMDnAX/By0J2gm3CgkMfg3uDkYQ5BBOEG4OfwwPC6AJ6weaBZoDAwLa/1f9lfru9+/0JvEQ7rHrZunU5krk7uIU4Tfe5Nte2iPal9rz2yDeMd/A373fvuBM5EHo3eyE8EbzcfcS/KcBNQYICUsLwgvCDYwSdBY1GHwYuBhuGDIYChokG70Z0Re0FtcWGxeYF/MXzhXsElwSjBN/FFIU0RPNEi8RkBDAEFMQWA5LC4YIbwZuBZ0EXAIA/5P79fjs9rL1kfU+9LDxUfDG8BbyjfLb8h30MPXo9Ub31vla/Hf9k/6LAIkCSASwBfwGAAg8CCYIeQifCTIKJQk2CEoIOAgGB4oFtgRuAwEBbP69/G77MPlZ9szzF/JP8JHtUeuq6cnnQeWT4kvhIuBg3kvdgN153xPhHOHW4G7gyOGB5IfnUuwK8EjyBPWV+Dr+3gL3BZsIXQm+C1AQQhTXFrIXoRg/GWQZZRssHdEc8BrhGMgYXRmNGZUZEhj5FckUlBQMFfgU7ROjEQ4PhQ4HDwUOhgsiCd0GFQRlAkkCfQG5/jT75vij96z2RvaI9RP0u/L88crye/SA9dT1bPWD9eP2HPnb+3P9Ov4H/67/dQGdA64EqgRtBBUFCgYdB4IIPgmMCM0G2AXkBYMFmARMAwECsQAb//H9c/zy+az2JvO+8PzuZe3q63bphuao43Dh19+/3VfcDNy13KLeD+Bp4PffXeAk4+3mBOxw8Z31NPn0/FICewcNCwcOIQ+EEIsU1BjlG24dsx0DHfcbjhz7Hdodehs8GMQWlxbTFpYXmxb3ExgSlxEFEngScBIYEX4OMg2pDfINBw0bC8oIPgaGBLgE5QTqAs//C/3o+ov55/ho+O/2kPQv81vz6PMz9PbzJfON8jrz7PTT9pX41fm0+mj75/yi/6IBaAIaA/gD4QQFBo0HaggUCF8HpgY+BjwG+gUJBXUDlQHJ/yH+XPxb+rr3yvSd8h3xy+/P7cHqeufY5BLjUuHA3xnf896N387gLeJv44bjvuME5iHqt+9g9Fz3dPoo/r4CeQaJCQsNXg4PDxMS8RXwGP0ZtxkKGYAYHBnRGeEZUBnxF/UWoBZEF4MY7BenFf8TgxMnE80SThMnE9UQrA5RDjEOHQ2DC9UJqAcnBZUD/gLDAS7/jvxw+p74BPii9+z19PN88tDx3/FV8mfztfMd82nz2fSl9v/3T/nX+tj7Hf1Q/8YBhQPzA0EELAUXBvAGiweVBwoHLwaFBWAFZwWqBA8DVQG+/0j+5fwp+9n4dfYH9JDxz+8F7pHr3ehu5g3lkePB4VbgHt9k3xzhKeOR5K7kQ+Vb58/q1+/f9D/4c/qx/LcAcAXXCAoMwA3rDSoQJBSKF2AZyxkyGTYY3xi6GpMbQRsCGnQYaRdCF1EY+xiIFzUV0RNkExUTshLhEekPlA3tCwkLXAr2CMYG6QPQADv/If82/tL7cPlG96z09fIB8+ryRvFY773uG+8C8KLx1/L28v7y2PPf9XD4pPpg/JT9v/4BAc8DqQV2BsoG0gbnBsUHVAkkCj4JmweyBp0GegbuBfcESQMkAYL/qv5i/fj6bfjV9TDzkvE68BzuROuK6PXmaeWY49ThAuBH3wjg5uE74x/j5+J444XlPOnv7RLyovR59mX5HP6YAhcGtQjnCZULAA8DE1wWEhhIGLYXoBddGXYbDhxuGwoa7xirGNQYdBlaGbEXtRVwFAAU5BOMEykSfg8hDb8LyArQCRwIZgXgAfr+7v03/Z/7cPkZ9yP1z/Nk81nzifKL8Qjx4vCL8c3yFPS+9ML0aPX79vX4Gfvy/ET+FP8UANYBhwOkBHAFGAaZBt4GjgeBCIQI9gexB4AHAQdGBukFSgVrAy0BlP+R/gP9q/p8+PL1JPO38ITuY+ws6hDoweWk44zi4OEi4f/gSuKs47Pja+Oz5HvnN+ra7TjybfXQ90X6cP5nAwEHTQrJDH0OURGOFHEXcBlkGokakhkMGjgcuhyuG2kajBnPGPYXvxipGf8XjhVUFCwUKBSkE8kSHhHmDiINwgt8ChIJ7QbbAxgBvv/d/hv94PpI+dH3+/Ua9Xf1Q/X78xfzVfPk82L0fPW59lD3pPdF+Ln5svt8/fP++P8GAZACBQQnBSIGwgbPBogGJQebCCgJzghXCLcHowZDBY0ExgPnAQYAkf4x/Xj7N/kP97b0NPIp8EbuQOwd6kbokebF5Dbj8eFu4QPiPeP547PjUONr5B/nGuoX7ljyIfWC97v6g/8aBDMH9An9C7wNVRC+ExIXlBjEGMkYoBjDGXobVxtQGrsZaRnOGDYYtBi0GMAWzhRnFKQUHhRcE/cS1BH8D0wOwQwCC+YIjwYxBCACrgCi/yb+YfzV+uf41fav9Y71afWs9ET0WfQ79GD0VPWK9gz3Z/d0+LP5Ifu9/GT+0f9zADEBZwKZA+wE6wVYBqAG7gY+B5YHugdFB0cGAAXlAzUDSQKLAD/+OPwc+rL3TfY79SjzcPCu7dbrRepd6PnmNOUc45Hh8+Be4vPjJeSX4zTiUOK+5AHoP+zG73TyVvXQ98r7jgA6BCcHnQjHCksOYxH9FIwXPRicGHQYChnQGu0bCxyYGx4boRorGrMaDhvQGSIYqxa9FZMVbRXYFEET+RDdDuIMXwtpCuMIKwZvA6oBJACJ/vn8+vpW+In14fPA84fzs/Ls8YfxkfHT8dDyZPR79Qj2YvZJ9yL5Kvvg/Pj95/78/+sAKQJ8A1wElAQsBAwEZwSNBJoEdgSwA7UCqwGNAKD/av59/Fr6dfi49vf0JvM48ePuTuz/6SnoaOaG5LbiKeGO4EPhc+LN4hTiduEs4vnj4eZM6/PuPPHY8+L2xPrQ/nIC7QXbB5wJWg2IEZQUaRarF1MYixgSGjAc4By7HKEcdxwGHPcbixwKHI4ajhmsGK4XwxZgFvgVGxQCEqMQ5g7eDGcLQgpbCMcFrAMYAlkAc/6k/Ez6q/fr9d/0E/SO8xzzf/L58RPy8fLv8330TvVg9hX3H/jL+VL7Q/zm/Of9L/8tABwB/AF/AoACUgKZAiADXAMWA5ACvgGSAJr/dP4T/Zz7uvnr9yv2O/Qh8rHvZu086wLpweaB5AHjWuJt4v3iUuMf4z3iTeI15MvmQuqh7W7wVfPq9XP5mP0XAfoD3wUcCBgLhA50Eg0VdRavF/kXghjUGbgaKhv/Gq4awRrIGvAa4hpQGogZXxhJF6oWJxbKFf8UqhN3EvAQ8A4MDXoL9wkvCFAGpwT0AgsBR/9Z/f769fhh9wL2KfXY9MP0QPQm86jy7fJb8/bzh/Qy9TL2XPfS+FT6Wfvi+z/8Cf00/jL/yv/y/0cAlABSAFUAZADY/7b+V/3e/Kb8oftD+ov4q/a19JryzvAY7+nsWuoV6JrmvuWN5QXmG+ag5cnkIOQX5TXnDOob7WrvlfGZ84L2wfqu/i8CTAR4Bc8HkQqMDXMQRBJSE6gTXBTiFfsWtRe4FwoXtxbEFoAXfRilGEIYqBcbF8MWhhaBFhQW3xRNE+AR2xC3D1oO6gw5C5AJ9wdzBg8FhQPNAeD/Ef6Y/FT7Tfp7+eL4Gvgd94/2P/Yh9oj2AfdV94z3u/dl+GT5LvrA+s/6nvrZ+g/7PvuR+6X7gPtP+0f7Tfs4+676rPmV+MP3d/dr9or0SPMr8qHvS+zQ6mPqVOk96Yjq5ep66W3olOhu6QHr3eyF773yjvW7+Ib7Yv5nA7cIBAzRDKYMtw4XE0MX3RiPFxgWpxb0F2YX5hQQE6UR3g4BDDoKZwosCxYJtwSvAJv/1gGiA64CugDZABcDSATXA8sDogSdBWMGmwdgCicO2RCpEcURFxO8FTEXIBZEFMQTGRT4Er8Q5g6gDLkJXwafAhUA9v57/a/6JvfY9G3z7O8I69/nRedq5y/myuP24M/e69373IrbCtuN3H3eUt6M203ZaNmb2hnd/eJc8C8AGgRt+qjw/fTXBMQQ9RVGGgUfmyCcG1MXbBqzHzUhLR+0HaUehxy+EXED9vqo+7cBhAQyABH49+8M6hLmDuYQ7kH4hvv/+OL37/uQ//T+1f+qBuoRbhoAGy0XRBPNEMAPKBA6FMUZlBlQERIH3AE/AV8BUAL/BHcHcgepA5n9svqQ/csCQQcNCw0PmhB/DFsHpAcbDWcTgBbgFRATrw7WCIcCd/7Y/ioArvzf9M/s2OUu3mLWxNIj1ALWitSZzjDGScAdv6XCYMmC1BLnv/Qt8YDlduPw80AKYhduHqgjJScwJl8gUSDgKDQwTDCULJMqsiUmF2YFTP1+AOcFCgYm/mHxE+XV3E7b197u5hTxx/Pe70Tuz/GP9xb7rQAQDZ4ZAR95GxcV5RNpFxUc8R/FItUiBxwxEHQH2AcuDPgL2AeTA+cAVP0599vyjfK59qr87v4W/mP8ivqy+az8WwYGEQcUXQ+wCRMIZQlxC6sM5AqAB5sDgP309cru8elI51nlQOOR3WnUpsvex7nJgNGO40zxZutG3JDWIubi+6AGtw31EsoVMhYTE1UW9B5GIz0jryPcJosjkRO2ArX+AwXxCZoI3wBv9T7qG+Mi5NnpafFG+DT3j/NY9V/6r/3C/coD8hFsHDUdthbsEFYRBBUcGY0dGiCcGyoQ8QTFAnYJHgwfB9QBNv/Z/WD5YfSj86v14frO/xgANP6K+/D4RvqeAsoMuw8xCscCkwD3Ae8CSwNWAHb7R/gk9Mnui+kx5B7iyeHn4E7gPdvb1RnWHN9c9EUC7fu37kLsq/0DEBAWMBpPHhchzB9VHfEihihbJOwdHh++Ipcb/ghm+aj3cvuA+933lO9P5QXcGtgw3Vjk3en767XqLe7u9RD8Of6c/2gI/hV6HvQd7xjcFoQYKhsOHuEghh8dF4EM3AffDA4R6wp3Aff8PP5+/uH5gfWt81P1VvmU+3n8Kvyk+Uj5rv9vCPkJzgJH/FH8n/8xAZz9Lfea8Q7t3upF6RTmUOHp2dbVFtef2JPZUdhw4DL0nvyR9hrt0O8pAwIR5he4HsEhGyOMHz0e+yYsLRwqrCU1JlAm6hyKDEAClQESAoQBvP1a9QXsZuIk36rjPOqX8QXzavD68gD5SP6v/8wBrAvuFkkbvhigFNoSQBKrEpUV2BihFXIK3QHRAhEGqwLE+Zf0ivY9+J71j/FO79Pv6fHb9TP7Df6g/B/7O/70A5EG0gOGAMMBZgRqAi77gfRS8e3t2uhf5Orh1t7c2ErRIs5/0tDXUOOL9AD6gfIc6LLtPgRjEywa3x2BIQ4mPCKfH48kJCg7JxUlHycVJDYULgI7+bf6XP24+332Ke1m4jbb4tsv4fvmS+1Q8cv0ZvnD/bsBNQTXCkkYKCWSKtIm5yCrHoQfCyL2JIElFB/IFgET4A/CCrkBePlK+Qz8PPv584LqNefk58XpY+4n8Rrw4O9Q8NnxAvQg81Hyv/KH9H/1+e866WTlm+Ka4BLfWN9m35XZvdFd0LHVFedr+1j+r/V36lHufgOwD4UXwBzgHFoiniN0I0EmhSN9IWYljSueKmccSAorAcgAmALDBEYBJffm7G/mF+i064nsDu9d8p34aADjA3sDxQCjAmoNuxoUImYflBf2Ee0RmBUmGEEW0RKqE7QUzBAxCFL+Mfqp/E4CigWFAVr5GPK/79Lzbvqi/e396P7e/ar7k/dh8tX2W/vC9kX0DPL96UniYt782NDYOd6t28rWu9Dc1RDuTvcb8WvpAOZ899wIEQ5wD2cN4hIpGOsZzB7qGxYTChSuH8EixBYUCRkC7f9x/kcBFQJt+tPyzOzy7cL1offj9hv4R/3CBlwNaRC4D+gMQhCwG10mPyZCH4oaCBldGUcacBcAEQEQzhLYEmQOgALl97X1h/orAfT/QPqq9VLymvIq9Zr3yvho+U/5TfiR96Xzj+5y60rpsuqs6WblhOEZ2YnT89Ia1JLYc9j33rTxL/5pABH0kuot+DwLZxw7IfEZLBvKH3sjHiIhGlMX5RlcH4Uh9RlsDC3/0/Zo9Db47fnq9FrvyOlB5xPobeno6xPucvQF/iEFvwjMBdUCawfREGIaRR5VHRsbwhhjGUkZKRVvEpoTfhdDGxcYDA6aBEAAygH/BEsFeANiAUX/Hf0++wL6jvm3+cT6OfyI/KL60fbF8mTv2+zb6uroZ+dW5WriJt8e3DbaStrs3yHosfDc9/70+u577RvzFgDrB+gKhwx9DTQS5BPWEbQP4wyqDLcO+BDkEAYMNAULANv8kvvd/b4A6wB8/0r9bP42AosDJATQBb4JMA+vESERQg9bDgIQNRIEEwQRcgymB20FBAaVBv0EWAEx/vv8H/0t/XH74fnA+lH8Hv1X/Xb9BP4t/wgB5QMrB9kITwk2CvoKgQszC+cIeAZYBfUEkARgAu7+Q/y5+Yz3vPbj9Vj0YPK48L/xXvNy8vvw7e9r8OTxBfGw72Dvju9i8HvwV/GI8l7y9/Lw81D0KvTg87L0PfbA9wD59/kg+yf96P8fAnADdwRqBRkH5QmWDAYOwg0SDeENJBD9EdARVhBdD/IOfA61DbgMHAwoC1kKGQuyCwwLjAkWCL0IeAoNC6gKWQlbCKII/AgdCQYJPQghB0UGzgUNBRUDzwCl/+z+4f19/F/6EvhF9tj0SPQy9GHz8fH48KnxpfNg9Vr1/fNF9JP1jvX/9Hj0svT29eH2RfZk9NbyFvIv8hbzQvM58qDwwe/18Gny+fJ38x70BfaE+Hv66vsQ/SX/fwEaBDwHBAmrCcUJdArXDEcPyhDaEA0QUw/BDtIO4w7cDq8OgQ6YDugNQgwECgoJZwqYCykLIwlXBnUERwOnAvQCjgN+A+gB5//c/oz+ev5J/gb+F/40/qb99/wO/Xf9+v0d/6sA9wFaAi0CmwLgAz4FBAZiBqgGDAYUBCQCVAGeAXACdwKSAL/8x/g49vX0bfTm81LzRPIj8N/tKOxu68nrY+yS7WfvuPC88A7w7fAD9Hb3vvlO+0z9DP/g/4cAMgI6BYYHMAiuCGgJxQkGCXAI5AmdDFYO7A3tDI4MTAzHC8QLawxQDM0LTgvJCnwK/wmQCxgOZAzUBlsBYP6x/Uz+wwDjAwwD9/3z+Wn5EfsG/UP/TwEKALb7ZPgx+Gr5SvuD/pYBsQLMAAr+Of7tANkDiQXnBRcEr//U/d0AbgSuBOABC/+p/c39zv7m/6f/4fwp+en1GvRe9Jv1yvZ/97X2k/Og7+Tt6O7r8I7z7PWp9sj2p/dK+i3+zgB9ARkB7gCjAnYFygeTCRcK/Qi6Bx0HiAasBfIEegTXBGgFXATvAiYDlwQqBMAAJP8EAfUCsQM0BNQFuQYoBeEDQQTrBHUExwN6BJMF4QTOAhkCvAGmAZsC9wLfAgsC3AJVBqgFYgDu/7YDpQJf/5oBhwZ5B90FVwWPAoT7Avkr/ub/Gfx3+ej3p/RD8RPxEfBw6eziueII5fzmQOuZ7pruCvCk8izyn+8f73/ydPcq/HsCiAkyDWQOGBACE50VBRRHEJ8Q+hQOGXIZ9xY3FKMPpwhtA+QARf9V/sb9/P53AE//J/3B+VT2yfXz9uf5VP6WAd0CQwMiBJAE/AJxAHb/1ACKAr8DZgXkBj8IuAnOCQ4IqwRBAd7/+/+kAXwEkgbRBhYF5wE8/+r9bvt0+Vj6XvtJ/BD8i/m69Yjw9uzm6XXlsOP+47Xk0+QQ5AzkiuTW5zzurfSm92L3G/jZ+JL6qP6CBOYMpRNxFi4WNhWXFYcVihU0FtYWohWIEp8QTg7/CtUHxwQ4Ao/+Ufuy+ZL5mfsr/o4BCwSxA1AC6AEsBP0Gmgl7DUcRxROwE/4RQRBODmIMxgk2B7cFwgXmBxkKgwqQCMcE6//v+Vf0S/EM8iH18/c2+lb7rPou+IL0GvIh8Tnwj+997wHw7O/d7vPsX+m25JXg6t0v3Lza6Npp4DXrmvbP/msATf5S/fH8Cf1d/jUEyw4/Gc0gtSREJfAh7hyyGIQUYxD2C5gJaAqjCzILqAeNAoT8ZfXn7h/qAemv68HxG/rOAC0EKQWNBjwItgeiBoMHvgvQEbEWehlWGmEavRkbGCAVexFfDyMP9A/tDgIM4AmaB3oEwf8s+/P3WvTJ8sjzb/Xg9aH0V/Vi9kHzne5f677n/+Mi4aveFN3g2wncJt1r3JfezefK8lT6NP0d/aH9NAFoBgwJ/wjWC+oSChhQGsMbshnzFYoTxQ9TCH4Ai/3R/cz89/mV9WLxj/Au8RbvYux+6zjs/vBy+S8BIQZiC1gTVxmmGkcalRp4HPweWR++HbocdRsTGqca9xroGHYVdxH3DJMIDgWkAXD9cvlb9/D29vdq+Xj4cPar9GLxee5c7fHrX+k/5rjki+WP5ZPjSd+W2SPXPNkk4Zvue/rEAWYGjgtdFP8bDxthE9YMug16FQQbohlwFXgS+RKAE7IN5wCy8YXn9OTm4zDhdeAP47rnXO3X8TH1d/et+Jb74P9EBRQNoBU8HZwhqCOFKMUtZyvSIJgUfgyyCNEEEgA3/Mf5hft+/1r/3vrM9Unz7vMz9CzzufRU+cb/AwfSDJIRXROeD+gJxgTm/0/7DPZU8U/uA+y36qnnBeJS3VHc0eJG7Tj0EfcC+er/VgwHFT4U+A7dDNIR4xgfGQgVFxIzEUwTHhKCCIT7DvHg7ObrF+ch4fTf/eIF6NbsJvFs9kX6T/2wAogI4w4hFiYcGyDnId8k8SmSKgckrRs1Fl8T2w79Bdj8J/cI9pX4cfhk89vuEu+w88/2HfSL8ALxwfRI+pf+3gD9ApQENAYeB2wEg/7i97rxDexw5mrhSN092A/UX9P0143k1/IU+0f+owIkD0sdEh/JFbAO0BL2HcohkBqUE/ETghtVIr0bawqO+8X1O/WO7d/dc9R41kLe9eV66rvuiPX2/VQHfg2BDooQbRUEGnEdQCHbJ2MsjykZJY0jIiGZGFAJ9/oe88PuQOtj5u/gI+FH6O/ww/RA8wj0HfpB/yUAKv9+AFsGDw0TERAScRFBEmET4g8KB/r8JfXN7v7lD9sy05bO0spwxzrGqc6l4CrwWPfB+44HtBraJWggvhU+FXgf9yVKH0kWuhbBHpom8iIqEycFXABj/qLzMuDZ0rrSm9fP2TDaWd4s6PvyAv3ZBb4KcQ4bFMIZDR6oIeolMSmYKKQnDCp0KgUjYxfQDgQKfgLN9f/pmuMm41rneesy7IbtYvQw/qMDqgKfARAEYwhDDA8NPQxFDMMNwQ9IDwYKaAFk+m31Ke6m4jjWrc0uyE7Dvb74u7TC5tTG5v/wzPk1Cn8eeygpJP0dwyGXKX0oNh99GVMcGiOOJp4hmReHD2IL/AMR89zgA9au0LDMc8qYzirXOt7z5nn1ZAS9DRUTFxk4IRUnICeJJN4i5SP8JtcnuyP0HP8YORdUEBYDV/Z37qboYOK53EravNx74pvqDfSz/IYEtwuSEGESHxR4FSgTvw9aD0MQdg4PC5YHHgOO/gD5FPAy5frautD5xaO8D7fJtIa3lsUu2Vnnw/KiBIgcay3LLwIs3C7TNRo04ii1HucdBiHZID8eGxf2DXEK0ghr/trrj9sb0XzJTMT1w7fGYcoM1mvrK/+rCSAQuhy9LMI0qTJKLVQr1ysCKmYkDB6PGgUavRiKEX8GxP3c9mnuv+QH3TPYG9aD2Lff+uja8aH74QjsFqof5CH9IUIjSSOGH20YmQ8RCqwIdwTK+g3yZ+7l6SXgWNQJyZC/oLdcr4CoyqW+rtTEeNhp5mz5vBWKMkhAm0HrQxNKZkrSPRYv0yjmJdYdARcUFtERKgqDBMT/APaA5k3Z185/xXbA8r9jwRfGi9Xy7LX/iQvbGdwugT2UPcE4SjeKNm8vqSMuGuYTtQ4wCpsGAwLK/Gn4+fLU61jlVuBU23/Z09xc4gXqxvNaAFMQ8x2fJR4rvi9jMLgs2CW6HBATHQsjBUL8afGL6nbmZuHW2STRQMhev125GbUIsLGs5a5hvfjVG+pU+UcNOSnGRG1POUv0STBPjkxOPJUqvCCtGqEQqgj/BcX+hPaN9F7zGeve3HzSu81kyXTGUcY3x97Ndt/Q85EBIgw1HTozbj9fP489zD0ZPIczjSb3G10UwwyhBYEAuvs49t3xxPAg8ITrruUk4hjhJuJ35APoXe2S9mYD2A+zGL4evCRoKdEp7SV4H+8W/AxoBOD8nvIw5+Lg5N402wzVH9DDzXLLmMmyyOHFXcTZxo/Oc9+78Jf7hAd0HKU4o0jWRElBokkZTvE+eyi4HDcYhg38/zz67vVQ8NjvSvIY8NvmXt5Y27zZs9aC0iXPcNAE24Pq+PXh/g0NtCLNNI86Tjo/O+88IzjQKiodpBPBCkoAT/kR96jz7+5N74X0VPRV7WXoMeiR6NTlleNc5j3tOvczAtgLIhX7HrEnFyw3LOUp0SNVGnkRvgly/+vznuw86RXlfd+p3Ezc/dlc1XnPGMv4yITFQ8LPwADHLtpB62LzjgBMGgk1Aj4kOhg9g0awQ4wxiiJ9HXEYrQsmAv0DwQHi+D720foC+yjvEuOB4AHgSdrS0oHQDNX830fsE/UV/rwMwiBVL/cygzTIOCo7YjUKKjUhSBqSEAIHRwOWAMj4FvHM8L3zVO8V5ofiC+VS5ZXgxd0N4nnsbPdK/5sHKBM1H28mXih7KXgq4ScRIVkZYRFbB9f9w/ij9fPvQuld5QnkmeGF24rTbs14ynbI/MPpvQy93sHHyw/eq++y+p4HGB4eN4M/rzngOn9FjkamNscmEyHrHE4SkAhSBnUCPvtv+Mf5HvdP7DTiY9+o3rfZetEbzUvQDtm44g/r0vXqBSYatCsKNeQ5E0CVRiJFYzsGMmkqpR8IEn0IYgJ3+eTwDO8E8TbuceeC5PXli+YJ5MTgAOBK5P7st/RV+SsB9Q9iH6QodCw5LnEv3S8mLPghjxSjCSACivlc7vzja95Y3cHcz9m11ADQ38yoygfG2L71umC6eLvMvUPFw9mQ7wj8YQudJgJDvUwvSb1Nu1cLVJZA8zD6KvYh7hGjBjkGpAII+JHz7fcb+Ibr3N5m3F7b3NKtx5DEdcko0vTc7ecd9kgKSiLsNSNAZ0fCT29UxE57QTs1WCoNHcAN4wG4+WjwD+l06Ofq5efQ4DPfB+Ii4Ynan9W918zcsOGl6BT1jQQ/E1kiqDFUPn5Ez0S8QtM9eTM3I98ScQZA+2ruuuI53JTY4tWt07vRFtF30CrOw8kcxd7BgL5ZvKq+NcOdyDDQjN/r+WEPYRhEJPM76VBHUC9EZ0GDRRM+8ihgGWEUdA5PA5/8d/7P+z/zr/Ay9QH1u+h73Hbb3N3x2JHQItDf2O3kxO/O+ccGeRfdKew2/zuaP3dEOkZGPyMz1CiTHiAReQMk+670dur54W3hYuS94dbbqduL4IbioN7v26Teh+NF6Kft0vYNBbcUPSHOLMg5j0IoRFJCfD6pNQUnSRa/Bx771O144Y7ZVNfO1wLXMdaO2A3d3t5K23rWrtQ20nHMf8ehxuzJrc1p0c7Z4+gO/ygS1hq7JHw27EYpR1o7EzbgNgoxuSCsEtEOvwu0BTsC7gNIA878D/l9+kj5W+363fnYa9q81unNScsp1Jzhfu1O+H8F/RRTJdgyrDioOZc5Ezj/MUsn9xyHEsQG5v3D+nT4PvHc6nbsXfEs7wbnJuR656Do/OL+3ETfJeaD68nwMfoOBzQTox/cKxs0iDhCOog5GzWNK1IdBQ7iAbj3I+214mTcGt294NDiPuTy6FvwHfVC9TjzWPG37sbpf+NB3ijbK9hV1njZ7d1y4D7j1+tr/q0M7wwGDrUb/Cs3K20e5hsTJXIn+BtsE7sW7Bo0F2QSDBUWFQ8LWgGD/3P9XO933MrU5Nba1G7LW8dZz/rbNOXS6zX2twQzE2gd0iKQJwssuy7uLfsqMClhJv4gmxuEGYAXxg9gBnkBRv+o97DpUt9w3Hnau9PgzeHPq9X42T7e4OeX9awASAoDF7skny04MTk0kDgQOjU05iqVJEAg/RhuDu4FMwIpAGr8a/fK84PxBO5b6LniFd7w2CTTUM4UzGrL18m7yW3OjdXs20/gE+Z37kj3DwU2ErUVzBcfIjUwXzJyKEMkiyoPLZwifxdKFaYUXg4sBosD1QBc+P/wwe8K8EHoDNzT2HjdE94o2FvWLt1G5vLtYvWO/r0IBRXcIocrJC78L0ozbDNmLREmCh/HFUcLiAQgAYz6s/EZ7jLyXvXu8Kzr0Owf8eDvCeqC6Mjroe6L763y8PnNAcUJ8ROXINQqQS+8MpI3fTlHNJYqNCI2G3wSfgZY+7D1IfT+8s7wCvAL8l30pvRz8iHvC+up5N7cDtfe0j7NWMj5x1HM4tEq1OHXLeHK6jTwx/ToAccP4xDpDr0X4Sb5KccgTB8VKnMw3yeoHgYgESKGG7YQ0wqiBd35P+3f5irkZ9uxzmvKMs+N00TSvtKC29vol/Vu/hMGThAvHUooByyjLBcwTjTeMlos5CguJ7IgVhfREaQPkQjR/JT1y/R48bHm/tzd28TePd1V2E/Zu+HP6uLwjfctAhsOXhgSIcsqPDNlNc802TU8NpwwPyVhG84VSxBABlT6P/OS8QzwsuvE5x3nqedq5hrk0OJf4Yve0Nuu2zndh9zK2rDcCuL15iDpTumg6rTtX++b7UvqMO1I9378z/ph/pcMExo1Gx8ZiyAkK8Ar0CQhInIj9h+qFbANDgxoB3D8jfMm8070DO1U4ynisOY25vvfp90W48jpyuyS75b2WwHwCxwTrhieH/AmpyoPKaMnXCkVKGoghhg9FpYUrwx2AoT9tPy2+KnwT+tk603rCueR41PlzOhj6cjpJu9b9q77XQHGCSIVkx7VImsmHyyiL4UsIiWRHroZ/RJCCVkAnfrG9kvyNu4H7b3sSuvE6ZDpyulE6DDlF+Mv40LjcuEj3xXf8OEW5Mrj3uTS6CfsLOyt6qXrVu3q7XDzZPwLAbADrguMGRUjLCPcImUoJi36KL8fPBk4FdgO8gXT/wn8z/bS8QLwdPFX8fXsBeop7P7vePBX7XHr/+2q82D49/oN/g4FVg8iF2UblSD2J7osciz1K1EscSgSHxsWbRGbC+UAlPbV8UjwXOwS5x/l0eb26CHpfugu6gHuTPDw8GvyuvcdASUItgzTFKIfsydeK/4tGDABL+UpCiM8HIIUOwyEBKf+ePq29rr0YfQY9Mnz+/K18NjtZ+t952jh0Nvk2LLXl9Yz1s3XF9zX4UTnPOx98JfzVfUI9arx0+vQ5z7que9o8Dfvf/ZWB7AVDBmIG/0mxDLfMxgtOCj9JWEfPxXxDaAILAHN+Sz3xfju+Przw+4277jyBfJl693lrebq6SvqOunC7Hb1ev/DCGYSuR0pKYwxIjYGOdU6nDdsLvIkfh4hF9MKQ/4y9wn0l/Cu61zouei26vrqe+mR6IjpwutX7NPs5PA89lT6Lv9OB0cQWxbpGsYgcyaFKL0mHSMDIHIcVhWODMUFiAFR/T33hPJq8Z/wpe0Q6+PqQupy50rkg+JW4WLf5t1C3Wrd792r3Yrf0eNZ5+npx+s17mTww+9M7Q7pCOfa7C7zEvOK8mf7Yw3UGZMaphxjKHUzMDOBLC4p+ShrI1QZWhLYDK8FC/6m+bj6Cvus9hLyN/IM9ij2G/Bg6pbqu+3u7ZnsM++J9xIBzAiBEU4cPidRLhQxGTTCNokzHylAHt4X6BCOBJD2ue2r6i3oYeNz393gzuU56cjpz+o378LziPVA94X7eQBXAyEG3AuuEs0W1Bg6HPQgziNnIk8eSxtGGVcUNgtqAgb93/eA8AzpOOUR5G/hDt974Jvj1OTm5Ffmq+hB6l/ql+mS6Zfq0uqP6eToV+q97MLtJO397NztrO5B7ZPqEe2b81P3rPeU+m4FiBDGEncSkxiBImgmvCL0HysiOSMnHqoXaBTWEs0OYgg5BVkF+QNh/076vvk9+534SvMt8eDzf/YK9vv1WvorAbwF8gcpC8MQ2xSoFG4TYROxEpYONQgPBK0Bpv3n9+jz2PPA9Ez0yPOO9df51f3D/70AwQJ9BSMHGwfNBtoHFglUCXUJbQq8CxgMOAyIDFQMgAuECVkHnwUQAwb/fPo394L0PvGa7j3tZuwc7Mbs6u0879Hv+/D48yT1c/Vl9/v3bPdh9vj0xPRw883wAvCs8DDxmPHH8ffx2vG98Hzw5PC774bteO2Q8c71Sfd++Yn/6gbtCp0LDg3AEI4TRRM6EQYQ0hCAEJgN4QpICkkL8gojCYgIOwmYCXAIFgesBhsG1QQUBMgEUAVqBH4DaQStBhkIRQhYCPYIYQmrCG4HVAYNBVoDDwKGAUAARv4E/Xv8CPyR+137a/vn+7H8Cv7f/6kAZAFLA3UFCAdxB68HbggCCdYI5gc3B9cGLAYIBa8DUgJ4AJj+D/1c+4X50/eO9zL4RPdp9hj3Avdp9sr2W/d+91X3Q/cq9/72VPfa9ij2SPY39Z30z/T48yD0BfUX9q33mPjI+Vj7aPzQ/Y3/zwA3ATEBqgFLAoYBiP9w/Ur72PkS+dL3avaW9cD12Pb494v4c/mB+8r9dP8nASoDzgSABgQJwQvCDRQPtRD/EtYUfxWmFcwVghV5FAETghHMD74MBAkeBxgGCwNl/z/+wf5j/kL9QP2d/vz/YgB0AIEB7gIdA1UCMAJdArMB2gB2AIwArACAACQB3gJcBBQFSwVhBQgGhQYvBeICfAG2ABz/o/xy+i75cviy9wn3wvYo91b3CffZ9hf3/Pc3+JX40/mg+nf7zfwk/nL/hgHxA8QFpgZgB2kIKgiaB6gH5gasBDcC7AAiACn/1v22/JH8/vuP+h76Hvrp+YH5yfgm+Tr5UfhO+I343fjz+dT6lfuJ/FP9xf4RAFQAswAIAdIAXQCU/xD/xf4o/vD9gv7G/8sAdAH4ApcEaAXuBToGZgZaBukE7QIlArMBCAFVAAsALAEoAksC3QNGBs4HHQlzCokLewxVDOIL6QvrCqQJAAmPCAMIpQfaBrwFbAV3BKIDEwNsASIAWf9M/nz7nPhS+Ob3cPcj9+32Vvnz+Ur5Qvsi/Gn9hP8HANkAhwHTAe4CMQScBMQEfQV4Bi0HWQbnBD0FdAUlBK4CpgAS/6b+hf0D/HX7a/up+pf6Xvt4+3P8EP3O/aX/WQBBAQEB7wDrAigCjQCzACUAav9H/qj8n/yp/OD7IPvY+b35dPqs+S/5jvkw+RT5jfm5+QP6dvp8+vf5BfmR+MH42vdz9rj1W/VS9Wn18fWQ9s73U/q5/MH+CAEeA14FPAgBCskKcgsgDMUMGwz3C2IMCwvqCiQMVwu0CuwKFwoaCt4K5QnsB3IGOgUfBLUBjv7i/MP7ofou+I312vWJ9vL1l/Yd+Jb54vvV/LH99/8VAe8BfQKoAm4DtQOjAgACyQL3AiYCNAGEAAUA6f8A/wL+Pv6c/U39o/19/fP9yv7c/h7/bQBkADIAuQEDAq0BCQJrAcQBSgKWAdwBiwH5AFoByQGsApQDMgPNAukC/AA6AD8Al/0d/BX7Afq/+gD6PfiS+On5nvqe+hj66flE+vL5+/iA9xP2JPY99uT1R/ah9l/3o/i/+Sf7mvyL/ff9c/7w/jT/Hv8T/0sA0QHKAtEDMAVpBoMHoAiJCMYH/QYfBvcEtgKtAAIA8/4a/WX93P6A/9kA0gELA9EEagQ8BKMEPwQZBMQCiQHGASABCQDOALwB6gHYAtADKQW+BeEEbASCA44C2gG0ACYANP/U/TL+Fv+Z/98ASQK/A3sFKwYiBmkG3gWiBJgD7wGd/8X9a/1P/uH93fww/i4AgQGeAdgAFgHDAbwBSAHYAUECUAGZAQkD9wNpBaMGMQc4CN8HtAcCCMoFoAOnAVf/bP1/+tn48/d29gj26PW79tH3ZfhW+UT65Pt//dH9kv1//oj/m/6Z/bP9iP3y/K/8k/zc/Mj8Pvso+n/61fm09372b/Z09jv2yPXH9QP3Hvm0+r/78v11ABsCmwPyAywEYwWYBfoEHQWUBWcF5QTHBHMFyQUDBrsGQgdeB4IFrQPyA6EDMgJAAKj+ZP/v//b+J/9YAI8CGAQxBKUFQgfRB3cHBQaYBMwD8wKZAXcAy/9+/2P/xv5G/rT+Pv72/Jz9R/6x/ff93f1j/QH+5v7Z/0MBOQOdBJ8ETAQrBQMGdAWTBXEFLQQYBN8DMAIwAaQBvgGFAKf/UACNANT/DwD5AJoA5f/fAMIAzf4V/kH+v/2W/HD7l/pU+t35ivn5+Qz5APjn97T37vcn9z724fa29lb2+vYI95L3Xvle+jT6iPpG+yf7g/pW+mv6ovo7+xf8sv0U/+//ngFmA+AD1APxBEsF3QSYBYwF1QS1BCwELwNsA/sDDgQHBWQFyAWIBrcFKgaOB10HRAf8BhkGQgUjBNwCnAHRAIz/h/5H/tL8qPwm/T787f3h/0z+Gf5S/z/+CP9tAHX/TgA5AboBxQJ7AaABHwSdBD0EewR2BEYEDARDAxACnwE9ArsCyAKOAskBMAJSA3wD8AOLA5AC6wKTAo8BXQHjAHUAPwHdAMf/LgCq/8z/xP+c/SP+4v4z/jj9j/r8+bn6cPrH+KL3b/qu+mL3B/ZR9HDy4/Kw9Nj1ZPVy9RP3H/jB+Oj5ZPqr+kn7s/sS/CP86/wQ/48A/AAQAUsBqAJ6A54C3AIlBIYETgSZA2cDaQPqAisDDAMXAwME7wMxBGkEkQMZBD0FrgUEBqMFPAWxBHgDsANIBOYCDgLvAtICcAFMAHwAwAEEAbD/PACAAIcBnAJDAk8D1wNLA/8D+QORBP0FCgWSBDAFCQXoBLoDDwNfA04DTQMgAtMBggLCATUByAF4ApwA6v4rAaIBTf5K/IP8FfxT+r75yPoj+hv5b/pL+j/56/kh+vP52PmN+dX3W/UU9g344PbF9Fr0ufNE8onwRu+F7Zrq7Ov08OzzdvQ99t/9vgbWCdQJlQoODdwPYA/PC7cIuwfcCMsIuwY/By4IgwdzCCoKrAomCL0EfwS8BJYCB/65+Rn5YPqs+mv6OfuJ/Y8ACgNmBeYHvgiMCHEI7QhyCfsGqgK9ANYBcAIhANT9s/61AaoDjwMhA+4DgAXLBT0FLAVJBdsE6gNvBNYFpAVEBO8DYAUiBsQEdQL/AOwAlgD8/sL8/vug/DH8dftX+yP76frO+uj6h/pn+f730/aw9uX2cfXe8tbxtfHu8H3v9+1D7W7scutO6lnoXOYp5TDj2eB85lnyxPkX/QMEZhRpJEMpKSmqKrUuCTArKZMdHBQsD54KQQO0/BD7m/oM+SP6IP3Y/b35JPaw+Ar7Cvio8h3xHvbv+wX/lwI+Cc0RAxkrHS0g1iFKHwcaSBSKDtgG0vqM71fqB+lI5nfhl+DP5fbrdO+78Q/1//kU/3cC2wSsBzALnw6XEaAV6RisGOwXjxhWGHgULA2xBkUCuf0g+IDyUu9R767w7vFS88r1Zfjp+Xb7TP0g/f762PlV+mv6lfib9nX2uvaQ9pH1//K171nsO+m35SLhM92Y2G3UYdPR0TPXG+hW98j/ugm4H7A420HeP+E+S0GoQJQ0+yA/ENgFCf9P9oLr8edk6vDqle099BT5APcV88j32f6G/er3iPft/wYK8g7SE1IdiSdYL7gylDK0MJgo7RszEHkFtfga56rYpNQ01QfUxNER1dTgRu279Nj53v/LB+4Ndg/9D78RhhNPFDcVIReiF1MVbxKkEC8O8QdK/of2kfK67kjq3+aG5rTqXfD69B36JwBPBbUIqArRC48K1AUvAWv+ZPwI+bzzlfAU8ODuBOyu54Dj1t/626HXxNKJz0HN7cyIzPPMDt6v+W8K7BDRH80/xVZcVJlJ8ETXQ/s4+SDNBp300Oqa5JvdE9gV26Ph+ucb8ij9tQE3/eT8hQchDm4IOQFRBxEXViAkImoofTTqO0Q7tjZIMQwnUBTQALXyoedO2aLIw8KwyhzU1tdp3ODqrv5fCkkN7RBOFjkZgBZCEYkPNw2uCtIMEBCVEdsPYA1yDRUNrAj6/XPzrvCv79/pnOQJ5n/s6/NO+Tb/QAdwDTERGBMuE8kPYgiAAv/+svlK8srri+k66hnoJeOW4O/fpN7g28PW+tIM0qLSXdNI02rVltSa2vL3pxQxG5UbgDBVUyBeyUxFOrg0ezFIH5EB2+fi2gDYl9d51PrU+t135+/yPwLzDPkLdwX5CkIYQxm1DJEGVRPfI60n+iQLKq0y/zMMLvQjFBl2CUr2zejC4LnYwszAxujQhuG568vvjfnLCxYaTRzLGGcXFBe1FFoOIAeTAoD/Y/6+/8wC5AQNBBcEQAeiCLcDh/ye+Yn5avcE9NryJ/Ue+lT/wAO2CGINIxAnEuYTrhJeDYMGkwF9/oz4pu896Xjn4ebb43bf1txJ3SHdv9rq2bbaqNrT2V/bBN+d39berd7c2/zicPyDESQTDRRsLLNL/E4bPRAw6C1JKOUTVPkv41HX89Z+2YzXKdjT4hXywwBADFcSGRLAD5sUkRvCFxsLOwYxEXQcnxy4G/oiNCuwKzMmCR8gFoQH4/bH6pziSttf0kvPG9gG5ozw1vUE/8AOxRnLGeAUShO8EhENSQQB/5D93/vH+pb82gCUA7MDvwZjDTgQEAsqBccEiAX4Ab76Zfai+Cv9ef7a/e4AIge1C6gNsw5FDxMOMQvDCIEGgwCK97Hx6e/E7JPl5N7H3THgd9+O3LzdOeKY5TPlteY460jrQekJ5WPiJ+AX2ATh0PvBC9wM4hWfNeFO6kt0Pd40+DEtJZkLmu/72kTSPNLM0WLOT9bL5zT31gORDvwWthbJFGEZTxtcE9AG+wZuEy0aAxlUHDMnui3gKz8kpRlRDXn86eok3HfRsskwxBrHhNNb42zv0/kRCmMbaSLPH/0d3B3yGYcRJwj0AqUBKQFEARcD0AXCBkkHMAnrCx0LQANE/Wf+W/5S+PDyDvST+En91ADEA14JCxAXEzwU6BXBFC8QnAt6CCwEG/wE8yTtoOp85/bgadvr24Tf6+D64K3jlehm7KXvTvLJ8y/1JPN772nsVecN3pDUxuIeArAOZwsUGOY+51iaT/Y8kDRtMGYeZAAy4n/L5MK7xO3IasqE09XnYf6xErMexiLFIEUfZSOUIWYTswPZA2gQ9RXJEiMVziAbKJQkYxpoDp0AS+7M3A/PWcWMv8y+t8f02AXtqf2VDKAeiy8GNxsz4ysVJa4cthCgAgj4uPKF8sHz6/Ob9WT5DP67AfQE7wX+AV7+pv/RAXP/LvyX/WkCSAiHDJcO9xDpE48V3hTaEaQLmgRSALP8VfbO7ZTnMOZu5v7jjd9a3inikuZc6VfsC/Dd9S/8fv5w/gT9ZPv/+ov3pPDt5yvi59yO1ublFQNSDaAL6Rz2QulTJ0OHMZguKirxEgX15d12zmDK09Bx13nY8uLF+o8QgRvcHKMd/R1GHNcZVxELBAz8GgLMDGANvwpGEvkfQSPqGjsR9gc1/G/tPN/S0prKqcpV0Vnbz+dS99gH0hbdI/krPyusJIweUhjJDTb/3PIL7nDuy+6x7VrvhfV4/D4BmQPjBuoJ1giBB+II+QeRAmQAdAPmBIUDBwJeAmIFmwciBhEEdQOFAqYAbf5g+6b3B/TG8Pnu1+2H60LpSOr47RHw9PHR9Yv53vxC/of8Xft4+VX0GPAj7QXr6eap3w7cLde629b2Eg06DtwP2CzpT8JOZDgCLZEt2CMZCa3uMtsB0STTMdxB3WLaT+fz/mIQeRHGDewRjxVzFdAQYgmPAycElQ0aFM0SXRPrHM0k9B9fFUELCAFi8zPlwthnzbzJ4s1V1krgUeyk/b0OChwmJdEoXiciIoUbehL/BuX7YvT28TfykPM49Yv4i/8ACU0OugtHCVQKXwmTA7r8B/m49yX4UPlV+5D+8gFeBk4L1g0NDYoLMgqGB64DTP96+tL1JPQP9efzxvBn7z7yt/Wz9I7yRfOh9VL2DvX89Mv0AfT+8/rzBPWP9O3x4O2r6N3h49rq6PkDhAnnA7wUbzymTq0+SjFXNEI1gyAMBDHvfN6c1h7Yhtmk0xHWg+vLAoENJA2AEc0bxyAsH0wX3w2mCH4Ljg9TCmwE9An2FXkXgw4NCJIEp/268F7kadrJ0jbSB9fr3UTlTfJjBZAVoyCFJ40rkCuiJy4h8xU1CBX8zvQi8UPtnuqQ60HxZfqHAnsFeQZnCogNKQzJBloA//sJ+pf5dPj39uz3ePyaAxMJDwoRCn0M9g6RDSYIcQJ2/n77aPgU9IfvC+xG6wbtc+3T60Tr5u0L8pH00fNm8oH0QPfD9ob10/TF8z7xA+516WPfAOP2/v8P/wcOCRsrV0rMQB8r9ihcLk8hiQVy8FHgLNWV1gPeC9yN15TmJAFUEaQQug4QF8AduByNFLUJHQPPAz8JYQd8ADkDtBAaGLoQ+Qg+B6ADlfif6zTistqi2Evcz+L36cTzJQT8FK8gDSa4JyMoZyXvHekQuAJv+Bvyc+2w6eLotetq8dr5NQODCIQJvQs/DzYPWgkzAVn8OfsW+sD2gfTR9tb74ACABDUGrAfmCn4N2gtbB5EDYgE2/jX5lPTK8HHtm+v+6iDpgef36F3sze+l8YvznPb6+YT8c/vu+pb71vne9Jjts+Vm3ITmVAIwCVX+CwhZMR1KFTghJf4pizEeH30A7+xL3yHYMNoF3ozYidc57OwFpBBbC7cLKxg3HroYPgyPAvT/eALWBXgB4/1CBxwX8RsrFO4P8hCKDPL+aPAf5b3b9diO24vereFf64n+XxDFGewe3iQmKtgoLh/oEdoG+/7M9sztqOjz6J3rwe8U+NECaggxCnQP5hT7EhcLpQMr/2z84/fh8ITtq/D29qb84/94A5cK1xENFLsRrA55Cz8GbP/691zwq+nl5fflfuYZ5snnZ+x38nf37vgi+Gz5lPvR+cz0WPAw8CDvcelx4njacOVJBMYQ0wYlDFszj0/JPQolZibwLUYbrPqA51fce9TE1qDf896L3Qrw8woLGHwRQwxuFG8bbhdlCJL64/hSAYgImASgAL8MBCLeKEkfsxcJFy0T6gSP88rjItfg0+jXfdub3DDmR/x0EYEc7yGYKD0tWixbJRcY1AiJ/F/1dO/C6H7kYeWW7JX2Wf+PBjQNaBPXGFQakhNTCnYFRwGz+QvxROzC7CPwqfTB+QQAygcjDy8UEBYuFVsSHw1PBhP/q/Z37dbm1uSz5I7k1OWu6HHuiPV2+L/3yfef+Yn3HfIs7kzqsOXd4ObcZtfk4dYBnxH1C/4UQjw4VvhCyStOLSgwixiD93jlS9iIzyLTFNy326fckfL6DGEWKhAgDkgVYxYaEOUEEPn99HH8VwfOBpMDdRC1JzgwBCZ9HmYeZhjeBkDzSuJj05HMO8520ULSRtoq8IcHPBRrGWoiSi0IL4sm8BrtEMkGmfxW9FDuqupX6m3udfY3APIFawgUDm0U+BPTC7IDZv+l+2j1Ge7P6hntZPK19w/9MQRwDbkVfBm4GawYBhaPD4QGhP0Z9PXqjuPZ3gLe3t9x4n/llOqT8Z71yfYH+PL3+/UR8frrKeo45Urf1t2t2tHjdgA2E/YQZBYJOe5TA0T2KU0oTi2CFwf0UeD/1rzOQM8l2MPZrdyz8YEMORjkElkSRRoVG8gTRgix/fL4tv30BsoH6ARsD9oljS9nJnYeCR9dGzwK6fQI40PVqs3EynHKVssj1D/oi/1KDE0W8iHiLN0wzyyKIyEaoxBLBhz87fLU7OzqFe088pX3KvunANYI2gwBCwsI9QX2Auv+lPru9dvzLvYC+hD9TAAGBvgNMhQ5Fl8VAxTzEUsN5wRF+oLxZ+vM5c3fDNw93kTjM+cI7IHx3fXA+dT73/u++PfyB/BC7kro1+Bz3KXXFN8K/MsNoAYWC50y5VEIQJwkTigCM50dGvnt58nepNRj1MDbdttR2xzwcgt2FVsQEhGRGs4bhhR/CQj+pPjV/E0FTQQGAOQLAiR3LjklTx/hI2AiYhHf+8bqm9wF0wTOm8qGyAvQ0+Nl9+YDAQ94HVYq7S87LS0lVR2yFdQLnwCB9mDwEO5q79T0Evmc+8QBkwrTDvkLpQhPB4wEov84+qX1M/PS9N74UPwR/5QDyQp8EewUZhSGEogRkw4jB5r84fM379PqL+S73sfe6OK55xzrAe0H8Nr08/j6+IX0E/Am70bwbOsC4gDfLNy64Yv6ywo9BrgJcS37TTBBVicuKrc3kyarAkXu7eNR2i3X59l41U3U4+mjBBwORQqZD+AdJyHbGmUR+wdKAroD/Qi8BWb/XAcBHUsomyC5GrAflSLRFh4DJ/KV5Zvd1taQz9TK69BE4ePvhPq0BokVvCGkKJIpvCQUH08ZTBEhB3T9W/c29Ar0C/au+BH9xQINCA4LUAtLChIIRgTf/2P7v/YO9Mz04vZk+V394ALoCIMOexITEzQSFRLlDyAJawDX+bb06+6k6HfjWuHr4r3lWuY552/q1e0H8LjvN+8o7mDr8+r26G3lWOJq3croXARzEPwJfBISOPhOdDzIJ30tEDPsG5r8tOoK3obUstTr1gzR/tSQ7EkD9AojCz4T6xxlHjgcMxXKCccC8AYEDRMIUABuCPAdEyYbHB0WxRuKHSUPC/zn7S3jYdtX1dPQP87e0/fi5PGz/D4H0hOcHs4k2iRKIAIbRxSSDZkGmf2w9pb1hvi0+sj70v5eBKEJxQqZCLQG2ARCAdf8RPl89tf00PX7+K/92AEbBEoIzA4nErMPEA1zDiUOuwdE/3n6uPfO8oTsFudK5JDj2eJy4rTig+NQ5Ufodev367Prmu2r75/umutR7PDnL+Ro+PcQBA+4BJ8bvEJSQh0m9h9nLt8n+Qq09n7q696k20jgetx91ffiZ/prBm4HzgvBFC4X5hhIGn8RnANmAuAPYRNuBrUBkhMzJpIhZxT0E54Z2xOUAoHy6ubM3hfaaNYl09DUwd5h7Gv4xQKKDBUUiRqkIFIgixnzEgYQPg1eBrn/6vzR/K3+UACB/60AHwbZB7UE2QNSBOAAHP1K/bH80vjX9nv6aP8MAWcBOAShCRIOrw6CDCkNtxBAD+8HPwLo/9X6zPLx6zvmQuEo3ordPN0/3RLfouJp6L7tVfDG8TH0/PZj9/jzAPAi6azihvLbCjsKJP9ZEHs4IELJKYUfvStCLUsXBgF48WDliON05/HjWtwU5Ur4GwTACWoNXw9+DpMTCBvzEJL++PytDIQTQQcuAf0QySRjJHAZ3xesGUoU/Aax+DLrtt8B28/YDtcC2NHdrOi49cEDEw1SDxMUhB3FIIoZwBCZDVUNPAtZBlIBFQCUA6QG8wViBXoF4wQfBQUFeAFT+wL5GvsB+274a/jV+4b+GgALA6EFigYMCKIKHwz9DBANWgvICE8GtgMA/tr0Qe176YTlkt9Z2pvYANtP3jDh7ORf6lnxnfVI9+f5TPsc+3v4FfVo7XfjrfBhCJMIrfwECcctXTrNKBEfAybjJyUZ6gjH+K7r4utE8KbtNehO70H6T//sB34OMQr7/4cDBBCTCCv2XPNWAywOVQmICXkW6iRaJ78jlCO9Hs4TywbA+83wf+M22dzU59e43fLh6eZB8bkACwoBC8AMQRExE+UQGA4EC40IVgk9DNsNeAwcDFsOYBCID9cKOAWNAED+C/yC9nfx1O+B8pz2i/cS9kr2Y/z0Ag4DsQAyA9wJMg1bDSkOaA6XDf4MSQtUBCD6PvIZ7IzlOd7215zVIdd42gbfkOXM7B3zwfee+7z/OQAB/An4QfSq7+bmZN1Z6J7+qQSPAEcM2yv+OmwvyyWgKCUp4hraCUz9efTk8JHv5PDg9O75X/l6+poHOw05/wjvWfEH/ET15+fJ6Xj3NwN4Co4WSiRFLMMvMDIPMvsnBhfzBkv7zPFh5VXZ+NNz2DDgyuPa513v5fc7/pEBHwPnAbkASwPKB7EJTgrBDtsVtRy2IOAg/B7CHHYZAhI0CIH/DvhE8ajsaetJ6ijol+hY7YzybvSy9dj5ewBsBjMKbw1+Ef8W7xo2GoYVLRDOC6YEzvnm7RjkZ97F2tnWdNR513rdH+IE5yvu8vPm9dn3Yvqh+hb3sfJv8q/wv+vW5jziYex4AFcIDgbcC6IimDDrKMogACFrIUIYEw6sCKcDpQAA/0kB1QOnApj+Ivoi+7T4v+4r5THhYOND46Lk8O0y+fUDww+OHkgrRzCCL7UtXyuoIyEYkQuDAPf4jvPy8Jvufuxg7PXupfO881jvpuys7aruz+yL7Bjw8fWm/bEHFhJMGZ0f3iaEKwEreSZvIAYZWxE1CkIBUvd07y7s1utP6u7nqueB66vwh/Ss91n6Wv4YBeYLsg1MDIYNNBCPD+IJGgT8AFn9SPjc8srvgu7a7MLsmu0g7rHule/H8IDwKe/v7QrtFu2y697o7ObP54zqYOmf5uXkBOsP/NwHvAsRDzUbyCzwMWkuDymmJq4mMCK2GhERMAtyB8sCsAIcAp/7tvHi7rPy4O5d5frg1uRp6YXqHvCN+X4ByQfIDrQYliBQIWUd0xvcHV0dERd8D44NOw9ADssKEgi5BfsATfte9znz9ev/48zgr+Ku5RzoGOzR89f9LQYhDDsR+hTDFjEW0BTgEgEPVAuICTYJSgg6B/oHpwi8B+AFsgQtA87/Gfxl+dn3JvYr9Ezzj/Pk9Jn27Pct+ZD5Lvq/+2n8PfwJ+5X6j/wA/rb9Of0w/t7/TgB1AM8ANABQ/i386vq3+NDzjO8a79zv/O5f7RTux/D/8Z3yvvIK9Bb5xf2D/+D9+f6+BA0GiwORADYAnQGt/8v/5QJUBhkJoAshElsY/BlaGJ4WqBZbFOoNbQbOAdH/KP2l+an3pvgm+iX6efqs/aEBdQJNAggEqQfWCQoIrgX+BM4FKwXSAWX/8v7x/ywAhf8FAW0DPwT/Ap4B7gDk/nP7iPef9GHztfK68l30Ovjn/C4B3gUFC64Oyg8zELgPPA1RCRsF3gGq/jz8PfvP+qj8Of9ZAIIB2QIEBFQE1gLFAGn/7v1v/JH8V/5GAF4BLgMbBwIKmQmHCCEImwZrAwYAFf0e+pX44vj0+Jb4ePnr+3z9f/1v/m//4fy7+P723fUC8vfs9eoK6/HpnOg86WbrPu138Dn2zfs4/28ALwLNBJsFyANbAKn+Sv7l+wz45vUk92r4s/dC+Ff8ZAHuA64FYwngDRAQNRBYEYcS8xFbEIUPpw/uDu8N/A1qDzoQ+Q7IDdwMLAy2Cj4HUAOS/zD89fiY9mD1I/TS8/n1CfqA/a//mAL2BoYKbgvnCikKhggmBdEAw/1N/HP6uvd59iP4Lfq8+lP7Mv3o/q7+wP3w/Kb7V/rF+Sn6pvo4++X8Uf8aAsEE2gXNBW4GsgcgBzwEnwKxAzUEzwIpAtYDWQWaBBIECwXwBKcCPwC3/vL74vcT9bvzxPF77y7vP/D/8A/yr/QM+NH6b/21/zMBxgKHAxUCjv95/UL7afdK8xHxt+/+7SLt++0H7w7vLPC/87b2HPj1+dD8CQAdAkkDpAR0BUQGygeYCI4IMgkSCx0Nww03DXEMkgvQCqIJKAdlBHwCVAHM//L9Lv5+ANACXgRwBucJ4AzFDacN/Q3HDW0MiwoyCBQGIwRoAs4AOP/V/in/Gf+k/pf+i/9XABIAD/8h/rr9Yf1s/I77wPtH/Jn8C/1N/q3/ZQDdAVgDAQP3ATACMAOPAhsBjAHpAmgDkwPTBE8GawbVBgYIiwfFBEAChwEDABn8SvgT9zz3Mffz99r55/tB/pYBoQSJBRgFfgUJBlwE3wB+/dn6D/j69N/y3PEv8YvwmfA98kr0NfWd9cb21/hT+mv6MvqU+kv7c/tZ+6r7Fvxt/Pf81P1A/jX+af7d/ir/lP5X/Zn8Kf0N/iL+Gf40/yUCLAUKB8QIZQtPDj8PnA4/Do4OTg60DPMKeQktCBkHSgY9BfgDQwSfBQYGhgW2BSAHpgfiBt8GNAdMBoIEAgOpAREAi/6f/eP8wPuP+2n8ff2N/v/+yf9fAR8DNgQABLoDOwToBMEEfANkApQCegOdA7cC5AHXAXoB7P9S/vH8Ffvr+Kb3Mfhi+fv5BPsp/ogCiwXxBtAIDgsqCwYJsQaKBCoBFf1H+if4iPWF80XzaPSc9Xz2Ovej92X45fmx+hv58vaM9yr6T/vs+Xn57Ptl/nP+6fw9/KD8H/zJ+bj22fQh9DvzEfLm8SbzJPXI96H6df0+ALsCYgWoB/4IhgnlCd8KJgv/CTAIAwdjBq0EfQICAQEBwQEJAhgDwQRyBi4IgQm3CtsK8QkaCQ0ISAbPA5UBWgCz/yb/Q/+X/5T/TQCCAYUC9gK9ArsC9AIMA4kC2gENAnACjQKwAkEDBQTjA1oDPAPuAj4B3f6L/a38Uvur+fT4ofnJ+qz8CP9hAQ4EyAbcCOMJcAqNCpMJtQeLBcYD5AFc/3n91fy8/GP8FPxi/Nb84fxT/M/7bfvF+kz65fpC/G/8I/x3/Z//dABh/8b+Fv8R/gP8Q/rH+Pf2W/WA9G7zU/J08mDzg/Nd89b0Ifc9+Hr4Kvl++hT7tvqs+rz6iPo7+lH6t/qa+rn6X/v0+1H8IP3Z/noAPQK1BBEHkAhUCSEKiQrXCY4IhgdsBkIEdgJcAuQC0AKBAtMD3wXfBjkHgAfSB3QH1QaBBg8GqQVIBVcF5QUBBjcG1wceCRAIDQbSA6IBvf9V/Uv7S/q2+Xv5ufnJ+pT8Kf5s/1wBbQNNBHsEtQTaBFAEewPtAhoCgwG5AQcC9gFQApsDXgTiA/QCEwJ8AegASQDs//H/ggDPAZQDwgQPBT4FyAUgBlcFkAOWAfX/df7g/HD7F/pO+WT5r/mb+W35GvpD+8/75vvV+7P7bvvh+gb6hPik9qP1M/UI9EryaPAC8K/xHvO084rzAfQ59qj3B/iO+JL5YPus/Jz9Tv/2AKMBXQGtAK0AaQFoAUkBXwJXBEYGpgclCWQKiQoaCpQJdgmECRUJXwgMCLoITgneCD4IwAetB4MHfQYYBRcEsgPvAp4BvAC9AAoB7AAbARACVQMqBH4ENAXXBbAFqASoA+4CVAEnAEIA0gCvAO3/KwAjAcABWQG5AG0AFADR/27/Uf8vAGwB4gLcBN8FhglKDgIOEQ6+DUgKnAdJBcQDSwINAS4BpADF/7D+Bf5U/mL+SgBcAy8DqQD0/hr+h/yB+i35Bfjv9jD2aPQ58nzxc/Ak74LvoPDJ8BDwce9B7xzwrPDA75fvHvBH7q7t/POP+zb+Qfwn+k/8n/1X+0z5Uvob/k8AkgI+CB4NFQ2SCvUJWgvSDMcLFApUC1EMNAt8CRcJtAhNBHP/TP4QAP0BHAHf//kAygLwAqwBtQAeAOb/SAFuBAAHlAgiCUkIiAg2CHgFjAP6Au4BbgCPAH0COAKy/5P+0P5X/y3/if50/yEBYwI0BMUGJwjRB1gIeAo5DJgM+QsEC0IKXwm8B+8FNAToATwAhgBbAWYB8gChAGIAev90/gT+1f3X/Yb95vwn/WH9cfsm+Gb1+fO189Tyo/Fc8DLuHu1c7R7tQ+sI6droCera6nrqTurS6sjpTOjg5cbjhOsV+o8EfAccBWMHUwsuCh4JFwpoDs4SKhYyHOofKhvIEEEJXwYhBYsBwPxt/JD8XPpr9+T0V/JH7GPon+tk8oD5XP6LAh4Hbwo+DLUM4wxBDSUPthMTGWUbuBiTEwMP+QqUBVL/2/lK98b2gfTB87b0nvDe62js9e4q8873LPyVAhcI5QyrEawTFhRZFFIVYxc6GVQZ8RayEhgORwrGBgIDzf4E+535fvqw+0363/a29KHzpfMK9aj2d/iS+VH6hPy0/V37evex9JX0QfW39G30fPS18w3xz+2a7K/qU+ag4xbk7OYs6LrldOLt307pSv+ZEBAVpA8FEKEXrRkxGZ4ZqBtZHeodMSK2I6MZggiC+4v31/en9B3vc+2A7NzoNOYA59Hnk+R54yrsY/oTBhwNfRJGGBYdcR9XIKIgeR6SG2wbXhz8GRUR0AU6/an2ZvFk7EnoDuXc4RXiXuVp5w/nSOc87Jr1cf8OCGYQkBfJHCMhxyRhJ14mOiL6HzQfxhxVFy4PvgZD/wj5YPS/8DTt7unL6NzqVO7c78LvXfHu9H35R/4aA50HYwhhB3cIywjOBvIB3vtW+Ff1GfIi773qW+YS4aLb4Nq23H/dYN3x3U7hW+Pt4FbqjggKJtAv7ScjJPUrRSwgJmAkuSf8KfwjcCD3IHIULfu05krh9OTx5EfhtOIq5lfkNeBw4iLqZO2d7p35tQ2IHoAlcyfnKFwpAih0Jf0ilx4hGKwSgg2JBf73pug73V7Xqda0123ZIdup3Kbghuay7Grx5fUW/4wMqRlkIzkpwCtRK/0oiCaQI/4d5xZzEEcLKgZv/oT1dO3Q5knkzeWH6Abqaupn7b7z8/qBAJEDYQbvCJgLNA9NEZURJw+DCssHrAWkAAD4Mu075J/eSNpB14zWqtU+1DTUNtYN2w/eQt+h473qhPNO+v4JDSyKSblLHTi6KogsFyoqIbgdZyE+IawWjAyHBbb0nttIzZHSLeBV57roAe258YrxVvEI+cwFtQ1zE6UgCjHRN00ytSliJMggVhx2FxUSpwkJ/9D1be7B5LjXy85RzsPSedi43uflLevK7Vbza/17B1IOoxPIGgkiFSUMJAchMhwoF+wT/REuDiMGcf0T9wPzHfBf7Jnpf+ks6+3tZPHf9Ej3ufl6/s4Gxg+yE+gRYA4UDG4J1gUhBM8DuQHE/IH3W/J+6qLgwdhw1h7ZO92Z4GXizOIZ4lXhRuKB5OXog+/k9nb96v0/A0kelUGhTgc6FiFhHtUhwBulFOoVLhhqD8YC9v189+TkN9Tt1rjpPvmJ+wX7o/3A/m7+3QLXDuUZVR1OIPEo+i/NK4seUBQEE0sU3BFtC7ECH/ll8NHqk+d64lrdB9244THp+O7N8W/zhfWb+w8FhA0iE5wVaBaVF4YXrBXcEs0OIQv/CCsIPwYXANf33vJc8pLzhPSQ9Er0nPOR85r1uPdV+BD5ZP0pBRUMIQ8SDYcHswE8/fn6o/p1+uL4ZPVc8VvuyunS4ijef90n4aLmuujT6rvswutH64Dqk+va6zLqtO1g8/b2ofIG9rAZ0UaHVFo43BjoFc4a+RadEgsY6xyoEWsCXvzB9VriLNG119fuSAHfAzUAgv8c/qv+hwboFdQjlidBKOUrkC6mKIUatQ/VDosTIRPgCTT8Vu8D59XiPeNO5S7mzehO7X3yv/WD9kL4j/wmBpcSwBs5Hzwc5RbcErEQUQ/sDf4MYQseCeQE3v6494rwmu4y8on45Pyt/Ef6XPYd9HH12PiL/Ij/sQMJCVcN+wxIB80Ab/xG+ir5rfgk+A/04evv41zgNeAW3vrae9rs3BTjg+iV6vPrQezR7B7ub+7878PuGeyZ7cHqCvbWImZTGF9POf8Q8A2AF3gWFQ7KEAwbdRO5/wbyfOde1VfI2dQ49NoN9xBWCRMFoQNuBfIKzxoQLWYxaS/PLo8szyBnDGQAnwLvCSkLBQI79LHoxuF136HiRejj7X/0//uMA0QGXgNYADgBlgn3FRcevx3aFe4MpQdbBV0DgQDi/sz/1QEpAi//EfpO9Sv0a/leAhAJ4gmVBMH9J/on+3/+9wC8AhwEJwbeCNYI0gMm/Lb3tvdI+SP5b/RG7XvmM+Ho3rvf1uEo46bjW+XR6JfrS+5H8YzzOfR98l7xfu3P5gnjUeZO6yjmS/RVKW5cSF2FKi8EHgYbEM4PRQpTE9gZZgch8M/kv9/u0aDJOtxX/iQX/RdODh8IagYBCOAOvCC6L78vgScWIYMd3BE7AbL3PfsdBVMGEf1o7zzmz+KV4pzopPFN+pAAQgXpCCoIoAVMAyoEpQsjFcIZSBa5DkMHawEG/0X+yf2s/hsBkAN+BcYFMgId/kv+fAMsCkINZAraAk37APiv+Qb9Bf+f/+YAYQT5Bn0GrQOz/4b86/lM+NP4ifZA7gPlceD+4Brje+bR6vLs5+077n7urvEC9uX3dvVF8FbryeX44iXjhuN/4xrcJuSzFq1UaGhuP3oLl/3dB5UR4w9jD88UKAyM+MToAuC+1VfMZNUb8qoSZCEuGaAIbP/UAXgIzBRoIyEpVCXzHCUXThB9AtP0wPHP/HIImQVi97LrW+im58/oVu5/9xYAtgQYB20G7gM+AQv/eQPaDRwWiBZvENYJuQSiAUEB+AFvAs4EcgjWCSwLEgtuB1MEugRrCXYMtglhAqn4wfQI9yb6qP2N/5YAVwNlB10J2QZ6A+gAy/15+6n5CfdW8vTq++NF4bflpOsl7UHv7PF88l/weuyW63fsy+337WvrR+ja43rg5OEx5Ubeh97hDGhVw3mXVtEUPfc5/6QNrwsIB64RGRH/+43l7tqI1BLKvs1i6jUTPiuLI84OAAM7A6sF7w8IJDYufyj1HGYVQQ4qANDyX++T+fEHUQkB/r3yTO1e6fHmbOuU9SP/YgS1BoYFLgEK/Yf6aP57CPIQRhNaEPULaQYZAZr+h/1//l4C0QfbCX4H+gaTBtoELwX8BgMJaQhYBKP9B/iI+HD7b/4tAosEgwVMBz4J/gYCA/IAPv4l+4P5rPje9IvuMenh5VPp8vCl9ZP3KvgP+PrzxO5s7hTvZ+5W65/l9N9W3vbiougX6xfg5NXi+uRI/3+RbGQoTv26/UoNuwxXAoYJJg54/ZPn8Nwe1zLKcccf3oAG6ycgLJ4aIwoFBkwHPA69HlsqQSdFHGUU3w0+Ab3zVe1U83wA5QWQ/zL2c/FK7a3oA+v786H99gM/B0oGywHf/iz9bP72BIAMyRB6EDcNTwdPANP8ZvwE/UgA5ARrB1oHuwNHANwAyAObCE4LqwptCEkDqv1M+kH7B/6e/zEDeQerCDoH/QP8/ub7S/yA+775LvoM+sL0se1M6v7pye6n9gv7xftF+h34APX58fvvcOy66Uno8+bE5Q/l9+cr6dPnl+Lk1ivnDSfNbad/0kqZCs7z0v+UCxwB1f17CoEILvWZ4sfYP83YxfbUcfkwIrszTSeCEmIJwAl+DEsZ5CmOLaEjahdkDlsCl/O26Cfph/ahA4cEF/tT8kftg+k560nztP7kCOINoQxyBwwFIQQBARUBDAi+EKwT5Q4ABfD7L/gq+BP6qP22AZsDoQKmAB3/BgAQBB8IPwmICNgHGAYJAs/9q/yi/vsBegUUCNAHXgRhAHH8o/n4+O74vPiY+H750viy9BjvyuvR8KT5Bf8TARD/Mvu39RPwHu7Y7UPuw+x36irsHu+e7sXrvejQ5B7i+tyU5hYa5FzceDpRQA747gP1IwO9AXX/kwtKDD/7Tud62o3RG81820H8TCEiMlEn5xTrCkYKcAyzF9IocC3EIu8R2wWp+9PsveAL43P1mgV8BeH5Yu4e6szrWfPk/UwI+RBaFMMTTw+HBxf/fPpd/0cJSRDsDj8E6PZH7/HwZfbT+4cA1wJcBGkEygP3BfoJWQy8C94KxgnTBjIDv/6O+5H8QgBwBHsF3AAP+7z5hfuV+/X63/uo+/75wfnP+vL6lvi49AL1BvxWA/AD1f0+94vzSPFI8TzxFu5W67bqA+1S8uv10vPn7czs/O5i7CXnodsr2y8Iyk3ccBtRbhDL69ruEwAhBGQDFw/UEDIAq+4r5HjahtOH3lX7Ch0+L58o5Bc5DOgI0gpxFh8laiZNHM4OKwLX9M3mI+DX5xT7hwgYB+j98fUO9Oz2N/03BSYPiRidGn0V/AvmAS36CffQ+dz+OgI8ACj5oPI98uf2+Pmt+1P/7wWUDz0WqhPECzwGAARGBO8GAgjdBesC9P9G/eT7j/ol+En3fvn7+wH+7/9A/mL6Ifo7/aAAKQOwBBIEmAGj/pX7ovsW/fT5+vUs9L7wq+xH6qjrHfAl8/T13feH95j12e/m7cfyVvUp8BXkl9gszNHOmP5DQ1tmcUz7E6P04fc1BfcF4QS6D10SpQf9+Trrs9juy/TWBPZqGCcqXCSiFoANlQmmCO8P/BxwInkbrwwe/8X0wOqQ5bztVAA/DUIMIALL+cD40PvbAQAKERKLFDsQNwsxBNj4P+1S6dDwG/zUAqoB0/p59DPzavgcAWcJCQ77DsARChUrEmQK5AGu+9768/5wAx8E9v9s9vHsye2w9a/6H/wx/mQC3gZwCa0HzATZBJUEhATxBqAIEwR++WvxCvDG89j2EvPU7oTv7/D58lX2Y/fy9gH5Avvq+2T9Ufvb9RPyYPAG7U3mS92n02zKF8f23/oagVPdX+M6lwyh+ZQAaQpvDIQT8RnrEGn+Eevq2PLJa8vG4vwC2huJIsMbTxGlCLUDOQckFqAinyGyFdAHff0K87LqT+tE908GAQwYCBEACPr1+B/8CwN6ChAPAg51CRwEO/wa9KvvXfFh9lX67vy9/aL9Y/3e/aYAXQY/DacRJBR5FK8PwQa9/cT3s/YB+k/8kfsR+736e/eP85X11vyxBGAKLg3SD6ARGA+NCGYDwQJEA1MCvv6t+cT1DfIE71nuUO+08HTzoPn3/wgCqf5E+Mz1NPjk+1X/W/+U+iT0LO7q6DblDeDP11vQms6F0OjUMvJvKptX21wnO5sWRgv9EEsVTBFwEFcNpP4O7j7g3tMkyefL9+GY/x0WMBwlGSQU8A8EEVgXXSELJvMePBBoAof5LfAy6VrsrvfJAgQGLgCe9nPzEPlfAVsJ2w6PEBUP5AsfBaP5DfCj7BrvHfaK/mADdwEO/ar63PwwBRcP8BMyE6kRQw9ACRoBwvgr857z+ve4+pn7nfwD/Ob7PAD+Br0M8BBEErAPxwxrC1sJ9AVFA7MAKPwJ+J717fPQ8azvp/CL9Nn5kf7c//D9u/tP+vv46fnx+tn66/s4+zH48vE862zo8uWH5l3pk+mb5rjet9kH2dbiTArGQMVi9FkzMeAOAwRQBVsBFPtK/Wj9gvXI6svemNAWyB/UL/LxE+wrPTNrLNodGRMQEsoWHxqDFYQKOv8q9yTwcud84m3n//PkAGwIdggdBS8FqggqDAcPdRHtEKELUQQ7+ynxL+tG6i7tNvT//L8C2AR+BWoF7ga1CygQwBB+DzQMFQfyBJEAvPbH78jvSPdcAkAKygufCIQFDgQ5BggL7gy9C+cKdQvWCboEwv4K+q33jfYP+Kj7Jv2W+m70AvHM9Mv74P6L/Jv6ufrV+jT5sfZy9pf2TPeD+lj8UPpW9GTtLOsb7R3vd+9e75btPehI4oHdweinEo5Gbl8hSykgswBh9NHz5/Wj/KkFawRl+27wj+Rh2QvYoOo7CtInMDWcL9EfvQ78As/97/8MBQAGxwIh/tL52vKT6gXqoPT2BFgRoxVyE9UOmgtUCC4FPwOUATj/TvuJ9ijx3+zv6sDrk/Jc/u8I/g2qDukOMA//DVILNwimBKMAx/3Y+kv2d/KI88f6MQPVB5sI5QjbCigMhQyyDSANiggOA5QAQQF5AkQBhP0l+oX53/or+6/6AfvZ+hT69PkK+6n7Tfp/+On3gPiB+br7AgCpAxAEmwK9/777rfnG+GH4lfnL9zny+u0d6+PoFOhW6EfnO+PD4fLgBN4G7VEX00OEU3o+khxcB/IAZv6H+qr8egLj/2P3xfCg6ejf/dyd6CP9oA+aGjAdbhYcDLAFGQTIB5AMjQytCEEFBAMC/RT24vY0/hMGQAvPC3cItQQmAJz51/W39/36Hv1FAJYCWwFr/v37PPyuAIYH5gvLC/IJtQa9AHj6Z/cz90T4IfuT/eD+xQFJBAEF7gXmB6sKjw1+D9cN4whWBNX/G/u/+H34Bfna+rn+lAHj/4v7tvjc+SH+xgNqCA8JsAUhACX7X/mu+pD8sv2Q/0wBTwBv/4cB5wPfBNcF+QXfAgf+uPnl9dfzMfMp8XXvGO8y7W7qlukz6jHqcelO59rlcOjY74sD7yUARsNM1jMNEFD6bfdc+2v7dfoM+v71mO/j6BniX90N4RTy8QvmIk4sRifjGqYQYgzdCosKFAvoClsHPAHR+yP2UPFK8q76BgbBDXcPPA2wCpwI4AWOA/kCHQMaAmkAkf0i+AnyXe4J8AP3//6hA/QDJAOGBK4H7AkqCZIGcwUmBfgCKP5D9wjzGPWb+vP/rQLCAioCugK+BdgI0wlcCDQFmgK2AKz/c/8X/zr+6PyJ/Or9UAA7AkgCTAHYAUgE9gWHBXcEwQM/A/ECjALtAekAOP/s/fP9XP3g+hL3fPO28qfylfF38nz0efZd+IP4cPcp9WLzePNm8zfxCeyB5lXe3tky7BgRXy+INKYjvw/tBBACYwCY/8ECUwRIASf9b/jX8ETor+d98iADHhJdGWUXvQ8ZCtwIggmSC7INOQ1WCXgFVwKV/ZD5QPqd/5oFcwh8BrQBWf4n/FD6mvrC/MH+4P6q/Vv76fjY+Pz5vfv4/2EFxAd7BqgE6wJJAFX93vpy+Z36zv3+/mr9U/vq+Uv53fky/kUFZAvSD1cR6A8QDf8IlQMs/23+xP78/Zb9pv0T/W/8m/3UAAgFAgoxDrIPqw5JC2MG8AF4/vj6+vZy8wnyd/Is9Cv4pvw2/xMAxAHfBbAILQhCBXb/NPlP9UbzHfK88FjtIumJ557n/+ir7O/wRfKd7lPrjurs7+QFTibpPL072CbPDxABSvkU9LHxIPRe9rD1B/Sa76DoleWn7Yv/ABOhII0kah+0FRMOVgrKCIQIaQbcACv6aPUh8uLtJ+vK7vH3CAHvBf4FoAMJApYB8AGxAyIFfgSoAi0BCP8H+9n29/Mf9D/3bvqs/Oj+0gDhAEP/Xv5QAOYDfQZKBhIC1/sy99n1c/j0/SgD0AVHB/sITAltCNwHJQhXCvcLqQr2BxIESP+X+4H6HPw+/woCZgMlBK4DZAE5AAUCnQQHBSQDlAAN/tT7Sfo8+ir8Bv+8AfsDigQ1AgT+sPq/+gb+ugDZ/+P8jPlJ9TXy2vJE9S32Hvbp9/b5hvkc94z0O/N18lvx4O7Y6cfjLuYw+rkW4yiNJ3kYoAiEARYCwgNhBQsHiwXDALn6CfLH56/itOjJ94YG+g4pEQAOhAc5ApcB/ATtCPAKggp4B40CI/wI95T3FP0aAxEGMQV+AHD54PRy9eD4ufzS/7EBdgIIAiIAs/2z/Nv91wDQBAMIZghqBvUDiAHD/8r/lAEqA8gDygNVAnH+//ji9b33nvxMAYgEjAV0BHgDiAOXBB8H5Al9C84NRxH+EeoNsAdqAu7/HAFKA+QDcQOLAR7+C/s3+rn7wf1f/7wAhQFUARQBWwHzALr/nP/xARwFxAbJBWECHP8c/an7BPv0+sD51/Y29Rn3p/n5+Ij2JvZX+N/7Iv9iABv/wvyH+kb4Efbf8mfuQOoa5yPmAOr/9O0FpRWoG9oW/A2eB6cFpAZTCekLzQqnBfz+1Pdo8b7uCPEp9v37hwCYAtICQgKMAoAErgdhCxUOMA7sCpYFPgAT/Gj65/tC/28BOAH3/7X+ev6J/1gBXwMwBacGwQarBLEAsfsD+NP30vol/wwCaALGAXoBDALzA5QGvghnCvwKtQlrB+AESAJBAIn/2v9OAEcAmP9p/un9gf9pAvgFBQnpCTQKCwugC4ALBAojB8cE8AM1AxECoAAC/5r9gfyf+wb7U/vw+3D8Tf3F/soACwOdBRMHKgePBmMEaAGY/kD88/qJ+pD5Dfh79+j2wfWj9WD3gfrZ/koCgQKIAQ8B7ADuAMMA9v9x/Rf6TveR9Nrx0O/S7sru/e4l797uku0R7RHxXPviCV4X7xy6GFIQNQnoBNACJAIWAbb+Wvx5+bn0Hu+960HuYfcyAwgMrw7vCxoHEQTyA4sF9Af+CGsHQASmANb9NPw2/F3+cwL+BkAJ8QfSBD4D7QMLBXEF+gR1BMYD5wFH/xz90/uz+3n9ywABBMQFFgUSA3oCYQNgBQAI+AhiCBAH+wPG/x78mvnH+K/5Efsf/O/8Xf3x/Un/hQCrAbsDfQbKCHQKZguSCicIfgSjAN79iPuk+Rr5M/r0+7f91/7V/qv+zf6n/zQBMQPBBIsEuAKq/3n8Xvoc+bX44PlP+8v7bPwI/UT9kP0F/mf/5wEaBCkF7QRZA0IB1v4V/D76pPlx+I722/Uf9nj2Avew+E/7kfxC/Df8bPwp/Kv7afou+F31VPLJ8en1+/xwA5kGBAenBmAG6waTCCAK6wmYCNwG0APL/3P7R/hj+P76pf2N//8AxQFqAroDNQXoBocJUwypDdgM8gkmBtADRwO3A5QEmwPV/5X7k/k1+in8Jf6q/04BVQOOBScHNAdhBjkGOwc5CDgIswZzAxkAK/7+/Ej8ZvyD/In8df22/jf/U/+L/xEAzgBqAVEB5v/d/ev7gvqU+tj7RP0D/rb9Qv2R/Sf/gAECA+0DmwREBCYD4gHhAPz/r/5t/RX9YP2G/SH9QPzd+4b8+P1i//3/aQAOAaQB4QEhAcL/ev4T/lf/zQADAXsAuP8V/7z+6/0i/Fj60fnn+gD9ZP5j/vf9af1M/fX9J/7j/Sf9UPul+Rv58vj79831yvMk9AH3ovla+vj4H/aV9Rr6jQExB+QHAwYaBsUHmAeBBaMCtf8P/+kAtgIyAxYCwwDHAa8EoQdkCWAI2gVaBQ8HAwmgCRII9gXdBCkEJAM8Acf+Yv52AagFbggtCecHSwXtAnIBy//s/aD9JP/e/0b+Q/tS+Kv3/fmA/ecAnQNDBFACSQApALsABAFgAbABXQEXALr9kfo+99f0ufTD9g35XPqs+0/9wf41AaYDGQR9BMIFXQZWBlAGjgUdBNECDgHR/hz9Fvzj+/H8xf4QAXsDZgQ/BF4EywQUBQUEVAIUAYgAxgCEAIr/W/7Y/IX7i/sx/D78p/1yAIkB7AAvAHj/Cf8Y/7n+p/4hAIEAc/6j/E78g/zP/B/9//y7/cn/SQHAAQMBNf/k/U3+xP81AQ4CqwF3AA7/jf1Z+8b41/ey+CP6vfpC+cf36fkF/9kD9wZWCDQJ2QrpC2MLowr4CNUFPQRVBM8C0P+I/Sj8E/y+/Rr/zP6W/lz/xwDiA+wGEQdKBjsGNgVzA0YCdwCV/sL+Kf8D/uv8dPzQ+1j8Jf+9AckB+f9N/oL+OwDyAPL/YP/z/10ATwCQ/6D98/s+/Nj9s//dAIz/cvx3+gr7Ov2W/r79HPxp/O79wP6c/wEA3P6k/VP+ogAcAywEQwNIAvUBXAE4AZgBEwE0AK3/+/6X/mv+Yf2A/Lv9tP9pAFMAaQCwAdcDoQSXA1oCjQEqAewBiQMGBAsDzgGMAKX/lv/v/woAv/8o/8f+jv5G/pP+VP/Y/0UAOQHGAR0BTAAoAJIAEAELAbL/Nf61/Xj9cv1G/e38cP0D/6H/cf5x/d79n/87AUcB6//l/cD7BfqV+Wb6m/uN/Av9Vv3+/XX/pQCP/6r9XP4OAfcCfgJl//X7zftt/i4AXP/x/MP7hP2h/6T+jvwB/Ub/BQJpBOMDawAa/ub9zv3m/bb9sPx5/FH9Lv1H/HL8/PyA/bT/2gGtAaIBsQFgAKH/if/u/2QB6AHgABsAIf97/ZD9n/6F/ln/ZgF8AVf/L/4a/2AANgE0AacA4gClAWMCRwPcArsAKAD4AesClAIHAlwAQ/7r/TL/EgBMAPH/vf5J/rj+vP7O/tP/vAABAegB+AFPAIP/eP8L/9z/6ACL/1H+KP9m//X+vf+zAFgB7wKRBJUEFQN1AeEArwGNAzwEqQIgAVsAv//h/w4A/P/SADICUgMrBIcEBwQmA6ICNwLPAUkB4/+5/Q38W/sp+yr7Tfvi+/D8DP57/mX+qP5+/pv9G/1m/SD+If4c/Zj8//zq/ND7qvpw+vn6u/uo/Hj9zv2N/dT8F/wt/PH8EP1Y/YD+Uv/9/wQA6P7w/av9df6x/78AwwGpATwBcgEYARYAGv93/7sA4wALAUcBRwGdAsMDfQMvA6MDhAQrBVoF7ARfBKEEGQWWBKEDsAKyAREBpgDMALMBXAIAAm8B3gERAzQEPQStA3wDcgPGA1EEowQ0BBUDGgJAAUkAev9n/zEAVQGhAaoA3/9O/3D+M/7o/noAFgJeAr4BJAGwAEYA7v/D/8b/8f8BAL7/IP9+/hP+6P1n/q3/FgG+AV0BSgDg/un9Ov5F/1AANQFBAX4Awv96/6v/w//M/18AEAEKAV8Anv8z/0T/Z/+i/zUArAAMAUMBnABs/6r+0f5s/67/5v8EAIz/VP9P/w//8P66/vP+CADnAMoAIQCB/wj/Cv+9/+cAPwICA8IC5gGdACL/KP71/U7+MP9vAE0BIgE8AHb/UP+s/zsA+wDAAdkB1QBC//39+/09/1cA/ACFAZ0BPAHXANIACwGDARcCXgKlAqkC7wHkANb/y/5V/vD+2//EAMsB9AFhARsB+QAHAagBdwL3ArwC0gEPAXwAUv8b/jT+Mf+5/33/6f5u/tX9O/1+/Yb+qP+vAGUBeQFsAUkBRwAV/6f+Cf+v/3v/Tf77/Pf7Pvs5+1X84f0t/8z/k/8X/7X+TP5F/sP+9v7v/uX+t/7p/gf/cv6B/aX8YPzU/MT9dv5R/h/+S/5h/gb/DABEAM//8v4V/g/+o/4Q/4L/9v/8//P/n/8M/xn/Uf9O/6v/JwAFAM//8v8XAFIAWQBcAMEA1AB6AP3/ef+G/8v/jv+T/0EAWQCG//L+/v6V/7cAegGeAcQBYAGoAP8AygH9AQICiAHWAM4AmAA4ABAAfv9h/2UAgAESAvMBDQFKABMA/P9DAHgAKQABALL/E//j/rr+fP5Y/+4A2gEzAhUCQAGJAFEATADMAPYAEgCU/6b/PP+o/lz+Tf7P/oj/xv/0/x0A8P/O/w8AxgBsAS0BQwACAKwAFQHsAH0AsP+7/sn95/wR/SX+6P6H/xEAUgCZAHUAHwDk/xT/nP75/kr/xP8YAMD/Pv++/hf+H/78/vf/8QAMAUMAsv8U/9L+Yv+M/6n/LAC0/zj/dv9y/+3/RgBb/3D+Jf4X/nb+Df///kj+5P1f/v7+7v6R/pb+wv7K/jD/CADcAE0BWgEsARIBswFtAs4BoQAOAIf/Qv9L/+3+sv7n/mj/6f8BAGUAdgFKApMC3QLoAngCIwLiAT4BqACeAMAAtQB7AEIA8/94/3X/WwDWAb4CuQLUAv4C2wLMAocCJgJQAp4CewIqAv4BoAECAeQA8gD7AEgBaAEpAlkDlgNdAxQDjwICApUBbwF7AaQBwgFNAUQAYv8l/zr/c/9pALoBpALbAuoBBwEmAVABOwHzAJgAcgBHAKj//f4o/yf/A//i/9YA4ADw/1v/rP/B/wwAcgAjAJL/7v47/sv9p/1+/aL9iv6M/1MA7wAGAc0AvgAIAZsBXgIVAwIDVgLIARoBcwAPAHT/9P4S/4f/NgDRAKIA1f95/xcA2QD3AMwAvgCiAF0AWQCrAAABHwH4AL4AkADL/17+tv3P/Sj+KP8+AHUAEgD+/7T/nf80ACoAvgA8AgUC1gChAJkAawDeAFEBhQHYAQIBnf9z/4D/JAAGAg0DaAOOAx4CmABqAEEAQADvAFMBXwF2Ae0ACgCM/xf/aP+uADMB5ACnAGUAvP/1/qf+av4e/kj+2P4T/6L+Fv6f/W/9B/7b/tn+dP6m/rL+Yv4t/ub97/37/aL9rv0k/gb+R/38/OD8YPyM/AT9If0n/jb/D/8z/77/Yv+R/p7+Tv+8/3AAkgB+/87+Rv5O/kb/K//1/vX/lACBAHsAKQBC/8z+If+s/wwAkf+d/kv+gf7X/lj/XP9J/gf+Lf9L//X+I/9+/iX+6v4m/6D+eP5s/j7+z/4p/8X+1f68/sD+lv+b/0H/tv/N/8D/CAAhAP4A0QG2AI7/Zv/D/q/+J/88/sj9gv6C/mH/YQHQASEBxQCjADkBVgKWAugBZAG6AI7/dP/Q/yP/5/4h/+n+jP98AB4AEQCQAP7/TABzAZMAv//j/5/+Tf6B/xn/R/4q/p79kP2Q/rn+Hf5p/rD+5f6y/4n/sf6x/ov+nf6//5X/IwAGA2QCdf92/2X+ePs0/Jv+C/9q/2D/yf2n/Cn9UP5L/+T/u/8z/9X+nv7e/ob/+/9oACEBZwHfAKoA5ABvAL4APwJHAqsCQQUPBjYF6AQyA0EBggBm/+3+zP9uAAIApP98/3z+r/5O/939B/7R/73/+f92ALz+Ov1P/ej9Gv/WABACEQF8/7b+h/3R/cH/mQCCAAUBHAEBAMn/tv/x/iL/Jf88/1MABAA6/0n/8P0o/Vj/fgBHAOEBqgKfAUoBHAFbAKwA5QFVARkAwgAqAQwAhf92/yP/Uf+6/70A9AHzAdABXQFnAHUAPQDe/8oAWwHlAOb/9/5N/u/9Ff/+/4L/pP/l/6L/lf9I/7L+6P7M/yMAgACEAXABLAD7/9AA0wCPADsBNQG0ALEA3v+O/2AAVQAAANMAoQEjAdUAvACw/4H/YwBRADgAygCcANIAMgEVAAYA1ABPAEsAZAA1/w3/7P/V/1sA1gGrAY0ArAAPAdYA+gAzAeAArgAVAcABLgL0ATMBdQAQAHMAywDj/3//RAAWAAAA+wD9ADYAHwDVAIsBpwGdAWcB8gBrAIL/+/5t/63/Sv9s/xAAZP/K/ioADwH0AOEAXwDx/+r/ZADbAK//Y/7h/tL+oP4YABkAhP6c/nn/lf/9/3gApv9H/5sAEgG3AL8A0v/D/vj+lP8dAE4AcgC9AOAAbQFgAU0BOwKbAZoAaAFfASwAvf/E/pH97f1y/gH/WADNANz/e//d/9D/EACFAMEANgEHAZ8AEQB6/sT95v3A/UX+QP6D/VP9G/1W/YP+aP+n/9H/RgCIAF0ATQC+/8D+MP51/ob/mP9V/ib+sv45/sf+YAAbAE//cP8k/3L+e/5Z//b/MACVAKoA4QAAAcz/3f4P/xv/3P8kASIBfAC7//z+X/8NADAA5QBiAdsABwEmATIAt/+a/1//rP8gAOP/iP/J/93/X//c/sH+9P5T/9f/BAAFAEcAAQA3/2f/LgDz/zv//f57/5H/c/7T/msAKwBt/wQAgQBaAJkAQgCu/4kA5gAqAIIAMgG/ACYABwD+/0QAlgCTAJgAigCjAAEB/QAgAcUBEAFz/9//VABO/5z/OgAvACYAr//9/0MA1/8FAPf/9/+yAA0BHgEmAZEAiP///iX/dP8RAJ8AZwDi/3f/Av+x/r3+0/5l/i/+8f53/0j/if/B/2L/RQBDARYBiQFMATcAnP8M/0r/vv91/z//v//p/wP/8v6a/1D/Kf8qAI8BCgLqAUAC4wG3AYICEwIzAfcA0wC6AHUAbAAwAC7/uf6J/7AAYwGwAbABZwGHAWACnALRAcsBHwJOAfYAoAGtAVUBNQHxALcAfAAtAOj/x/9IALEAJgGwAREBhwC/AJQANQBdANMA4wB9AAsAcf/0/on/TwA4APb/+v8cAPX/5f9NAP3/cP84ANQAHACY/2j/QP+I/4b/Rf9X/07/xv4Y/hn+jP7o/rL/ygClAI3/t/+gAOEAXAF8Ar8C9AHLAc8BFAGSAE8ACgA9AKAA7gDzAJwAtwDPAFUAcgDyADYBTwHOAFcAMQDW/73/of9Z/z3/tP6p/nn/fv9y//D//P8QAEEACwA1AKIAIgBy/9X/WQDu/5H/uP+z/+j/RgAOANv/TgCkAD8AFQB5ABoAjv/n//H/2v9nAIMACwC2/yX/h/4V/4kAJgGjAFMAhQB4ADIAAACb/w7/Rv8kACkAc/9o/3z/vP6r/tj/XQD//wYAPAACAB4AggCrAOwAkwDY/xQAogA1AGT/Nf89/xT/vP5d/mj+sf7i/lH/x//J/zoApABdALAADQFyABcASwA3APf/nv8M/w3/6v99AAMAav90/xz/T/6+/sb/sv9h/+z/NACd/47/4P+2/8X/+v8oAHkAbgDg/xf/5f5t/7n/kP+C/3b/O/+B/5P/v/7T/tX/7P93/3D/k/9r/5r/cABSAHj/zf9JAAQASgCiAO7/Tv9A/wD/5/5F/7z/3P/R/x8AaAB/AOkArAEjAukBqwGZAWsBqwHFAR8BuQDjAAgB5QCVADsAAwAmAIcArgBcAK3/9P6c/uD+e//E/7T/tf+z/zn/wf7o/v/+qP50/qD+3P4L/zX/K//G/oj+L/8pAFkA5P+V/0j/xf6x/tH+lv59/rj+3/7R/l7+jf1I/cj9Mf5//gX/Uv8O/4b+df76/pT/5v/G/73/KQA1AIb/EP80//r+aP4Y/xQAVv+t/kP/VP/c/u3+PP83/zr/lv+W/zT/Ev/o/q3+o/6+/jz/uf+C/+T+uv60/ij+ff6H/yv/Yf4G/57/2f6o/n7/hv/a/tn+Mf+e/uX99P0U/n3+YP+m/2L/M//R/oH+df5k/rL+RP88/77+q/7C/nL+Wv7j/lf/Pf8//2z/+f6g/jH/4P80AGYAawAAALD/GABCALb/b//E/y4ASgB6AP0AEwHBANMA+gDkAOsAswAWAMX/q/9W/yH/e//m/8r/q/8BAHsA3gBAAYABaQFFAWEBfwF+AcUB5QElAaQArwBYAEkAsgDBAE4A4f+8/8L/NgBbAMH/o/8WADYAOgD5AFsBWQApAEsBcgH9ALgBcgJmAYUAPQFhAb4ADwFEAVMAqv/M/8X/j/+r/woATgBsAE0Ahv8A/3D/yv/6/4QAtAA2AAcAhQDKALwALwF3ARABcgEnApsBGQF0AQ8BPACRAP0ApQCxACsBPwHTAGkAiQAJAWYBnQHQAdsB6gEbAjECJQLaAVcB9wDCAHoALQBHAGkAGgD2/zAAZACcANUABQEXAdYAsACuAKUA1QAZATgB/QBhANP/wP8GAEUAmQDFALQAtgBgAAIASgCPAF8AVQDAAPIAqwBlAEsASQBrAMcA3ACnALkAqwBwAHEAdQCGAPgAfAF1AT0BBQEmAFD/h/8FABEAGwBkAJEAdwBpAFoA/P+h/+z/sAAvAUsBIAGxADEAvP95/3L/of/G/8v/3f/i/+H//f9wAOYAHgFsAZ4BmQFIAbkAcACgAOsABAEPAbUAFgAkAGYA0v9e////XwBDANkASwGCAMX/5f/L/5T/GAB9ACIACgBgABkA5P+hABQB2ACrAG4A7v+K/3D/Ov8d/4H/wP99/2//q/+R/3//DgCaAIQAFgCs/2D/Pv9t//f/iQDUAIIA1P9l/2P/wP8vAK4A+wDFAKcAcQDP/53/4/8OAAsA8/8FALv/If8k/zr/tf6E/m3/+/9X/+7+/f7A/nz+hv6b/nv+Yv7r/ob/gf+T/6//gP9q/3z/pv+x/6P/of9j/yv/Vv87/5b+UP7A/uH+mP4G/4//F/+w/ub+o/57/jr/lP9A/1z/3v/S/2T/df+A/2b/0f9EAGQAVwBSAFEADwDX/8X/d//s/tf+R/99/4j/i/9E/xv/ZP+Z/6D/zP/H/0H/z/7b/u3+1v78/l7/rf/M/7v/kP+S/8H/xf/v/3UAiQAkAP//5v9w/xv/Nv86/yv/n/86ADMAsf+B/7f/mf92/9D////z/xoAKQAQABkAJQAZAOv/5f/r/3D/KP8x/83+of4i/4H/df9v/3H/LP8q/9H/UgBLAAoA6P/A/1v/TP+W/7L/8/9iAFQA3P9F/9/+9P5Y/7D/nf+A/4D/Vf9H/4H/nf+J/+z/lgDGAIUAFwCV/1f/lP/8/3UA0QC/AL8A4ACLADoAWgB2ALsAcQG+AYsBmwGGARoB1gC6AKUAkABcACcA8P+l/4H/Xf9U/6//LgCMANQA7AC/ALsAwABxADYASwA1AMv/gP9Z/zb/JP9R/7r/AABgAL0AdADx/8X/wP/a/xYAGQAEAA8A6v+n/4b/e/9B/wf/i/9BADAABQAZALv/Qf9m/9X/MQCBAGYAGQDr/7r/q/9//0b/ZP+n/5X/Wv9x/3r/U/9w/8H/6/8LAFUAhQCEAI0AoAB6AFkAhACvALUAvwDBAHoAIwAKAAAAHQA/ACkAKQBvAJ8AOgCf/3b/pv8RAKsAvQA7AAAAwP8n//X+S/+n/xoAlACvAKEAlQBkABYACwBqAKUApgCPAAoAe/9G/0b/l/8WADYA9v/Q/+X/BAAWADUAdgCbAHwAXABgACoAsP93/6v/8v/1/8f/u//V/+//CgATAAQABABFAMAALwFUAT8B1QAsABkAXwCEALsAswBfAOX/cv8q/+D+yP7l/gn/V/9g//b+qv68/gv/UP+0/zsAhACQAH8ATAAAAMv/xP8HAGEAaAAqANb/cP8l/x//Kv8p/z//Sv9F/2b/Zf9J/0v/QP9g/4n/gf+Q/3b/9f61/gH/HP8H/1v/rP+Q/5z/8P/g/5b/tv/G/4f/mv/g/7v/Wv8//0n/W/+g/+f/GQBUAHMAcAB6ALAAvwB1AD8AVQBUAAUA3f/d/8v/6/8EAO//3//q//P/v/+a/7//xf/c/0UAhABqADoANQAUAAUAZgC1ANoA+gDwANUA1ADgAPUAGwFVAXABMAHFAE8A+v/V/7r/oP+T/8D/BAD1/7//zP/1/yUAWwCgAPsAFQHSAIUAgACPAH0AdABrADQAAQDx/+z/BQAVABAA+/+r/1v/c//Q/wAA4P/H/wAAVQBQAPX/8f9aALAABQFLASABxQCFADQA9//s/9L/pf+W/5X/kf+B/2b/f/+x/7f/3P8vABAAtv/A/9H/vP/c/wUAFgA7AF8AmwDaAMoAqgCmANAA+gDPAKUAqQCVAGUAKgDy/+T/FQBbAHUAPwDw//v/SgCQAOsAGgG+AHoAqQCxAH8ASwAKAND/xP+1/3r/df+a/6D/u/8AAD8ARgA6AEsAPwAbABQACwDR/6H/pf/B/yAAdgBpAFsAZQBqAE4AEAAZACwA6/+9/7r/vP+1/5f/Zf88/z//Rf8h/0f/y/8RAPz/tf+G/5H/v/8aAHUAtADkAMUAZAAaANf/1/8xAGYAhwCVAGwARQAmAPv/3P/g/wsAPwBAAAMApv9W/zD/UP+h/7H/i/+R/4X/e/+2/9z/xv+h/6b/u/+l/6v/uv91/0T/bv+1/xUASgBAADQA9f+R/3H/dv+F/5z/gP9h/3X/lv+v/9H/IwBqAEAA/P8FACAAKwAbAAUA///B/4f/pf+2/5H/cf9h/2b/hf/Q//7/8f8jAGUAWgApAP//IACEAKAAWgAKAPn/GgAaACUAUwArAOv/9v/p/7b/dv9Q/2r/iv/A//r/GwA0ACsA9P/g/x0AbwDEANoAlABpAFsAFQDX/7b/d/9a/2z/b/9d/1//Uv8l/0X/tf8FACoAKwD7/9X/5v8VAFQAcABfAFYARQA8ACQA7P/7/1IAvwAWASoBFgHVAGUAFADv//f/GQAvADoAEAAAAEUAawBgAGoAfACGAKYAxgDlABUBMQEFAbYAoADRAPoA2wDDAMYAjwA1AAAAAQD8/8f/l/+X/6D/jP97/5b/sP+x/9b/IABEAEUAeQC7AJkAYQB0AJAAxAAsAVoBKwHwAJoAJQAKAB8A/P/r/zoAmgCPAGQAewCQAKUA6wAPARQBDwHxAPoAEAHkAMEA3gD0AP4A5gC1AKAAkABrADMA//+7/4X/hv+F/4b/qv+y/6H/wf8AAEsAfwCaAMwA0ACgAKsA5gAZARABxQCWAFoALwBfAHsAYAA/AEYAeQB6AEMAHwAjACoAIAAlACoAGQAAAM//pv+g/8j/EAArADoAewCKAFsAVgBhAGAAbgCRAJ8AkQCqAKsAfgBqADQAEABFAHAAYAAVAOX/9v/r/9v/0f+v/8D/4P+6/4D/i//G/9r/zP/Q/+f/1v+s/6H/tv/b/wQAGwDg/7z/3/+s/1n/Rf8+/yz/Cv/W/uT+Jv9B/zH/6v7F/gX/QP82/0v/gf+G/5b/zP/l/8X/pf+7/9L/0f/k//X/7P/X/7z/i/9m/2D/PP8g/yf/Vf+L/3X/cP+g/4z/X/9h/0r/Jf8a/wX/5P61/mD+C/76/QX+Cv4x/l/+Wv5f/nX+jP63/sX+yv7f/vn+//4F/wv/5f7W/uD+1v7F/pX+a/58/nr+df6u/ub+8/7w/iD/Uv9K/yL/+v73/vn+Fv9w/7r/1P/7/woA//8PAAQAwf+E/5b/yv/W/8D/d//7/rf+yv7w/iX/Rf9V/3//p/+r/3L/QP82/zT/TP9k/1H/I/8b/z7/Uf9q/4H/gP+Q/3//Yf9q/3z/nf+c/2b/QP81/yX/G/8//2v/ev+g/8D/2f85AJAAoACaAHYASgA6ADQAJAD6/9v/8P8FABUAEAD6/9z/lv92/5X/tv/b/+H/yv+8/5z/kf+6/9b/+/8VAPD/u/+W/4D/hv+g/8f/+v8/AJUApAB6AGAAHwD6/y8AWQAlAMv/nP+G/2v/cP+r/8v/tP/A/xQASwA1ACAAAwDM/6z/x//2//z/7P/x/wAAAAD3//z//P/b/8r/wf+A/0b/QP87/2X/tv/b/+f/2v/L/9D/xv/h/1oA5AAwAToBAAHFAKAAfwB0AEkANABOADAAGwA2AAoAtv/V/1kAtADVAPoAAAHwAOAAwQDFAL8AqgDQANcA4QAQAeoAuwDFANoA5QDhAPUABQHxAOYA1QCvALsA6wAAARYBEQHgAI8AVgA2ABsASgCLALAAqgB2AFUAIADQ/6H/tf/W/9H/1//w//X/CgA0AEsAVQBVAEQACgDc/9H/of9c/0z/Yf9n/1v/Qv9A/1b/ZP92/2r/Vv9v/4r/kP+l/+D/KQB1ALQApQBkAEUAQABfAHQASgAlAAUA0f/J/+r///86AIAAiwCWALsAuwBkACoAagC7ANoA8ADwALAAfwBkACQA+v/V/6r/sP/F/9D/2//b/9b/6/8RADUAYQBgAAcAu/+9/93/BwA3AFcAVwAmAOb/z//h/woARgCOAOsATAF8AXsBVQEgAQQB+wAFASEBLAEhASUBKwEQAfoA4ACgAHUAeACEAKIAowBtADUACQALAEoAlwDKAAABTgF7AXUBTAE6AVsBUAEMAdsAtQCZAJ8AlQCVAMUAxQClAIUASQA0ACQAGgBuANAAFQFHAUABIgELAfAAzwCWAGQAOQAEAAAAGwAOALX/X/93/7D/2P8AAAAAz/+Q/3n/pf/q/z8AgAB7AGoAcABWAAQAy//B/+f/MABVAFoAXwBQABUA5v8FAC8AGgAGABAAIAArABsADAD8//3/IgBcAKAAlABJACkADwDH/5z/p/+x/7L/tv/B/6T/d/+A/7f/6/8KACgATwBpAFkAKgAEABAAWgCwAL8AkQBUAPf/kf9x/6T/xv/K//L/JgBWAFAAGgAOABAABAAVACUAJgALANz/q/+Q/9//XwC5AOQA1QCaAFAABQDW/8X/rP+k/6H/kP+R/3P/QP8F/9f+C/9Y/4H/kf82/7z+kP6b/tr+AP/1/vv+9f7b/tD+wP7G/uv+9v7c/sv+1v7M/rz+vP7W/iz/jP/D/+3/IABVAH8AdQBeAHoAjgB6AE8ABAC5/8X/6//g/9X/rP+B/3H/Uf8c//v+AP8b/1v/hf+c/7v/rP+s/8b/xP/P////DwAKABAA6//R/+b/8f/m/8H/m/+R/4D/bP+L/6P/kf+Y/5r/gP9v/2j/Yf9n/3b/d/+L/6z/rP/G/+v/7//7/+z/5/8aADoAVQBlADsAGgAgACkAJgAZABwASQBrAGMAVQAnAPz/5f+n/3X/gv+2/+f/CgAwAF8AhwCVAMYAAAEGARABJQEqASAB+wDfAMoApQCcAJoAlACaAIAATAAxADAAPwBrAH4ATwAeABoAGgAQABAAEAAKAAAAEAA0AEYAMAAXABYAEQDw/8f/5P8FAP//FQAkACAADgD1//X/4f+2/6f/m/96/2D/gf/L//b/IwBeAG8AfABnAAEA3P8WADsASgBJAEgAQAA5AGwAmgCGAGMAZgBpAEIAFQDe/3v/Qf9q/4b/e/98/4f/nf+c/5r/pf+g/7f/wP+7//v/OwA6ABoA9f/R/9H/6/8AAPX/v/+K/0//Gv8m/zr/Nf9f/6b/u/+R/2z/Z/9Q/1z/pv8EAE8AUAA1ABQA9/8mAFwAVABAAOv/cv9F/1z/hf+R/5T/lv+K/4z/pf+w/5T/kf/A/wYAJQAAALT/QP/g/sz+0P7n/ib/Iv/8/jj/h/+M/1z/S/9//6v/0P8cADUA9/+w/4H/hv+y/7D/lv+r/7b/pf+L/2v/lf/U/9//5v/q/+v/+/8QACQAOwBAADQAPgA/ABoA+v/x/+z//P8KAOb/sf+m/8H/q/+F/5X/i/9//5b/oP+r/6D/cf9W/2P/of8AAD8ASgA2ACYANgAmAPb/+v8eACQABAD2/+X/xf/P/8v/xv/h/9D/wP/g//X/1v+2/5z/hv+c/7//0f/W/+j/GwBBAC8ABQDr//D/GwAfAAkAEwD1/6v/hv91/2b/fP+B/1f/MP8C/9r+tf56/nv+oP6B/kz+S/5w/oD+lv7b/gz/K/9l/5H/h/9h/2z/nP+x/7z/rP99/4H/gv9m/1b/QP8W/9v+wf7m/if/Xf9c/0b/cf+w/7H/sP+2/6X/of+h/5f/hv9y/4f/nf+X/6b/rP+n/5L/Z/9X/1b/d/+r/7H/i/+G/7D/tv+x/7v/n/+b/9H/1v/A/9z/6//m//v/HwBJAGoAegBwADUA9//s//H/1f+s/4v/Yv9M/3L/m/+Q/2X/R/9L/2f/kP+y/9D/8v8fAFwAfwCFAH8AdQCKALYA2ADgAM4AuwCvAMsA+QDbAI4AZgBJACsAFADw/9T/y/+2/6z/y//m/+H/5v/s/9v/zP/W/9r/v//F/8X/kP+G/5v/lv+F/3z/a/9h/4D/pv+1/7z/1f8FACQAEAAKABQA7//Q/+v/JgBGAEoAVQBKACoAJAA6AEQAVACAAJkApADTAAsBJAElARkBBQHaALAAmgChAMYA0AC6ALYAxgDbAOAA1AC/AKAAmwB0AA8A9P8FAN//tv/L/wUALwBLAHEAkQCvAMUAugCbAIUAigCmAMAAzwDKAIoASwBlAJAAtgDlAPAA0ACVAJoA1ADaAOQA6gDEAL8AzgDFAMkA5QAZATsBFAH6ABQBFQH/AOsA3gD7ADQBRAElAR8BGgH5ABABGgHmAPQADAHqAOYA6QDVAMUApQCRAKAAtQCwAKUAygDRAMQABAE0ATYBMAEgARsBBgHgANAAugCQAH8ApQDQALsAlQB/AEkACgD6/xoANAA6AFQAkADEANoA7gDZAK4AhAA1ACUASgA5AAkA5v/w/yoAdQCwAMoA4QDvANwA4ADsAOUAAQHqAKoApACVAGoASQA1ADoATgBqAIQAlAClAJQAaQBmAF8ANQAUACEAOgBQAIAAjACFAIcAkADBAPUAMAFUAS8B6wDPAPQAFAEGAQUB9QClAH8AcABUAH8AjwB1AGQASwBKADsAAADc/8f/wf/7/yAABgAFAAUA6v/x/xsAQABEAGUAvAD2AAsB/wDqAAMBJAEfASsBTwFfAUoB5gB/AFoAZABqACoA5v/Q//D/GgAaADAASwBAAHYAywDfAPsAHAEWARAB9gC1AGsAPwAwAAUAzP+6/7D/q/+w/6D/i/+V/5//oP+1/7b/uv/m/wsAKwA0AC8AKwAVAAAA5f/B/5r/Vv8b/wb/3/7Q/vT+6/67/qv+wP7h/vX+Bf8c/xv/Af/0/gD/D//8/tr+1v7h/vH+BP8R/yb/Rf9r/4v/df9m/4f/gf9x/1v/aP/B/8b/gP9G/xH/EP8m/yD/G/8m/0X/UP9G/3f/of+B/2X/gf+m/6b/u//S/9b/9v/6/+b/7//2/+v/0P+k/4z/i/9r/0H/MP8G/+D+8f72/vD+8P7x/gv/Mf9m/4D/S/8R/xX/Rv9m/2f/lf/B/5X/Zv9W/1f/Zv9X/zb/Lf9W/5H/kP9x/1D/Nv9W/4z/m/+F/0H/C/8G/wH/EP8s/yH/G/9L/3D/VP8g/xH/J/9F/2z/lv+s/6b/p/+q/5v/i/9l/zr/Fv/7/gv/C//m/sv+wf7A/sH+zP7W/sz+0f7h/tb+4P4b/3b/0f/y//H/8f/l/+z/CgALAPb/7P/Q/5H/QP/7/uX+Af8b/wH/5f4A/yX/G//6/vH+8f71/iv/cf+a/8r/y/+n/8H/5v/7//b/xf+c/4v/kP+g/6z/wf8FAF4AjwCZAJEAawAaAOX/1v+x/4z/df92/5D/m/+b/5H/hv+m/9b/EABrAIUASgAaACAARABPAFUATwAvABoAAADx//H/5v/b/8v/tv/G//D/+//7/woAGgAmACAACwAfAEEAMwApAEgAewCvAMUAuQCfAJkAmgB/AFAAPwBFAC8AEAAAAPH/6//m//X/JQBKAEYAKgArAEAAJAAAAA8ALwA5ADUANAArADUASwBaAGsAbwBlAGsAfwB7AE8AGwD8/wYAHgAfACAACwDg/+D/BAAkABsACQAlADUACwAOAFoAdABkAFoARQAwADkAUAA/ACsALwAqACQAGgD7/8v/oP+w/8v/oP+L/3D/IP8l/1b/Yf92/5b/sf+t/7b/9/8qAFwAkACbAJkAdgAvAPH/wP+x/7v/t/+2/8D/wf+2/4z/hf/B/9z/3f/g/83/y//W/+r/BQAAAPv/BQAQAB8AHwAAAOX/8v/7/xYARABGAD8ARgBKAEsARABLAGUASwAOABkAPwAgAMv/kP+Q/6D/tf/G/8v/wf+l/6b/yv/x//D/5/8aAFAAZAB7ALYA4QDFALUAoABlAEsAPwAlAAUA4f/Q/9b/6v8KAB8AHwAEANH/zP/x/yAAVQB0AJUApACPAI8AkAB6AIUAqgCrAIQAVQAQALf/pf/W/9//0f/G/7L/n/+G/4T/nP+k/5f/Zf9W/4T/l/+l/7b/sP/B/8v/xf/g////BADq/+v/NAB7AJoAoADFAAsBKgEgAQUB5gDPALoAnwCeAK4AlgBkAEsAWQB2AG8AVgBZAGEAeQCBAGoAgQCaAIEAagCKALoAygC1AIQAbwB1AHoAlACfAHYARgAcAOz/zP/Q/wYAOQBkAJYAoAC0ANsA5QAbAVsBYQFqAXoBbwE/AQQBygCqAL8AuwCwAMcAxQCnAHoAUQBbAHcAUAAXAAsAEAAVABoAIAA6AGwAhQB8AG8AZgA/AOb/sP+2/8//6//l/+D/8P/1/wsAKgArACUAFwDb/5b/kf97/xz/8f4S/0b/gv+m/7b/v/+8/7f/sf+1/8z/0f/V/wUAOgBGADYAKwAVAOH/xv/M/8H/kv9I/xb/C//7/sz+tv7t/iX/UP9m/0H/Kv8q/z//af+U/8b/xv+m/4b/bP+G/7H/wf+x/5D/m/+g/4D/dv9l/1v/a/93/2v/TP8x/w3/2/7X/uz+5/4R/0b/Qf82/zD/P/9h/4b/lv90/1b/ZP+G/6b/rP+Q/3r/of8JAEUARAA7ABAA7P/F/7L/6/8LABQARQBLACsAKwA2AFsAcABKAEAAYABrAFsAUABlAJkAygDUAMQAxQCwAHAARgA1AFAAgAChALsAxgDaANsAugCgAJQAiwCpAAEBRQFLASAB9wD1AAsBFQEGAQ8BKwEgAfYA9QAFAfoA8ADaAMUAugCgAIoAhQCaANYAEAFFAXUBgQF0AWABYAFxAWQBOwEJAdYAwADaANsAlQB1ALQA2wDEALAAtAC1AJoAlQCqAKsAuwDgAOoA6QD7AOUAywDPAL8AowCFAGgARQAvADoAbgC6AO8AGgEfAQkB9ADJAI8APwAVADUARQAfABUASQBwAHkAgQCbAKUAigB1AF8ASQBkAHkAWwBUAGUAagBxAF8ASwBEABUA3P/G/8b/wf/F/9X/xf/G/9X/tf+m/8b/6v8FABsANQAqAAAA+v/7/wsAKgArAC8ALwA5AEYAGQDw/xkAOgAuAHAAzwDwAOoA0AC6ALUAtQClAHsATwBEAD4AMAAvACkAFQDr/9X/6v/s/9H/q/+g/7f/0P/x//r/8P8AAOz/pv+c/7X/xv/L/6D/dP9L/z//av91/2//ev97/4X/q//L/7T/f/9K/zb/df/b/xQACgDq/9D/xf/W/+D/tv9w/0D/Bv/W/tb+sP6Q/qr+wf72/jv/ev+6/7//i/9a/0b/Rf9X/4D/i/+L/4b/Wv9R/3D/i/+Q/2v/Qf8r/yD/G/8M//b+6/4K/1X/kP+h/5r/dv9W/2f/cP9L/yX/C//6/hD/Jf8a/zD/hP/P/9//8P8VAAAAwP+m/8L/8v8AAOv/6/8GAAYA0f+f/4v/hf+R/6b/xv/m/9H/pv+X/3H/Uv9h/3f/lv+h/6D/of+h/8b/5v/m/+D/wP+L/2b/S/8n/+v+wP7W/uv++/4b/yH/Bv/n/uz+8v7r/uf+2/73/jD/Nv8//1v/W/9l/4D/wP8AAP//2v+l/2v/UP9r/4b/hv9s/zD/AP/a/sz+3/7x/uz+3v7m/vf+Gv9A/1X/e/+V/3v/bP+P/5z/cP9m/5r/sv+x/7f/r/+m/5r/hf9P/wX/2/6q/nH+W/5H/kf+Tf4f/vD9Cv5h/rD+1/7r/iH/UP9H/1D/gP+w/7v/u//C/6b/hv98/3H/a/98/4v/dv9A/x//Bf/V/s/+8P4M/xv/K/9R/1f/O/8s/yH/LP9E/zr/Jf8W/xD/+/68/pv+q/7F/vH+Ff8h/zr/O/8p/yz/Gf8G//X+6P72/v3+HP8l/9r+tf7a/gr/O/9g/3D/Zf9l/4v/pv/F/wMAQwBdAGQAbwBqAFkAUAA/AAoA1v/G/9D/3P/G/7z/1v/x/x8AWwCFAHsARQAwADUANQBVAGoAQQAVAA8AFAAVADQAZQCKAKAAlQCAAHUAWgA1ACUAFQAFAPv/4P/q/zkAdQBwAIEAsAC6AKUAoAClAJ8ApQCaAH8AjgCuALkAmgB0AHkAhQB8AHsAdABlAFQATwBvAIsAngClAHkAQQA+AFsATgA2ACMABQAIABoAKABVAGQATgBUAE8ASgB5AJoAhQCKALQA3gAQARUB7wDOALAAnwCCAFUAMAAuAEEAPgA6AFQAbABfAC8ADwAgADsAQAArABEAKwB6ANQAKwFfAVYBJQHqAN0A6gDfANEAtQCbAK8AygDUANYAygDLAJ4AVQBQAFIAWwBsAFUAOwBFAHsAegBfAHsAfwBfAF4AlgDFANYABQEmAR8BHwEPAeQA2gAFAfwAtQCgAIQALADv/8z/sP+h/5n/q//E/9z/BQAwAFoAegBvAGQAfwCOAJUAuwDRAJ8AZgB5AKEAtgC8ALQAtQClAIAAaQBrAHEAgACLAIUAmgC1AKAAjwCQAHoAlQC1AKEAsADFAKoAlQC2AOsA8ADLAMAA1QDFAI4AbwCKAKUAsADbAAsBMAE2ARsBCgH/APoA+wDwAOYA6wD7AO8AtACWAKoApACFAIoAqQClAJUAuQD1ABYBEQEFAQAB5QC7AJAAZgBAABoA9//7/wUA5f+y/5//t//K/93///8QAB8AQABpAGoAVABqAI8AigBbACQACgDq/8H/pP97/2b/e/+Q/4b/d/9x/2X/YP9h/2z/lv/A/9v/8P/w/+z/AAAfAB4ACgAFAPX/8f/w/8v/sP+m/5X/d/9b/2f/oP/d//v/+/8AABAADwAPAOv/oP+L/5D/gP+F/5v/i/9w/2v/dP9r/z//Ov9P/0b/QP9Q/1//Vf82/wr/7/7k/vX+EP8c/0b/fP+b/6b/wP/R/6D/Zf9Q/0X/LP8Q//X+6v7m/uT+Ef9Q/1v/Rf8r/xT/Fv8w/2f/m/+n/5//of+r/5b/ev9s/0v/Qf9W/2v/m/+7/6D/kP+b/7X/xf+x/6z/wf/A/6b/Zf8Q//b+5v7W/vX+G/9E/1v/Sv8x/yr/Uf96/5D/2/8WACAAIAAVACUAFQD2/+f/xv+r/3v/Sv9A/1b/dv+L/6z/yv/L/7b/t//P/9v/8P/y/8H/m/+W/3X/O/8A/8H+r/7W/v/+Ef8r/0b/IP/r/vH+Fv8r/0D/kf/7/08AegBlAE8AXwBfAD8AOQBAAA8Ay//Q//z/BAAQACkARgBZAGEAawBXAEsAawCQAKwA2gAAAQABAAEVASYBHwEPAfAA0ADLAMAAigA7ADAAWgCBAMsACwEEAeAAvwCVAH8AgQB1AEsALwBEAF8AXwBZAHQAhQB/AJsAkABAABAACgDs/9f/1v/Q/+D/EABaAIAAWQAgAPv/6/8EABwANABlAIQAlQCJAIoAwADgAPsAJQEVAd8A0ADaAOEAywCbAKAAtQCfAHQAUABFAEEANQBAAGkAgABfABsA+v/h/9D/AAA6AGUAhACQAJQAkAB6AGUAbgBgAEAARgBVAFYAQAAQAAoAOgBbAHsAmwCWAIAAiwCbAKAAuwCwAI8ApgDWAOsA5ADQAL8ArACmAMYA0ADfAPEAvwCmAMUA8gAPAQYBFQEmAQ8B6wDPAKQAZQBaAGUAdACMAHQAMADq/93/4P/M/8v/5f/6//v/CgA1AFYAWwBgAFsAOwA6AFsATwAPAOb/2//q/xQAGgDw/+D/5v/m/9z/xf/L//D/FgAvADoAOgA1AEUARAApACsATwBlAFQAKgD//+v/+//8/+z/6P/h/9z/t/+W/7v/xv+Q/2v/a/+E/5z/pf+2/57/h/+x/7z/kf9x/3z/e/88/xD/If82/0b/QP8r/0v/a/9c/1b/Zv9g/zv/Nv9G/zX/Bf/K/pr+lv7V/hv/MP8g//X+zP7B/sv+4P71/vv+AP8h/1b/hv+g/5b/dv+V/9z/0P+n/5//ff9K/z3/RP9H/0T/Uf91/4z/lv+R/3z/df9r/1//cf+K/5f/mv+B/2X/W/9k/2v/a/91/2b/Rf8W/9v+zf7g/tf+xf7G/sv+6v4L/wX/6v7q/g//Kv9G/1D/J//7/gb/TP9x/1b/Uf97/3b/Rf8r/xX/DP8Q/xH/Gv82/1X/Qf8K/+D+1f7g/u/++/4A/zD/Zv92/5z/tf+l/5//m/91/1b/Vv9w/7X/8f8PAEQAfwB/AGkAWQAZAOD/1v/L/8D/tf+///b/GQAQAPb/0f/L/9H/wf/G/+D/9v8AAPb/9f8FACoAYABlAEsAJQDM/5v/wf8KAEAAOgAwAD8AQAA1ADsATwBfAG8AegBUAC4ALwAgAAoABQDx/8b/xv/l//z/IABVAHQASgAaABQAJQBFAFUAZABqAHkAsADaANsA3wDmAMAAigBqAEsAMAA1AEAANQAwADoAWwCAAIYAigCwAMsA2gDwANUAuwDaANYAzgD2AAoB9gDgAPAA9ADlANsArwB7AG8AgQB+AJIAqQCXAJ4ApwCjALUAzwDrAAkBFQEfAQsBywCkAIQATwAaAAoAIAAqADAARQBwAIUAegB6AHQASQAUAAoAIAA2AEsAYABfAEoASgBvAIAAgACaAIoAagCMAJsAiwCFAFYADwDr//r/KwBKAFUAXgBkAF8AVQBkAHQAPwAFABsANQA6AEoAWQBgAHUAmwCaAHoAZQBQADUAKgA1AFUAVQA5AEsAUABAADAA/f/2/yYANQAwAEAAVQBAAAoAEABEAGAAlADAAM4A4ADVANsA5QC7AKAAhQBmAEsAKwAmACEAAADh/+v/DwAlACsAJQAAANb/5v8GAAAAAAAPABAAJAArACoAQAAqAAsA+v/V/8b/y//A/5v/gP+Q/6H/t//s/xoAOgAQAMX/tv+2/5z/Yf8m/wv/Af8Q/yv/If8P/yD/Rf92/6v/rP96/4D/lf+h/9H/5v/2/yAASQBQACsA5v+h/2v/Yf+g/9H/4P/2/wQAEAAaABoAEAAAAAYAKgArAA8ABQD1/9f/wP/B/8r/vP+w/7H/xf/m/+v/7P8LAE8AkACaAGsAOQA2AD8ANgAkAAsA6v/c/8r/kP9l/1D/T/9w/5v/tf+x/5v/lv92/0D/Zv/A/wAAHwAKAPD/AAAaACUABQDL/8T/1v/R/6v/gP97/4b/of/H/6v/gf9a/wv/8P7n/tv+2v7Q/uv+EP8g/zD/Uf9m/3X/cf9P/0b/cP+R/2X/O/82/0v/hf+q/6H/kP+W/5X/gf+K/6X/pf+c/6v/xf/K/+D/AADw/8v/xv/m/9H/lv91/0v/IP8c/zD/Jf8q/2D/i/+h/7D/m/96/3D/a/+A/5v/pf+w/6X/e/9q/3b/hf+w/9b/wP+W/4v/h/+a/7f/uv/G/87/0v/r/wEAAADs/+D/1v+2/6D/m/+P/4v/j/+c/8//EAAkACYALwBGAGoAdgBkAEUALwARAPX/9/8EAAUA5f+2/7D/1v/w/wUAAADb/8z/uv+N/3X/jf+b/5L/oP/M/+v/1v+w/5D/jP+w/8z/1f/n/+X/vP+P/5L/tf/B/8v/8f/7/+H/5v///wAAAAAWAE8AiwDFANsAoQB3AIYAiwB6AFYAYACbAL8AzwDgAAsBFQHrANoA2gDQAKoAkAC0AM8AwwDLAOUA2gCqAIsAdQB1AJoArwC2AK8AlgCaALEAqgCWAHsAdgCaALoA4AD6AOsAqQBgAHQAoQCvALwAvgDQANQAsACvAMUA2wDgAMsAzwDgAN8AwACZAJoAvwDVANsA1QCVAEsAGgAAAOX/v/+1/8r/AABUAJQArwC0ALUAzwDKAJ4AtQDeAOoA8ADAAKQAxQDAALUAqgBwADAABgDc/7b/sf+g/4v/lv+s/8D/2//w//z/CgAQABUAJAAvAAkA0P+6/7b/u//X//X/9v/l/+f/+//t/8b/pv+w/+D/6v8AAC4AOAA5AEkATwBFADQAHwAEANv/uv+l/3//d/+l/8b/2v/2/yAATwBpAI8AmQCKAJ8AmgB0AGAANAAKAA8AFQAJAOD/uv+X/2H/N/8A/+f+C/8r/zr/Vf9x/4r/kP+B/3H/Wv9R/1D/Sv9F/0z/YP9W/1b/i/+g/5v/tf/A/+X/GwAaAPH/tv+M/4D/i/+L/1D/9v7A/sD+y/7V/uD+7/4h/1b/cP+B/5b/wf/h//v/GgAbABUAJQA1ADYASgBqAF8AMQD6/9H/t/+X/5X/q/+L/3v/lv+G/4b/sf+2/6b/tf/W//b/DwAPAPz/5v/c////JQAPAOH/0P/W/+v/5/+n/3b/cv92/4L/mv+8/9D/1v/F/7f/wP/R/+v/1v+1/9H/6//m/+v/9v/x/+j/xv+M/4X/jf90/2L/X/9h/2v/d/+K/5z/hf9m/3v/m/+g/5r/kf+J/4z/iv9N//T+5/4J/xz/MP9g/6D/u/+x/8b/+P8kAFYAfgCAAHkAgAB5AF8ANQDr/7b/oP98/1D/Fv/q/sz+oP68/vr+EP9A/4v/p/+A/2v/pf/m/wQAEAAfADAAJQAaACQAGQD8/9X/wf/Q/73/q/+s/4r/Z/9L/0D/Vf9W/1H/cP+C/4z/sf/A/8b/2//n//D/+/////H/9v8FAPr/AAAeACsAFQAFAB8AKgAQAAYAGgAKAOv/y/+H/1b/Rf82/xD/8v4R/yz/MP88/yn/J/9g/6f/2v/n//n/KwBEADsAOgA6AB8AAAD1/+b/xv+7/6v/pv/A/9b///81AFoARQAfACsAOgBGAFsAiwDLAOoAAAEaASEBPwFnAXoBiwF5AVUBTgE2Af8AAAEqAVUBjwGqAbsBxQGlAYoBdQFWAUsBPwElAQYB6wDkAN8A5QD1APAA+wAgASIB9ADGAO4AUAF0AXsBiQGAAXQBbwFqAVoBJQHwAOAA4ADsAPoACgH/ANEAxQDFANAA6wDsAOUA8AD/APAA2gDxAA8BEAEUARAB5QCwAJQAewBfAFAAWwCHALUAywDLALsAlQCAAJAAdABAADUAPwBAACUAEAAaACYAFAABAB8AKwDl/5b/W/8c/wX/Fv8a/yH/Nv9h/4z/qv/R/+r/5//G/6H/lP+H/4X/nP+7/9f/9f8bAD8AKgD1/9z/1f/V/+D/9v8AAA8AJQAqADAAMAAmACoATwBaAFAAbwBlACoABAD//zQAVAApAPX/0f/L/9D/5v8KAAAA4f/L/8v/4P/A/5D/dv9K/zX/H//2/uX+4f7U/rb+pP63/t/++/4P/wz/Ff9L/1X/N/8l/xb/K/9r/5v/m/+b/6D/lv+Q/4v/hf97/3X/e/9w/1v/Zv+R/5z/lf+b/5D/pv+1/5X/e/9g/2b/hP+c/7b/p/+A/2v/S/8h/wv/C/8g/yz/Ov9x/6b/xv/Q/9b/5v/c//D/FQAAAMv/i/9b/1X/Vv87/0X/gf+Z/4v/gP93/4r/t/+w/6H/sP+w/8//AAAQADAAYAB1AI8AkAB7AGoANAD8/+v/6//r/9v/1v8KADAAJQAVAAAAAAAKACQAUABaAEUAFADx/xYASwBZAGAAWgBFAEAARgBGAB8A8P/m//H/CgAAAOv/AAAAAPv/KQB1ALUAswCqAMAAiwA1ADEASgBFADUAOgBbAFoAVABaACYA9v/2//v/9v/m/9v/zP/L/+L/9f/2/+///P///wUAMwBbAEgAEADl/8f/tP+w/7b/sf+r/8D/xv/H//H/DwAFAOv/xf+k/4X/af9h/0D/If9M/3b/Zf9b/2X/e/+a/7X/0P/w/xkAKwAvAE8AbwCgANQAygCQAEAADwAFAPv/8f/V/7D/pf/A/+D/4f/Q/8X/wP/A/9b/5v/W/8D/xv/w/xoAKQAvAD8ANAAaAAsA0P+H/1f/HP8L/yb/W/+X/5X/dv9q/2v/hP+b/5D/cf9K/zX/Mf8w/zD/Mf9M/3D/q//l//z/JQA1ADsAawB7AGsAWwA/ACoAFAD3//X/BQAEAOb/wP+w/5v/e/9r/3v/q//G/9H/8f8AAAAA6//Q/8v/zP/L/8D/sP+v/8D/sP+b/7D/xv/E/6D/ev97/4X/lv+h/5b/l//K/xEAGQABAA4AAQDK/63/sf+8/8b/4f8KAAQA6//7/wEAAAAAAPD/6/8OADUANAAvAD8APwA6AFUAhQCzALUAlACGAJkAoAB1AFYASQAVAAAAEAAJABoATgBwAHQAgACGAFoAOgA2ACsANQBgAIsAmgCPAH8AegBbACAAJABbAFQANgBQAGEAVABLAEoAZQCKALoA+QAqAUsBTwFGAT8BJgEAAdwAowBxAHAAYQA1ACYACgDW/9b/BQAPAOH/zP/x/+v/8f86AGoAdQCEAIQAVAAvACoAHwAlADUALwAgABUADwD6/9r/8P8gAEAATwBQAGQAcQBkAGAASQAbAPv/xv9//1v/Rf8s/zv/W/9x/7b/EABOAGAAcACGAGUAWgCOAKUAkAB2AGUAVAA1ABQA1/+Q/3v/hv+R/4D/cf9R/wz/+/4L/xD/Jf9A/1b/TP82/2f/lv97/1r/W/9r/2H/UP87/wf/1v7W/tX+xv7Q/uH+7/4A/xr/G/8P/xv/G/8Q/x//QP9R/2D/a/96/6D/qv+1/9b/1v+x/5H/kP+V/6r/1f/r//D/+/8PABoADwAFAPH/wP+b/4T/W/81/zb/Zf+V/7v/8P8JAAUABAAAANv/yv/r/woADwD8//f/5v/G/8D/uv+r/6v/u//K/8v/tf+L/1D/S/9l/0z/av+2/9X/4f/E/6H/wf8FAD8AUABQAHoAtQC1AH8AbwCKAIgAbwBOABoA3/+s/5X/q//V//b/BQAUAEAAXgBKACUAGwAeAAoAHwBqAH4AUAAaAOv/5v/6/+b/1P/w/wMAAAAFAAUADwArAD8AWgBlAE8AKgAFAAoAEAAFACAAUABlAGoAZgBLADoATwB6AJUApgC3ALAAtgDAAMAA0QDmAOUAzwDAAKUAgABQAAsA1f+7/8//5v/w/ysAZQBgAEoANAAvACoABQAFAB8AFQD3//D/9f/l/+b/+/8FAAoA9f+1/4D/a/97/8H/BgArAEUATwBFAEsAVABFAC8AKwAfADAAagBGAAAA9v/7/xUAKgA6ADsAJQAwAEoAQAA5ADoAKQAPAAAACwD1/9v/8f8FACEAOQBAAEkAMAAAANv/sP+h/6f/xv8LAC8ATABuAGoAZABmAFkAVgBpAKYA6gDwAOoA7wDkANoAywCfAFoAMAAbAAAA+/8LABQAGwAvAEsAdACAAIQAmwCJAIEAjwCVAK8AqwCqAMAAoACFAIoAiQCVALUAygC5AKoAmgBwAGUAdQBwAHUAiwCKAHAAagCgANAAtgCQAHUATwAqAPz/8P8QACAAQABgAHAAmgDEAOUA9ADvAOkA9gAOAQoB7wDUALoApACvAMQAtgCZAJYAlACBAGgANgAeADEAQwBqAK8A2wDKALoAsACZAIUAfwCRAJsApgCaAFUANQBEACUA+//c/8T/1//V/8b/2v/r//X/GgBvAL8AuwB6AFAANAAbABUAAADV/9X/+v/6/9v/yv+x/5b/q/+w/6b/q/+b/5D/dv9W/0r/Rv9l/5v/q/+W/4b/hv+m/8H/sP+l/7X/0f/2/yAAUAB1AKAAywDKAKsAhABPAPb/lf9w/2D/LP8a/zH/MP8x/yv/LP9P/2z/lP+h/5//sv+w/6f/pv+y/9b/IAB1AJYAoACgAGUABADR/6D/Vv8w/yH/Fv8X/xD/9v4R/1H/Z/+R/8b/wP/B/9D/y//6/0YAWgAwAB8AQgBVAFAALwD7/8D/fP9n/6f/AAAxADoAJAAOAB8ANQA1AC8AFQDm/8D/qv+g/7D/y//i//H/6//g/8b/mv97/3r/kf+u/8v/xf/C/9X/zf/F/9H/1f/B/6T/m/+a/4b/Sv8R/wb/6/7g/vv+Cv8g/yb/IP8r/1//sf/L/83/5v8AAAoAHwAvABAA4f/L/7v/iv9a/0b/MP8a/zT/Zf97/4b/oP/L/9b/pv+F/6T/z//6/xoAMwBfAFkAMAAJAOD/3//h/8D/u//W/8v/v//U//X/LQBZAFkASgBDAFQARAAaACUANQAvAE4AdQCLAKsAugC1AKoAjwB6AGAARQA+ABoAyv+i/8X/5//l/+z/CQARAAoAFgAJAM//pf+Q/3z/hv+N/3H/SP81/1f/kP/n/1sAjACGAJYAkAB6AIUAagAsAAYA3P/G/9H/4f/x//z/+//m/9X/1//g/9b/uv/C/wAAOwA7AEYAbACAAIoAiQBvAF4AZQBrAGUAMQD7/9z/r/+W/6//sv+P/6f/y/+7/7r/4P/l/9r/4f/q/wYAFAAhAEAAVwB1AHsAbwCJALUAqgB6AEMABgDh//7/OwBhAGsAdwCgALgAqgCOAFkALgAcAAAA9/8GAA0A9//H/7D/kf+G/5z/kv+s/+H/8f/2/wQADwAKAPv/AAAWAPb/r/+V/5v/gP9l/2X/S/82/0D/Kv8F///+AP8G/wb/9v73/gz/Iv8o/yf/F/8C/xz/Qf9F/0z/Nv8W/yX/If8Q/wb/+v4L/xr/H/8v/0X/cf+c/5H/cv9s/1b/Qf9m/5b/wP8AACoAJQAGAPb/8f/m/+X/AAAPAPD/2f/v/wAA/f8AAPH/xv+W/4X/pP+v/7X/0f/l/9f/sf+y/7b/of+s/7z/0f8AAAAA8f8RABAABQArADYADADc/7z/pf+b/6D/kf9r/0b/IP8R/zv/cf+M/6H/xv/r//3/8f/g/8//p/+C/4z/tv/x/yoALwAKAAAA///r/+H/8f/r/8H/kf9y/3b/d/+M/9L/+/8QACUAIAAAAMb/pv+K/3X/kP+W/5b/pv+l/6D/qv+3/7D/m/+V/5L/j/96/0//P/8+/2D/sP/F/7X/sf9m//v+xf60/sD+xP6x/qv+wf7a/gD/RP91/6v/0f/b//z/BgAFACsAagCWAK4AtgCPAEwAHgD8/7r/kf+e/5//n/+n/7D/tv+r/7D/sP+g/8H/8P/0//b/8f/x//v/5v/q/wAA//8lAFAATAA6ABUAAAABAOL/vP+n/7z/AAAlADQASQBlAIUAlQCqALAAjwB0AHQAhACQAIAAgACAAGYAagB2AHoAgwBpAD4ARAB/ALoA1ADEAJ4AfwB0AJoAyQCqAHAAYABAAAsA5v/W/9z/xv+m/7b/5//7/+f/3//w/wUAKwBqAKcAywDRANUA+wAwATsBKwEWAeUA3wD+AO4AxACgAJAAfgB9AKUAqgCFAI8ArADFAOUA/gA1AVMBSgFTAVUBWgFxAVkBBgHfAOYA4wDLAJ8AfwBfAFYAagBlAGkAegBfAEAATwBaAFAASwA7ACQAGwAaACEALwA6AEQAWgCIALoAyQC0AIkAawB0AHQAVQAvACUARQBMAEUAVQBJACoABADV/+b/9f/V/9X/y//F/wUAXwCaAKgAtADJAM4AzgDKALQAoABvACoACQDq/9X/wf+k/7v/v/+g/7X/4f/g/7b/of/H//H/FQBGAHEAkACQAIUAgABgAFoAbwBaADUAFQD7/wAABAD2/+r/6//7/woADwAFAOX/xf/R/+3/9//3/wwASwB1AIUAnwCZAHQAdQCWAIkAagBfAFAAOQAgADQAewCpAJ8AmgCFADsAAAD6//b/0f+6/8v/+v8gAB8AAADV/+v/CgD2/+D/wf+R/3H/YP9r/4v/lv+m/8D/xf/Q/9b/tv+W/5L/e/93/6z/xv/K/8D/lf+V/8D/5v8fAE8AVQBVADkAHwBPAI8AqQCZAG8AXwBZAE4APwAzAD4AOgA6AFoAbwBmAEoATwCJAL8AyQCwAIUAZgBbAGwAjwCAAF8AYABqAIAAkAB3AEAA8f/L/+D/2v/Q/9b/0P/Q/9L/p/+B/4D/dv91/3z/e/93/3z/fP9w/3b/of/X//L/AAAQABsACgAFACQAQABFACsALwA1AC8AOgAkAPv/5v/W/6v/pv/R/7z/gP+l/+H/4P/r/wsAOQBBAC4ARgBuAIsAowCwAJ4AhQBQAPH/tv+2/7z/sP+8/8r/sv+s/7b/uv/G/+D/JQBvAIQAhQCbAKAAcABLAEoASgBaAJYAzwDFAI8ASwAkABoABQALAB8ATwCgAJAASwBVAIAAlQCVAG8ARQA1ABAA3P+g/2r/dv+W/5D/l/+x/6z/pv/L//D/4f+2/6D/tf/b/9H/sf+s/7z/0f/Q/9H/5f/t/9v/ov9b/zH/K/9F/1H/UP9l/4X/pv+6/8b/4P/s/wQANQAvADAARQA1AE8AbwB6AJkAqgCkAGUACQDs/+v/0f+7/6v/pf+l/5D/e/91/5v/0P/L/9z/JABVAHAAawBOADoAOQBFAB8A7P/r/9D/m/+m/7r/wP/c//D/+//6/9v/v//K/8v/xP8FAD8ANgAUAOL/uv+n/4X/Z/9f/0z/Nf9B/2H/cf+B/7H/1v/Q/8H/yv/G/5X/Zv9V/0z/cP+n/8b/4f/l/+b/2v/B/9b/1v+g/3z/hf+Q/4z/pv/G/9b//P8qACsAEwAbAAoAwv+Q/4X/af9R/2v/of/b//z/6//M/6v/i/97/2X/UP9h/4r/jP9w/3v/kP+X/7v/zP+m/3z/fP+V/5v/oP+x/8D/1//R/6f/i/9i/zX/J/8b/yH/L/82/zT/Bf/6/jH/Zf+F/4D/e/97/1v/UP9G/zH/Rv9c/3D/kP+r/9f/+//y/9z/2//W/8v/y//V/+v/6//Q/8v/0P/G/9D/8f8VACYAJgA1AEUAQAAwAFAAgACLAKAArwCMAEsABQDV/8b/u/+2/9X/7P/r//v/JgBWAIoAygD6AOoAmwBKAAkA8P8AAAAA+/8aAD8ASgBaAF8ARQAQAOb/5f/V/8b/5v/1//H/EAAvAEQAagCFAJUAdgAlAPj/8P/h/7v/nP+v/7L/kP+L/2b/J/8m/zf/Uf+R/9v/AAAFABUAOQBaAHkAlQCvAKUAaQAwAPX/2//h/7b/q//Q/+H/6//m//T/BgDa/8v/6v/c/8D/vP+1/7D/sP+n/7L/7P8wADQA9v+r/3b/W/9H/1b/cf96/5r/tP+R/2X/cP+K/6D/n/+F/5D/lf9w/3v/of+V/6b/1f/c/wAANgAkAPb/AABBAGkAYABfAGAAWgA7ABsAKwApAOv/tv+7/8L/u/+i/4X/rP/Q/8z/5f8bAFoAiwCKAGAASwBUAFoAbwB7AGoAYQA/ACIAKgAwAC8AJAAkACQACQD1/+f/5v/8/wAAEABOAFUANQAmABoALwBUAGYAbwB/AJEAgABFAA8A6P/R/9P/5v8XAEQAWwBKAAcA5v8FADkATwBJAFUARAAPAAQAAAAAAA8A/v/b/7X/oP+l/6H/nP+n/8b//P86AGYAYABFAEAARgBgAHYAXwA1ABUAAADb/7D/pv+f/4D/Vf87/zD/LP87/yL/C/9s/9X/9v8VACsAHwAFAPX/9v/g/7b/sP/G/8H/ov+Q/3H/Yf+M/5X/hv+V/5X/a/9A/1b/jP+7/+X/8P/k//r/DgAPACoAGwAAAPz/5v8GAC8AKgAaAPz/9v/x/+D/AAAPAPz/BgD3/8v/wP/B/7b/ov+n/7z/wP+7/9D/3P/F/8b/0P/C/6//p/+Q/23/df+N/6b/sf+P/4b/qv/B/9D/yv+r/6D/pv/c/xAAAADm/7v/m/+7/9v/5v8AAAoAAAD6/9b/wP/b/9X/ov9l/0v/T/82/wX/6/7c/rf+sf7s/iH/Gv/2/vr+O/+Q/+D/BAAMADQAYABlAFAANgBAAFUAPwAhACAAIQALAOj/1//i//L/CwAVAAAA9v/1//X/9f8EABgA8P/k/x8AHwD7/wUAIAAvAEoAZABpAGoAUQAqABAA0P+c/9v/JQAPAAUAGgAKAAAA+//v//v/FQAUAAUAAAD2/+r/4f8KAFEAZABqAIoApgCvALAAvwDKAL8AuwC6AMAA2gDaAMQAqgB1AFAAWQA6AAQAEAApABoA9P/c/+r/BgApAGsAngDGAPUA7ADOAMAArwClAJkAgABVACQA+//h/+D/6/8AAPv/y/+w/6b/sP/W/9b/wP+6/7T/yv/R/7b/u//A/9H/IABfAGUAawCCAHsAUABaAIYAhABrAHkAmwCaAI8AhQCAAHsAZQBrAHoAewB/AHYAVAArABQAGQBJAHAAYAAkAAAABQAhAEUAOwAkADoAaQCKAIkAcABgAIUApQCkAJ8AigBrAEoANQBUAHsAkACaAIoAqgDVAKoAdABpAFUAPwBfAIkAjwCKAJAAhQBkAFkAbwB0AEoANQBAACQA+//w/+b/5f/c/6b/mP+7/8L/qv+H/2v/bP9l/0b/QP9K/1D/P/8g/yD/Rv9G/xz/If83/0b/R/8w/yb/IP8r/2r/oP+r/7v/u//A/9f/y/+y/6v/of+g/7H/n/+m//H/FQD7/+H/4P/s//D/9v8fAEUAWQB/AKQApgCKAGsAZACPAJQAdQB/AH8AegCKAIUAjwClAIkAgACaAJEAiQCfAK8AnwB6AHQAqgDOAMsAzwCrAE4ABQD//woAGgAlACMANAA1AA4A9f/2/wYACgD2/+v/yv+b/5v/sf+w/8H/5f/h/+//BQAKABsAGwALAPv/9f8MADsASwBJAFUAXgBWAD8ARQA0AAsAHwAgANb/pv+1/9b/9v/2/+b//P80AFsARAAmACkADwAJADUAOAAmABkA9f/V/9v/+/8BAOH/1v/h/9//BQA7ADsADwD8/wQA+v8PACoAHwAvAE8AagCaALoAzwDaAMUAtQClAKAAtQChAGAANQAaAAUA+/8AAB8AQABqAJsAwADFAKsAigBqAFQARQBKAFAAOgAbAAQA/P8JAOv/i/9M/zX/Rv9w/2z/Qf8i/yb/Yf+h/7f/5f8aACUAMAA6ADUAIAD7/9b/tv+r/7b/q/+b/5v/tv/m//v/8f/l//v/FQAQAAoA9//G/8b/4P/c//D/AADw/9v/xf/B/8D/y//L/6z/kf9n/1v/h/+g/6b/tv/X//b/5//B/8D/xf+x/8D/6//7/+v/4P/g/8v/nP+R/7b/yv/R/8v/u/+b/3H/Zf97/5H/kv+W/6X/n/+A/5X/u/+x/7b/tf+b/6v/uv+K/4X/xv/1/woAGQBJAHoAZQA1ACUAGgAFAPb/1v+r/5D/df9X/zb/HP8m/0b/gP+c/3b/Yf9g/2b/i//Q/wAAAQAAAAUA6/+x/3v/Uv8s/xD/Jf9W/2//W/8Q/+v+C/8r/1H/gP+g/5X/av9g/3H/gP+x/+b/8f8FACAAJQArACEAIQAiAAsA/f8FABEAAADc/6H/i/+2/9b/0f/W/+z/5f/W/9b/1v+8/7v/9v8lACsAGgD3/7X/p//g//f/6v/i/9r/0f/V/+H/2//G/7D/gP9V/2//kP+L/5b/iv92/7v/DwBAADoA5v+6/7f/tf/R/+X/CwBOAIAAiQBgAFQARgAaAC8APAAvAEoAMwDW/3r/Uf9//8H/z//b/+v/y/+m/6v/tv+1/8b/6v8BABUAPABkAIAAegBlAGUATwAFAMH/of+F/3b/fP9x/3X/lf+m/8z/AAAAAMz/oP+h/6v/of+Q/5b/q/+r/6f/rP/M/wAAJgBPAFwAQAA3AEoAWwBKADEANAAmABQALwAuAPb/1v/m/woALwBVAGkAWwA/ACsANQBRAEAAEAAvAGYAVABFAFoAVQA2ACYAFQAVACAAFQD2/7D/cP9Q/zz/Nv8q/xD/Bf8q/1X/UP9A/1b/df+W/8D/zP+//8H/xP+7/7T/q/+p/7b/qv+N/3v/cf97/5H/lf+c/7z/0v/Q/8v/tv98/0b/Jv8G//r+2/6l/oD+Vf5m/sX+Fv9V/6b/0f+8/7D/wP/L/9b/3P/G/7z/tv+y/7v/m/+K/5z/pf+2/7n/pv+B/1f/UP9c/2f/d/+M/7b/2//q/+H/wP+3/9X/9/8qAIUAqgCFAFUAFQD3/wUACwD7/9b/u/+W/2b/Uf9B/yD/4P66/uH+EP9L/4X/kP+W/5v/pf/F/9b/1v/R/8v/5v8PADUAQAAwADUARABxAKYAiwBZAEUAPwBgAIkAqgC1AKAAjwCKAJAAogDGANAAsAB8AD8AQAB0AHUATgBLAGsAiwCaAIoAagBaADkADgAqAFMASgAqAAAA0P/G//z/BAC2/7X/GgA5AAsA5P/I/8T/5/8uAHUAqQDFALoAlgCLAKAAsAC6AMAAugCWAHMAYABUAEsAOQA7AEUARgBFAFUAZABQAEUAZQCfAKUAigCLAHoAawB/AHUARABAAGsAmwCvALkA1QC5AHoAVABAAGoAsQCvAHsAagCQAJ8AmwCvAKAAlgC1AM8A3wDGAKUAlQB1AHAAegB6AH8AegCFAI8AlAC0AKUAegBfABUA5f/w/+v/+/8kAFsArwDlAAkBKwElARUBFQEsAUUBUAFKAQsBxAC7ANUAEAE1ARsB+QC1AGUAQAA2AEAANQAqAFAAdQB1AF8AZgCOAIsAfwCbAKkAxQDaANUA5QDfAMAArwCLAGoAWwA+ADYAEADh/yQAawBwAJAAmgB0AGAAVQBRAGoAegBkADoAGgD3/8v/0f/x/9v/0f/m/8H/nP+B/2X/UP82/1z/lv+w/9H/5v/r/+D/3P/7/xoAKgAGAM//wf+w/4z/YP9A/0D/Zv+Q/7f/2//L/5b/W/9K/2r/l//R/wUAGgAQAP//BQAwAGAASwDh/4v/dv97/5v/u//P/wAANABaAIkAoACgAJAAZQBlAI8AqgCbAG8AcACbAKEAdQA1APb/8P8rAF8AYAAvAPv/5f/w/xsAUACAAKAApgCaAGsANQAlACoAJQAPAAAACgA1AFoATwBbAJoAxQDVAM8AqgB0ADsAEADr//X/KwAaAAsAQABVAEoANQAmAC8AIQAKABYAOQBAACQAAADk//H/JABgAIoApQCqAIUAWwBUAFsAPwAWAPv/8v/w//b/FAD8/9b/FgBFADUAOgAfAAAADwAwAGQAlQC/AMYAugDWAL4AdgBeAEcAIAAnAFQAgQB/AGYARAAUAC4AgAC/AOAA2QDJALQAmQCPAKAAtACvAJYAewB1AHYAeQB7AGQAYABlAFoAcwCQAIUAawBaAFUAVQBgAGQAaQCKAKUAmgCKAHsAWwBVAGsAZQA1AOb/kf9W/zv/Nv82/0D/Vv9r/4X/mv+w/9X/1v/b/wQACQD7/+X/wP+l/3v/YP92/4D/df+Q/7D/kP9g/1r/av9k/1X/YP9w/3z/gP9x/0//Rf9b/3H/kP+2/9X/y/+l/8H/8P/r/wQAJgDx/7H/m/9n/0X/e//A/9H/wP/M/+H/tf+L/5r/tf/K/7D/f/97/3T/Vv9K/2D/dP9R/zn/Zv+q/+z/GwArAEQAPwAJAPb/+v/r/8v/of9w/1r/cf+h/9v/6v/1/yUAIADr/8v/tv+m/4H/Zv+m//L/FQBGAEYAGwAAAOX/1v/H/6z/iP9i/3H/jP+G/4v/pf+n/6H/q/+k/5D/gP+G/6D/wP/m//D/2/+3/5b/dv87/xz/J/83/0f/J//2/vf+Fv9H/2f/bP+W/8D/sP+W/2v/Nf8s/zz/XP+L/5v/pv+7/8b/2//g/9X/5v8AABUAHwABANb/wf/F/9L/u/+x/8z/vP+c/4D/R/8V/xX/QP9s/4v/kf+Q/5v/qv+//8X/pf+b/8z/5//h/+X/2v/a/+r/9f8GAAoAAADx/8z/of+B/1H/MP8t/zz/d/+w/8f/q/+M/7v/+/8kAEoAVQAvAAAA9v/9//H/3P/K/6H/iv+M/4D/d/9x/2f/bf+F/7L/2v+8/6D/sv+6/7L/kP9y/3b/XP8l/xv/MP9V/1r/Nf9G/2T/YP9//6H/pv+9/9v/9v8EAAQACQDl/6z/pf+s/7H/tv+r/7H/u/+r/4r/YP9R/0v/Mf81/2D/df93/4v/i/+M/8H/+/8pAE8ASwBFAD8AKgAfAOX/kP+G/6v/u/+i/5z/rf+V/5L/sf+n/5r/wv/r/9f/v/+m/3D/d//B/+v/5f/q/wQAJQAsAPH/sf+W/5L/pf/A/8X/tv+6/8z/4f8EABQABAD7//H/4v/b/9X/1f/g//D/AAD3/8b/l/+M/6b/xv/r/x8AKwD8/8v/xv/7/zUAWQCKAKQAmwB/AEYAGgAaACUAJgAqAEAARQApACUAKQArAD8ARQBJAFUAPwAwAEAAUQB6AKkArACUAI8ArwDBAJkAawBvAGsAVACFANkA3wCpAHkATwBVAIUAiQCAALUACwElAfsA5QD1AOAArwCbAJQAhQB0AGAAWQB7ALgA6gAJAQwBCQH1AMoAvwC0AJUAjwCJAGoAWgBAAAQAzP+W/1z/Mf9A/4z/y/+r/2b/W/9V/2H/lv+w/8z/5v/K/4//X/9P/1H/VP9h/4b/vP/A/4z/cP9r/2X/f/+l/6T/pv+r/3H/Rv9h/2X/bP+w/+H/0f+W/2n/T/8g/yb/cP+h/9X/HgA+AEQAOgBBAGoAgACaAJoAYAA6AC8AMABAADQAGQD1/8z/tf+W/4X/hf+R/7D/0P/v/wYAGwAxAE8AdQCaAKYApgCqAJ8ArwDQALMAdQBKACwABQDn/wUAQQBVAEsAOgA7ACsA+P/n/x8ARQBAAGUAawBgAJoAzgDVAMAAigBeAFoAPwAUACQAYACbAMAAwACVAFUANAArACUAHwAYAE8AegBbAE8ARAAZAAAA9f/m/+//DwAuACAA+/8RAEoAagB1AGAAVACAAKUAsAC/ALUAjgCPAL8AvgCdAJAAdQBWADYAMQBfAF8AKAD//8n/uv/m/xEAQQCFAMoA8AD1AOQA0wDfAAUBJAEuASUBBAHgAJMAMAALAAwAIABKAE8ANQAXAAAAFQBEAHUAmACVAJkAjwBDAAQABAAVAEUAjwCqAJ8AdQApAP//7v/q/wQABADr//v/DgAJAAAA5f/m/xAAMAAvABQA///E/2T/H//m/uX+G/9W/5z/ov9s/3D/dv9c/2//mv+l/5D/m/+R/0T/Of9w/5H/oP+l/5b/a/82/wr/4/7p/hX/Fv8M/zH/UP9S/1D/Rf8//0v/d/+i/6H/rP/i//v/0P9//0z/XP9i/0L/WP+W/8z/+/8AAP//CQDg/7b/zP/l/+r/BAAfACEAFQAMABAA7P+P/zv/G/8y/2f/fP9j/3j/p/+r/6b/kP93/3z/gf+H/4z/gP9g/0b/TP9S/3f/qP+3/+H/9v/s/xIAMQAxADsAMgAJAPD/DQAqAC8AYQCAAHEAgQB7AE4APQBOAGUAQQARACcAHQDT/5f/fP+s/yEAbABrAFEASgA1ABUALwBAABwA/f/d/+j/AQDX/7D/sf/G/7v/ev9w/4b/cf9r/4D/sP8AABAA9f/6/+X/wf+7/9H/BAAaAA4A+v/k//D/9f/6/ygAOAAkABMA9v+6/4b/kP+c/5D/vP/w/wQAEwDw/7v/tf+7/7v/tv+q/7b/4P/4/wEAAwDj/9X/x/+L/27/ev+Z/8T/v//C/wcALQAWAPz/1v/K/+T/6v/g//b/FgARAPz/7P/g/8D/qv/g/x8AQAB7AKYAZgAFAOH/y/+q/5T/tf8OADcAIAD+/9v/3v/r/9f/2v8AACgARQA9ADUALwD8/+z/FwAwABoA5f+7/6D/hv92/2D/Rv91/+r/AAC2/4r/cP9Q/0b/W/+V/7T/uf/j/wkAGQATAA0AJAAjAOv/tv/B/+r/8f/W/9z/8/++/3L/Yf9Q/0//pv/7/y8AfwC1AJYAUQArADAALwAqAEEAQAAwADUAMABAAFYARgBXAIoAsADVANoAxQDBAMYAvQCzAK0AjAB2AHsAawBFACEABwDp/8L/ov+Q/4b/YP9M/1v/aP+b/87/0f+9/8X/4P/O/7v/2//t/8D/lv+g/9H/9v/8////CgAaAPz/2/8PAFQAZQBbAGIAjQC9AOcAEAH/ANUAygCqAH8AdQBkADQAGgAmACgAFwAWADoAYQBbAHUAyQCxAHsAjABkADoATwBcAGQAVQAfAPH/1v+n/2b/Pf9N/4j/t//m/wsAAQDV/5H/Yv+E/9H/+P8fAFEAOgARAAQA9/8AABEAKQAwAPr/xv+1/7L/x//4/xwAHAAXACYASgBCABcAIwBJAEkAEwDl//D/1v9m/yH/Nf9H/0L/WP+G/5H/df9Q/x//Av8W/yb/Mf9S/1z/T/9G/1b/of/a/9b/6/8LAPD/nf9h/33/wv/S/8L/zf/d/+z/8f/q//z/FQALAPD/AAAyAF4AfgCGAJYAsACaAHQAZABaAGoAcABWAFwAegBwAG8AigCIAH8AbgBaAEoAHwDh/5b/W/9V/3f/r/+2/2v/N/8m/xf/Nf9W/yv/9v4A/yX/S/9l/4D/pv/R/wEAJQAhAPb/zf+w/6L/sP/R/9b/zP/V/8b/0f8AACAASQB6AI0AdABTAFwATwAMAOb/4v8AADwAZABFAPT/qv9k/0X/Vf9P/0D/XP9d/0L/d/+c/4b/lv+w/6//r/+q/5r/j/+J/53/vv/T/+r/BQAAALn/e/+J/8f/BAAaADIAUAA5AEUAhwCwALMAegBKAFsAYABaAGQATgA6AFAAfACqAKwAhgBMACYAEQD2/w8AKQAuAFQAfgCVAH8AZgCPAKsAdABmAKAAmgBqAFAAJQAUAD8AUABGAGsAtQDbALYAhgCLAKsAxQC7ALYA5QDhALEAugDEALUArwCgAJkAjwBGAAAA+/8AABEAOgBfAHQAkACkAKUAvwDWAMoAygDfAPAA4ACLACQA5f+6/7//6v8JABgAHwAkACkAJAApADoANAAqACQAGQAZACQAIwA6AFkAVgBPAEUAPwAgANr/sP+6/9D/z//A/+b/OgBfADwAAAAFAA4A2//6/1EAZABGABMA7P/v/+X/1P/G/6v/p/+m/5b/kf/B/+f/1v/G/9b/8P/l//X/KgBYAJoAugCFADoA/P/M/73/t/+7/8f/2/8aAEUAFgDg/9//6//L/7X/xf+w/8X/EAAFALb/hv+A/2v/TP9g/5b/sP+f/37/a/9r/3z/jP+X/7b/sv+7/wUAKQAaABQAJABPAHQAYABAACsABgDs/9v/4P/g/9X/BQBFAEYAAAC2/7X/1v/V/9f/+/8UABAA9v/3/zoAeQCiALUAqgCGAEMAJQBEAE8ANAA/AFoAPwApADQASgBvAIoAkACAAGAANADm/5v/gP92/1r/Rf88/zz/Yf+c/8X/zP+1/5r/kP+2/w8ARQA6ABsAAAAEACQAbgCrAKkAlQBqAD8AKgAOANz/y//M/6D/cv9c/23/cP9R/3//6/8fABEA3P+L/2b/W/9x/9H/FQABANf/0f+7/2v/K/8n/zH/J/8W/zH/Uf8x/xX/IP9V/5v/xf/R/6v/gf91/2D/Wv9x/3X/cf+G/6f/wP/N/+H/1/+m/6H/xv/m/wQABQD8/wsAHgBEAF8ANQAaAAIAtv+H/4D/d/9x/2z/Yf9m/4f/sf/B/8X/zP+//8f/7//4/+D/0v/W/9b/2v/R/8b/tv92/zT/If8f/xz/Nf9C/0//lv/Q/9b/2//i/7H/YP8x/yX/Jv8V/xz/Rf9r/4D/cf9Z/1H/Vf9y/4v/pv/f//v/1f+w/6D/gP9A/wb/GP9G/zb/Ff8Q/xX/Af/b/tz++/4c/0b/Yf+G/7b/pv+A/5L/tv/L/9X/4f8FAAEA6/8mAHAAoADKAMAAnwCKAE8AAADb/+v/9v/2/wsA4P+R/6f/9/8gABYACgAFAPz/CgAQAPX/9v8AAAsANgAlAPv/9v/L/6D/wP/R/9H/BQALANH/pv+V/5//xf/g/9f//P9BAGUAjwCuAIQAQAAVAPH/6//x/9H/rP+r/6v/wf8FABUA8P/X/9v/EgBUAGsAfgBhABQAEQAqACEAIAALAOH/4f8QAFoAegB0AJAAqgCvALsAkgBKAEAARgBlAJsAigBvAHAAfwB6AE8AQABGADAABADc/8H/xv/8/0YAawCEALsAvwCQAJgAsACaAGsAPwA6ACkAFgAgABUAJgBVAFUAPwBKAE8AIAD3/woAOwBKAD8AUACAAKoAvwCqAJkAuwDfAPsAGQEvASkB+gCvAIwAqQC7AL4A6wAbAQAB0ADbAOUAygCwAJsAmgCKAFsARABLAEUAMABLAGQATwA6ABAA4f/B/8H/4P/x/+b/1f/q/yUAXwBwAGQAXwBFADUAWwB7AHQAWwBGAEEAVgB8AKUA2wD1AMsAnwCWAIoAgACEAJsAjwBVADQAIAAAAPz/BAAFAAoACwAKAPv/4P/m/wAAFQAvADAAJABEAHoAigB2AHQAfwBvAFAASQBqAH4AgACEAGsATwBJAFQAdQB/AF8AOQAkAE8AigB5AIUA0ADmALoAhgB6AIAAfwCfAMQAxQC/ALUAsACqAJAAiwCnAKUAlQC1ANsA3wDqAO8AxACaAI8AlQDKAOQAtgCAACoA0P+2/8X/4P/m/9z/6/8QACoAKQAaAAAA6//W/7v/pv+2/+r/AAAaAEsAagB7AFoAGwAEAOz/1f/t/wAABgAPABoANABFAEoARAAfAOH/xv/m/xsAOgAVANv/2P/w//z/BQAWABQA3P+b/5z/wf/m////9//7/xYAEAAGAPr/1v/U/+z/5v/A/5D/Uf8F/8z+xf7r/hr/Jf8x/2v/gf9r/3X/lv+L/4b/vP/G/6v/q/+q/8b/DwAwAB8AGgAUAAAA6//s/wAABQAFAPb/4P/m/9X/lf9l/1D/Zv+h/7X/pv+m/5D/Zf9c/2X/Yf9b/2z/mP+8/8z/2//x//H/1//M/+3/IABbAHoAVgAbAOz/pv93/6v/+/8qADoAFQDx//v/EAAQAPz/8P/7/xUAJQAZAAoAGgBFAHoAoQCmAKAAlQB2AEEAGwAQAAAA4f/R//f/MABAAEsAcACVALUA4QAgAVoBZAFAARYB8ADqAAwBIAEVAesApQBqAFoAfwCbAH8AagBxAGsASwAeAPb/5v/x/xQANgA5AEYAVAAaAMv/0f/x/+v/3P+s/4f/e/9R/zD/N/85/03/df92/3X/gf+a/7H/tf/b/w8AOwBwAH8AZAB0AHUATwBAABoA3P+x/6D/iv9K/yD/Rv97/5D/hv+F/6z/yv/M/7//sP+r/6H/hv9x/3b/df92/3v/dv+Q/7f/xv/c//b/8v/g/7z/jP+A/7D/4P/X/8//6////wAAAADr/8r/sf+b/5b/lv+Q/6H/sP+h/4//hv+Q/7H/yv/b/wAAMABKAC8A+//h/+H/5f/s/+T/xv+V/0f/Gv8x/0D/N/88/0H/S/+M/8z/zP+2/5b/ev9g/0r/Rf9Q/2D/QP8F//X+Bv8Q/xH/IP81/0X/cf+v/8v/u/+m/6X/jP97/4z/fv92/5X/rP+1/8b/2v/X/9D/5//2/+z/9f/r/7n/i/+E/4z/ev+R/8///f8PAOb/2v8LABoAGwAQAOz/wf+Q/4b/kP+X/8v/DABAAFYAOQAVAPX//P8/AIsArwCFAFQAXwBpAGYAUAAGAMX/t/+6/9H/2//C/5X/fP+a/7H/q//G/+X/5f8AACkAPwBUAEUAFAAHACoAVgBkAFUAVABbAFkAYABfAEkAKQAbABQABAD6/9v/xv/m/woAKgBPAEoAOwArAPH/4f8EAA8AGgAUANb/xv8KAE8AYABPAFYAagBaADQAJQAvAEoAVQAgAOD/1f/H/4v/Zv92/4v/lf+W/4r/hv+q/8z/xv/h/yoAUABKAEoAVQA/ABAA8f/s//X/8f/r//z/9f/G/6X/m/+L/2v/Sv9a/4v/sP/V//b//P/m/9b/8f/x/9H/6/8EAAAA7//h/+X/5v/w//H/3//b/8r/pv+V/5v/sP+2/6v/pv+G/3v/m/+b/4v/cP8=\" type=\"audio/wav\" />\n",
       "                    Your browser does not support the audio element.\n",
       "                </audio>\n",
       "              "
      ],
      "text/plain": [
       "<IPython.lib.display.Audio object>"
      ]
     },
     "execution_count": 27,
     "metadata": {},
     "output_type": "execute_result"
    }
   ],
   "source": [
    "import torchaudio\n",
    "import librosa\n",
    "import IPython.display as ipd\n",
    "import numpy as np\n",
    "\n",
    "idx = np.random.randint(0, len(df))\n",
    "sample = df.iloc[idx]\n",
    "path = sample[\"path\"]\n",
    "label = sample[\"emotion\"]\n",
    "\n",
    "\n",
    "print(f\"ID Location: {idx}\")\n",
    "print(f\"      Label: {label}\")\n",
    "print()\n",
    "\n",
    "speech, sr = torchaudio.load(path)\n",
    "speech = speech[0].numpy().squeeze()\n",
    "speech = librosa.resample(np.asarray(speech), orig_sr=sr, target_sr=16_000)\n",
    "ipd.Audio(data=np.asarray(speech), autoplay=True, rate=16000)"
   ]
  },
  {
   "cell_type": "markdown",
   "metadata": {
    "id": "7WNjWoWRCmPk"
   },
   "source": [
    "For training purposes, we need to split data into train test sets; in this specific example, we break with a `20%` rate for the test set."
   ]
  },
  {
   "cell_type": "code",
   "execution_count": 28,
   "metadata": {
    "colab": {
     "base_uri": "https://localhost:8080/"
    },
    "id": "mlim-044xtJN",
    "outputId": "95704530-f3e5-4e43-c99d-5fc78685f942"
   },
   "outputs": [
    {
     "name": "stdout",
     "output_type": "stream",
     "text": [
      "(6025, 3)\n",
      "(753, 3)\n",
      "(754, 3)\n"
     ]
    }
   ],
   "source": [
    "save_path = \".\"\n",
    "\n",
    "train_df, test_df = train_test_split(df, test_size=0.2, random_state=101, stratify=df[\"emotion\"])\n",
    "train_df = train_df.reset_index(drop=True)\n",
    "test_df, val_df = train_test_split(test_df, test_size=0.5, random_state=101, stratify=test_df[\"emotion\"])\n",
    "test_df = test_df.reset_index(drop=True)\n",
    "val_df = val_df.reset_index(drop=True)\n",
    "\n",
    "train_df.to_csv(f\"{save_path}/train.csv\", sep=\"\\t\", encoding=\"utf-8\", index=False)\n",
    "test_df.to_csv(f\"{save_path}/test.csv\", sep=\"\\t\", encoding=\"utf-8\", index=False)\n",
    "val_df.to_csv(f\"{save_path}/val.csv\", sep=\"\\t\", encoding=\"utf-8\", index=False)\n",
    "\n",
    "\n",
    "print(train_df.shape)\n",
    "print(test_df.shape)\n",
    "print(val_df.shape)"
   ]
  },
  {
   "cell_type": "code",
   "execution_count": 29,
   "metadata": {},
   "outputs": [
    {
     "name": "stdout",
     "output_type": "stream",
     "text": [
      "(3234, 3)\n",
      "(386, 3)\n",
      "(403, 3)\n"
     ]
    }
   ],
   "source": [
    "processor = Preprocessor()\n",
    "outlier_ids = list(processor.get_outliers_id(db))\n",
    "\n",
    "train_df = train_df[~train_df['path'].isin(outlier_ids)]\n",
    "test_df = test_df[~test_df['path'].isin(outlier_ids)]\n",
    "val_df = val_df[~val_df['path'].isin(outlier_ids)]\n",
    "\n",
    "train_df.to_csv(f\"{save_path}/train_no_outliers.csv\", sep=\"\\t\", encoding=\"utf-8\", index=False)\n",
    "test_df.to_csv(f\"{save_path}/test_no_outliers.csv\", sep=\"\\t\", encoding=\"utf-8\", index=False)\n",
    "val_df.to_csv(f\"{save_path}/val_no_outliers.csv\", sep=\"\\t\", encoding=\"utf-8\", index=False)\n",
    "\n",
    "\n",
    "print(train_df.shape)\n",
    "print(test_df.shape)\n",
    "print(val_df.shape)"
   ]
  },
  {
   "cell_type": "markdown",
   "metadata": {
    "id": "kcnD-d_rDElt"
   },
   "source": [
    "## Prepare Data for Training"
   ]
  },
  {
   "cell_type": "code",
   "execution_count": 3,
   "metadata": {
    "colab": {
     "base_uri": "https://localhost:8080/",
     "height": 326,
     "referenced_widgets": [
      "3b80ed9351d448d3a5cf44fb850264ba",
      "00593a35c0344eeda275321def94a331",
      "b272e2bd14844d4698a87b58d8e11f4a",
      "ce32d53e552942b1a32cc4ca6206993b",
      "d6dd1739c20346878e3261cbe4c24a98",
      "eca6efe5323e460f957eb0728c869122",
      "0bdd3c43f8934c0dad45b424f82b8547",
      "2d94e80403a345428cbdcf1c38ff30ea",
      "42d2d262aede4dd588d3eff061965d3c",
      "fd5e4239c0374f348c4f818e05206a09",
      "f5bbc200eb474c8e838f4106f5bef571",
      "6abc5ac7797244b09d4e5f9658063c3b",
      "236e6fc5221146e8b4f1fa7ff03c3bfc",
      "3bea6e8c63a24ad788983d8ec1ff1069",
      "a0aef644a8fb41259b931f8ba552a556",
      "fbda753f79544148b6e8763f03e5bc9e",
      "511e65dedfe14f1b893a92e3584cbead",
      "368fc7d998ee4fd7a8428697f07ae5ea",
      "ccab05142c5d4bb5828deab12c4e2ffe",
      "f6b43a956dcc41868570019068d571bc",
      "dfa792fb574346f7920fb508103248a2",
      "be3c58e652fa4b5fbf5a4f56e215007f",
      "a7ecde28fffd442a9b40ea3824ac1e92",
      "31f78dc3a5a3479eb991d80c98750e57",
      "3dab69222f3c44ce98a86c81bfb54fad",
      "0c7dcf7611f748959ff5d1b91459e072",
      "cf524370fb0f44a9bcefe4fa00169015",
      "001f6051e0a04b9894e8a9cd364a7b0a",
      "28e291b28c0a4dc681bcc485cc68625d",
      "729e88444cf746e497f65f5a328883e8",
      "79b4e78aba7243c4a7bbc5c1242aa922",
      "aa846c8383044771ab3d072d3c628eb4",
      "83fd2cd4161c4d5bafd3b6290f98d14b"
     ]
    },
    "id": "nnVfxQYDDIc6",
    "outputId": "3f497ce4-8822-4a42-d5c2-04df4fa993f6"
   },
   "outputs": [
    {
     "name": "stderr",
     "output_type": "stream",
     "text": [
      "Using custom data configuration default-6da45df1f208f872\n",
      "Reusing dataset csv (/.cache/csv/default-6da45df1f208f872/0.0.0/6b9057d9e23d9d8a2f05b985917a0da84d70c5dae3d22ddd8a3f22fb01c69d9e)\n"
     ]
    },
    {
     "data": {
      "application/vnd.jupyter.widget-view+json": {
       "model_id": "f365738671dd4e1096bc33cf401276d4",
       "version_major": 2,
       "version_minor": 0
      },
      "text/plain": [
       "  0%|          | 0/2 [00:00<?, ?it/s]"
      ]
     },
     "metadata": {},
     "output_type": "display_data"
    },
    {
     "name": "stdout",
     "output_type": "stream",
     "text": [
      "Dataset({\n",
      "    features: ['name', 'path', 'emotion'],\n",
      "    num_rows: 6025\n",
      "})\n",
      "Dataset({\n",
      "    features: ['name', 'path', 'emotion'],\n",
      "    num_rows: 753\n",
      "})\n"
     ]
    }
   ],
   "source": [
    "# Loading the created dataset using datasets\n",
    "from datasets import load_dataset, load_metric\n",
    "save_path = \".\"\n",
    "\n",
    "data_files = {\n",
    "    \"train\": f\"{save_path}/train.csv\", \n",
    "    \"validation\": f\"{save_path}/test.csv\",\n",
    "}\n",
    "\n",
    "dataset = load_dataset(\"csv\", data_files=data_files, delimiter=\"\\t\", )\n",
    "train_dataset = dataset[\"train\"]\n",
    "eval_dataset = dataset[\"validation\"]\n",
    "\n",
    "print(train_dataset)\n",
    "print(eval_dataset)"
   ]
  },
  {
   "cell_type": "code",
   "execution_count": 4,
   "metadata": {
    "id": "rsOrQPBOEVOy"
   },
   "outputs": [],
   "source": [
    "# We need to specify the input and output column\n",
    "input_column = \"path\"\n",
    "output_column = \"emotion\""
   ]
  },
  {
   "cell_type": "code",
   "execution_count": 5,
   "metadata": {},
   "outputs": [
    {
     "name": "stdout",
     "output_type": "stream",
     "text": [
      "Casos negativos:  5143\n",
      "Casos positivos:  882\n",
      "Class_weights:  [0.5857476181217188, 3.415532879818594]\n"
     ]
    }
   ],
   "source": [
    "negative_cases = train_dataset[output_column].count('negative')\n",
    "positive_cases = train_dataset[output_column].count('positive')\n",
    "print('Casos negativos: ',negative_cases)\n",
    "print('Casos positivos: ',positive_cases)\n",
    "\n",
    "w0 = (negative_cases + positive_cases) / (2 * negative_cases)\n",
    "w1 = (positive_cases + negative_cases) / (2 * positive_cases)\n",
    "class_weights = [w0, w1]\n",
    "\n",
    "# Analizar este metodo: https://arxiv.org/abs/1901.05555\n",
    "\n",
    "print('Class_weights: ', class_weights)"
   ]
  },
  {
   "cell_type": "code",
   "execution_count": 7,
   "metadata": {
    "colab": {
     "base_uri": "https://localhost:8080/"
    },
    "id": "-gh7fQ1XEpC7",
    "outputId": "9dc68c51-22e4-4864-9f75-e005b8ea7fdb"
   },
   "outputs": [
    {
     "name": "stdout",
     "output_type": "stream",
     "text": [
      "A classification problem with 2 classes: ['negative', 'positive']\n"
     ]
    }
   ],
   "source": [
    "# we need to distinguish the unique labels in our SER dataset\n",
    "label_list = train_dataset.unique(output_column)\n",
    "label_list.sort()  # Let's sort it for determinism\n",
    "num_labels = len(label_list)\n",
    "print(f\"A classification problem with {num_labels} classes: {label_list}\")"
   ]
  },
  {
   "cell_type": "markdown",
   "metadata": {
    "id": "4TkGYrVTFR6Y"
   },
   "source": [
    "In order to preprocess the audio into our classification model, we need to set up the relevant Wav2Vec2 assets regarding our language in this case `lighteternal/wav2vec2-large-xlsr-53-greek` fine-tuned by [Dimitris Papadopoulos](https://huggingface.co/lighteternal/wav2vec2-large-xlsr-53-greek). To handle the context representations in any audio length we use a merge strategy plan (pooling mode) to concatenate that 3D representations into 2D representations.\n",
    "\n",
    "There are three merge strategies `mean`, `sum`, and `max`. In this example, we achieved better results on the mean approach. In the following, we need to initiate the config and the feature extractor from the Dimitris model."
   ]
  },
  {
   "cell_type": "code",
   "execution_count": 8,
   "metadata": {
    "id": "rQrGaFohGzVo"
   },
   "outputs": [],
   "source": [
    "from transformers import AutoConfig, Wav2Vec2Processor"
   ]
  },
  {
   "cell_type": "code",
   "execution_count": 9,
   "metadata": {
    "id": "9Y1adr7vFrq7"
   },
   "outputs": [],
   "source": [
    "model_name_or_path = \"facebook/wav2vec2-base-960h\"\n",
    "pooling_mode = \"mean\""
   ]
  },
  {
   "cell_type": "code",
   "execution_count": 10,
   "metadata": {
    "colab": {
     "base_uri": "https://localhost:8080/",
     "height": 108,
     "referenced_widgets": [
      "7fa14e6449d94a0fbbcb0b74c4320cf0",
      "b230b005925b46d191a613228cadb490",
      "91270037a515446eb5d0664fda4fcd83",
      "b6bb9113a8154ee881f8651460b59676",
      "e1cf4ee157bd47a280f61d511c5b0f9e",
      "722297b534e14a26adc091b3ca6ad778",
      "0bbf6f18021e48a089b39820b2f0af6f",
      "504e3a6ec38c45ba80ff394f64f8ff51",
      "94d90f1cc58e4a07ae9b2af8773f8728",
      "e00c64f9820d43a98e6877c5088b287b",
      "b93ac0ee773043308e8615f482ab1689"
     ]
    },
    "id": "AZjDSmBRGqr6",
    "outputId": "5cdda52f-9dd2-4459-9612-4026240611c8"
   },
   "outputs": [],
   "source": [
    "# config\n",
    "config = AutoConfig.from_pretrained(\n",
    "    model_name_or_path,\n",
    "    num_labels=num_labels,\n",
    "    label2id={label: i for i, label in enumerate(label_list)},\n",
    "    id2label={i: label for i, label in enumerate(label_list)},\n",
    "    finetuning_task=\"wav2vec2_clf\",\n",
    ")\n",
    "setattr(config, 'pooling_mode', pooling_mode)"
   ]
  },
  {
   "cell_type": "code",
   "execution_count": 11,
   "metadata": {
    "colab": {
     "base_uri": "https://localhost:8080/",
     "height": 242,
     "referenced_widgets": [
      "2abad8c675ce435d9c512d89d1e41981",
      "cda3af05d21349dcbecf1b18d2e41788",
      "d927a7c072be4c48ac6fce955d6fdc33",
      "9e47a64fb00444198069a6e02f672149",
      "80dbda961f8b47f69326938f87ee66aa",
      "d6a5965fd00145a1bc5a19b777edcfaa",
      "9e06357dce304539a00f3e88a051246d",
      "7ad0e3340eb4476e9d9610ae740cf560",
      "7a7201020c88464a9fb641e0c5dc313e",
      "e3b4e0a422184a6f96a724f00eebd3f3",
      "83e6edb1509a43fdbdf58a628f113117",
      "66f77add2dcb4f32ac84b7b448dbfd38",
      "437bedbc89654cf7a14bea8fb60e84e7",
      "d9e6578f2ae14d73bc81ad5d042565ad",
      "2fb5e23d53cd4183888e4b6c2191bb1a",
      "a092ff2c57664a9a94d19824970d8fa6",
      "39ef6094908742bc9984908f4f2c7567",
      "4adafe9def374c22a8bfa0f45d29ce3a",
      "d615711c30a7493881baef3a896e16bf",
      "c31e680698c440e2bcf9d2a0ad7b10ac",
      "f0679d95ad024c0298eff54e66101cd0",
      "164c729dae0044598a4324180bb3e75e",
      "c4f8258c3eb641409f9f5e09964df278",
      "2b035a6077da46ca8dc94afad8a7b3bf",
      "e08e5e40fe084369ad98b1c8b29201f4",
      "0d8121b262a84b38bd5ba6a62877feb1",
      "aff498eb17bc4fa3a509350065e46916",
      "a4ee7fd34a3045c290ed696b04dbf599",
      "246d9f6782234154864a0684bd8ca2f2",
      "9c607a2a04164cd7aec8fbb22a24070e",
      "1dcfc3e077f94358a6695593f31ad674",
      "3a460649fa0e493caabc232ffdd7d1d6",
      "366df876edc241eba60b22bc7fe3bed3",
      "704372adfccc4e87948a751c86f261a4",
      "6cb1bc61dfc34be1b035f69a8dad5620",
      "1034d889e788492f8926bdd6881f253b",
      "30d5d5edd5f3478db3b57e49af72a69a",
      "35ad7b90d1174b18a4bb1fcb3a264bf6",
      "79df678373b44db48e04aab20c9465e2",
      "c46dd46b44254074aee0b4344a5cfa3a",
      "880b1b767a814e1ab5813102a3927e4e",
      "de82d2e144454914a374e81f919e5d28",
      "c8a130f37df54acf8e9c36489e483ca4",
      "c89b05684f55439d92e66fb9bd8242f0"
     ]
    },
    "id": "ZXVl9qW1Gw_-",
    "outputId": "d2ee8aaa-4fe9-41c1-c84e-0785914b9f34"
   },
   "outputs": [
    {
     "name": "stdout",
     "output_type": "stream",
     "text": [
      "The target sampling rate: 16000\n"
     ]
    }
   ],
   "source": [
    "processor = Wav2Vec2Processor.from_pretrained(model_name_or_path,)\n",
    "target_sampling_rate = processor.feature_extractor.sampling_rate\n",
    "print(f\"The target sampling rate: {target_sampling_rate}\")"
   ]
  },
  {
   "cell_type": "markdown",
   "metadata": {
    "id": "CbGuYgLqHXZg"
   },
   "source": [
    "# Preprocess Data"
   ]
  },
  {
   "cell_type": "markdown",
   "metadata": {
    "id": "qLk-eM1DFjtE"
   },
   "source": [
    "So far, we downloaded, loaded, and split the SER dataset into train and test sets. The instantiated our strategy configuration for using context representations in our classification problem SER. Now, we need to extract features from the audio path in context representation tensors and feed them into our classification model to determine the emotion in the speech.\n",
    "\n",
    "Since the audio file is saved in the `.wav` format, it is easy to use **[Librosa](https://librosa.org/doc/latest/index.html)** or others, but we suppose that the format may be in the `.mp3` format in case of generality. We found that the **[Torchaudio](https://pytorch.org/audio/stable/index.html)** library works best for reading in `.mp3` data.\n",
    "\n",
    "An audio file usually stores both its values and the sampling rate with which the speech signal was digitalized. We want to store both in the dataset and write a **map(...)** function accordingly. Also, we need to handle the string labels into integers for our specific classification task in this case, the **single-label classification** you may want to use for your **regression** or even **multi-label classification**."
   ]
  },
  {
   "cell_type": "code",
   "execution_count": 12,
   "metadata": {},
   "outputs": [],
   "source": [
    "from database import Database\n",
    "from sklearn.preprocessing import MinMaxScaler\n",
    "from audio_process import Filter"
   ]
  },
  {
   "cell_type": "code",
   "execution_count": 15,
   "metadata": {
    "id": "6UqlIV3uGxDA"
   },
   "outputs": [],
   "source": [
    "\n",
    "\n",
    "def speech_file_to_array_fn(path):\n",
    "    speech_array, sampling_rate = torchaudio.load(path)\n",
    "    resampler = torchaudio.transforms.Resample(sampling_rate, target_sampling_rate)\n",
    "    speech = resampler(speech_array).squeeze().numpy()\n",
    "    bandpass_filter = Filter()\n",
    "    speech = bandpass_filter.process(speech, sampling_rate)\n",
    "    return speech\n",
    "\n",
    "def label_to_id(label, label_list):\n",
    "\n",
    "    if len(label_list) > 0:\n",
    "        return label_list.index(label) if label in label_list else -1\n",
    "\n",
    "    return label\n",
    "def get_features_from_db(path):\n",
    "    id = 'iemocap_' +   os.path.basename(path) + '_'\n",
    "    collection = db.dataset_no_aug.loc[db.dataset_no_aug['_id'] == id].drop(\n",
    "            columns=[\"_id\", \"augmented\", \"label\"]).to_numpy()\n",
    "    return collection\n",
    "def preprocess_function(examples):\n",
    "    preprocessor = Preprocessor(scaler=Standard_Scaler())\n",
    "    speech_list = [speech_file_to_array_fn(path) for path in examples[input_column]]\n",
    "    feature_list = [get_features_from_db(path) for path in examples[input_column]]\n",
    "    # feature_list = preprocessor.scale(feature_list)\n",
    "    target_list = [label_to_id(label, label_list) for label in examples[output_column]]\n",
    "    # feature_list = MinMaxScaler().fit_transform(feature_list, target_list)\n",
    "    result = processor(speech_list, sampling_rate=target_sampling_rate)\n",
    "    result[\"labels\"] = list(target_list)\n",
    "    result['features'] = list(feature_list)\n",
    "\n",
    "    return result"
   ]
  },
  {
   "cell_type": "code",
   "execution_count": 16,
   "metadata": {
    "colab": {
     "base_uri": "https://localhost:8080/",
     "height": 347
    },
    "id": "ioP8FfR2GxHi",
    "outputId": "1d4a815e-ed3c-4c34-834e-7e29308d8f94"
   },
   "outputs": [
    {
     "name": "stderr",
     "output_type": "stream",
     "text": [
      "/usr/local/lib/python3.7/dist-packages/transformers/feature_extraction_utils.py:166: VisibleDeprecationWarning: Creating an ndarray from ragged nested sequences (which is a list-or-tuple of lists-or-tuples-or ndarrays with different lengths or shapes) is deprecated. If you meant to do this, you must specify 'dtype=object' when creating the ndarray.\n",
      "  tensor = as_tensor(value)\n",
      "/usr/local/lib/python3.7/dist-packages/transformers/feature_extraction_utils.py:166: VisibleDeprecationWarning: Creating an ndarray from ragged nested sequences (which is a list-or-tuple of lists-or-tuples-or ndarrays with different lengths or shapes) is deprecated. If you meant to do this, you must specify 'dtype=object' when creating the ndarray.\n",
      "  tensor = as_tensor(value)\n",
      "/usr/local/lib/python3.7/dist-packages/transformers/feature_extraction_utils.py:166: VisibleDeprecationWarning: Creating an ndarray from ragged nested sequences (which is a list-or-tuple of lists-or-tuples-or ndarrays with different lengths or shapes) is deprecated. If you meant to do this, you must specify 'dtype=object' when creating the ndarray.\n",
      "  tensor = as_tensor(value)\n",
      "/usr/local/lib/python3.7/dist-packages/transformers/feature_extraction_utils.py:166: VisibleDeprecationWarning: Creating an ndarray from ragged nested sequences (which is a list-or-tuple of lists-or-tuples-or ndarrays with different lengths or shapes) is deprecated. If you meant to do this, you must specify 'dtype=object' when creating the ndarray.\n",
      "  tensor = as_tensor(value)\n",
      "/usr/local/lib/python3.7/dist-packages/transformers/feature_extraction_utils.py:166: VisibleDeprecationWarning: Creating an ndarray from ragged nested sequences (which is a list-or-tuple of lists-or-tuples-or ndarrays with different lengths or shapes) is deprecated. If you meant to do this, you must specify 'dtype=object' when creating the ndarray.\n",
      "  tensor = as_tensor(value)\n",
      "/usr/local/lib/python3.7/dist-packages/transformers/feature_extraction_utils.py:166: VisibleDeprecationWarning: Creating an ndarray from ragged nested sequences (which is a list-or-tuple of lists-or-tuples-or ndarrays with different lengths or shapes) is deprecated. If you meant to do this, you must specify 'dtype=object' when creating the ndarray.\n",
      "  tensor = as_tensor(value)\n",
      "/usr/local/lib/python3.7/dist-packages/transformers/feature_extraction_utils.py:166: VisibleDeprecationWarning: Creating an ndarray from ragged nested sequences (which is a list-or-tuple of lists-or-tuples-or ndarrays with different lengths or shapes) is deprecated. If you meant to do this, you must specify 'dtype=object' when creating the ndarray.\n",
      "  tensor = as_tensor(value)\n",
      "/usr/local/lib/python3.7/dist-packages/transformers/feature_extraction_utils.py:166: VisibleDeprecationWarning: Creating an ndarray from ragged nested sequences (which is a list-or-tuple of lists-or-tuples-or ndarrays with different lengths or shapes) is deprecated. If you meant to do this, you must specify 'dtype=object' when creating the ndarray.\n",
      "  tensor = as_tensor(value)\n"
     ]
    }
   ],
   "source": [
    "train_dataset = train_dataset.map(\n",
    "    preprocess_function,\n",
    "    batch_size=100,\n",
    "    batched=True,\n",
    "    num_proc=4\n",
    ")\n",
    "eval_dataset = eval_dataset.map(\n",
    "    preprocess_function,\n",
    "    batch_size=100,\n",
    "    batched=True,\n",
    "    num_proc=4\n",
    ")"
   ]
  },
  {
   "cell_type": "code",
   "execution_count": 13,
   "metadata": {},
   "outputs": [],
   "source": [
    "del db"
   ]
  },
  {
   "cell_type": "code",
   "execution_count": 17,
   "metadata": {},
   "outputs": [],
   "source": [
    "\n",
    "min_train_dataset = train_dataset.select(range(10))\n",
    "min_eval_dataset = eval_dataset.select(range(2))"
   ]
  },
  {
   "cell_type": "markdown",
   "metadata": {
    "id": "QL7q6DfcH0Fs"
   },
   "source": [
    "## Model\n",
    "\n",
    "Before diving into the training part, we need to build our classification model based on the merge strategy. "
   ]
  },
  {
   "cell_type": "code",
   "execution_count": 18,
   "metadata": {
    "id": "uJZoC4T5HpuP"
   },
   "outputs": [],
   "source": [
    "from dataclasses import dataclass\n",
    "from typing import Optional, Tuple\n",
    "import torch\n",
    "from transformers.file_utils import ModelOutput\n",
    "\n",
    "\n",
    "@dataclass\n",
    "class SpeechClassifierOutput(ModelOutput):\n",
    "    loss: Optional[torch.FloatTensor] = None\n",
    "    logits: torch.FloatTensor = None\n",
    "    hidden_states: Optional[Tuple[torch.FloatTensor]] = None\n",
    "    attentions: Optional[Tuple[torch.FloatTensor]] = None\n"
   ]
  },
  {
   "cell_type": "code",
   "execution_count": 19,
   "metadata": {
    "id": "Fv62ShDsH5DZ"
   },
   "outputs": [],
   "source": [
    "import torch\n",
    "import torch.nn as nn\n",
    "from torch.nn import BCEWithLogitsLoss, CrossEntropyLoss, MSELoss\n",
    "\n",
    "from transformers.models.wav2vec2.modeling_wav2vec2 import (\n",
    "    Wav2Vec2PreTrainedModel,\n",
    "    Wav2Vec2Model\n",
    ")\n",
    "\n",
    "\n",
    "class Wav2Vec2ClassificationHead(nn.Module):\n",
    "    \"\"\"Head for wav2vec classification task.\"\"\"\n",
    "\n",
    "    def __init__(self, config):\n",
    "        super().__init__()\n",
    "        self.dense = nn.Linear(config.hidden_size + 57, config.hidden_size + 57)\n",
    "        self.dropout = nn.Dropout(config.final_dropout)\n",
    "        self.out_proj = nn.Linear(config.hidden_size + 57, config.num_labels)\n",
    "\n",
    "    def forward(self, features, **kwargs):\n",
    "        x = features\n",
    "        x = self.dropout(x)\n",
    "        x = self.dense(x)\n",
    "        x = torch.tanh(x)\n",
    "        x = self.dropout(x)\n",
    "        x = self.out_proj(x)\n",
    "        return x\n",
    "\n",
    "\n",
    "class Wav2Vec2ForSpeechClassification(Wav2Vec2PreTrainedModel):\n",
    "    def __init__(self, config, class_weights=[1,1]):\n",
    "        super().__init__(config)\n",
    "        self.num_labels = config.num_labels\n",
    "        self.pooling_mode = config.pooling_mode\n",
    "        self.config = config\n",
    "        self.class_weights=class_weights\n",
    "        self.wav2vec2 = Wav2Vec2Model(config)\n",
    "        self.classifier = Wav2Vec2ClassificationHead(config)\n",
    "\n",
    "        self.init_weights()\n",
    "\n",
    "    def freeze_feature_extractor(self):\n",
    "        self.wav2vec2.feature_extractor._freeze_parameters()\n",
    "\n",
    "    def merged_strategy(\n",
    "            self,\n",
    "            hidden_states,\n",
    "            mode=\"mean\"\n",
    "    ):\n",
    "        if mode == \"mean\":\n",
    "            outputs = torch.mean(hidden_states, dim=1)\n",
    "        elif mode == \"sum\":\n",
    "            outputs = torch.sum(hidden_states, dim=1)\n",
    "        elif mode == \"max\":\n",
    "            outputs = torch.max(hidden_states, dim=1)[0]\n",
    "        else:\n",
    "            raise Exception(\n",
    "                \"The pooling method hasn't been defined! Your pooling mode must be one of these ['mean', 'sum', 'max']\")\n",
    "\n",
    "        return outputs\n",
    "\n",
    "    def forward(\n",
    "            self,\n",
    "            input_values,\n",
    "            features,\n",
    "            attention_mask=None,\n",
    "            output_attentions=None,\n",
    "            output_hidden_states=None,\n",
    "            return_dict=None,\n",
    "            labels=None,\n",
    "    ):\n",
    "        return_dict = return_dict if return_dict is not None else self.config.use_return_dict\n",
    "        outputs = self.wav2vec2(\n",
    "            input_values,\n",
    "            attention_mask=attention_mask,\n",
    "            output_attentions=output_attentions,\n",
    "            output_hidden_states=output_hidden_states,\n",
    "            return_dict=return_dict,\n",
    "        )\n",
    "        hidden_states = outputs[0]\n",
    "        hidden_states = self.merged_strategy(hidden_states, mode=self.pooling_mode)\n",
    "        size = features.size()\n",
    "        features = torch.reshape(features, (size[0], size[-1]))\n",
    "        features = torch.cat([hidden_states, features], 1)\n",
    "        logits = self.classifier(features)\n",
    "\n",
    "        loss = None\n",
    "        if labels is not None:\n",
    "            if self.config.problem_type is None:\n",
    "                if self.num_labels == 1:\n",
    "                    self.config.problem_type = \"regression\"\n",
    "                elif self.num_labels > 1 and (labels.dtype == torch.long or labels.dtype == torch.int):\n",
    "                    self.config.problem_type = \"single_label_classification\"\n",
    "                else:\n",
    "                    self.config.problem_type = \"multi_label_classification\"\n",
    "\n",
    "            if self.config.problem_type == \"regression\":\n",
    "                loss_fct = MSELoss()\n",
    "                loss = loss_fct(logits.view(-1, self.num_labels), labels)\n",
    "            elif self.config.problem_type == \"single_label_classification\":\n",
    "                loss_fct = CrossEntropyLoss(weight=self.class_weights)\n",
    "                loss = loss_fct(logits.view(-1, self.num_labels), labels.view(-1))\n",
    "            elif self.config.problem_type == \"multi_label_classification\":\n",
    "                loss_fct = BCEWithLogitsLoss()\n",
    "                loss = loss_fct(logits, labels)\n",
    "\n",
    "        if not return_dict:\n",
    "            output = (logits,) + outputs[2:]\n",
    "            return ((loss,) + output) if loss is not None else output\n",
    "\n",
    "        return SpeechClassifierOutput(\n",
    "            loss=loss,\n",
    "            logits=logits,\n",
    "            hidden_states=outputs.hidden_states,\n",
    "            attentions=outputs.attentions,\n",
    "        )\n"
   ]
  },
  {
   "cell_type": "markdown",
   "metadata": {
    "id": "OrBrR1b7zvUL"
   },
   "source": [
    "## Training\n",
    "\n",
    "The data is processed so that we are ready to start setting up the training pipeline. We will make use of 🤗's [Trainer](https://huggingface.co/transformers/master/main_classes/trainer.html?highlight=trainer) for which we essentially need to do the following:\n",
    "\n",
    "- Define a data collator. In contrast to most NLP models, XLSR-Wav2Vec2 has a much larger input length than output length. *E.g.*, a sample of input length 50000 has an output length of no more than 100. Given the large input sizes, it is much more efficient to pad the training batches dynamically meaning that all training samples should only be padded to the longest sample in their batch and not the overall longest sample. Therefore, fine-tuning XLSR-Wav2Vec2 requires a special padding data collator, which we will define below\n",
    "\n",
    "- Evaluation metric. During training, the model should be evaluated on the word error rate. We should define a `compute_metrics` function accordingly\n",
    "\n",
    "- Load a pretrained checkpoint. We need to load a pretrained checkpoint and configure it correctly for training.\n",
    "\n",
    "- Define the training configuration.\n",
    "\n",
    "After having fine-tuned the model, we will correctly evaluate it on the test data and verify that it has indeed learned to correctly transcribe speech."
   ]
  },
  {
   "cell_type": "markdown",
   "metadata": {
    "id": "Ji9-n1eUIKZc"
   },
   "source": [
    "### Set-up Trainer\n",
    "\n",
    "Let's start by defining the data collator. The code for the data collator was copied from [this example](https://github.com/huggingface/transformers/blob/9a06b6b11bdfc42eea08fa91d0c737d1863c99e3/examples/research_projects/wav2vec2/run_asr.py#L81).\n",
    "\n",
    "Without going into too many details, in contrast to the common data collators, this data collator treats the `input_values` and `labels` differently and thus applies to separate padding functions on them (again making use of XLSR-Wav2Vec2's context manager). This is necessary because in speech input and output are of different modalities meaning that they should not be treated by the same padding function.\n",
    "Analogous to the common data collators, the padding tokens in the labels with `-100` so that those tokens are **not** taken into account when computing the loss."
   ]
  },
  {
   "cell_type": "code",
   "execution_count": 20,
   "metadata": {
    "id": "rkM0VLIwy903"
   },
   "outputs": [],
   "source": [
    "from dataclasses import dataclass\n",
    "from typing import Dict, List, Optional, Union\n",
    "import torch\n",
    "\n",
    "import transformers\n",
    "from transformers import Wav2Vec2Processor\n",
    "\n",
    "\n",
    "@dataclass\n",
    "class DataCollatorCTCWithPadding:\n",
    "    \"\"\"\n",
    "    Data collator that will dynamically pad the inputs received.\n",
    "    Args:\n",
    "        processor (:class:`~transformers.Wav2Vec2Processor`)\n",
    "            The processor used for proccessing the data.\n",
    "        padding (:obj:`bool`, :obj:`str` or :class:`~transformers.tokenization_utils_base.PaddingStrategy`, `optional`, defaults to :obj:`True`):\n",
    "            Select a strategy to pad the returned sequences (according to the model's padding side and padding index)\n",
    "            among:\n",
    "            * :obj:`True` or :obj:`'longest'`: Pad to the longest sequence in the batch (or no padding if only a single\n",
    "              sequence if provided).\n",
    "            * :obj:`'max_length'`: Pad to a maximum length specified with the argument :obj:`max_length` or to the\n",
    "              maximum acceptable input length for the model if that argument is not provided.\n",
    "            * :obj:`False` or :obj:`'do_not_pad'` (default): No padding (i.e., can output a batch with sequences of\n",
    "              different lengths).\n",
    "        max_length (:obj:`int`, `optional`):\n",
    "            Maximum length of the ``input_values`` of the returned list and optionally padding length (see above).\n",
    "        max_length_labels (:obj:`int`, `optional`):\n",
    "            Maximum length of the ``labels`` returned list and optionally padding length (see above).\n",
    "        pad_to_multiple_of (:obj:`int`, `optional`):\n",
    "            If set will pad the sequence to a multiple of the provided value.\n",
    "            This is especially useful to enable the use of Tensor Cores on NVIDIA hardware with compute capability >=\n",
    "            7.5 (Volta).\n",
    "    \"\"\"\n",
    "\n",
    "    processor: Wav2Vec2Processor\n",
    "    padding: Union[bool, str] = True\n",
    "    max_length: Optional[int] = None\n",
    "    max_length_labels: Optional[int] = None\n",
    "    pad_to_multiple_of: Optional[int] = None\n",
    "    pad_to_multiple_of_labels: Optional[int] = None\n",
    "\n",
    "    def __call__(self, features: List[Dict[str, Union[List[int], torch.Tensor]]]) -> Dict[str, torch.Tensor]:\n",
    "        input_features = [{\"input_values\": feature[\"input_values\"]} for feature in features]\n",
    "        label_features = [feature[\"labels\"] for feature in features]\n",
    "        acoustic_features = [feature['features'] for feature in features]\n",
    "        d_type = torch.long if isinstance(label_features[0], int) else torch.float\n",
    "\n",
    "        batch = self.processor.pad(\n",
    "            input_features,\n",
    "            padding=self.padding,\n",
    "            max_length=self.max_length,\n",
    "            pad_to_multiple_of=self.pad_to_multiple_of,\n",
    "            return_tensors=\"pt\",\n",
    "        )\n",
    "\n",
    "        batch[\"labels\"] = torch.tensor(label_features, dtype=d_type)\n",
    "        batch[\"features\"] = torch.tensor(acoustic_features)\n",
    "        return batch"
   ]
  },
  {
   "cell_type": "code",
   "execution_count": 21,
   "metadata": {
    "id": "-YhJ0OA4RxQe"
   },
   "outputs": [],
   "source": [
    "data_collator = DataCollatorCTCWithPadding(processor=processor, padding=True)"
   ]
  },
  {
   "cell_type": "markdown",
   "metadata": {
    "id": "mYxy2IR-KcU2"
   },
   "source": [
    "Next, the evaluation metric is defined. There are many pre-defined metrics for classification/regression problems, but in this case, we would continue with just **Accuracy** for classification and **MSE** for regression. You can define other metrics on your own."
   ]
  },
  {
   "cell_type": "code",
   "execution_count": 22,
   "metadata": {
    "id": "LL8I5MKvPnth"
   },
   "outputs": [],
   "source": [
    "is_regression = False"
   ]
  },
  {
   "cell_type": "code",
   "execution_count": 23,
   "metadata": {
    "id": "XK26Z6IfR36K"
   },
   "outputs": [
    {
     "ename": "ModuleNotFoundError",
     "evalue": "No module named 'matplotlib'",
     "output_type": "error",
     "traceback": [
      "\u001b[0;31m---------------------------------------------------------------------------\u001b[0m",
      "\u001b[0;31mModuleNotFoundError\u001b[0m                       Traceback (most recent call last)",
      "\u001b[0;32m/tmp/ipykernel_856/1070961326.py\u001b[0m in \u001b[0;36m<module>\u001b[0;34m\u001b[0m\n\u001b[1;32m      1\u001b[0m \u001b[0;32mimport\u001b[0m \u001b[0mnumpy\u001b[0m \u001b[0;32mas\u001b[0m \u001b[0mnp\u001b[0m\u001b[0;34m\u001b[0m\u001b[0;34m\u001b[0m\u001b[0m\n\u001b[1;32m      2\u001b[0m \u001b[0;32mfrom\u001b[0m \u001b[0mtransformers\u001b[0m \u001b[0;32mimport\u001b[0m \u001b[0mEvalPrediction\u001b[0m\u001b[0;34m\u001b[0m\u001b[0;34m\u001b[0m\u001b[0m\n\u001b[0;32m----> 3\u001b[0;31m \u001b[0;32mfrom\u001b[0m \u001b[0mevaluator\u001b[0m \u001b[0;32mimport\u001b[0m \u001b[0mEvaluator\u001b[0m\u001b[0;34m\u001b[0m\u001b[0;34m\u001b[0m\u001b[0m\n\u001b[0m\u001b[1;32m      4\u001b[0m \u001b[0;34m\u001b[0m\u001b[0m\n\u001b[1;32m      5\u001b[0m \u001b[0;34m\u001b[0m\u001b[0m\n",
      "\u001b[0;32m~/tesis/evaluator.py\u001b[0m in \u001b[0;36m<module>\u001b[0;34m\u001b[0m\n\u001b[1;32m      2\u001b[0m \u001b[0;34m\u001b[0m\u001b[0m\n\u001b[1;32m      3\u001b[0m \u001b[0;32mimport\u001b[0m \u001b[0mnumpy\u001b[0m \u001b[0;32mas\u001b[0m \u001b[0mnp\u001b[0m\u001b[0;34m\u001b[0m\u001b[0;34m\u001b[0m\u001b[0m\n\u001b[0;32m----> 4\u001b[0;31m \u001b[0;32mimport\u001b[0m \u001b[0mmatplotlib\u001b[0m\u001b[0;34m.\u001b[0m\u001b[0mpyplot\u001b[0m \u001b[0;32mas\u001b[0m \u001b[0mplt\u001b[0m\u001b[0;34m\u001b[0m\u001b[0;34m\u001b[0m\u001b[0m\n\u001b[0m\u001b[1;32m      5\u001b[0m \u001b[0;32mfrom\u001b[0m \u001b[0mscipy\u001b[0m \u001b[0;32mimport\u001b[0m \u001b[0mstats\u001b[0m\u001b[0;34m\u001b[0m\u001b[0;34m\u001b[0m\u001b[0m\n\u001b[1;32m      6\u001b[0m \u001b[0;34m\u001b[0m\u001b[0m\n",
      "\u001b[0;31mModuleNotFoundError\u001b[0m: No module named 'matplotlib'"
     ]
    }
   ],
   "source": [
    "import numpy as np\n",
    "from transformers import EvalPrediction\n",
    "from evaluator import Evaluator\n",
    "\n",
    "\n",
    "def compute_metrics(p: EvalPrediction):\n",
    "    preds = p.predictions[0] if isinstance(p.predictions, tuple) else p.predictions\n",
    "    preds = np.squeeze(preds) if is_regression else np.argmax(preds, axis=1)\n",
    "\n",
    "    if is_regression:\n",
    "        return {\"mse\": ((preds - p.label_ids) ** 2).mean().item()}\n",
    "    else:\n",
    "        # evaluator = Evaluator()\n",
    "        # metrics = Evaluator.evaluate_from_pred(p.label_ids, preds)\n",
    "        # r = {'recall':metrics.recall}\n",
    "        # return r\n",
    "        return {\"accuracy\": (preds == p.label_ids).astype(np.float32).mean().item()}"
   ]
  },
  {
   "cell_type": "markdown",
   "metadata": {
    "id": "ZsH_nKJdK28o"
   },
   "source": [
    "Now, we can load the pretrained XLSR-Wav2Vec2 checkpoint into our classification model with a pooling strategy."
   ]
  },
  {
   "cell_type": "code",
   "execution_count": 34,
   "metadata": {
    "colab": {
     "base_uri": "https://localhost:8080/",
     "height": 171,
     "referenced_widgets": [
      "0561dae888b24853bf6bd12b36b9f58c",
      "147983c81ea54adf9a9fcc94be46e53c",
      "149ebd49f5b047c0869941fda06c1136",
      "1e356a9dd0c6482ca56e83cb600a49ab",
      "0eb6c74ddd614b0284cc8fcb7e9749b9",
      "d5e84bc6021746ac834f95b6850e397e",
      "a68fdcd0b0ef4349a2fd46d5d10ad4fb",
      "32863857edff47a6894d619eef3aa72a"
     ]
    },
    "id": "0Tl6iKAUR4EL",
    "outputId": "7af3b6e2-dfc2-4e78-b326-010e32f86a94"
   },
   "outputs": [
    {
     "name": "stderr",
     "output_type": "stream",
     "text": [
      "loading weights file https://huggingface.co/facebook/wav2vec2-base-960h/resolve/main/pytorch_model.bin from cache at /run/media/francoj/DATA/cache/4cb133d3cf3e58e8a4e088b1fc826611a3bcf3d98b20a0bb49ce8cd5362411b7.beeaccfa4baf44ba6123c23938d8a17f48344361a5e7041782e537dfd78a2037\n",
      "Some weights of the model checkpoint at facebook/wav2vec2-base-960h were not used when initializing Wav2Vec2ForSpeechClassification: ['lm_head.weight', 'lm_head.bias']\n",
      "- This IS expected if you are initializing Wav2Vec2ForSpeechClassification from the checkpoint of a model trained on another task or with another architecture (e.g. initializing a BertForSequenceClassification model from a BertForPreTraining model).\n",
      "- This IS NOT expected if you are initializing Wav2Vec2ForSpeechClassification from the checkpoint of a model that you expect to be exactly identical (initializing a BertForSequenceClassification model from a BertForSequenceClassification model).\n",
      "Some weights of Wav2Vec2ForSpeechClassification were not initialized from the model checkpoint at facebook/wav2vec2-base-960h and are newly initialized: ['wav2vec2.masked_spec_embed', 'classifier.dense.weight', 'classifier.out_proj.weight', 'classifier.out_proj.bias', 'classifier.dense.bias']\n",
      "You should probably TRAIN this model on a down-stream task to be able to use it for predictions and inference.\n"
     ]
    }
   ],
   "source": [
    "model = Wav2Vec2ForSpeechClassification.from_pretrained(\n",
    "    model_name_or_path,\n",
    "    config=config,\n",
    "    class_weights=class_weights\n",
    ")"
   ]
  },
  {
   "cell_type": "markdown",
   "metadata": {
    "id": "bqF4rNMzI1M5"
   },
   "source": [
    "The first component of XLSR-Wav2Vec2 consists of a stack of CNN layers that are used to extract acoustically meaningful - but contextually independent - features from the raw speech signal. This part of the model has already been sufficiently trained during pretraining and as stated in the [paper](https://arxiv.org/pdf/2006.13979.pdf) does not need to be fine-tuned anymore. \n",
    "Thus, we can set the `requires_grad` to `False` for all parameters of the *feature extraction* part."
   ]
  },
  {
   "cell_type": "code",
   "execution_count": 35,
   "metadata": {
    "id": "KHMhxFGoR4Hb"
   },
   "outputs": [],
   "source": [
    "model.freeze_feature_extractor()"
   ]
  },
  {
   "cell_type": "markdown",
   "metadata": {
    "id": "n0HzBneBK84G"
   },
   "source": [
    "In a final step, we define all parameters related to training. \n",
    "To give more explanation on some of the parameters:\n",
    "- `learning_rate` and `weight_decay` were heuristically tuned until fine-tuning has become stable. Note that those parameters strongly depend on the Common Voice dataset and might be suboptimal for other speech datasets.\n",
    "\n",
    "For more explanations on other parameters, one can take a look at the [docs](https://huggingface.co/transformers/master/main_classes/trainer.html?highlight=trainer#trainingarguments).\n",
    "\n",
    "**Note**: If one wants to save the trained models in his/her google drive the commented-out `output_dir` can be used instead."
   ]
  },
  {
   "cell_type": "code",
   "execution_count": 30,
   "metadata": {
    "id": "vUtWjldAI9-H"
   },
   "outputs": [
    {
     "name": "stderr",
     "output_type": "stream",
     "text": [
      "PyTorch: setting up devices\n",
      "The default value for the training argument `--report_to` will change in v5 (from all installed integrations to none). In v5, you will need to use `--report_to all` to get the same behavior as now. You should start updating your code and make this info disappear :-).\n"
     ]
    }
   ],
   "source": [
    "from transformers import TrainingArguments\n",
    "\n",
    "training_args = TrainingArguments(\n",
    "    output_dir=\"./wav2vec2-base-960h\",\n",
    "    # output_dir=\"/content/gdrive/MyDrive/wav2vec2-xlsr-greek-speech-emotion-recognition\"\n",
    "    per_device_train_batch_size=4,\n",
    "    per_device_eval_batch_size=4,\n",
    "    gradient_accumulation_steps=2,\n",
    "    evaluation_strategy=\"steps\",\n",
    "    num_train_epochs=1.0,\n",
    "    # fp16=True,\n",
    "    save_steps=10,\n",
    "    eval_steps=10,\n",
    "    logging_steps=10,\n",
    "    learning_rate=1e-4,\n",
    "    save_total_limit=2,\n",
    ")"
   ]
  },
  {
   "cell_type": "markdown",
   "metadata": {
    "id": "XAtuL0APLZSs"
   },
   "source": [
    "For future use we can create our training script, we do it in a simple way. You can add more on you own."
   ]
  },
  {
   "cell_type": "code",
   "execution_count": 24,
   "metadata": {
    "id": "KfW6uDolJYZv"
   },
   "outputs": [],
   "source": [
    "from typing import Any, Dict, Union\n",
    "\n",
    "import torch\n",
    "from packaging import version\n",
    "from torch import nn\n",
    "\n",
    "from transformers import (\n",
    "    Trainer,\n",
    "    is_apex_available,\n",
    ")\n",
    "\n",
    "if is_apex_available():\n",
    "    from apex import amp\n",
    "\n",
    "if version.parse(torch.__version__) >= version.parse(\"1.6\"):\n",
    "    _is_native_amp_available = True\n",
    "    from torch.cuda.amp import autocast\n",
    "\n",
    "\n",
    "class CTCTrainer(Trainer):\n",
    "    def __init__(\n",
    "        self,\n",
    "        model: Union[PreTrainedModel, nn.Module] = None,\n",
    "        args: TrainingArguments = None,\n",
    "        data_collator: Optional[DataCollator] = None,\n",
    "        train_dataset: Optional[Dataset] = None,\n",
    "        eval_dataset: Optional[Dataset] = None,\n",
    "        tokenizer: Optional[PreTrainedTokenizerBase] = None,\n",
    "        model_init: Callable[[], PreTrainedModel] = None,\n",
    "        compute_metrics: Optional[Callable[[EvalPrediction], Dict]] = None,\n",
    "        callbacks: Optional[List[TrainerCallback]] = None,\n",
    "        optimizers: Tuple[torch.optim.Optimizer, torch.optim.lr_scheduler.LambdaLR] = (None, None),\n",
    "        class_weights: list = None\n",
    "    ):\n",
    "\n",
    "        self.class_weights = class_weights\n",
    "        super().__init__(self,\n",
    "            model,\n",
    "            args,\n",
    "            data_collator,\n",
    "            train_dataset,\n",
    "            eval_dataset,\n",
    "            tokenizer,\n",
    "            model_init,\n",
    "            compute_metrics,\n",
    "            callbacks,\n",
    "            optimizers\n",
    "            )\n",
    "\n",
    "    def compute_loss(self, model, inputs, return_outputs=False):\n",
    "        labels = inputs.get(\"labels\")\n",
    "        # forward pass\n",
    "        outputs = model(**inputs)\n",
    "        logits = outputs.get('logits')\n",
    "        # compute custom loss\n",
    "        if self.class_weights:\n",
    "            loss_fct = nn.CrossEntropyLoss(weight=torch.tensor(self.class_weights))\n",
    "        else:\n",
    "            loss_fct = nn.CrossEntropyLoss(weight=torch.tensor([1,1])\n",
    "        loss = loss_fct(logits.view(-1, self.model.config.num_labels), labels.view(-1))\n",
    "        return (loss, outputs) if return_outputs else loss\n",
    "    def training_step(self, model: nn.Module, inputs: Dict[str, Union[torch.Tensor, Any]]) -> torch.Tensor:\n",
    "        \"\"\"\n",
    "        Perform a training step on a batch of inputs.\n",
    "\n",
    "        Subclass and override to inject custom behavior.\n",
    "\n",
    "        Args:\n",
    "            model (:obj:`nn.Module`):\n",
    "                The model to train.\n",
    "            inputs (:obj:`Dict[str, Union[torch.Tensor, Any]]`):\n",
    "                The inputs and targets of the model.\n",
    "\n",
    "                The dictionary will be unpacked before being fed to the model. Most models expect the targets under the\n",
    "                argument :obj:`labels`. Check your model's documentation for all accepted arguments.\n",
    "\n",
    "        Return:\n",
    "            :obj:`torch.Tensor`: The tensor with training loss on this batch.\n",
    "        \"\"\"\n",
    "\n",
    "        model.train()\n",
    "        inputs = self._prepare_inputs(inputs)\n",
    "\n",
    "        if self.use_amp:\n",
    "            with autocast():\n",
    "                loss = self.compute_loss(model, inputs)\n",
    "        else:\n",
    "            loss = self.compute_loss(model, inputs)\n",
    "\n",
    "        if self.args.gradient_accumulation_steps > 1:\n",
    "            loss = loss / self.args.gradient_accumulation_steps\n",
    "\n",
    "        if self.use_amp:\n",
    "            self.scaler.scale(loss).backward()\n",
    "        elif self.use_apex:\n",
    "            with amp.scale_loss(loss, self.optimizer) as scaled_loss:\n",
    "                scaled_loss.backward()\n",
    "        elif self.deepspeed:\n",
    "            self.deepspeed.backward(loss)\n",
    "        else:\n",
    "            loss.backward()\n",
    "\n",
    "        return loss.detach()\n"
   ]
  },
  {
   "cell_type": "markdown",
   "metadata": {
    "id": "Qv7Ju3qYJeJn"
   },
   "source": [
    "Now, all instances can be passed to Trainer and we are ready to start training!"
   ]
  },
  {
   "cell_type": "code",
   "execution_count": 36,
   "metadata": {
    "id": "nEFkfK45JYiZ"
   },
   "outputs": [],
   "source": [
    "trainer = CTCTrainer(\n",
    "    model=model,\n",
    "    data_collator=data_collator,\n",
    "    args=training_args,\n",
    "    compute_metrics=compute_metrics,\n",
    "    train_dataset=train_dataset,\n",
    "    eval_dataset=eval_dataset,\n",
    "    tokenizer=processor.feature_extractor,\n",
    "    class_weights=[]\n",
    ")"
   ]
  },
  {
   "cell_type": "markdown",
   "metadata": {
    "id": "0gGLwJAOLtDg"
   },
   "source": [
    "### Training"
   ]
  },
  {
   "cell_type": "markdown",
   "metadata": {
    "id": "UpN6xlWCLxJ7"
   },
   "source": [
    "Training will take between 10 and 60 minutes depending on the GPU allocated to this notebook. \n",
    "\n",
    "In case you want to use this google colab to fine-tune your model, you should make sure that your training doesn't stop due to inactivity. A simple hack to prevent this is to paste the following code into the console of this tab (right mouse click -> inspect -> Console tab and insert code)."
   ]
  },
  {
   "cell_type": "markdown",
   "metadata": {
    "id": "zyYZH7YZL8a9"
   },
   "source": [
    "```javascript\n",
    "function ConnectButton(){\n",
    "    console.log(\"Connect pushed\"); \n",
    "    document.querySelector(\"#top-toolbar > colab-connect-button\").shadowRoot.querySelector(\"#connect\").click() \n",
    "}\n",
    "setInterval(ConnectButton,60000);\n",
    "```"
   ]
  },
  {
   "cell_type": "code",
   "execution_count": 37,
   "metadata": {
    "colab": {
     "base_uri": "https://localhost:8080/",
     "height": 298
    },
    "id": "6M8bNvLLJnG1",
    "outputId": "819249df-b341-4007-d6de-b8137dfa1651"
   },
   "outputs": [
    {
     "name": "stderr",
     "output_type": "stream",
     "text": [
      "The following columns in the training set  don't have a corresponding argument in `Wav2Vec2ForSpeechClassification.forward` and have been ignored: emotion, name, path.\n",
      "***** Running training *****\n",
      "  Num examples = 10\n",
      "  Num Epochs = 1\n",
      "  Instantaneous batch size per device = 4\n",
      "  Total train batch size (w. parallel, distributed & accumulation) = 8\n",
      "  Gradient Accumulation steps = 2\n",
      "  Total optimization steps = 1\n",
      "100%|██████████| 1/1 [10:37<00:00, 637.84s/it]\n",
      "\n",
      "Training completed. Do not forget to share your model on huggingface.co/models =)\n",
      "\n",
      "\n",
      "100%|██████████| 1/1 [10:46<00:00, 637.84s/it]{'train_runtime': 645.2206, 'train_samples_per_second': 0.015, 'train_steps_per_second': 0.002, 'train_loss': 0.9730609655380249, 'epoch': 0.67}\n",
      "100%|██████████| 1/1 [10:46<00:00, 646.65s/it]\n"
     ]
    },
    {
     "data": {
      "text/plain": [
       "TrainOutput(global_step=1, training_loss=0.9730609655380249, metrics={'train_runtime': 645.2206, 'train_samples_per_second': 0.015, 'train_steps_per_second': 0.002, 'train_loss': 0.9730609655380249, 'epoch': 0.67})"
      ]
     },
     "execution_count": 37,
     "metadata": {},
     "output_type": "execute_result"
    }
   ],
   "source": [
    "trainer.train()"
   ]
  },
  {
   "cell_type": "markdown",
   "metadata": {
    "id": "3prIN9eiMBHo"
   },
   "source": [
    "The training loss goes down and we can see that the Acurracy on the test set also improves nicely. Because this notebook is just for demonstration purposes, we can stop here.\n",
    "\n",
    "The resulting model of this notebook has been saved to [m3hrdadfi/wav2vec2-xlsr-greek-speech-emotion-recognition](https://huggingface.co/m3hrdadfi/wav2vec2-xlsr-greek-speech-emotion-recognition)\n",
    "\n",
    "As a final check, let's load the model and verify that it indeed has learned to recognize the emotion in the speech.\n",
    "\n",
    "Let's first load the pretrained checkpoint."
   ]
  },
  {
   "cell_type": "markdown",
   "metadata": {
    "id": "VsaOTx_FVm0i"
   },
   "source": [
    "## Evaluation"
   ]
  },
  {
   "cell_type": "code",
   "execution_count": 1,
   "metadata": {
    "id": "4tGNY7hRXO44"
   },
   "outputs": [
    {
     "ename": "KeyboardInterrupt",
     "evalue": "",
     "output_type": "error",
     "traceback": [
      "\u001b[0;31m---------------------------------------------------------------------------\u001b[0m",
      "\u001b[0;31mKeyboardInterrupt\u001b[0m                         Traceback (most recent call last)",
      "\u001b[0;32m<ipython-input-1-f53195dc4ee5>\u001b[0m in \u001b[0;36m<module>\u001b[0;34m\u001b[0m\n\u001b[0;32m----> 1\u001b[0;31m \u001b[0;32mimport\u001b[0m \u001b[0mlibrosa\u001b[0m\u001b[0;34m\u001b[0m\u001b[0;34m\u001b[0m\u001b[0m\n\u001b[0m\u001b[1;32m      2\u001b[0m \u001b[0;32mfrom\u001b[0m \u001b[0msklearn\u001b[0m\u001b[0;34m.\u001b[0m\u001b[0mmetrics\u001b[0m \u001b[0;32mimport\u001b[0m \u001b[0mclassification_report\u001b[0m\u001b[0;34m\u001b[0m\u001b[0;34m\u001b[0m\u001b[0m\n",
      "\u001b[0;32m~/.PyEnv38/lib/python3.8/site-packages/librosa/__init__.py\u001b[0m in \u001b[0;36m<module>\u001b[0;34m\u001b[0m\n\u001b[1;32m    209\u001b[0m \u001b[0;31m# And all the librosa sub-modules\u001b[0m\u001b[0;34m\u001b[0m\u001b[0;34m\u001b[0m\u001b[0;34m\u001b[0m\u001b[0m\n\u001b[1;32m    210\u001b[0m \u001b[0;32mfrom\u001b[0m \u001b[0;34m.\u001b[0m\u001b[0m_cache\u001b[0m \u001b[0;32mimport\u001b[0m \u001b[0mcache\u001b[0m\u001b[0;34m\u001b[0m\u001b[0;34m\u001b[0m\u001b[0m\n\u001b[0;32m--> 211\u001b[0;31m \u001b[0;32mfrom\u001b[0m \u001b[0;34m.\u001b[0m \u001b[0;32mimport\u001b[0m \u001b[0mcore\u001b[0m\u001b[0;34m\u001b[0m\u001b[0;34m\u001b[0m\u001b[0m\n\u001b[0m\u001b[1;32m    212\u001b[0m \u001b[0;32mfrom\u001b[0m \u001b[0;34m.\u001b[0m \u001b[0;32mimport\u001b[0m \u001b[0mbeat\u001b[0m\u001b[0;34m\u001b[0m\u001b[0;34m\u001b[0m\u001b[0m\n\u001b[1;32m    213\u001b[0m \u001b[0;32mfrom\u001b[0m \u001b[0;34m.\u001b[0m \u001b[0;32mimport\u001b[0m \u001b[0mdecompose\u001b[0m\u001b[0;34m\u001b[0m\u001b[0;34m\u001b[0m\u001b[0m\n",
      "\u001b[0;32m~/.PyEnv38/lib/python3.8/site-packages/librosa/core/__init__.py\u001b[0m in \u001b[0;36m<module>\u001b[0;34m\u001b[0m\n\u001b[1;32m      4\u001b[0m \u001b[0;34m\u001b[0m\u001b[0m\n\u001b[1;32m      5\u001b[0m \u001b[0;32mfrom\u001b[0m \u001b[0;34m.\u001b[0m\u001b[0mconvert\u001b[0m \u001b[0;32mimport\u001b[0m \u001b[0;34m*\u001b[0m  \u001b[0;31m# pylint: disable=wildcard-import\u001b[0m\u001b[0;34m\u001b[0m\u001b[0;34m\u001b[0m\u001b[0m\n\u001b[0;32m----> 6\u001b[0;31m \u001b[0;32mfrom\u001b[0m \u001b[0;34m.\u001b[0m\u001b[0maudio\u001b[0m \u001b[0;32mimport\u001b[0m \u001b[0;34m*\u001b[0m  \u001b[0;31m# pylint: disable=wildcard-import\u001b[0m\u001b[0;34m\u001b[0m\u001b[0;34m\u001b[0m\u001b[0m\n\u001b[0m\u001b[1;32m      7\u001b[0m \u001b[0;32mfrom\u001b[0m \u001b[0;34m.\u001b[0m\u001b[0mspectrum\u001b[0m \u001b[0;32mimport\u001b[0m \u001b[0;34m*\u001b[0m  \u001b[0;31m# pylint: disable=wildcard-import\u001b[0m\u001b[0;34m\u001b[0m\u001b[0;34m\u001b[0m\u001b[0m\n\u001b[1;32m      8\u001b[0m \u001b[0;32mfrom\u001b[0m \u001b[0;34m.\u001b[0m\u001b[0mpitch\u001b[0m \u001b[0;32mimport\u001b[0m \u001b[0;34m*\u001b[0m  \u001b[0;31m# pylint: disable=wildcard-import\u001b[0m\u001b[0;34m\u001b[0m\u001b[0;34m\u001b[0m\u001b[0m\n",
      "\u001b[0;32m~/.PyEnv38/lib/python3.8/site-packages/librosa/core/audio.py\u001b[0m in \u001b[0;36m<module>\u001b[0;34m\u001b[0m\n\u001b[1;32m      9\u001b[0m \u001b[0;32mimport\u001b[0m \u001b[0maudioread\u001b[0m\u001b[0;34m\u001b[0m\u001b[0;34m\u001b[0m\u001b[0m\n\u001b[1;32m     10\u001b[0m \u001b[0;32mimport\u001b[0m \u001b[0mnumpy\u001b[0m \u001b[0;32mas\u001b[0m \u001b[0mnp\u001b[0m\u001b[0;34m\u001b[0m\u001b[0;34m\u001b[0m\u001b[0m\n\u001b[0;32m---> 11\u001b[0;31m \u001b[0;32mimport\u001b[0m \u001b[0mscipy\u001b[0m\u001b[0;34m.\u001b[0m\u001b[0msignal\u001b[0m\u001b[0;34m\u001b[0m\u001b[0;34m\u001b[0m\u001b[0m\n\u001b[0m\u001b[1;32m     12\u001b[0m \u001b[0;32mimport\u001b[0m \u001b[0mresampy\u001b[0m\u001b[0;34m\u001b[0m\u001b[0;34m\u001b[0m\u001b[0m\n\u001b[1;32m     13\u001b[0m \u001b[0;34m\u001b[0m\u001b[0m\n",
      "\u001b[0;32m~/.PyEnv38/lib/python3.8/site-packages/scipy/signal/__init__.py\u001b[0m in \u001b[0;36m<module>\u001b[0;34m\u001b[0m\n\u001b[1;32m    308\u001b[0m \u001b[0;32mfrom\u001b[0m \u001b[0;34m.\u001b[0m\u001b[0mspectral\u001b[0m \u001b[0;32mimport\u001b[0m \u001b[0;34m*\u001b[0m\u001b[0;34m\u001b[0m\u001b[0;34m\u001b[0m\u001b[0m\n\u001b[1;32m    309\u001b[0m \u001b[0;32mfrom\u001b[0m \u001b[0;34m.\u001b[0m\u001b[0mwavelets\u001b[0m \u001b[0;32mimport\u001b[0m \u001b[0;34m*\u001b[0m\u001b[0;34m\u001b[0m\u001b[0;34m\u001b[0m\u001b[0m\n\u001b[0;32m--> 310\u001b[0;31m \u001b[0;32mfrom\u001b[0m \u001b[0;34m.\u001b[0m\u001b[0m_peak_finding\u001b[0m \u001b[0;32mimport\u001b[0m \u001b[0;34m*\u001b[0m\u001b[0;34m\u001b[0m\u001b[0;34m\u001b[0m\u001b[0m\n\u001b[0m\u001b[1;32m    311\u001b[0m \u001b[0;32mfrom\u001b[0m \u001b[0;34m.\u001b[0m\u001b[0mwindows\u001b[0m \u001b[0;32mimport\u001b[0m \u001b[0mget_window\u001b[0m  \u001b[0;31m# keep this one in signal namespace\u001b[0m\u001b[0;34m\u001b[0m\u001b[0;34m\u001b[0m\u001b[0m\n\u001b[1;32m    312\u001b[0m \u001b[0;34m\u001b[0m\u001b[0m\n",
      "\u001b[0;32m~/.PyEnv38/lib/python3.8/site-packages/scipy/signal/_peak_finding.py\u001b[0m in \u001b[0;36m<module>\u001b[0;34m\u001b[0m\n\u001b[1;32m      6\u001b[0m \u001b[0;34m\u001b[0m\u001b[0m\n\u001b[1;32m      7\u001b[0m \u001b[0;32mfrom\u001b[0m \u001b[0mscipy\u001b[0m\u001b[0;34m.\u001b[0m\u001b[0msignal\u001b[0m\u001b[0;34m.\u001b[0m\u001b[0mwavelets\u001b[0m \u001b[0;32mimport\u001b[0m \u001b[0mcwt\u001b[0m\u001b[0;34m,\u001b[0m \u001b[0mricker\u001b[0m\u001b[0;34m\u001b[0m\u001b[0;34m\u001b[0m\u001b[0m\n\u001b[0;32m----> 8\u001b[0;31m \u001b[0;32mfrom\u001b[0m \u001b[0mscipy\u001b[0m\u001b[0;34m.\u001b[0m\u001b[0mstats\u001b[0m \u001b[0;32mimport\u001b[0m \u001b[0mscoreatpercentile\u001b[0m\u001b[0;34m\u001b[0m\u001b[0;34m\u001b[0m\u001b[0m\n\u001b[0m\u001b[1;32m      9\u001b[0m \u001b[0;34m\u001b[0m\u001b[0m\n\u001b[1;32m     10\u001b[0m from ._peak_finding_utils import (\n",
      "\u001b[0;32m~/.PyEnv38/lib/python3.8/site-packages/scipy/stats/__init__.py\u001b[0m in \u001b[0;36m<module>\u001b[0;34m\u001b[0m\n\u001b[1;32m    389\u001b[0m \u001b[0;34m\u001b[0m\u001b[0m\n\u001b[1;32m    390\u001b[0m \"\"\"\n\u001b[0;32m--> 391\u001b[0;31m \u001b[0;32mfrom\u001b[0m \u001b[0;34m.\u001b[0m\u001b[0mstats\u001b[0m \u001b[0;32mimport\u001b[0m \u001b[0;34m*\u001b[0m\u001b[0;34m\u001b[0m\u001b[0;34m\u001b[0m\u001b[0m\n\u001b[0m\u001b[1;32m    392\u001b[0m \u001b[0;32mfrom\u001b[0m \u001b[0;34m.\u001b[0m\u001b[0mdistributions\u001b[0m \u001b[0;32mimport\u001b[0m \u001b[0;34m*\u001b[0m\u001b[0;34m\u001b[0m\u001b[0;34m\u001b[0m\u001b[0m\n\u001b[1;32m    393\u001b[0m \u001b[0;32mfrom\u001b[0m \u001b[0;34m.\u001b[0m\u001b[0mmorestats\u001b[0m \u001b[0;32mimport\u001b[0m \u001b[0;34m*\u001b[0m\u001b[0;34m\u001b[0m\u001b[0;34m\u001b[0m\u001b[0m\n",
      "\u001b[0;32m~/.PyEnv38/lib/python3.8/site-packages/scipy/stats/stats.py\u001b[0m in \u001b[0;36m<module>\u001b[0;34m\u001b[0m\n\u001b[1;32m    178\u001b[0m \u001b[0;32mimport\u001b[0m \u001b[0mscipy\u001b[0m\u001b[0;34m.\u001b[0m\u001b[0mspecial\u001b[0m \u001b[0;32mas\u001b[0m \u001b[0mspecial\u001b[0m\u001b[0;34m\u001b[0m\u001b[0;34m\u001b[0m\u001b[0m\n\u001b[1;32m    179\u001b[0m \u001b[0;32mfrom\u001b[0m \u001b[0mscipy\u001b[0m \u001b[0;32mimport\u001b[0m \u001b[0mlinalg\u001b[0m\u001b[0;34m\u001b[0m\u001b[0;34m\u001b[0m\u001b[0m\n\u001b[0;32m--> 180\u001b[0;31m \u001b[0;32mfrom\u001b[0m \u001b[0;34m.\u001b[0m \u001b[0;32mimport\u001b[0m \u001b[0mdistributions\u001b[0m\u001b[0;34m\u001b[0m\u001b[0;34m\u001b[0m\u001b[0m\n\u001b[0m\u001b[1;32m    181\u001b[0m \u001b[0;32mfrom\u001b[0m \u001b[0;34m.\u001b[0m \u001b[0;32mimport\u001b[0m \u001b[0mmstats_basic\u001b[0m\u001b[0;34m\u001b[0m\u001b[0;34m\u001b[0m\u001b[0m\n\u001b[1;32m    182\u001b[0m from ._stats_mstats_common import (_find_repeats, linregress, theilslopes,\n",
      "\u001b[0;32m~/.PyEnv38/lib/python3.8/site-packages/scipy/stats/distributions.py\u001b[0m in \u001b[0;36m<module>\u001b[0;34m\u001b[0m\n\u001b[1;32m      9\u001b[0m                                     rv_frozen)\n\u001b[1;32m     10\u001b[0m \u001b[0;34m\u001b[0m\u001b[0m\n\u001b[0;32m---> 11\u001b[0;31m \u001b[0;32mfrom\u001b[0m \u001b[0;34m.\u001b[0m \u001b[0;32mimport\u001b[0m \u001b[0m_continuous_distns\u001b[0m\u001b[0;34m\u001b[0m\u001b[0;34m\u001b[0m\u001b[0m\n\u001b[0m\u001b[1;32m     12\u001b[0m \u001b[0;32mfrom\u001b[0m \u001b[0;34m.\u001b[0m \u001b[0;32mimport\u001b[0m \u001b[0m_discrete_distns\u001b[0m\u001b[0;34m\u001b[0m\u001b[0;34m\u001b[0m\u001b[0m\n\u001b[1;32m     13\u001b[0m \u001b[0;34m\u001b[0m\u001b[0m\n",
      "\u001b[0;32m~/.PyEnv38/lib/python3.8/site-packages/scipy/stats/_continuous_distns.py\u001b[0m in \u001b[0;36m<module>\u001b[0;34m\u001b[0m\n\u001b[1;32m    172\u001b[0m \u001b[0;34m\u001b[0m\u001b[0m\n\u001b[1;32m    173\u001b[0m \u001b[0;31m# Use the pdf, (not the ppf) to compute moments\u001b[0m\u001b[0;34m\u001b[0m\u001b[0;34m\u001b[0m\u001b[0;34m\u001b[0m\u001b[0m\n\u001b[0;32m--> 174\u001b[0;31m \u001b[0mkstwo\u001b[0m \u001b[0;34m=\u001b[0m \u001b[0mkstwo_gen\u001b[0m\u001b[0;34m(\u001b[0m\u001b[0mmomtype\u001b[0m\u001b[0;34m=\u001b[0m\u001b[0;36m0\u001b[0m\u001b[0;34m,\u001b[0m \u001b[0ma\u001b[0m\u001b[0;34m=\u001b[0m\u001b[0;36m0.0\u001b[0m\u001b[0;34m,\u001b[0m \u001b[0mb\u001b[0m\u001b[0;34m=\u001b[0m\u001b[0;36m1.0\u001b[0m\u001b[0;34m,\u001b[0m \u001b[0mname\u001b[0m\u001b[0;34m=\u001b[0m\u001b[0;34m'kstwo'\u001b[0m\u001b[0;34m)\u001b[0m\u001b[0;34m\u001b[0m\u001b[0;34m\u001b[0m\u001b[0m\n\u001b[0m\u001b[1;32m    175\u001b[0m \u001b[0;34m\u001b[0m\u001b[0m\n\u001b[1;32m    176\u001b[0m \u001b[0;34m\u001b[0m\u001b[0m\n",
      "\u001b[0;32m~/.PyEnv38/lib/python3.8/site-packages/scipy/stats/_distn_infrastructure.py\u001b[0m in \u001b[0;36m__init__\u001b[0;34m(self, momtype, a, b, xtol, badvalue, name, longname, shapes, extradoc, seed)\u001b[0m\n\u001b[1;32m   1701\u001b[0m             \u001b[0;32melse\u001b[0m\u001b[0;34m:\u001b[0m\u001b[0;34m\u001b[0m\u001b[0;34m\u001b[0m\u001b[0m\n\u001b[1;32m   1702\u001b[0m                 \u001b[0mdct\u001b[0m \u001b[0;34m=\u001b[0m \u001b[0mdict\u001b[0m\u001b[0;34m(\u001b[0m\u001b[0mdistcont\u001b[0m\u001b[0;34m)\u001b[0m\u001b[0;34m\u001b[0m\u001b[0;34m\u001b[0m\u001b[0m\n\u001b[0;32m-> 1703\u001b[0;31m                 \u001b[0mself\u001b[0m\u001b[0;34m.\u001b[0m\u001b[0m_construct_doc\u001b[0m\u001b[0;34m(\u001b[0m\u001b[0mdocdict\u001b[0m\u001b[0;34m,\u001b[0m \u001b[0mdct\u001b[0m\u001b[0;34m.\u001b[0m\u001b[0mget\u001b[0m\u001b[0;34m(\u001b[0m\u001b[0mself\u001b[0m\u001b[0;34m.\u001b[0m\u001b[0mname\u001b[0m\u001b[0;34m)\u001b[0m\u001b[0;34m)\u001b[0m\u001b[0;34m\u001b[0m\u001b[0;34m\u001b[0m\u001b[0m\n\u001b[0m\u001b[1;32m   1704\u001b[0m \u001b[0;34m\u001b[0m\u001b[0m\n\u001b[1;32m   1705\u001b[0m     \u001b[0;32mdef\u001b[0m \u001b[0m__getstate__\u001b[0m\u001b[0;34m(\u001b[0m\u001b[0mself\u001b[0m\u001b[0;34m)\u001b[0m\u001b[0;34m:\u001b[0m\u001b[0;34m\u001b[0m\u001b[0;34m\u001b[0m\u001b[0m\n",
      "\u001b[0;32m~/.PyEnv38/lib/python3.8/site-packages/scipy/stats/_distn_infrastructure.py\u001b[0m in \u001b[0;36m_construct_doc\u001b[0;34m(self, docdict, shapes_vals)\u001b[0m\n\u001b[1;32m    794\u001b[0m                 \u001b[0mself\u001b[0m\u001b[0;34m.\u001b[0m\u001b[0m__doc__\u001b[0m \u001b[0;34m=\u001b[0m \u001b[0mself\u001b[0m\u001b[0;34m.\u001b[0m\u001b[0m__doc__\u001b[0m\u001b[0;34m.\u001b[0m\u001b[0mreplace\u001b[0m\u001b[0;34m(\u001b[0m\u001b[0;34m\"%(shapes)s, \"\u001b[0m\u001b[0;34m,\u001b[0m \u001b[0;34m\"\"\u001b[0m\u001b[0;34m)\u001b[0m\u001b[0;34m\u001b[0m\u001b[0;34m\u001b[0m\u001b[0m\n\u001b[1;32m    795\u001b[0m             \u001b[0;32mtry\u001b[0m\u001b[0;34m:\u001b[0m\u001b[0;34m\u001b[0m\u001b[0;34m\u001b[0m\u001b[0m\n\u001b[0;32m--> 796\u001b[0;31m                 \u001b[0mself\u001b[0m\u001b[0;34m.\u001b[0m\u001b[0m__doc__\u001b[0m \u001b[0;34m=\u001b[0m \u001b[0mdoccer\u001b[0m\u001b[0;34m.\u001b[0m\u001b[0mdocformat\u001b[0m\u001b[0;34m(\u001b[0m\u001b[0mself\u001b[0m\u001b[0;34m.\u001b[0m\u001b[0m__doc__\u001b[0m\u001b[0;34m,\u001b[0m \u001b[0mtempdict\u001b[0m\u001b[0;34m)\u001b[0m\u001b[0;34m\u001b[0m\u001b[0;34m\u001b[0m\u001b[0m\n\u001b[0m\u001b[1;32m    797\u001b[0m             \u001b[0;32mexcept\u001b[0m \u001b[0mTypeError\u001b[0m \u001b[0;32mas\u001b[0m \u001b[0me\u001b[0m\u001b[0;34m:\u001b[0m\u001b[0;34m\u001b[0m\u001b[0;34m\u001b[0m\u001b[0m\n\u001b[1;32m    798\u001b[0m                 raise Exception(\"Unable to construct docstring for distribution \\\"%s\\\": %s\" %\n",
      "\u001b[0;32m~/.PyEnv38/lib/python3.8/site-packages/scipy/_lib/doccer.py\u001b[0m in \u001b[0;36mdocformat\u001b[0;34m(docstring, docdict)\u001b[0m\n\u001b[1;32m     60\u001b[0m             \u001b[0mnewlines\u001b[0m \u001b[0;34m=\u001b[0m \u001b[0;34m[\u001b[0m\u001b[0mlines\u001b[0m\u001b[0;34m[\u001b[0m\u001b[0;36m0\u001b[0m\u001b[0;34m]\u001b[0m\u001b[0;34m]\u001b[0m\u001b[0;34m\u001b[0m\u001b[0;34m\u001b[0m\u001b[0m\n\u001b[1;32m     61\u001b[0m             \u001b[0;32mfor\u001b[0m \u001b[0mline\u001b[0m \u001b[0;32min\u001b[0m \u001b[0mlines\u001b[0m\u001b[0;34m[\u001b[0m\u001b[0;36m1\u001b[0m\u001b[0;34m:\u001b[0m\u001b[0;34m]\u001b[0m\u001b[0;34m:\u001b[0m\u001b[0;34m\u001b[0m\u001b[0;34m\u001b[0m\u001b[0m\n\u001b[0;32m---> 62\u001b[0;31m                 \u001b[0mnewlines\u001b[0m\u001b[0;34m.\u001b[0m\u001b[0mappend\u001b[0m\u001b[0;34m(\u001b[0m\u001b[0mindent\u001b[0m\u001b[0;34m+\u001b[0m\u001b[0mline\u001b[0m\u001b[0;34m)\u001b[0m\u001b[0;34m\u001b[0m\u001b[0;34m\u001b[0m\u001b[0m\n\u001b[0m\u001b[1;32m     63\u001b[0m             \u001b[0mindented\u001b[0m\u001b[0;34m[\u001b[0m\u001b[0mname\u001b[0m\u001b[0;34m]\u001b[0m \u001b[0;34m=\u001b[0m \u001b[0;34m'\\n'\u001b[0m\u001b[0;34m.\u001b[0m\u001b[0mjoin\u001b[0m\u001b[0;34m(\u001b[0m\u001b[0mnewlines\u001b[0m\u001b[0;34m)\u001b[0m\u001b[0;34m\u001b[0m\u001b[0;34m\u001b[0m\u001b[0m\n\u001b[1;32m     64\u001b[0m         \u001b[0;32mexcept\u001b[0m \u001b[0mIndexError\u001b[0m\u001b[0;34m:\u001b[0m\u001b[0;34m\u001b[0m\u001b[0;34m\u001b[0m\u001b[0m\n",
      "\u001b[0;31mKeyboardInterrupt\u001b[0m: "
     ]
    }
   ],
   "source": [
    "import librosa\n",
    "from sklearn.metrics import classification_report"
   ]
  },
  {
   "cell_type": "code",
   "execution_count": null,
   "metadata": {
    "colab": {
     "base_uri": "https://localhost:8080/",
     "height": 156,
     "referenced_widgets": [
      "8a5be3ab74704643a36dd219fa3eb5a3",
      "0094521e8cf64ac098cfe122cf7021c4",
      "969ace95cb9742258efb81f517fccbe9",
      "ae3d53de5af147e98ee12966054cf41c",
      "5a4c57e5833840e19700a650781a95db",
      "ee8702b9d94c4b869e0601d42df0519c",
      "5c8945a46d2748c9b50c939e178c9d97",
      "654a83f92aec429a823f89cfadd618cb"
     ]
    },
    "id": "IYxg1Tfo2VUw",
    "outputId": "1bdf2b50-7663-4c63-eb16-bcd97614f285"
   },
   "outputs": [
    {
     "name": "stderr",
     "output_type": "stream",
     "text": [
      "Using custom data configuration default-557d7b43c54d3362\n"
     ]
    },
    {
     "name": "stdout",
     "output_type": "stream",
     "text": [
      "Downloading and preparing dataset csv/default (download: Unknown size, generated: Unknown size, post-processed: Unknown size, total: Unknown size) to /content/cache/csv/default-557d7b43c54d3362/0.0.0/2dc6629a9ff6b5697d82c25b73731dd440507a69cbce8b425db50b751e8fcfd0...\n"
     ]
    },
    {
     "data": {
      "application/vnd.jupyter.widget-view+json": {
       "model_id": "8a5be3ab74704643a36dd219fa3eb5a3",
       "version_major": 2,
       "version_minor": 0
      },
      "text/plain": [
       "HBox(children=(FloatProgress(value=1.0, bar_style='info', max=1.0), HTML(value='')))"
      ]
     },
     "metadata": {
      "tags": []
     },
     "output_type": "display_data"
    },
    {
     "name": "stdout",
     "output_type": "stream",
     "text": [
      "Dataset csv downloaded and prepared to /content/cache/csv/default-557d7b43c54d3362/0.0.0/2dc6629a9ff6b5697d82c25b73731dd440507a69cbce8b425db50b751e8fcfd0. Subsequent calls will reuse this data.\n"
     ]
    },
    {
     "data": {
      "text/plain": [
       "Dataset({\n",
       "    features: ['name', 'path', 'emotion'],\n",
       "    num_rows: 121\n",
       "})"
      ]
     },
     "execution_count": 38,
     "metadata": {
      "tags": []
     },
     "output_type": "execute_result"
    }
   ],
   "source": [
    "test_dataset = load_dataset(\"csv\", data_files={\"test\": \"./test.csv\"}, delimiter=\"\\t\")[\"test\"]\n",
    "test_dataset"
   ]
  },
  {
   "cell_type": "code",
   "execution_count": null,
   "metadata": {
    "colab": {
     "base_uri": "https://localhost:8080/"
    },
    "id": "QgZFkMDHW_Um",
    "outputId": "8efb8a2c-2021-4b76-9ba6-d6a0d7c20dde"
   },
   "outputs": [
    {
     "name": "stdout",
     "output_type": "stream",
     "text": [
      "Device: cuda\n"
     ]
    }
   ],
   "source": [
    "device = torch.device(\"cuda\" if torch.cuda.is_available() else \"cpu\")\n",
    "print(f\"Device: {device}\")"
   ]
  },
  {
   "cell_type": "code",
   "execution_count": null,
   "metadata": {
    "colab": {
     "base_uri": "https://localhost:8080/",
     "height": 360,
     "referenced_widgets": [
      "735b283d128b417d93ee1060f4863aad",
      "b5c6c623c0114078bcabec93f8e2603a",
      "9229f1dfcd1b49b29e24101b9669f98c",
      "d29034b7bb8944e68cf5cd60687656eb",
      "482acb885cfc409ab154abceeb15a436",
      "6ba7834558484368a9cb78f03d1afc25",
      "863249661fb9464eb5c1396bf52cad68",
      "a6d0ca3153884127ae8d26fa01ffd0da",
      "bca57f08a63a47b8897dbc4cf7eccae8",
      "ba879b3bdd0b44329aec961c5d62a4c5",
      "1c8cd3635c674ba1a893a5d9a9846410",
      "0e971f449c674f3a9bf3695799d77300",
      "3d584f500a2d45108b8795fd34a114c6",
      "337acef1f7324919913748461d4f6379",
      "4b3b5fee89234437b6a6199baba7105f",
      "a9c7d9dd865041a0bf83c0a9abd134c7",
      "a6508c4c275547669f0f3646e9d6e599",
      "c6c6aaf73a45402f89cce228bbbbcda1",
      "0dff4d876a8d4f879f977312dff1b358",
      "b891b8a8b07b4b88b6d0dda55ccab66b",
      "d604cbae5d454c7d95a1526da7061756",
      "f4f5ab54359f4038b835a05ce42d33f3",
      "947766db621a4ff0869f6d44e23b68af",
      "8e7f210188f44d7b8f6a65b930abe563",
      "821ee8ae573a4e7092c810dfa5317802",
      "599f611af5d54d1ebf48d2357e25f189",
      "9431932a569c4bd3a8c46e99ff07aefd",
      "25942482b41141088bd3628b1e47d57a",
      "49880831258d43f59096117a8c2c02eb",
      "b7af7737c23248309a362885e9b9fe0b",
      "8d908d01e07d4452a67852f8d03bc1e7",
      "cac3d72d95d049a1a5267bcc3fac83c7",
      "86b895aedb3446bdb5f7380a7677b03b",
      "2a30879c7e3240c08f6c63e857317958",
      "ce1cf206122446888c04e38323860dbc",
      "3dddc5e034a84aa5ba12052c3262c372",
      "1824dace1db2480189f2fb64ce2d3d74",
      "1343c8850129492b9f65386320479dcf",
      "2b737940965f4fa5806eb217e09aceb0",
      "c7cba6ab31094e20824306840f79303f",
      "c4e0188a78504385b5e3849f621a2660",
      "1662eecc294843c9b267116e6a9c239f",
      "5a0c1ba72f7443858c65d0a7c4e27fa3",
      "e0a34bb58a214bc1b954639600532319",
      "6081ce6d643d46e19b854d6b975066ec",
      "b34af14010c34fc19db828708389a196",
      "9c93948f6db741abb93847a7df55d800",
      "0fd3649215604be3ae625b375b42a200",
      "9d76f30b2da34f95adc14d65a5db42be",
      "df988cc1226d411e9b45c00430508207",
      "dae4b191c7a24f1296a72be45254ed17",
      "ef2247cf25584486b3e6f7fd5bd8c754",
      "1b3d7294af164cb9bf623532b0c57430",
      "4a87c1f5f89247a08d7c3a905068c6d3",
      "3bf30dcb727a45f496f3ecce705a93b2",
      "f333b755188f4c5db4a013eb3d925229"
     ]
    },
    "id": "-ESFEXeaWgua",
    "outputId": "1ece0dda-8d00-4b24-d227-d787b2dcbb61"
   },
   "outputs": [
    {
     "data": {
      "application/vnd.jupyter.widget-view+json": {
       "model_id": "735b283d128b417d93ee1060f4863aad",
       "version_major": 2,
       "version_minor": 0
      },
      "text/plain": [
       "HBox(children=(FloatProgress(value=0.0, description='Downloading', max=1925.0, style=ProgressStyle(description…"
      ]
     },
     "metadata": {
      "tags": []
     },
     "output_type": "display_data"
    },
    {
     "name": "stdout",
     "output_type": "stream",
     "text": [
      "\n"
     ]
    },
    {
     "data": {
      "application/vnd.jupyter.widget-view+json": {
       "model_id": "bca57f08a63a47b8897dbc4cf7eccae8",
       "version_major": 2,
       "version_minor": 0
      },
      "text/plain": [
       "HBox(children=(FloatProgress(value=0.0, description='Downloading', max=214.0, style=ProgressStyle(description_…"
      ]
     },
     "metadata": {
      "tags": []
     },
     "output_type": "display_data"
    },
    {
     "name": "stdout",
     "output_type": "stream",
     "text": [
      "\n"
     ]
    },
    {
     "data": {
      "application/vnd.jupyter.widget-view+json": {
       "model_id": "a6508c4c275547669f0f3646e9d6e599",
       "version_major": 2,
       "version_minor": 0
      },
      "text/plain": [
       "HBox(children=(FloatProgress(value=0.0, description='Downloading', max=535.0, style=ProgressStyle(description_…"
      ]
     },
     "metadata": {
      "tags": []
     },
     "output_type": "display_data"
    },
    {
     "name": "stdout",
     "output_type": "stream",
     "text": [
      "\n"
     ]
    },
    {
     "data": {
      "application/vnd.jupyter.widget-view+json": {
       "model_id": "821ee8ae573a4e7092c810dfa5317802",
       "version_major": 2,
       "version_minor": 0
      },
      "text/plain": [
       "HBox(children=(FloatProgress(value=0.0, description='Downloading', max=398.0, style=ProgressStyle(description_…"
      ]
     },
     "metadata": {
      "tags": []
     },
     "output_type": "display_data"
    },
    {
     "name": "stdout",
     "output_type": "stream",
     "text": [
      "\n"
     ]
    },
    {
     "data": {
      "application/vnd.jupyter.widget-view+json": {
       "model_id": "86b895aedb3446bdb5f7380a7677b03b",
       "version_major": 2,
       "version_minor": 0
      },
      "text/plain": [
       "HBox(children=(FloatProgress(value=0.0, description='Downloading', max=23.0, style=ProgressStyle(description_w…"
      ]
     },
     "metadata": {
      "tags": []
     },
     "output_type": "display_data"
    },
    {
     "name": "stdout",
     "output_type": "stream",
     "text": [
      "\n"
     ]
    },
    {
     "data": {
      "application/vnd.jupyter.widget-view+json": {
       "model_id": "c4e0188a78504385b5e3849f621a2660",
       "version_major": 2,
       "version_minor": 0
      },
      "text/plain": [
       "HBox(children=(FloatProgress(value=0.0, description='Downloading', max=309.0, style=ProgressStyle(description_…"
      ]
     },
     "metadata": {
      "tags": []
     },
     "output_type": "display_data"
    },
    {
     "name": "stdout",
     "output_type": "stream",
     "text": [
      "\n"
     ]
    },
    {
     "data": {
      "application/vnd.jupyter.widget-view+json": {
       "model_id": "9d76f30b2da34f95adc14d65a5db42be",
       "version_major": 2,
       "version_minor": 0
      },
      "text/plain": [
       "HBox(children=(FloatProgress(value=0.0, description='Downloading', max=1266153513.0, style=ProgressStyle(descr…"
      ]
     },
     "metadata": {
      "tags": []
     },
     "output_type": "display_data"
    },
    {
     "name": "stdout",
     "output_type": "stream",
     "text": [
      "\n"
     ]
    }
   ],
   "source": [
    "model_name_or_path = \"facebook/wav2vec2-base-960h\"\n",
    "config = AutoConfig.from_pretrained(model_name_or_path)\n",
    "processor = Wav2Vec2Processor.from_pretrained(model_name_or_path)\n",
    "model = Wav2Vec2ForSpeechClassification.from_pretrained(model_name_or_path).to(device)"
   ]
  },
  {
   "cell_type": "code",
   "execution_count": null,
   "metadata": {
    "id": "BkEd4w8IV7kZ"
   },
   "outputs": [],
   "source": [
    "def speech_file_to_array_fn(batch):\n",
    "    speech_array, sampling_rate = torchaudio.load(batch[\"path\"])\n",
    "    speech_array = speech_array.squeeze().numpy()\n",
    "    speech_array = librosa.resample(np.asarray(speech_array), sampling_rate, processor.feature_extractor.sampling_rate)\n",
    "\n",
    "    batch[\"speech\"] = speech_array\n",
    "    return batch\n",
    "\n",
    "\n",
    "def predict(batch):\n",
    "    features = processor(batch[\"speech\"], sampling_rate=processor.feature_extractor.sampling_rate, return_tensors=\"pt\", padding=True)\n",
    "\n",
    "    input_values = features.input_values.to(device)\n",
    "    attention_mask = features.attention_mask.to(device)\n",
    "\n",
    "    with torch.no_grad():\n",
    "        logits = model(input_values, attention_mask=attention_mask).logits \n",
    "\n",
    "    pred_ids = torch.argmax(logits, dim=-1).detach().cpu().numpy()\n",
    "    batch[\"predicted\"] = pred_ids\n",
    "    return batch"
   ]
  },
  {
   "cell_type": "code",
   "execution_count": null,
   "metadata": {
    "colab": {
     "base_uri": "https://localhost:8080/",
     "height": 66,
     "referenced_widgets": [
      "c3d1935d11764b65aa03c1b8abd431cc",
      "56318e1f4b4a41f5bfcd9239ba2442b9",
      "fc3498912378423b856ae47d79a37cc3",
      "7438096ce4f34d1e97d217a9ef53f375",
      "66120bcdfe194074b51c204be44a6bf5",
      "92636f7a713147e19a5a7af33a654db0",
      "f06d687a08cc4b9ba7aa738ff475e928",
      "21a3955a06b44d6bbf9b0676a999aa8e"
     ]
    },
    "id": "S4P6P6XwW85p",
    "outputId": "59cd6b44-182f-438a-f32d-a604d96132c5"
   },
   "outputs": [
    {
     "data": {
      "application/vnd.jupyter.widget-view+json": {
       "model_id": "c3d1935d11764b65aa03c1b8abd431cc",
       "version_major": 2,
       "version_minor": 0
      },
      "text/plain": [
       "HBox(children=(FloatProgress(value=0.0, max=121.0), HTML(value='')))"
      ]
     },
     "metadata": {
      "tags": []
     },
     "output_type": "display_data"
    },
    {
     "name": "stdout",
     "output_type": "stream",
     "text": [
      "\n"
     ]
    }
   ],
   "source": [
    "test_dataset = test_dataset.map(speech_file_to_array_fn)"
   ]
  },
  {
   "cell_type": "code",
   "execution_count": null,
   "metadata": {
    "colab": {
     "base_uri": "https://localhost:8080/",
     "height": 66,
     "referenced_widgets": [
      "7bcc8e538ff34d4196055461811097ac",
      "8f144001036e4ffb845cb2d5575bb86e",
      "9da77be834fa48e2a416844aae7ee58a",
      "101d52fef40d426fa713c385304499bf",
      "b280d16336ce4cca95c8577025fd4764",
      "2f21becfde73488ea26aeb8d338fa332",
      "3abc327d585e4840b51a12e5efb2281f",
      "992a468bf6d54c2d98837e10a562cfab"
     ]
    },
    "id": "K_oZJzHsXKHv",
    "outputId": "6bf8dd80-e5db-4415-810b-bfa2fa76e60f"
   },
   "outputs": [
    {
     "data": {
      "application/vnd.jupyter.widget-view+json": {
       "model_id": "7bcc8e538ff34d4196055461811097ac",
       "version_major": 2,
       "version_minor": 0
      },
      "text/plain": [
       "HBox(children=(FloatProgress(value=0.0, max=16.0), HTML(value='')))"
      ]
     },
     "metadata": {
      "tags": []
     },
     "output_type": "display_data"
    },
    {
     "name": "stdout",
     "output_type": "stream",
     "text": [
      "\n"
     ]
    }
   ],
   "source": [
    "result = test_dataset.map(predict, batched=True, batch_size=8)"
   ]
  },
  {
   "cell_type": "code",
   "execution_count": null,
   "metadata": {
    "colab": {
     "base_uri": "https://localhost:8080/"
    },
    "id": "BnfJLZvAaxTo",
    "outputId": "dfea7223-1211-471e-8653-5fef695e58fb"
   },
   "outputs": [
    {
     "data": {
      "text/plain": [
       "['anger', 'disgust', 'fear', 'happiness', 'sadness']"
      ]
     },
     "execution_count": 46,
     "metadata": {
      "tags": []
     },
     "output_type": "execute_result"
    }
   ],
   "source": [
    "label_names = [config.id2label[i] for i in range(config.num_labels)]\n",
    "label_names"
   ]
  },
  {
   "cell_type": "code",
   "execution_count": null,
   "metadata": {
    "colab": {
     "base_uri": "https://localhost:8080/"
    },
    "id": "vRtajzvTabeH",
    "outputId": "6a3ea32f-bc88-4b50-de82-ef96feb5d6be"
   },
   "outputs": [
    {
     "name": "stdout",
     "output_type": "stream",
     "text": [
      "[1, 4, 0, 4, 3]\n",
      "[1, 4, 0, 4, 3]\n"
     ]
    }
   ],
   "source": [
    "y_true = [config.label2id[name] for name in result[\"emotion\"]]\n",
    "y_pred = result[\"predicted\"]\n",
    "\n",
    "print(y_true[:5])\n",
    "print(y_pred[:5])"
   ]
  },
  {
   "cell_type": "code",
   "execution_count": null,
   "metadata": {
    "colab": {
     "base_uri": "https://localhost:8080/"
    },
    "id": "tUt5rIppXrzl",
    "outputId": "b434aa90-93f5-45bc-80bf-a821c9dff7c7"
   },
   "outputs": [
    {
     "name": "stdout",
     "output_type": "stream",
     "text": [
      "              precision    recall  f1-score   support\n",
      "\n",
      "       anger       0.96      0.96      0.96        24\n",
      "     disgust       0.96      1.00      0.98        24\n",
      "        fear       0.96      0.96      0.96        24\n",
      "   happiness       1.00      0.88      0.93        24\n",
      "     sadness       0.93      1.00      0.96        25\n",
      "\n",
      "    accuracy                           0.96       121\n",
      "   macro avg       0.96      0.96      0.96       121\n",
      "weighted avg       0.96      0.96      0.96       121\n",
      "\n"
     ]
    }
   ],
   "source": [
    "print(classification_report(y_true, y_pred, target_names=label_names))"
   ]
  },
  {
   "cell_type": "markdown",
   "metadata": {
    "id": "Ylb2Z6Xke2ro"
   },
   "source": [
    "# Prediction"
   ]
  },
  {
   "cell_type": "code",
   "execution_count": null,
   "metadata": {
    "id": "EQzCioPhWIiX"
   },
   "outputs": [],
   "source": [
    "import torch\n",
    "import torch.nn as nn\n",
    "import torch.nn.functional as F\n",
    "import torchaudio\n",
    "from transformers import AutoConfig, Wav2Vec2Processor\n",
    "\n",
    "import librosa\n",
    "import IPython.display as ipd\n",
    "import numpy as np\n",
    "import pandas as pd"
   ]
  },
  {
   "cell_type": "code",
   "execution_count": null,
   "metadata": {
    "id": "DocavTvQWIr_"
   },
   "outputs": [],
   "source": [
    "device = torch.device(\"cuda\" if torch.cuda.is_available() else \"cpu\")\n",
    "model_name_or_path = \"facebook/wav2vec2-base-960h\"\n",
    "config = AutoConfig.from_pretrained(model_name_or_path)\n",
    "processor = Wav2Vec2Processor.from_pretrained(model_name_or_path)\n",
    "sampling_rate = processor.feature_extractor.sampling_rate\n",
    "model = Wav2Vec2ForSpeechClassification.from_pretrained(model_name_or_path).to(device)"
   ]
  },
  {
   "cell_type": "code",
   "execution_count": null,
   "metadata": {
    "id": "1SSs95o9WIvK"
   },
   "outputs": [],
   "source": [
    "def speech_file_to_array_fn(path, sampling_rate):\n",
    "    speech_array, _sampling_rate = torchaudio.load(path)\n",
    "    resampler = torchaudio.transforms.Resample(_sampling_rate)\n",
    "    speech = resampler(speech_array).squeeze().numpy()\n",
    "    return speech\n",
    "\n",
    "\n",
    "def predict(path, sampling_rate):\n",
    "    speech = speech_file_to_array_fn(path, sampling_rate)\n",
    "    features = processor(speech, sampling_rate=sampling_rate, return_tensors=\"pt\", padding=True)\n",
    "\n",
    "    input_values = features.input_values.to(device)\n",
    "    attention_mask = features.attention_mask.to(device)\n",
    "\n",
    "    with torch.no_grad():\n",
    "        logits = model(input_values, attention_mask=attention_mask).logits\n",
    "\n",
    "    scores = F.softmax(logits, dim=1).detach().cpu().numpy()[0]\n",
    "    outputs = [{\"Emotion\": config.id2label[i], \"Score\": f\"{round(score * 100, 3):.1f}%\"} for i, score in enumerate(scores)]\n",
    "    return outputs\n",
    "\n",
    "\n",
    "STYLES = \"\"\"\n",
    "<style>\n",
    "div.display_data {\n",
    "    margin: 0 auto;\n",
    "    max-width: 500px;\n",
    "}\n",
    "table.xxx {\n",
    "    margin: 50px !important;\n",
    "    float: right !important;\n",
    "    clear: both !important;\n",
    "}\n",
    "table.xxx td {\n",
    "    min-width: 300px !important;\n",
    "    text-align: center !important;\n",
    "}\n",
    "</style>\n",
    "\"\"\".strip()\n",
    "\n",
    "def prediction(df_row):\n",
    "    path, emotion = df_row[\"path\"], df_row[\"emotion\"]\n",
    "    df = pd.DataFrame([{\"Emotion\": emotion, \"Sentence\": \"    \"}])\n",
    "    setup = {\n",
    "        'border': 2,\n",
    "        'show_dimensions': True,\n",
    "        'justify': 'center',\n",
    "        'classes': 'xxx',\n",
    "        'escape': False,\n",
    "    }\n",
    "    ipd.display(ipd.HTML(STYLES + df.to_html(**setup) + \"<br />\"))\n",
    "    speech, sr = torchaudio.load(path)\n",
    "    speech = speech[0].numpy().squeeze()\n",
    "    speech = librosa.resample(np.asarray(speech), sr, sampling_rate)\n",
    "    ipd.display(ipd.Audio(data=np.asarray(speech), autoplay=True, rate=sampling_rate))\n",
    "\n",
    "    outputs = predict(path, sampling_rate)\n",
    "    r = pd.DataFrame(outputs)\n",
    "    ipd.display(ipd.HTML(STYLES + r.to_html(**setup) + \"<br />\"))"
   ]
  },
  {
   "cell_type": "code",
   "execution_count": null,
   "metadata": {
    "colab": {
     "base_uri": "https://localhost:8080/",
     "height": 204
    },
    "id": "UD7oUP20YwYT",
    "outputId": "ec5251d3-4e27-42e7-f8de-54544c3beb2c"
   },
   "outputs": [
    {
     "data": {
      "text/html": [
       "<div>\n",
       "<style scoped>\n",
       "    .dataframe tbody tr th:only-of-type {\n",
       "        vertical-align: middle;\n",
       "    }\n",
       "\n",
       "    .dataframe tbody tr th {\n",
       "        vertical-align: top;\n",
       "    }\n",
       "\n",
       "    .dataframe thead th {\n",
       "        text-align: right;\n",
       "    }\n",
       "</style>\n",
       "<table border=\"1\" class=\"dataframe\">\n",
       "  <thead>\n",
       "    <tr style=\"text-align: right;\">\n",
       "      <th></th>\n",
       "      <th>name</th>\n",
       "      <th>path</th>\n",
       "      <th>emotion</th>\n",
       "    </tr>\n",
       "  </thead>\n",
       "  <tbody>\n",
       "    <tr>\n",
       "      <th>0</th>\n",
       "      <td>d09 (5)</td>\n",
       "      <td>/content/data/aesdd/disgust/d09 (5).wav</td>\n",
       "      <td>disgust</td>\n",
       "    </tr>\n",
       "    <tr>\n",
       "      <th>1</th>\n",
       "      <td>s20 (2)</td>\n",
       "      <td>/content/data/aesdd/sadness/s20 (2).wav</td>\n",
       "      <td>sadness</td>\n",
       "    </tr>\n",
       "    <tr>\n",
       "      <th>2</th>\n",
       "      <td>a17 (5)</td>\n",
       "      <td>/content/data/aesdd/anger/a17 (5).wav</td>\n",
       "      <td>anger</td>\n",
       "    </tr>\n",
       "    <tr>\n",
       "      <th>3</th>\n",
       "      <td>s16 (6)</td>\n",
       "      <td>/content/data/aesdd/sadness/s16 (6).wav</td>\n",
       "      <td>sadness</td>\n",
       "    </tr>\n",
       "    <tr>\n",
       "      <th>4</th>\n",
       "      <td>h14 (4)</td>\n",
       "      <td>/content/data/aesdd/happiness/h14 (4).wav</td>\n",
       "      <td>happiness</td>\n",
       "    </tr>\n",
       "  </tbody>\n",
       "</table>\n",
       "</div>"
      ],
      "text/plain": [
       "      name                                       path    emotion\n",
       "0  d09 (5)    /content/data/aesdd/disgust/d09 (5).wav    disgust\n",
       "1  s20 (2)    /content/data/aesdd/sadness/s20 (2).wav    sadness\n",
       "2  a17 (5)      /content/data/aesdd/anger/a17 (5).wav      anger\n",
       "3  s16 (6)    /content/data/aesdd/sadness/s16 (6).wav    sadness\n",
       "4  h14 (4)  /content/data/aesdd/happiness/h14 (4).wav  happiness"
      ]
     },
     "execution_count": 56,
     "metadata": {
      "tags": []
     },
     "output_type": "execute_result"
    }
   ],
   "source": [
    "test = pd.read_csv(\"/content/data/test.csv\", sep=\"\\t\")\n",
    "test.head()"
   ]
  },
  {
   "cell_type": "code",
   "execution_count": null,
   "metadata": {
    "colab": {
     "base_uri": "https://localhost:8080/",
     "height": 617
    },
    "id": "FlJO2LfVWIyT",
    "outputId": "74a524ce-f4b5-46a9-df20-dc8be43a0a4b"
   },
   "outputs": [
    {
     "data": {
      "text/html": [
       "<style>\n",
       "div.display_data {\n",
       "    margin: 0 auto;\n",
       "    max-width: 500px;\n",
       "}\n",
       "table.xxx {\n",
       "    margin: 50px !important;\n",
       "    float: right !important;\n",
       "    clear: both !important;\n",
       "}\n",
       "table.xxx td {\n",
       "    min-width: 300px !important;\n",
       "    text-align: center !important;\n",
       "}\n",
       "</style><table border=\"2\" class=\"dataframe xxx\">\n",
       "  <thead>\n",
       "    <tr style=\"text-align: center;\">\n",
       "      <th></th>\n",
       "      <th>Emotion</th>\n",
       "      <th>Sentence</th>\n",
       "    </tr>\n",
       "  </thead>\n",
       "  <tbody>\n",
       "    <tr>\n",
       "      <th>0</th>\n",
       "      <td>disgust</td>\n",
       "      <td></td>\n",
       "    </tr>\n",
       "  </tbody>\n",
       "</table>\n",
       "<p>1 rows × 2 columns</p><br />"
      ],
      "text/plain": [
       "<IPython.core.display.HTML object>"
      ]
     },
     "metadata": {
      "tags": []
     },
     "output_type": "display_data"
    },
    {
     "data": {
      "text/html": [
       "\n",
       "                <audio controls=\"controls\" autoplay=\"autoplay\">\n",
       "                    <source src=\"data:audio/wav;base64,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\" type=\"audio/wav\" />\n",
       "                    Your browser does not support the audio element.\n",
       "                </audio>\n",
       "              "
      ],
      "text/plain": [
       "<IPython.lib.display.Audio object>"
      ]
     },
     "metadata": {
      "tags": []
     },
     "output_type": "display_data"
    },
    {
     "data": {
      "text/html": [
       "<style>\n",
       "div.display_data {\n",
       "    margin: 0 auto;\n",
       "    max-width: 500px;\n",
       "}\n",
       "table.xxx {\n",
       "    margin: 50px !important;\n",
       "    float: right !important;\n",
       "    clear: both !important;\n",
       "}\n",
       "table.xxx td {\n",
       "    min-width: 300px !important;\n",
       "    text-align: center !important;\n",
       "}\n",
       "</style><table border=\"2\" class=\"dataframe xxx\">\n",
       "  <thead>\n",
       "    <tr style=\"text-align: center;\">\n",
       "      <th></th>\n",
       "      <th>Emotion</th>\n",
       "      <th>Score</th>\n",
       "    </tr>\n",
       "  </thead>\n",
       "  <tbody>\n",
       "    <tr>\n",
       "      <th>0</th>\n",
       "      <td>anger</td>\n",
       "      <td>0.0%</td>\n",
       "    </tr>\n",
       "    <tr>\n",
       "      <th>1</th>\n",
       "      <td>disgust</td>\n",
       "      <td>99.4%</td>\n",
       "    </tr>\n",
       "    <tr>\n",
       "      <th>2</th>\n",
       "      <td>fear</td>\n",
       "      <td>0.1%</td>\n",
       "    </tr>\n",
       "    <tr>\n",
       "      <th>3</th>\n",
       "      <td>happiness</td>\n",
       "      <td>0.1%</td>\n",
       "    </tr>\n",
       "    <tr>\n",
       "      <th>4</th>\n",
       "      <td>sadness</td>\n",
       "      <td>0.4%</td>\n",
       "    </tr>\n",
       "  </tbody>\n",
       "</table>\n",
       "<p>5 rows × 2 columns</p><br />"
      ],
      "text/plain": [
       "<IPython.core.display.HTML object>"
      ]
     },
     "metadata": {
      "tags": []
     },
     "output_type": "display_data"
    }
   ],
   "source": [
    "prediction(test.iloc[0])"
   ]
  },
  {
   "cell_type": "code",
   "execution_count": null,
   "metadata": {
    "colab": {
     "base_uri": "https://localhost:8080/",
     "height": 617
    },
    "id": "hzoKOgpoWI1K",
    "outputId": "0fad7fac-2f09-455f-c5b3-30316911cf54"
   },
   "outputs": [
    {
     "data": {
      "text/html": [
       "<style>\n",
       "div.display_data {\n",
       "    margin: 0 auto;\n",
       "    max-width: 500px;\n",
       "}\n",
       "table.xxx {\n",
       "    margin: 50px !important;\n",
       "    float: right !important;\n",
       "    clear: both !important;\n",
       "}\n",
       "table.xxx td {\n",
       "    min-width: 300px !important;\n",
       "    text-align: center !important;\n",
       "}\n",
       "</style><table border=\"2\" class=\"dataframe xxx\">\n",
       "  <thead>\n",
       "    <tr style=\"text-align: center;\">\n",
       "      <th></th>\n",
       "      <th>Emotion</th>\n",
       "      <th>Sentence</th>\n",
       "    </tr>\n",
       "  </thead>\n",
       "  <tbody>\n",
       "    <tr>\n",
       "      <th>0</th>\n",
       "      <td>sadness</td>\n",
       "      <td></td>\n",
       "    </tr>\n",
       "  </tbody>\n",
       "</table>\n",
       "<p>1 rows × 2 columns</p><br />"
      ],
      "text/plain": [
       "<IPython.core.display.HTML object>"
      ]
     },
     "metadata": {
      "tags": []
     },
     "output_type": "display_data"
    },
    {
     "data": {
      "text/html": [
       "\n",
       "                <audio controls=\"controls\" autoplay=\"autoplay\">\n",
       "                    <source src=\"data:audio/wav;base64,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\" type=\"audio/wav\" />\n",
       "                    Your browser does not support the audio element.\n",
       "                </audio>\n",
       "              "
      ],
      "text/plain": [
       "<IPython.lib.display.Audio object>"
      ]
     },
     "metadata": {
      "tags": []
     },
     "output_type": "display_data"
    },
    {
     "data": {
      "text/html": [
       "<style>\n",
       "div.display_data {\n",
       "    margin: 0 auto;\n",
       "    max-width: 500px;\n",
       "}\n",
       "table.xxx {\n",
       "    margin: 50px !important;\n",
       "    float: right !important;\n",
       "    clear: both !important;\n",
       "}\n",
       "table.xxx td {\n",
       "    min-width: 300px !important;\n",
       "    text-align: center !important;\n",
       "}\n",
       "</style><table border=\"2\" class=\"dataframe xxx\">\n",
       "  <thead>\n",
       "    <tr style=\"text-align: center;\">\n",
       "      <th></th>\n",
       "      <th>Emotion</th>\n",
       "      <th>Score</th>\n",
       "    </tr>\n",
       "  </thead>\n",
       "  <tbody>\n",
       "    <tr>\n",
       "      <th>0</th>\n",
       "      <td>anger</td>\n",
       "      <td>0.5%</td>\n",
       "    </tr>\n",
       "    <tr>\n",
       "      <th>1</th>\n",
       "      <td>disgust</td>\n",
       "      <td>0.2%</td>\n",
       "    </tr>\n",
       "    <tr>\n",
       "      <th>2</th>\n",
       "      <td>fear</td>\n",
       "      <td>0.1%</td>\n",
       "    </tr>\n",
       "    <tr>\n",
       "      <th>3</th>\n",
       "      <td>happiness</td>\n",
       "      <td>0.0%</td>\n",
       "    </tr>\n",
       "    <tr>\n",
       "      <th>4</th>\n",
       "      <td>sadness</td>\n",
       "      <td>99.2%</td>\n",
       "    </tr>\n",
       "  </tbody>\n",
       "</table>\n",
       "<p>5 rows × 2 columns</p><br />"
      ],
      "text/plain": [
       "<IPython.core.display.HTML object>"
      ]
     },
     "metadata": {
      "tags": []
     },
     "output_type": "display_data"
    }
   ],
   "source": [
    "prediction(test.iloc[1])"
   ]
  },
  {
   "cell_type": "code",
   "execution_count": null,
   "metadata": {
    "colab": {
     "base_uri": "https://localhost:8080/",
     "height": 617
    },
    "id": "7nqwbTTXSfMO",
    "outputId": "ab767a32-1c73-4eed-f388-d12e5f4a0fcf"
   },
   "outputs": [
    {
     "data": {
      "text/html": [
       "<style>\n",
       "div.display_data {\n",
       "    margin: 0 auto;\n",
       "    max-width: 500px;\n",
       "}\n",
       "table.xxx {\n",
       "    margin: 50px !important;\n",
       "    float: right !important;\n",
       "    clear: both !important;\n",
       "}\n",
       "table.xxx td {\n",
       "    min-width: 300px !important;\n",
       "    text-align: center !important;\n",
       "}\n",
       "</style><table border=\"2\" class=\"dataframe xxx\">\n",
       "  <thead>\n",
       "    <tr style=\"text-align: center;\">\n",
       "      <th></th>\n",
       "      <th>Emotion</th>\n",
       "      <th>Sentence</th>\n",
       "    </tr>\n",
       "  </thead>\n",
       "  <tbody>\n",
       "    <tr>\n",
       "      <th>0</th>\n",
       "      <td>anger</td>\n",
       "      <td></td>\n",
       "    </tr>\n",
       "  </tbody>\n",
       "</table>\n",
       "<p>1 rows × 2 columns</p><br />"
      ],
      "text/plain": [
       "<IPython.core.display.HTML object>"
      ]
     },
     "metadata": {
      "tags": []
     },
     "output_type": "display_data"
    },
    {
     "data": {
      "text/html": [
       "\n",
       "                <audio controls=\"controls\" autoplay=\"autoplay\">\n",
       "                    <source src=\"data:audio/wav;base64,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\" type=\"audio/wav\" />\n",
       "                    Your browser does not support the audio element.\n",
       "                </audio>\n",
       "              "
      ],
      "text/plain": [
       "<IPython.lib.display.Audio object>"
      ]
     },
     "metadata": {
      "tags": []
     },
     "output_type": "display_data"
    },
    {
     "data": {
      "text/html": [
       "<style>\n",
       "div.display_data {\n",
       "    margin: 0 auto;\n",
       "    max-width: 500px;\n",
       "}\n",
       "table.xxx {\n",
       "    margin: 50px !important;\n",
       "    float: right !important;\n",
       "    clear: both !important;\n",
       "}\n",
       "table.xxx td {\n",
       "    min-width: 300px !important;\n",
       "    text-align: center !important;\n",
       "}\n",
       "</style><table border=\"2\" class=\"dataframe xxx\">\n",
       "  <thead>\n",
       "    <tr style=\"text-align: center;\">\n",
       "      <th></th>\n",
       "      <th>Emotion</th>\n",
       "      <th>Score</th>\n",
       "    </tr>\n",
       "  </thead>\n",
       "  <tbody>\n",
       "    <tr>\n",
       "      <th>0</th>\n",
       "      <td>anger</td>\n",
       "      <td>99.4%</td>\n",
       "    </tr>\n",
       "    <tr>\n",
       "      <th>1</th>\n",
       "      <td>disgust</td>\n",
       "      <td>0.0%</td>\n",
       "    </tr>\n",
       "    <tr>\n",
       "      <th>2</th>\n",
       "      <td>fear</td>\n",
       "      <td>0.1%</td>\n",
       "    </tr>\n",
       "    <tr>\n",
       "      <th>3</th>\n",
       "      <td>happiness</td>\n",
       "      <td>0.2%</td>\n",
       "    </tr>\n",
       "    <tr>\n",
       "      <th>4</th>\n",
       "      <td>sadness</td>\n",
       "      <td>0.2%</td>\n",
       "    </tr>\n",
       "  </tbody>\n",
       "</table>\n",
       "<p>5 rows × 2 columns</p><br />"
      ],
      "text/plain": [
       "<IPython.core.display.HTML object>"
      ]
     },
     "metadata": {
      "tags": []
     },
     "output_type": "display_data"
    }
   ],
   "source": [
    "prediction(test.iloc[2])"
   ]
  }
 ],
 "metadata": {
  "accelerator": "GPU",
  "colab": {
   "collapsed_sections": [],
   "name": "Emotion recognition in Greek speech using Wav2Vec2.ipynb",
   "provenance": []
  },
  "kernelspec": {
   "display_name": "Python 3 (ipykernel)",
   "language": "python",
   "name": "python3"
  },
  "language_info": {
   "codemirror_mode": {
    "name": "ipython",
    "version": 3
   },
   "file_extension": ".py",
   "mimetype": "text/x-python",
   "name": "python",
   "nbconvert_exporter": "python",
   "pygments_lexer": "ipython3",
   "version": "3.7.3"
  },
  "widgets": {
   "application/vnd.jupyter.widget-state+json": {
    "001f6051e0a04b9894e8a9cd364a7b0a": {
     "model_module": "@jupyter-widgets/controls",
     "model_module_version": "1.5.0",
     "model_name": "DescriptionStyleModel",
     "state": {
      "_model_module": "@jupyter-widgets/controls",
      "_model_module_version": "1.5.0",
      "_model_name": "DescriptionStyleModel",
      "_view_count": null,
      "_view_module": "@jupyter-widgets/base",
      "_view_module_version": "1.2.0",
      "_view_name": "StyleView",
      "description_width": ""
     }
    },
    "00593a35c0344eeda275321def94a331": {
     "model_module": "@jupyter-widgets/base",
     "model_module_version": "1.2.0",
     "model_name": "LayoutModel",
     "state": {
      "_model_module": "@jupyter-widgets/base",
      "_model_module_version": "1.2.0",
      "_model_name": "LayoutModel",
      "_view_count": null,
      "_view_module": "@jupyter-widgets/base",
      "_view_module_version": "1.2.0",
      "_view_name": "LayoutView",
      "align_content": null,
      "align_items": null,
      "align_self": null,
      "border": null,
      "bottom": null,
      "display": null,
      "flex": null,
      "flex_flow": null,
      "grid_area": null,
      "grid_auto_columns": null,
      "grid_auto_flow": null,
      "grid_auto_rows": null,
      "grid_column": null,
      "grid_gap": null,
      "grid_row": null,
      "grid_template_areas": null,
      "grid_template_columns": null,
      "grid_template_rows": null,
      "height": null,
      "justify_content": null,
      "justify_items": null,
      "left": null,
      "margin": null,
      "max_height": null,
      "max_width": null,
      "min_height": null,
      "min_width": null,
      "object_fit": null,
      "object_position": null,
      "order": null,
      "overflow": null,
      "overflow_x": null,
      "overflow_y": null,
      "padding": null,
      "right": null,
      "top": null,
      "visibility": null,
      "width": null
     }
    },
    "0094521e8cf64ac098cfe122cf7021c4": {
     "model_module": "@jupyter-widgets/base",
     "model_module_version": "1.2.0",
     "model_name": "LayoutModel",
     "state": {
      "_model_module": "@jupyter-widgets/base",
      "_model_module_version": "1.2.0",
      "_model_name": "LayoutModel",
      "_view_count": null,
      "_view_module": "@jupyter-widgets/base",
      "_view_module_version": "1.2.0",
      "_view_name": "LayoutView",
      "align_content": null,
      "align_items": null,
      "align_self": null,
      "border": null,
      "bottom": null,
      "display": null,
      "flex": null,
      "flex_flow": null,
      "grid_area": null,
      "grid_auto_columns": null,
      "grid_auto_flow": null,
      "grid_auto_rows": null,
      "grid_column": null,
      "grid_gap": null,
      "grid_row": null,
      "grid_template_areas": null,
      "grid_template_columns": null,
      "grid_template_rows": null,
      "height": null,
      "justify_content": null,
      "justify_items": null,
      "left": null,
      "margin": null,
      "max_height": null,
      "max_width": null,
      "min_height": null,
      "min_width": null,
      "object_fit": null,
      "object_position": null,
      "order": null,
      "overflow": null,
      "overflow_x": null,
      "overflow_y": null,
      "padding": null,
      "right": null,
      "top": null,
      "visibility": null,
      "width": null
     }
    },
    "0561dae888b24853bf6bd12b36b9f58c": {
     "model_module": "@jupyter-widgets/controls",
     "model_module_version": "1.5.0",
     "model_name": "HBoxModel",
     "state": {
      "_dom_classes": [],
      "_model_module": "@jupyter-widgets/controls",
      "_model_module_version": "1.5.0",
      "_model_name": "HBoxModel",
      "_view_count": null,
      "_view_module": "@jupyter-widgets/controls",
      "_view_module_version": "1.5.0",
      "_view_name": "HBoxView",
      "box_style": "",
      "children": [
       "IPY_MODEL_149ebd49f5b047c0869941fda06c1136",
       "IPY_MODEL_1e356a9dd0c6482ca56e83cb600a49ab"
      ],
      "layout": "IPY_MODEL_147983c81ea54adf9a9fcc94be46e53c"
     }
    },
    "0bbf6f18021e48a089b39820b2f0af6f": {
     "model_module": "@jupyter-widgets/base",
     "model_module_version": "1.2.0",
     "model_name": "LayoutModel",
     "state": {
      "_model_module": "@jupyter-widgets/base",
      "_model_module_version": "1.2.0",
      "_model_name": "LayoutModel",
      "_view_count": null,
      "_view_module": "@jupyter-widgets/base",
      "_view_module_version": "1.2.0",
      "_view_name": "LayoutView",
      "align_content": null,
      "align_items": null,
      "align_self": null,
      "border": null,
      "bottom": null,
      "display": null,
      "flex": null,
      "flex_flow": null,
      "grid_area": null,
      "grid_auto_columns": null,
      "grid_auto_flow": null,
      "grid_auto_rows": null,
      "grid_column": null,
      "grid_gap": null,
      "grid_row": null,
      "grid_template_areas": null,
      "grid_template_columns": null,
      "grid_template_rows": null,
      "height": null,
      "justify_content": null,
      "justify_items": null,
      "left": null,
      "margin": null,
      "max_height": null,
      "max_width": null,
      "min_height": null,
      "min_width": null,
      "object_fit": null,
      "object_position": null,
      "order": null,
      "overflow": null,
      "overflow_x": null,
      "overflow_y": null,
      "padding": null,
      "right": null,
      "top": null,
      "visibility": null,
      "width": null
     }
    },
    "0bdd3c43f8934c0dad45b424f82b8547": {
     "model_module": "@jupyter-widgets/base",
     "model_module_version": "1.2.0",
     "model_name": "LayoutModel",
     "state": {
      "_model_module": "@jupyter-widgets/base",
      "_model_module_version": "1.2.0",
      "_model_name": "LayoutModel",
      "_view_count": null,
      "_view_module": "@jupyter-widgets/base",
      "_view_module_version": "1.2.0",
      "_view_name": "LayoutView",
      "align_content": null,
      "align_items": null,
      "align_self": null,
      "border": null,
      "bottom": null,
      "display": null,
      "flex": null,
      "flex_flow": null,
      "grid_area": null,
      "grid_auto_columns": null,
      "grid_auto_flow": null,
      "grid_auto_rows": null,
      "grid_column": null,
      "grid_gap": null,
      "grid_row": null,
      "grid_template_areas": null,
      "grid_template_columns": null,
      "grid_template_rows": null,
      "height": null,
      "justify_content": null,
      "justify_items": null,
      "left": null,
      "margin": null,
      "max_height": null,
      "max_width": null,
      "min_height": null,
      "min_width": null,
      "object_fit": null,
      "object_position": null,
      "order": null,
      "overflow": null,
      "overflow_x": null,
      "overflow_y": null,
      "padding": null,
      "right": null,
      "top": null,
      "visibility": null,
      "width": null
     }
    },
    "0c7dcf7611f748959ff5d1b91459e072": {
     "model_module": "@jupyter-widgets/controls",
     "model_module_version": "1.5.0",
     "model_name": "FloatProgressModel",
     "state": {
      "_dom_classes": [],
      "_model_module": "@jupyter-widgets/controls",
      "_model_module_version": "1.5.0",
      "_model_name": "FloatProgressModel",
      "_view_count": null,
      "_view_module": "@jupyter-widgets/controls",
      "_view_module_version": "1.5.0",
      "_view_name": "ProgressView",
      "bar_style": "success",
      "description": "",
      "description_tooltip": null,
      "layout": "IPY_MODEL_79b4e78aba7243c4a7bbc5c1242aa922",
      "max": 2,
      "min": 0,
      "orientation": "horizontal",
      "style": "IPY_MODEL_729e88444cf746e497f65f5a328883e8",
      "value": 2
     }
    },
    "0d8121b262a84b38bd5ba6a62877feb1": {
     "model_module": "@jupyter-widgets/controls",
     "model_module_version": "1.5.0",
     "model_name": "FloatProgressModel",
     "state": {
      "_dom_classes": [],
      "_model_module": "@jupyter-widgets/controls",
      "_model_module_version": "1.5.0",
      "_model_name": "FloatProgressModel",
      "_view_count": null,
      "_view_module": "@jupyter-widgets/controls",
      "_view_module_version": "1.5.0",
      "_view_name": "ProgressView",
      "bar_style": "success",
      "description": "",
      "description_tooltip": null,
      "layout": "IPY_MODEL_1dcfc3e077f94358a6695593f31ad674",
      "max": 535,
      "min": 0,
      "orientation": "horizontal",
      "style": "IPY_MODEL_9c607a2a04164cd7aec8fbb22a24070e",
      "value": 535
     }
    },
    "0dff4d876a8d4f879f977312dff1b358": {
     "model_module": "@jupyter-widgets/controls",
     "model_module_version": "1.5.0",
     "model_name": "FloatProgressModel",
     "state": {
      "_dom_classes": [],
      "_model_module": "@jupyter-widgets/controls",
      "_model_module_version": "1.5.0",
      "_model_name": "FloatProgressModel",
      "_view_count": null,
      "_view_module": "@jupyter-widgets/controls",
      "_view_module_version": "1.5.0",
      "_view_name": "ProgressView",
      "bar_style": "success",
      "description": "Downloading: 100%",
      "description_tooltip": null,
      "layout": "IPY_MODEL_f4f5ab54359f4038b835a05ce42d33f3",
      "max": 535,
      "min": 0,
      "orientation": "horizontal",
      "style": "IPY_MODEL_d604cbae5d454c7d95a1526da7061756",
      "value": 535
     }
    },
    "0e971f449c674f3a9bf3695799d77300": {
     "model_module": "@jupyter-widgets/controls",
     "model_module_version": "1.5.0",
     "model_name": "HTMLModel",
     "state": {
      "_dom_classes": [],
      "_model_module": "@jupyter-widgets/controls",
      "_model_module_version": "1.5.0",
      "_model_name": "HTMLModel",
      "_view_count": null,
      "_view_module": "@jupyter-widgets/controls",
      "_view_module_version": "1.5.0",
      "_view_name": "HTMLView",
      "description": "",
      "description_tooltip": null,
      "layout": "IPY_MODEL_a9c7d9dd865041a0bf83c0a9abd134c7",
      "placeholder": "​",
      "style": "IPY_MODEL_4b3b5fee89234437b6a6199baba7105f",
      "value": " 214/214 [00:00&lt;00:00, 1.13kB/s]"
     }
    },
    "0eb6c74ddd614b0284cc8fcb7e9749b9": {
     "model_module": "@jupyter-widgets/controls",
     "model_module_version": "1.5.0",
     "model_name": "ProgressStyleModel",
     "state": {
      "_model_module": "@jupyter-widgets/controls",
      "_model_module_version": "1.5.0",
      "_model_name": "ProgressStyleModel",
      "_view_count": null,
      "_view_module": "@jupyter-widgets/base",
      "_view_module_version": "1.2.0",
      "_view_name": "StyleView",
      "bar_color": null,
      "description_width": "initial"
     }
    },
    "0fd3649215604be3ae625b375b42a200": {
     "model_module": "@jupyter-widgets/base",
     "model_module_version": "1.2.0",
     "model_name": "LayoutModel",
     "state": {
      "_model_module": "@jupyter-widgets/base",
      "_model_module_version": "1.2.0",
      "_model_name": "LayoutModel",
      "_view_count": null,
      "_view_module": "@jupyter-widgets/base",
      "_view_module_version": "1.2.0",
      "_view_name": "LayoutView",
      "align_content": null,
      "align_items": null,
      "align_self": null,
      "border": null,
      "bottom": null,
      "display": null,
      "flex": null,
      "flex_flow": null,
      "grid_area": null,
      "grid_auto_columns": null,
      "grid_auto_flow": null,
      "grid_auto_rows": null,
      "grid_column": null,
      "grid_gap": null,
      "grid_row": null,
      "grid_template_areas": null,
      "grid_template_columns": null,
      "grid_template_rows": null,
      "height": null,
      "justify_content": null,
      "justify_items": null,
      "left": null,
      "margin": null,
      "max_height": null,
      "max_width": null,
      "min_height": null,
      "min_width": null,
      "object_fit": null,
      "object_position": null,
      "order": null,
      "overflow": null,
      "overflow_x": null,
      "overflow_y": null,
      "padding": null,
      "right": null,
      "top": null,
      "visibility": null,
      "width": null
     }
    },
    "101d52fef40d426fa713c385304499bf": {
     "model_module": "@jupyter-widgets/controls",
     "model_module_version": "1.5.0",
     "model_name": "HTMLModel",
     "state": {
      "_dom_classes": [],
      "_model_module": "@jupyter-widgets/controls",
      "_model_module_version": "1.5.0",
      "_model_name": "HTMLModel",
      "_view_count": null,
      "_view_module": "@jupyter-widgets/controls",
      "_view_module_version": "1.5.0",
      "_view_name": "HTMLView",
      "description": "",
      "description_tooltip": null,
      "layout": "IPY_MODEL_992a468bf6d54c2d98837e10a562cfab",
      "placeholder": "​",
      "style": "IPY_MODEL_3abc327d585e4840b51a12e5efb2281f",
      "value": " 16/16 [00:16&lt;00:00,  1.01s/ba]"
     }
    },
    "1034d889e788492f8926bdd6881f253b": {
     "model_module": "@jupyter-widgets/controls",
     "model_module_version": "1.5.0",
     "model_name": "HTMLModel",
     "state": {
      "_dom_classes": [],
      "_model_module": "@jupyter-widgets/controls",
      "_model_module_version": "1.5.0",
      "_model_name": "HTMLModel",
      "_view_count": null,
      "_view_module": "@jupyter-widgets/controls",
      "_view_module_version": "1.5.0",
      "_view_name": "HTMLView",
      "description": "",
      "description_tooltip": null,
      "layout": "IPY_MODEL_c46dd46b44254074aee0b4344a5cfa3a",
      "placeholder": "​",
      "style": "IPY_MODEL_79df678373b44db48e04aab20c9465e2",
      "value": "Downloading: 100%"
     }
    },
    "1343c8850129492b9f65386320479dcf": {
     "model_module": "@jupyter-widgets/base",
     "model_module_version": "1.2.0",
     "model_name": "LayoutModel",
     "state": {
      "_model_module": "@jupyter-widgets/base",
      "_model_module_version": "1.2.0",
      "_model_name": "LayoutModel",
      "_view_count": null,
      "_view_module": "@jupyter-widgets/base",
      "_view_module_version": "1.2.0",
      "_view_name": "LayoutView",
      "align_content": null,
      "align_items": null,
      "align_self": null,
      "border": null,
      "bottom": null,
      "display": null,
      "flex": null,
      "flex_flow": null,
      "grid_area": null,
      "grid_auto_columns": null,
      "grid_auto_flow": null,
      "grid_auto_rows": null,
      "grid_column": null,
      "grid_gap": null,
      "grid_row": null,
      "grid_template_areas": null,
      "grid_template_columns": null,
      "grid_template_rows": null,
      "height": null,
      "justify_content": null,
      "justify_items": null,
      "left": null,
      "margin": null,
      "max_height": null,
      "max_width": null,
      "min_height": null,
      "min_width": null,
      "object_fit": null,
      "object_position": null,
      "order": null,
      "overflow": null,
      "overflow_x": null,
      "overflow_y": null,
      "padding": null,
      "right": null,
      "top": null,
      "visibility": null,
      "width": null
     }
    },
    "147983c81ea54adf9a9fcc94be46e53c": {
     "model_module": "@jupyter-widgets/base",
     "model_module_version": "1.2.0",
     "model_name": "LayoutModel",
     "state": {
      "_model_module": "@jupyter-widgets/base",
      "_model_module_version": "1.2.0",
      "_model_name": "LayoutModel",
      "_view_count": null,
      "_view_module": "@jupyter-widgets/base",
      "_view_module_version": "1.2.0",
      "_view_name": "LayoutView",
      "align_content": null,
      "align_items": null,
      "align_self": null,
      "border": null,
      "bottom": null,
      "display": null,
      "flex": null,
      "flex_flow": null,
      "grid_area": null,
      "grid_auto_columns": null,
      "grid_auto_flow": null,
      "grid_auto_rows": null,
      "grid_column": null,
      "grid_gap": null,
      "grid_row": null,
      "grid_template_areas": null,
      "grid_template_columns": null,
      "grid_template_rows": null,
      "height": null,
      "justify_content": null,
      "justify_items": null,
      "left": null,
      "margin": null,
      "max_height": null,
      "max_width": null,
      "min_height": null,
      "min_width": null,
      "object_fit": null,
      "object_position": null,
      "order": null,
      "overflow": null,
      "overflow_x": null,
      "overflow_y": null,
      "padding": null,
      "right": null,
      "top": null,
      "visibility": null,
      "width": null
     }
    },
    "149ebd49f5b047c0869941fda06c1136": {
     "model_module": "@jupyter-widgets/controls",
     "model_module_version": "1.5.0",
     "model_name": "FloatProgressModel",
     "state": {
      "_dom_classes": [],
      "_model_module": "@jupyter-widgets/controls",
      "_model_module_version": "1.5.0",
      "_model_name": "FloatProgressModel",
      "_view_count": null,
      "_view_module": "@jupyter-widgets/controls",
      "_view_module_version": "1.5.0",
      "_view_name": "ProgressView",
      "bar_style": "success",
      "description": "Downloading: 100%",
      "description_tooltip": null,
      "layout": "IPY_MODEL_d5e84bc6021746ac834f95b6850e397e",
      "max": 1262159319,
      "min": 0,
      "orientation": "horizontal",
      "style": "IPY_MODEL_0eb6c74ddd614b0284cc8fcb7e9749b9",
      "value": 1262159319
     }
    },
    "164c729dae0044598a4324180bb3e75e": {
     "model_module": "@jupyter-widgets/base",
     "model_module_version": "1.2.0",
     "model_name": "LayoutModel",
     "state": {
      "_model_module": "@jupyter-widgets/base",
      "_model_module_version": "1.2.0",
      "_model_name": "LayoutModel",
      "_view_count": null,
      "_view_module": "@jupyter-widgets/base",
      "_view_module_version": "1.2.0",
      "_view_name": "LayoutView",
      "align_content": null,
      "align_items": null,
      "align_self": null,
      "border": null,
      "bottom": null,
      "display": null,
      "flex": null,
      "flex_flow": null,
      "grid_area": null,
      "grid_auto_columns": null,
      "grid_auto_flow": null,
      "grid_auto_rows": null,
      "grid_column": null,
      "grid_gap": null,
      "grid_row": null,
      "grid_template_areas": null,
      "grid_template_columns": null,
      "grid_template_rows": null,
      "height": null,
      "justify_content": null,
      "justify_items": null,
      "left": null,
      "margin": null,
      "max_height": null,
      "max_width": null,
      "min_height": null,
      "min_width": null,
      "object_fit": null,
      "object_position": null,
      "order": null,
      "overflow": null,
      "overflow_x": null,
      "overflow_y": null,
      "padding": null,
      "right": null,
      "top": null,
      "visibility": null,
      "width": null
     }
    },
    "1662eecc294843c9b267116e6a9c239f": {
     "model_module": "@jupyter-widgets/base",
     "model_module_version": "1.2.0",
     "model_name": "LayoutModel",
     "state": {
      "_model_module": "@jupyter-widgets/base",
      "_model_module_version": "1.2.0",
      "_model_name": "LayoutModel",
      "_view_count": null,
      "_view_module": "@jupyter-widgets/base",
      "_view_module_version": "1.2.0",
      "_view_name": "LayoutView",
      "align_content": null,
      "align_items": null,
      "align_self": null,
      "border": null,
      "bottom": null,
      "display": null,
      "flex": null,
      "flex_flow": null,
      "grid_area": null,
      "grid_auto_columns": null,
      "grid_auto_flow": null,
      "grid_auto_rows": null,
      "grid_column": null,
      "grid_gap": null,
      "grid_row": null,
      "grid_template_areas": null,
      "grid_template_columns": null,
      "grid_template_rows": null,
      "height": null,
      "justify_content": null,
      "justify_items": null,
      "left": null,
      "margin": null,
      "max_height": null,
      "max_width": null,
      "min_height": null,
      "min_width": null,
      "object_fit": null,
      "object_position": null,
      "order": null,
      "overflow": null,
      "overflow_x": null,
      "overflow_y": null,
      "padding": null,
      "right": null,
      "top": null,
      "visibility": null,
      "width": null
     }
    },
    "1824dace1db2480189f2fb64ce2d3d74": {
     "model_module": "@jupyter-widgets/controls",
     "model_module_version": "1.5.0",
     "model_name": "ProgressStyleModel",
     "state": {
      "_model_module": "@jupyter-widgets/controls",
      "_model_module_version": "1.5.0",
      "_model_name": "ProgressStyleModel",
      "_view_count": null,
      "_view_module": "@jupyter-widgets/base",
      "_view_module_version": "1.2.0",
      "_view_name": "StyleView",
      "bar_color": null,
      "description_width": "initial"
     }
    },
    "1b3d7294af164cb9bf623532b0c57430": {
     "model_module": "@jupyter-widgets/controls",
     "model_module_version": "1.5.0",
     "model_name": "ProgressStyleModel",
     "state": {
      "_model_module": "@jupyter-widgets/controls",
      "_model_module_version": "1.5.0",
      "_model_name": "ProgressStyleModel",
      "_view_count": null,
      "_view_module": "@jupyter-widgets/base",
      "_view_module_version": "1.2.0",
      "_view_name": "StyleView",
      "bar_color": null,
      "description_width": "initial"
     }
    },
    "1c8cd3635c674ba1a893a5d9a9846410": {
     "model_module": "@jupyter-widgets/controls",
     "model_module_version": "1.5.0",
     "model_name": "FloatProgressModel",
     "state": {
      "_dom_classes": [],
      "_model_module": "@jupyter-widgets/controls",
      "_model_module_version": "1.5.0",
      "_model_name": "FloatProgressModel",
      "_view_count": null,
      "_view_module": "@jupyter-widgets/controls",
      "_view_module_version": "1.5.0",
      "_view_name": "ProgressView",
      "bar_style": "success",
      "description": "Downloading: 100%",
      "description_tooltip": null,
      "layout": "IPY_MODEL_337acef1f7324919913748461d4f6379",
      "max": 214,
      "min": 0,
      "orientation": "horizontal",
      "style": "IPY_MODEL_3d584f500a2d45108b8795fd34a114c6",
      "value": 214
     }
    },
    "1dcfc3e077f94358a6695593f31ad674": {
     "model_module": "@jupyter-widgets/base",
     "model_module_version": "1.2.0",
     "model_name": "LayoutModel",
     "state": {
      "_model_module": "@jupyter-widgets/base",
      "_model_module_version": "1.2.0",
      "_model_name": "LayoutModel",
      "_view_count": null,
      "_view_module": "@jupyter-widgets/base",
      "_view_module_version": "1.2.0",
      "_view_name": "LayoutView",
      "align_content": null,
      "align_items": null,
      "align_self": null,
      "border": null,
      "bottom": null,
      "display": null,
      "flex": null,
      "flex_flow": null,
      "grid_area": null,
      "grid_auto_columns": null,
      "grid_auto_flow": null,
      "grid_auto_rows": null,
      "grid_column": null,
      "grid_gap": null,
      "grid_row": null,
      "grid_template_areas": null,
      "grid_template_columns": null,
      "grid_template_rows": null,
      "height": null,
      "justify_content": null,
      "justify_items": null,
      "left": null,
      "margin": null,
      "max_height": null,
      "max_width": null,
      "min_height": null,
      "min_width": null,
      "object_fit": null,
      "object_position": null,
      "order": null,
      "overflow": null,
      "overflow_x": null,
      "overflow_y": null,
      "padding": null,
      "right": null,
      "top": null,
      "visibility": null,
      "width": null
     }
    },
    "1e356a9dd0c6482ca56e83cb600a49ab": {
     "model_module": "@jupyter-widgets/controls",
     "model_module_version": "1.5.0",
     "model_name": "HTMLModel",
     "state": {
      "_dom_classes": [],
      "_model_module": "@jupyter-widgets/controls",
      "_model_module_version": "1.5.0",
      "_model_name": "HTMLModel",
      "_view_count": null,
      "_view_module": "@jupyter-widgets/controls",
      "_view_module_version": "1.5.0",
      "_view_name": "HTMLView",
      "description": "",
      "description_tooltip": null,
      "layout": "IPY_MODEL_32863857edff47a6894d619eef3aa72a",
      "placeholder": "​",
      "style": "IPY_MODEL_a68fdcd0b0ef4349a2fd46d5d10ad4fb",
      "value": " 1.26G/1.26G [00:25&lt;00:00, 49.8MB/s]"
     }
    },
    "21a3955a06b44d6bbf9b0676a999aa8e": {
     "model_module": "@jupyter-widgets/base",
     "model_module_version": "1.2.0",
     "model_name": "LayoutModel",
     "state": {
      "_model_module": "@jupyter-widgets/base",
      "_model_module_version": "1.2.0",
      "_model_name": "LayoutModel",
      "_view_count": null,
      "_view_module": "@jupyter-widgets/base",
      "_view_module_version": "1.2.0",
      "_view_name": "LayoutView",
      "align_content": null,
      "align_items": null,
      "align_self": null,
      "border": null,
      "bottom": null,
      "display": null,
      "flex": null,
      "flex_flow": null,
      "grid_area": null,
      "grid_auto_columns": null,
      "grid_auto_flow": null,
      "grid_auto_rows": null,
      "grid_column": null,
      "grid_gap": null,
      "grid_row": null,
      "grid_template_areas": null,
      "grid_template_columns": null,
      "grid_template_rows": null,
      "height": null,
      "justify_content": null,
      "justify_items": null,
      "left": null,
      "margin": null,
      "max_height": null,
      "max_width": null,
      "min_height": null,
      "min_width": null,
      "object_fit": null,
      "object_position": null,
      "order": null,
      "overflow": null,
      "overflow_x": null,
      "overflow_y": null,
      "padding": null,
      "right": null,
      "top": null,
      "visibility": null,
      "width": null
     }
    },
    "236e6fc5221146e8b4f1fa7ff03c3bfc": {
     "model_module": "@jupyter-widgets/base",
     "model_module_version": "1.2.0",
     "model_name": "LayoutModel",
     "state": {
      "_model_module": "@jupyter-widgets/base",
      "_model_module_version": "1.2.0",
      "_model_name": "LayoutModel",
      "_view_count": null,
      "_view_module": "@jupyter-widgets/base",
      "_view_module_version": "1.2.0",
      "_view_name": "LayoutView",
      "align_content": null,
      "align_items": null,
      "align_self": null,
      "border": null,
      "bottom": null,
      "display": null,
      "flex": null,
      "flex_flow": null,
      "grid_area": null,
      "grid_auto_columns": null,
      "grid_auto_flow": null,
      "grid_auto_rows": null,
      "grid_column": null,
      "grid_gap": null,
      "grid_row": null,
      "grid_template_areas": null,
      "grid_template_columns": null,
      "grid_template_rows": null,
      "height": null,
      "justify_content": null,
      "justify_items": null,
      "left": null,
      "margin": null,
      "max_height": null,
      "max_width": null,
      "min_height": null,
      "min_width": null,
      "object_fit": null,
      "object_position": null,
      "order": null,
      "overflow": null,
      "overflow_x": null,
      "overflow_y": null,
      "padding": null,
      "right": null,
      "top": null,
      "visibility": null,
      "width": null
     }
    },
    "246d9f6782234154864a0684bd8ca2f2": {
     "model_module": "@jupyter-widgets/base",
     "model_module_version": "1.2.0",
     "model_name": "LayoutModel",
     "state": {
      "_model_module": "@jupyter-widgets/base",
      "_model_module_version": "1.2.0",
      "_model_name": "LayoutModel",
      "_view_count": null,
      "_view_module": "@jupyter-widgets/base",
      "_view_module_version": "1.2.0",
      "_view_name": "LayoutView",
      "align_content": null,
      "align_items": null,
      "align_self": null,
      "border": null,
      "bottom": null,
      "display": null,
      "flex": null,
      "flex_flow": null,
      "grid_area": null,
      "grid_auto_columns": null,
      "grid_auto_flow": null,
      "grid_auto_rows": null,
      "grid_column": null,
      "grid_gap": null,
      "grid_row": null,
      "grid_template_areas": null,
      "grid_template_columns": null,
      "grid_template_rows": null,
      "height": null,
      "justify_content": null,
      "justify_items": null,
      "left": null,
      "margin": null,
      "max_height": null,
      "max_width": null,
      "min_height": null,
      "min_width": null,
      "object_fit": null,
      "object_position": null,
      "order": null,
      "overflow": null,
      "overflow_x": null,
      "overflow_y": null,
      "padding": null,
      "right": null,
      "top": null,
      "visibility": null,
      "width": null
     }
    },
    "25942482b41141088bd3628b1e47d57a": {
     "model_module": "@jupyter-widgets/controls",
     "model_module_version": "1.5.0",
     "model_name": "HTMLModel",
     "state": {
      "_dom_classes": [],
      "_model_module": "@jupyter-widgets/controls",
      "_model_module_version": "1.5.0",
      "_model_name": "HTMLModel",
      "_view_count": null,
      "_view_module": "@jupyter-widgets/controls",
      "_view_module_version": "1.5.0",
      "_view_name": "HTMLView",
      "description": "",
      "description_tooltip": null,
      "layout": "IPY_MODEL_cac3d72d95d049a1a5267bcc3fac83c7",
      "placeholder": "​",
      "style": "IPY_MODEL_8d908d01e07d4452a67852f8d03bc1e7",
      "value": " 398/398 [00:27&lt;00:00, 14.2B/s]"
     }
    },
    "28e291b28c0a4dc681bcc485cc68625d": {
     "model_module": "@jupyter-widgets/base",
     "model_module_version": "1.2.0",
     "model_name": "LayoutModel",
     "state": {
      "_model_module": "@jupyter-widgets/base",
      "_model_module_version": "1.2.0",
      "_model_name": "LayoutModel",
      "_view_count": null,
      "_view_module": "@jupyter-widgets/base",
      "_view_module_version": "1.2.0",
      "_view_name": "LayoutView",
      "align_content": null,
      "align_items": null,
      "align_self": null,
      "border": null,
      "bottom": null,
      "display": null,
      "flex": null,
      "flex_flow": null,
      "grid_area": null,
      "grid_auto_columns": null,
      "grid_auto_flow": null,
      "grid_auto_rows": null,
      "grid_column": null,
      "grid_gap": null,
      "grid_row": null,
      "grid_template_areas": null,
      "grid_template_columns": null,
      "grid_template_rows": null,
      "height": null,
      "justify_content": null,
      "justify_items": null,
      "left": null,
      "margin": null,
      "max_height": null,
      "max_width": null,
      "min_height": null,
      "min_width": null,
      "object_fit": null,
      "object_position": null,
      "order": null,
      "overflow": null,
      "overflow_x": null,
      "overflow_y": null,
      "padding": null,
      "right": null,
      "top": null,
      "visibility": null,
      "width": null
     }
    },
    "2a30879c7e3240c08f6c63e857317958": {
     "model_module": "@jupyter-widgets/base",
     "model_module_version": "1.2.0",
     "model_name": "LayoutModel",
     "state": {
      "_model_module": "@jupyter-widgets/base",
      "_model_module_version": "1.2.0",
      "_model_name": "LayoutModel",
      "_view_count": null,
      "_view_module": "@jupyter-widgets/base",
      "_view_module_version": "1.2.0",
      "_view_name": "LayoutView",
      "align_content": null,
      "align_items": null,
      "align_self": null,
      "border": null,
      "bottom": null,
      "display": null,
      "flex": null,
      "flex_flow": null,
      "grid_area": null,
      "grid_auto_columns": null,
      "grid_auto_flow": null,
      "grid_auto_rows": null,
      "grid_column": null,
      "grid_gap": null,
      "grid_row": null,
      "grid_template_areas": null,
      "grid_template_columns": null,
      "grid_template_rows": null,
      "height": null,
      "justify_content": null,
      "justify_items": null,
      "left": null,
      "margin": null,
      "max_height": null,
      "max_width": null,
      "min_height": null,
      "min_width": null,
      "object_fit": null,
      "object_position": null,
      "order": null,
      "overflow": null,
      "overflow_x": null,
      "overflow_y": null,
      "padding": null,
      "right": null,
      "top": null,
      "visibility": null,
      "width": null
     }
    },
    "2abad8c675ce435d9c512d89d1e41981": {
     "model_module": "@jupyter-widgets/controls",
     "model_module_version": "1.5.0",
     "model_name": "HBoxModel",
     "state": {
      "_dom_classes": [],
      "_model_module": "@jupyter-widgets/controls",
      "_model_module_version": "1.5.0",
      "_model_name": "HBoxModel",
      "_view_count": null,
      "_view_module": "@jupyter-widgets/controls",
      "_view_module_version": "1.5.0",
      "_view_name": "HBoxView",
      "box_style": "",
      "children": [
       "IPY_MODEL_d927a7c072be4c48ac6fce955d6fdc33",
       "IPY_MODEL_9e47a64fb00444198069a6e02f672149",
       "IPY_MODEL_80dbda961f8b47f69326938f87ee66aa"
      ],
      "layout": "IPY_MODEL_cda3af05d21349dcbecf1b18d2e41788"
     }
    },
    "2b035a6077da46ca8dc94afad8a7b3bf": {
     "model_module": "@jupyter-widgets/base",
     "model_module_version": "1.2.0",
     "model_name": "LayoutModel",
     "state": {
      "_model_module": "@jupyter-widgets/base",
      "_model_module_version": "1.2.0",
      "_model_name": "LayoutModel",
      "_view_count": null,
      "_view_module": "@jupyter-widgets/base",
      "_view_module_version": "1.2.0",
      "_view_name": "LayoutView",
      "align_content": null,
      "align_items": null,
      "align_self": null,
      "border": null,
      "bottom": null,
      "display": null,
      "flex": null,
      "flex_flow": null,
      "grid_area": null,
      "grid_auto_columns": null,
      "grid_auto_flow": null,
      "grid_auto_rows": null,
      "grid_column": null,
      "grid_gap": null,
      "grid_row": null,
      "grid_template_areas": null,
      "grid_template_columns": null,
      "grid_template_rows": null,
      "height": null,
      "justify_content": null,
      "justify_items": null,
      "left": null,
      "margin": null,
      "max_height": null,
      "max_width": null,
      "min_height": null,
      "min_width": null,
      "object_fit": null,
      "object_position": null,
      "order": null,
      "overflow": null,
      "overflow_x": null,
      "overflow_y": null,
      "padding": null,
      "right": null,
      "top": null,
      "visibility": null,
      "width": null
     }
    },
    "2b737940965f4fa5806eb217e09aceb0": {
     "model_module": "@jupyter-widgets/controls",
     "model_module_version": "1.5.0",
     "model_name": "DescriptionStyleModel",
     "state": {
      "_model_module": "@jupyter-widgets/controls",
      "_model_module_version": "1.5.0",
      "_model_name": "DescriptionStyleModel",
      "_view_count": null,
      "_view_module": "@jupyter-widgets/base",
      "_view_module_version": "1.2.0",
      "_view_name": "StyleView",
      "description_width": ""
     }
    },
    "2d94e80403a345428cbdcf1c38ff30ea": {
     "model_module": "@jupyter-widgets/controls",
     "model_module_version": "1.5.0",
     "model_name": "ProgressStyleModel",
     "state": {
      "_model_module": "@jupyter-widgets/controls",
      "_model_module_version": "1.5.0",
      "_model_name": "ProgressStyleModel",
      "_view_count": null,
      "_view_module": "@jupyter-widgets/base",
      "_view_module_version": "1.2.0",
      "_view_name": "StyleView",
      "bar_color": null,
      "description_width": ""
     }
    },
    "2f21becfde73488ea26aeb8d338fa332": {
     "model_module": "@jupyter-widgets/base",
     "model_module_version": "1.2.0",
     "model_name": "LayoutModel",
     "state": {
      "_model_module": "@jupyter-widgets/base",
      "_model_module_version": "1.2.0",
      "_model_name": "LayoutModel",
      "_view_count": null,
      "_view_module": "@jupyter-widgets/base",
      "_view_module_version": "1.2.0",
      "_view_name": "LayoutView",
      "align_content": null,
      "align_items": null,
      "align_self": null,
      "border": null,
      "bottom": null,
      "display": null,
      "flex": null,
      "flex_flow": null,
      "grid_area": null,
      "grid_auto_columns": null,
      "grid_auto_flow": null,
      "grid_auto_rows": null,
      "grid_column": null,
      "grid_gap": null,
      "grid_row": null,
      "grid_template_areas": null,
      "grid_template_columns": null,
      "grid_template_rows": null,
      "height": null,
      "justify_content": null,
      "justify_items": null,
      "left": null,
      "margin": null,
      "max_height": null,
      "max_width": null,
      "min_height": null,
      "min_width": null,
      "object_fit": null,
      "object_position": null,
      "order": null,
      "overflow": null,
      "overflow_x": null,
      "overflow_y": null,
      "padding": null,
      "right": null,
      "top": null,
      "visibility": null,
      "width": null
     }
    },
    "2fb5e23d53cd4183888e4b6c2191bb1a": {
     "model_module": "@jupyter-widgets/controls",
     "model_module_version": "1.5.0",
     "model_name": "FloatProgressModel",
     "state": {
      "_dom_classes": [],
      "_model_module": "@jupyter-widgets/controls",
      "_model_module_version": "1.5.0",
      "_model_name": "FloatProgressModel",
      "_view_count": null,
      "_view_module": "@jupyter-widgets/controls",
      "_view_module_version": "1.5.0",
      "_view_name": "ProgressView",
      "bar_style": "success",
      "description": "",
      "description_tooltip": null,
      "layout": "IPY_MODEL_c31e680698c440e2bcf9d2a0ad7b10ac",
      "max": 138,
      "min": 0,
      "orientation": "horizontal",
      "style": "IPY_MODEL_d615711c30a7493881baef3a896e16bf",
      "value": 138
     }
    },
    "30d5d5edd5f3478db3b57e49af72a69a": {
     "model_module": "@jupyter-widgets/controls",
     "model_module_version": "1.5.0",
     "model_name": "FloatProgressModel",
     "state": {
      "_dom_classes": [],
      "_model_module": "@jupyter-widgets/controls",
      "_model_module_version": "1.5.0",
      "_model_name": "FloatProgressModel",
      "_view_count": null,
      "_view_module": "@jupyter-widgets/controls",
      "_view_module_version": "1.5.0",
      "_view_name": "ProgressView",
      "bar_style": "success",
      "description": "",
      "description_tooltip": null,
      "layout": "IPY_MODEL_de82d2e144454914a374e81f919e5d28",
      "max": 85,
      "min": 0,
      "orientation": "horizontal",
      "style": "IPY_MODEL_880b1b767a814e1ab5813102a3927e4e",
      "value": 85
     }
    },
    "31f78dc3a5a3479eb991d80c98750e57": {
     "model_module": "@jupyter-widgets/base",
     "model_module_version": "1.2.0",
     "model_name": "LayoutModel",
     "state": {
      "_model_module": "@jupyter-widgets/base",
      "_model_module_version": "1.2.0",
      "_model_name": "LayoutModel",
      "_view_count": null,
      "_view_module": "@jupyter-widgets/base",
      "_view_module_version": "1.2.0",
      "_view_name": "LayoutView",
      "align_content": null,
      "align_items": null,
      "align_self": null,
      "border": null,
      "bottom": null,
      "display": null,
      "flex": null,
      "flex_flow": null,
      "grid_area": null,
      "grid_auto_columns": null,
      "grid_auto_flow": null,
      "grid_auto_rows": null,
      "grid_column": null,
      "grid_gap": null,
      "grid_row": null,
      "grid_template_areas": null,
      "grid_template_columns": null,
      "grid_template_rows": null,
      "height": null,
      "justify_content": null,
      "justify_items": null,
      "left": null,
      "margin": null,
      "max_height": null,
      "max_width": null,
      "min_height": null,
      "min_width": null,
      "object_fit": null,
      "object_position": null,
      "order": null,
      "overflow": null,
      "overflow_x": null,
      "overflow_y": null,
      "padding": null,
      "right": null,
      "top": null,
      "visibility": null,
      "width": null
     }
    },
    "32863857edff47a6894d619eef3aa72a": {
     "model_module": "@jupyter-widgets/base",
     "model_module_version": "1.2.0",
     "model_name": "LayoutModel",
     "state": {
      "_model_module": "@jupyter-widgets/base",
      "_model_module_version": "1.2.0",
      "_model_name": "LayoutModel",
      "_view_count": null,
      "_view_module": "@jupyter-widgets/base",
      "_view_module_version": "1.2.0",
      "_view_name": "LayoutView",
      "align_content": null,
      "align_items": null,
      "align_self": null,
      "border": null,
      "bottom": null,
      "display": null,
      "flex": null,
      "flex_flow": null,
      "grid_area": null,
      "grid_auto_columns": null,
      "grid_auto_flow": null,
      "grid_auto_rows": null,
      "grid_column": null,
      "grid_gap": null,
      "grid_row": null,
      "grid_template_areas": null,
      "grid_template_columns": null,
      "grid_template_rows": null,
      "height": null,
      "justify_content": null,
      "justify_items": null,
      "left": null,
      "margin": null,
      "max_height": null,
      "max_width": null,
      "min_height": null,
      "min_width": null,
      "object_fit": null,
      "object_position": null,
      "order": null,
      "overflow": null,
      "overflow_x": null,
      "overflow_y": null,
      "padding": null,
      "right": null,
      "top": null,
      "visibility": null,
      "width": null
     }
    },
    "337acef1f7324919913748461d4f6379": {
     "model_module": "@jupyter-widgets/base",
     "model_module_version": "1.2.0",
     "model_name": "LayoutModel",
     "state": {
      "_model_module": "@jupyter-widgets/base",
      "_model_module_version": "1.2.0",
      "_model_name": "LayoutModel",
      "_view_count": null,
      "_view_module": "@jupyter-widgets/base",
      "_view_module_version": "1.2.0",
      "_view_name": "LayoutView",
      "align_content": null,
      "align_items": null,
      "align_self": null,
      "border": null,
      "bottom": null,
      "display": null,
      "flex": null,
      "flex_flow": null,
      "grid_area": null,
      "grid_auto_columns": null,
      "grid_auto_flow": null,
      "grid_auto_rows": null,
      "grid_column": null,
      "grid_gap": null,
      "grid_row": null,
      "grid_template_areas": null,
      "grid_template_columns": null,
      "grid_template_rows": null,
      "height": null,
      "justify_content": null,
      "justify_items": null,
      "left": null,
      "margin": null,
      "max_height": null,
      "max_width": null,
      "min_height": null,
      "min_width": null,
      "object_fit": null,
      "object_position": null,
      "order": null,
      "overflow": null,
      "overflow_x": null,
      "overflow_y": null,
      "padding": null,
      "right": null,
      "top": null,
      "visibility": null,
      "width": null
     }
    },
    "35ad7b90d1174b18a4bb1fcb3a264bf6": {
     "model_module": "@jupyter-widgets/controls",
     "model_module_version": "1.5.0",
     "model_name": "HTMLModel",
     "state": {
      "_dom_classes": [],
      "_model_module": "@jupyter-widgets/controls",
      "_model_module_version": "1.5.0",
      "_model_name": "HTMLModel",
      "_view_count": null,
      "_view_module": "@jupyter-widgets/controls",
      "_view_module_version": "1.5.0",
      "_view_name": "HTMLView",
      "description": "",
      "description_tooltip": null,
      "layout": "IPY_MODEL_c89b05684f55439d92e66fb9bd8242f0",
      "placeholder": "​",
      "style": "IPY_MODEL_c8a130f37df54acf8e9c36489e483ca4",
      "value": " 85.0/85.0 [00:00&lt;00:00, 2.30kB/s]"
     }
    },
    "366df876edc241eba60b22bc7fe3bed3": {
     "model_module": "@jupyter-widgets/base",
     "model_module_version": "1.2.0",
     "model_name": "LayoutModel",
     "state": {
      "_model_module": "@jupyter-widgets/base",
      "_model_module_version": "1.2.0",
      "_model_name": "LayoutModel",
      "_view_count": null,
      "_view_module": "@jupyter-widgets/base",
      "_view_module_version": "1.2.0",
      "_view_name": "LayoutView",
      "align_content": null,
      "align_items": null,
      "align_self": null,
      "border": null,
      "bottom": null,
      "display": null,
      "flex": null,
      "flex_flow": null,
      "grid_area": null,
      "grid_auto_columns": null,
      "grid_auto_flow": null,
      "grid_auto_rows": null,
      "grid_column": null,
      "grid_gap": null,
      "grid_row": null,
      "grid_template_areas": null,
      "grid_template_columns": null,
      "grid_template_rows": null,
      "height": null,
      "justify_content": null,
      "justify_items": null,
      "left": null,
      "margin": null,
      "max_height": null,
      "max_width": null,
      "min_height": null,
      "min_width": null,
      "object_fit": null,
      "object_position": null,
      "order": null,
      "overflow": null,
      "overflow_x": null,
      "overflow_y": null,
      "padding": null,
      "right": null,
      "top": null,
      "visibility": null,
      "width": null
     }
    },
    "368fc7d998ee4fd7a8428697f07ae5ea": {
     "model_module": "@jupyter-widgets/base",
     "model_module_version": "1.2.0",
     "model_name": "LayoutModel",
     "state": {
      "_model_module": "@jupyter-widgets/base",
      "_model_module_version": "1.2.0",
      "_model_name": "LayoutModel",
      "_view_count": null,
      "_view_module": "@jupyter-widgets/base",
      "_view_module_version": "1.2.0",
      "_view_name": "LayoutView",
      "align_content": null,
      "align_items": null,
      "align_self": null,
      "border": null,
      "bottom": null,
      "display": null,
      "flex": null,
      "flex_flow": null,
      "grid_area": null,
      "grid_auto_columns": null,
      "grid_auto_flow": null,
      "grid_auto_rows": null,
      "grid_column": null,
      "grid_gap": null,
      "grid_row": null,
      "grid_template_areas": null,
      "grid_template_columns": null,
      "grid_template_rows": null,
      "height": null,
      "justify_content": null,
      "justify_items": null,
      "left": null,
      "margin": null,
      "max_height": null,
      "max_width": null,
      "min_height": null,
      "min_width": null,
      "object_fit": null,
      "object_position": null,
      "order": null,
      "overflow": null,
      "overflow_x": null,
      "overflow_y": null,
      "padding": null,
      "right": null,
      "top": null,
      "visibility": null,
      "width": null
     }
    },
    "39ef6094908742bc9984908f4f2c7567": {
     "model_module": "@jupyter-widgets/controls",
     "model_module_version": "1.5.0",
     "model_name": "DescriptionStyleModel",
     "state": {
      "_model_module": "@jupyter-widgets/controls",
      "_model_module_version": "1.5.0",
      "_model_name": "DescriptionStyleModel",
      "_view_count": null,
      "_view_module": "@jupyter-widgets/base",
      "_view_module_version": "1.2.0",
      "_view_name": "StyleView",
      "description_width": ""
     }
    },
    "3a460649fa0e493caabc232ffdd7d1d6": {
     "model_module": "@jupyter-widgets/controls",
     "model_module_version": "1.5.0",
     "model_name": "DescriptionStyleModel",
     "state": {
      "_model_module": "@jupyter-widgets/controls",
      "_model_module_version": "1.5.0",
      "_model_name": "DescriptionStyleModel",
      "_view_count": null,
      "_view_module": "@jupyter-widgets/base",
      "_view_module_version": "1.2.0",
      "_view_name": "StyleView",
      "description_width": ""
     }
    },
    "3abc327d585e4840b51a12e5efb2281f": {
     "model_module": "@jupyter-widgets/controls",
     "model_module_version": "1.5.0",
     "model_name": "DescriptionStyleModel",
     "state": {
      "_model_module": "@jupyter-widgets/controls",
      "_model_module_version": "1.5.0",
      "_model_name": "DescriptionStyleModel",
      "_view_count": null,
      "_view_module": "@jupyter-widgets/base",
      "_view_module_version": "1.2.0",
      "_view_name": "StyleView",
      "description_width": ""
     }
    },
    "3b80ed9351d448d3a5cf44fb850264ba": {
     "model_module": "@jupyter-widgets/controls",
     "model_module_version": "1.5.0",
     "model_name": "HBoxModel",
     "state": {
      "_dom_classes": [],
      "_model_module": "@jupyter-widgets/controls",
      "_model_module_version": "1.5.0",
      "_model_name": "HBoxModel",
      "_view_count": null,
      "_view_module": "@jupyter-widgets/controls",
      "_view_module_version": "1.5.0",
      "_view_name": "HBoxView",
      "box_style": "",
      "children": [
       "IPY_MODEL_b272e2bd14844d4698a87b58d8e11f4a",
       "IPY_MODEL_ce32d53e552942b1a32cc4ca6206993b",
       "IPY_MODEL_d6dd1739c20346878e3261cbe4c24a98"
      ],
      "layout": "IPY_MODEL_00593a35c0344eeda275321def94a331"
     }
    },
    "3bea6e8c63a24ad788983d8ec1ff1069": {
     "model_module": "@jupyter-widgets/controls",
     "model_module_version": "1.5.0",
     "model_name": "HTMLModel",
     "state": {
      "_dom_classes": [],
      "_model_module": "@jupyter-widgets/controls",
      "_model_module_version": "1.5.0",
      "_model_name": "HTMLModel",
      "_view_count": null,
      "_view_module": "@jupyter-widgets/controls",
      "_view_module_version": "1.5.0",
      "_view_name": "HTMLView",
      "description": "",
      "description_tooltip": null,
      "layout": "IPY_MODEL_368fc7d998ee4fd7a8428697f07ae5ea",
      "placeholder": "​",
      "style": "IPY_MODEL_511e65dedfe14f1b893a92e3584cbead",
      "value": "100%"
     }
    },
    "3bf30dcb727a45f496f3ecce705a93b2": {
     "model_module": "@jupyter-widgets/controls",
     "model_module_version": "1.5.0",
     "model_name": "DescriptionStyleModel",
     "state": {
      "_model_module": "@jupyter-widgets/controls",
      "_model_module_version": "1.5.0",
      "_model_name": "DescriptionStyleModel",
      "_view_count": null,
      "_view_module": "@jupyter-widgets/base",
      "_view_module_version": "1.2.0",
      "_view_name": "StyleView",
      "description_width": ""
     }
    },
    "3d584f500a2d45108b8795fd34a114c6": {
     "model_module": "@jupyter-widgets/controls",
     "model_module_version": "1.5.0",
     "model_name": "ProgressStyleModel",
     "state": {
      "_model_module": "@jupyter-widgets/controls",
      "_model_module_version": "1.5.0",
      "_model_name": "ProgressStyleModel",
      "_view_count": null,
      "_view_module": "@jupyter-widgets/base",
      "_view_module_version": "1.2.0",
      "_view_name": "StyleView",
      "bar_color": null,
      "description_width": "initial"
     }
    },
    "3dab69222f3c44ce98a86c81bfb54fad": {
     "model_module": "@jupyter-widgets/controls",
     "model_module_version": "1.5.0",
     "model_name": "HTMLModel",
     "state": {
      "_dom_classes": [],
      "_model_module": "@jupyter-widgets/controls",
      "_model_module_version": "1.5.0",
      "_model_name": "HTMLModel",
      "_view_count": null,
      "_view_module": "@jupyter-widgets/controls",
      "_view_module_version": "1.5.0",
      "_view_name": "HTMLView",
      "description": "",
      "description_tooltip": null,
      "layout": "IPY_MODEL_28e291b28c0a4dc681bcc485cc68625d",
      "placeholder": "​",
      "style": "IPY_MODEL_001f6051e0a04b9894e8a9cd364a7b0a",
      "value": "100%"
     }
    },
    "3dddc5e034a84aa5ba12052c3262c372": {
     "model_module": "@jupyter-widgets/controls",
     "model_module_version": "1.5.0",
     "model_name": "HTMLModel",
     "state": {
      "_dom_classes": [],
      "_model_module": "@jupyter-widgets/controls",
      "_model_module_version": "1.5.0",
      "_model_name": "HTMLModel",
      "_view_count": null,
      "_view_module": "@jupyter-widgets/controls",
      "_view_module_version": "1.5.0",
      "_view_name": "HTMLView",
      "description": "",
      "description_tooltip": null,
      "layout": "IPY_MODEL_c7cba6ab31094e20824306840f79303f",
      "placeholder": "​",
      "style": "IPY_MODEL_2b737940965f4fa5806eb217e09aceb0",
      "value": " 23.0/23.0 [00:00&lt;00:00, 116B/s]"
     }
    },
    "42d2d262aede4dd588d3eff061965d3c": {
     "model_module": "@jupyter-widgets/base",
     "model_module_version": "1.2.0",
     "model_name": "LayoutModel",
     "state": {
      "_model_module": "@jupyter-widgets/base",
      "_model_module_version": "1.2.0",
      "_model_name": "LayoutModel",
      "_view_count": null,
      "_view_module": "@jupyter-widgets/base",
      "_view_module_version": "1.2.0",
      "_view_name": "LayoutView",
      "align_content": null,
      "align_items": null,
      "align_self": null,
      "border": null,
      "bottom": null,
      "display": null,
      "flex": null,
      "flex_flow": null,
      "grid_area": null,
      "grid_auto_columns": null,
      "grid_auto_flow": null,
      "grid_auto_rows": null,
      "grid_column": null,
      "grid_gap": null,
      "grid_row": null,
      "grid_template_areas": null,
      "grid_template_columns": null,
      "grid_template_rows": null,
      "height": null,
      "justify_content": null,
      "justify_items": null,
      "left": null,
      "margin": null,
      "max_height": null,
      "max_width": null,
      "min_height": null,
      "min_width": null,
      "object_fit": null,
      "object_position": null,
      "order": null,
      "overflow": null,
      "overflow_x": null,
      "overflow_y": null,
      "padding": null,
      "right": null,
      "top": null,
      "visibility": null,
      "width": null
     }
    },
    "437bedbc89654cf7a14bea8fb60e84e7": {
     "model_module": "@jupyter-widgets/base",
     "model_module_version": "1.2.0",
     "model_name": "LayoutModel",
     "state": {
      "_model_module": "@jupyter-widgets/base",
      "_model_module_version": "1.2.0",
      "_model_name": "LayoutModel",
      "_view_count": null,
      "_view_module": "@jupyter-widgets/base",
      "_view_module_version": "1.2.0",
      "_view_name": "LayoutView",
      "align_content": null,
      "align_items": null,
      "align_self": null,
      "border": null,
      "bottom": null,
      "display": null,
      "flex": null,
      "flex_flow": null,
      "grid_area": null,
      "grid_auto_columns": null,
      "grid_auto_flow": null,
      "grid_auto_rows": null,
      "grid_column": null,
      "grid_gap": null,
      "grid_row": null,
      "grid_template_areas": null,
      "grid_template_columns": null,
      "grid_template_rows": null,
      "height": null,
      "justify_content": null,
      "justify_items": null,
      "left": null,
      "margin": null,
      "max_height": null,
      "max_width": null,
      "min_height": null,
      "min_width": null,
      "object_fit": null,
      "object_position": null,
      "order": null,
      "overflow": null,
      "overflow_x": null,
      "overflow_y": null,
      "padding": null,
      "right": null,
      "top": null,
      "visibility": null,
      "width": null
     }
    },
    "482acb885cfc409ab154abceeb15a436": {
     "model_module": "@jupyter-widgets/controls",
     "model_module_version": "1.5.0",
     "model_name": "ProgressStyleModel",
     "state": {
      "_model_module": "@jupyter-widgets/controls",
      "_model_module_version": "1.5.0",
      "_model_name": "ProgressStyleModel",
      "_view_count": null,
      "_view_module": "@jupyter-widgets/base",
      "_view_module_version": "1.2.0",
      "_view_name": "StyleView",
      "bar_color": null,
      "description_width": "initial"
     }
    },
    "49880831258d43f59096117a8c2c02eb": {
     "model_module": "@jupyter-widgets/controls",
     "model_module_version": "1.5.0",
     "model_name": "ProgressStyleModel",
     "state": {
      "_model_module": "@jupyter-widgets/controls",
      "_model_module_version": "1.5.0",
      "_model_name": "ProgressStyleModel",
      "_view_count": null,
      "_view_module": "@jupyter-widgets/base",
      "_view_module_version": "1.2.0",
      "_view_name": "StyleView",
      "bar_color": null,
      "description_width": "initial"
     }
    },
    "4a87c1f5f89247a08d7c3a905068c6d3": {
     "model_module": "@jupyter-widgets/base",
     "model_module_version": "1.2.0",
     "model_name": "LayoutModel",
     "state": {
      "_model_module": "@jupyter-widgets/base",
      "_model_module_version": "1.2.0",
      "_model_name": "LayoutModel",
      "_view_count": null,
      "_view_module": "@jupyter-widgets/base",
      "_view_module_version": "1.2.0",
      "_view_name": "LayoutView",
      "align_content": null,
      "align_items": null,
      "align_self": null,
      "border": null,
      "bottom": null,
      "display": null,
      "flex": null,
      "flex_flow": null,
      "grid_area": null,
      "grid_auto_columns": null,
      "grid_auto_flow": null,
      "grid_auto_rows": null,
      "grid_column": null,
      "grid_gap": null,
      "grid_row": null,
      "grid_template_areas": null,
      "grid_template_columns": null,
      "grid_template_rows": null,
      "height": null,
      "justify_content": null,
      "justify_items": null,
      "left": null,
      "margin": null,
      "max_height": null,
      "max_width": null,
      "min_height": null,
      "min_width": null,
      "object_fit": null,
      "object_position": null,
      "order": null,
      "overflow": null,
      "overflow_x": null,
      "overflow_y": null,
      "padding": null,
      "right": null,
      "top": null,
      "visibility": null,
      "width": null
     }
    },
    "4adafe9def374c22a8bfa0f45d29ce3a": {
     "model_module": "@jupyter-widgets/base",
     "model_module_version": "1.2.0",
     "model_name": "LayoutModel",
     "state": {
      "_model_module": "@jupyter-widgets/base",
      "_model_module_version": "1.2.0",
      "_model_name": "LayoutModel",
      "_view_count": null,
      "_view_module": "@jupyter-widgets/base",
      "_view_module_version": "1.2.0",
      "_view_name": "LayoutView",
      "align_content": null,
      "align_items": null,
      "align_self": null,
      "border": null,
      "bottom": null,
      "display": null,
      "flex": null,
      "flex_flow": null,
      "grid_area": null,
      "grid_auto_columns": null,
      "grid_auto_flow": null,
      "grid_auto_rows": null,
      "grid_column": null,
      "grid_gap": null,
      "grid_row": null,
      "grid_template_areas": null,
      "grid_template_columns": null,
      "grid_template_rows": null,
      "height": null,
      "justify_content": null,
      "justify_items": null,
      "left": null,
      "margin": null,
      "max_height": null,
      "max_width": null,
      "min_height": null,
      "min_width": null,
      "object_fit": null,
      "object_position": null,
      "order": null,
      "overflow": null,
      "overflow_x": null,
      "overflow_y": null,
      "padding": null,
      "right": null,
      "top": null,
      "visibility": null,
      "width": null
     }
    },
    "4b3b5fee89234437b6a6199baba7105f": {
     "model_module": "@jupyter-widgets/controls",
     "model_module_version": "1.5.0",
     "model_name": "DescriptionStyleModel",
     "state": {
      "_model_module": "@jupyter-widgets/controls",
      "_model_module_version": "1.5.0",
      "_model_name": "DescriptionStyleModel",
      "_view_count": null,
      "_view_module": "@jupyter-widgets/base",
      "_view_module_version": "1.2.0",
      "_view_name": "StyleView",
      "description_width": ""
     }
    },
    "504e3a6ec38c45ba80ff394f64f8ff51": {
     "model_module": "@jupyter-widgets/controls",
     "model_module_version": "1.5.0",
     "model_name": "ProgressStyleModel",
     "state": {
      "_model_module": "@jupyter-widgets/controls",
      "_model_module_version": "1.5.0",
      "_model_name": "ProgressStyleModel",
      "_view_count": null,
      "_view_module": "@jupyter-widgets/base",
      "_view_module_version": "1.2.0",
      "_view_name": "StyleView",
      "bar_color": null,
      "description_width": ""
     }
    },
    "511e65dedfe14f1b893a92e3584cbead": {
     "model_module": "@jupyter-widgets/controls",
     "model_module_version": "1.5.0",
     "model_name": "DescriptionStyleModel",
     "state": {
      "_model_module": "@jupyter-widgets/controls",
      "_model_module_version": "1.5.0",
      "_model_name": "DescriptionStyleModel",
      "_view_count": null,
      "_view_module": "@jupyter-widgets/base",
      "_view_module_version": "1.2.0",
      "_view_name": "StyleView",
      "description_width": ""
     }
    },
    "56318e1f4b4a41f5bfcd9239ba2442b9": {
     "model_module": "@jupyter-widgets/base",
     "model_module_version": "1.2.0",
     "model_name": "LayoutModel",
     "state": {
      "_model_module": "@jupyter-widgets/base",
      "_model_module_version": "1.2.0",
      "_model_name": "LayoutModel",
      "_view_count": null,
      "_view_module": "@jupyter-widgets/base",
      "_view_module_version": "1.2.0",
      "_view_name": "LayoutView",
      "align_content": null,
      "align_items": null,
      "align_self": null,
      "border": null,
      "bottom": null,
      "display": null,
      "flex": null,
      "flex_flow": null,
      "grid_area": null,
      "grid_auto_columns": null,
      "grid_auto_flow": null,
      "grid_auto_rows": null,
      "grid_column": null,
      "grid_gap": null,
      "grid_row": null,
      "grid_template_areas": null,
      "grid_template_columns": null,
      "grid_template_rows": null,
      "height": null,
      "justify_content": null,
      "justify_items": null,
      "left": null,
      "margin": null,
      "max_height": null,
      "max_width": null,
      "min_height": null,
      "min_width": null,
      "object_fit": null,
      "object_position": null,
      "order": null,
      "overflow": null,
      "overflow_x": null,
      "overflow_y": null,
      "padding": null,
      "right": null,
      "top": null,
      "visibility": null,
      "width": null
     }
    },
    "599f611af5d54d1ebf48d2357e25f189": {
     "model_module": "@jupyter-widgets/base",
     "model_module_version": "1.2.0",
     "model_name": "LayoutModel",
     "state": {
      "_model_module": "@jupyter-widgets/base",
      "_model_module_version": "1.2.0",
      "_model_name": "LayoutModel",
      "_view_count": null,
      "_view_module": "@jupyter-widgets/base",
      "_view_module_version": "1.2.0",
      "_view_name": "LayoutView",
      "align_content": null,
      "align_items": null,
      "align_self": null,
      "border": null,
      "bottom": null,
      "display": null,
      "flex": null,
      "flex_flow": null,
      "grid_area": null,
      "grid_auto_columns": null,
      "grid_auto_flow": null,
      "grid_auto_rows": null,
      "grid_column": null,
      "grid_gap": null,
      "grid_row": null,
      "grid_template_areas": null,
      "grid_template_columns": null,
      "grid_template_rows": null,
      "height": null,
      "justify_content": null,
      "justify_items": null,
      "left": null,
      "margin": null,
      "max_height": null,
      "max_width": null,
      "min_height": null,
      "min_width": null,
      "object_fit": null,
      "object_position": null,
      "order": null,
      "overflow": null,
      "overflow_x": null,
      "overflow_y": null,
      "padding": null,
      "right": null,
      "top": null,
      "visibility": null,
      "width": null
     }
    },
    "5a0c1ba72f7443858c65d0a7c4e27fa3": {
     "model_module": "@jupyter-widgets/controls",
     "model_module_version": "1.5.0",
     "model_name": "FloatProgressModel",
     "state": {
      "_dom_classes": [],
      "_model_module": "@jupyter-widgets/controls",
      "_model_module_version": "1.5.0",
      "_model_name": "FloatProgressModel",
      "_view_count": null,
      "_view_module": "@jupyter-widgets/controls",
      "_view_module_version": "1.5.0",
      "_view_name": "ProgressView",
      "bar_style": "success",
      "description": "Downloading: 100%",
      "description_tooltip": null,
      "layout": "IPY_MODEL_b34af14010c34fc19db828708389a196",
      "max": 309,
      "min": 0,
      "orientation": "horizontal",
      "style": "IPY_MODEL_6081ce6d643d46e19b854d6b975066ec",
      "value": 309
     }
    },
    "5a4c57e5833840e19700a650781a95db": {
     "model_module": "@jupyter-widgets/controls",
     "model_module_version": "1.5.0",
     "model_name": "ProgressStyleModel",
     "state": {
      "_model_module": "@jupyter-widgets/controls",
      "_model_module_version": "1.5.0",
      "_model_name": "ProgressStyleModel",
      "_view_count": null,
      "_view_module": "@jupyter-widgets/base",
      "_view_module_version": "1.2.0",
      "_view_name": "StyleView",
      "bar_color": null,
      "description_width": "initial"
     }
    },
    "5c8945a46d2748c9b50c939e178c9d97": {
     "model_module": "@jupyter-widgets/controls",
     "model_module_version": "1.5.0",
     "model_name": "DescriptionStyleModel",
     "state": {
      "_model_module": "@jupyter-widgets/controls",
      "_model_module_version": "1.5.0",
      "_model_name": "DescriptionStyleModel",
      "_view_count": null,
      "_view_module": "@jupyter-widgets/base",
      "_view_module_version": "1.2.0",
      "_view_name": "StyleView",
      "description_width": ""
     }
    },
    "6081ce6d643d46e19b854d6b975066ec": {
     "model_module": "@jupyter-widgets/controls",
     "model_module_version": "1.5.0",
     "model_name": "ProgressStyleModel",
     "state": {
      "_model_module": "@jupyter-widgets/controls",
      "_model_module_version": "1.5.0",
      "_model_name": "ProgressStyleModel",
      "_view_count": null,
      "_view_module": "@jupyter-widgets/base",
      "_view_module_version": "1.2.0",
      "_view_name": "StyleView",
      "bar_color": null,
      "description_width": "initial"
     }
    },
    "654a83f92aec429a823f89cfadd618cb": {
     "model_module": "@jupyter-widgets/base",
     "model_module_version": "1.2.0",
     "model_name": "LayoutModel",
     "state": {
      "_model_module": "@jupyter-widgets/base",
      "_model_module_version": "1.2.0",
      "_model_name": "LayoutModel",
      "_view_count": null,
      "_view_module": "@jupyter-widgets/base",
      "_view_module_version": "1.2.0",
      "_view_name": "LayoutView",
      "align_content": null,
      "align_items": null,
      "align_self": null,
      "border": null,
      "bottom": null,
      "display": null,
      "flex": null,
      "flex_flow": null,
      "grid_area": null,
      "grid_auto_columns": null,
      "grid_auto_flow": null,
      "grid_auto_rows": null,
      "grid_column": null,
      "grid_gap": null,
      "grid_row": null,
      "grid_template_areas": null,
      "grid_template_columns": null,
      "grid_template_rows": null,
      "height": null,
      "justify_content": null,
      "justify_items": null,
      "left": null,
      "margin": null,
      "max_height": null,
      "max_width": null,
      "min_height": null,
      "min_width": null,
      "object_fit": null,
      "object_position": null,
      "order": null,
      "overflow": null,
      "overflow_x": null,
      "overflow_y": null,
      "padding": null,
      "right": null,
      "top": null,
      "visibility": null,
      "width": null
     }
    },
    "66120bcdfe194074b51c204be44a6bf5": {
     "model_module": "@jupyter-widgets/controls",
     "model_module_version": "1.5.0",
     "model_name": "ProgressStyleModel",
     "state": {
      "_model_module": "@jupyter-widgets/controls",
      "_model_module_version": "1.5.0",
      "_model_name": "ProgressStyleModel",
      "_view_count": null,
      "_view_module": "@jupyter-widgets/base",
      "_view_module_version": "1.2.0",
      "_view_name": "StyleView",
      "bar_color": null,
      "description_width": "initial"
     }
    },
    "66f77add2dcb4f32ac84b7b448dbfd38": {
     "model_module": "@jupyter-widgets/controls",
     "model_module_version": "1.5.0",
     "model_name": "HBoxModel",
     "state": {
      "_dom_classes": [],
      "_model_module": "@jupyter-widgets/controls",
      "_model_module_version": "1.5.0",
      "_model_name": "HBoxModel",
      "_view_count": null,
      "_view_module": "@jupyter-widgets/controls",
      "_view_module_version": "1.5.0",
      "_view_name": "HBoxView",
      "box_style": "",
      "children": [
       "IPY_MODEL_d9e6578f2ae14d73bc81ad5d042565ad",
       "IPY_MODEL_2fb5e23d53cd4183888e4b6c2191bb1a",
       "IPY_MODEL_a092ff2c57664a9a94d19824970d8fa6"
      ],
      "layout": "IPY_MODEL_437bedbc89654cf7a14bea8fb60e84e7"
     }
    },
    "6abc5ac7797244b09d4e5f9658063c3b": {
     "model_module": "@jupyter-widgets/controls",
     "model_module_version": "1.5.0",
     "model_name": "HBoxModel",
     "state": {
      "_dom_classes": [],
      "_model_module": "@jupyter-widgets/controls",
      "_model_module_version": "1.5.0",
      "_model_name": "HBoxModel",
      "_view_count": null,
      "_view_module": "@jupyter-widgets/controls",
      "_view_module_version": "1.5.0",
      "_view_name": "HBoxView",
      "box_style": "",
      "children": [
       "IPY_MODEL_3bea6e8c63a24ad788983d8ec1ff1069",
       "IPY_MODEL_a0aef644a8fb41259b931f8ba552a556",
       "IPY_MODEL_fbda753f79544148b6e8763f03e5bc9e"
      ],
      "layout": "IPY_MODEL_236e6fc5221146e8b4f1fa7ff03c3bfc"
     }
    },
    "6ba7834558484368a9cb78f03d1afc25": {
     "model_module": "@jupyter-widgets/base",
     "model_module_version": "1.2.0",
     "model_name": "LayoutModel",
     "state": {
      "_model_module": "@jupyter-widgets/base",
      "_model_module_version": "1.2.0",
      "_model_name": "LayoutModel",
      "_view_count": null,
      "_view_module": "@jupyter-widgets/base",
      "_view_module_version": "1.2.0",
      "_view_name": "LayoutView",
      "align_content": null,
      "align_items": null,
      "align_self": null,
      "border": null,
      "bottom": null,
      "display": null,
      "flex": null,
      "flex_flow": null,
      "grid_area": null,
      "grid_auto_columns": null,
      "grid_auto_flow": null,
      "grid_auto_rows": null,
      "grid_column": null,
      "grid_gap": null,
      "grid_row": null,
      "grid_template_areas": null,
      "grid_template_columns": null,
      "grid_template_rows": null,
      "height": null,
      "justify_content": null,
      "justify_items": null,
      "left": null,
      "margin": null,
      "max_height": null,
      "max_width": null,
      "min_height": null,
      "min_width": null,
      "object_fit": null,
      "object_position": null,
      "order": null,
      "overflow": null,
      "overflow_x": null,
      "overflow_y": null,
      "padding": null,
      "right": null,
      "top": null,
      "visibility": null,
      "width": null
     }
    },
    "6cb1bc61dfc34be1b035f69a8dad5620": {
     "model_module": "@jupyter-widgets/base",
     "model_module_version": "1.2.0",
     "model_name": "LayoutModel",
     "state": {
      "_model_module": "@jupyter-widgets/base",
      "_model_module_version": "1.2.0",
      "_model_name": "LayoutModel",
      "_view_count": null,
      "_view_module": "@jupyter-widgets/base",
      "_view_module_version": "1.2.0",
      "_view_name": "LayoutView",
      "align_content": null,
      "align_items": null,
      "align_self": null,
      "border": null,
      "bottom": null,
      "display": null,
      "flex": null,
      "flex_flow": null,
      "grid_area": null,
      "grid_auto_columns": null,
      "grid_auto_flow": null,
      "grid_auto_rows": null,
      "grid_column": null,
      "grid_gap": null,
      "grid_row": null,
      "grid_template_areas": null,
      "grid_template_columns": null,
      "grid_template_rows": null,
      "height": null,
      "justify_content": null,
      "justify_items": null,
      "left": null,
      "margin": null,
      "max_height": null,
      "max_width": null,
      "min_height": null,
      "min_width": null,
      "object_fit": null,
      "object_position": null,
      "order": null,
      "overflow": null,
      "overflow_x": null,
      "overflow_y": null,
      "padding": null,
      "right": null,
      "top": null,
      "visibility": null,
      "width": null
     }
    },
    "704372adfccc4e87948a751c86f261a4": {
     "model_module": "@jupyter-widgets/controls",
     "model_module_version": "1.5.0",
     "model_name": "HBoxModel",
     "state": {
      "_dom_classes": [],
      "_model_module": "@jupyter-widgets/controls",
      "_model_module_version": "1.5.0",
      "_model_name": "HBoxModel",
      "_view_count": null,
      "_view_module": "@jupyter-widgets/controls",
      "_view_module_version": "1.5.0",
      "_view_name": "HBoxView",
      "box_style": "",
      "children": [
       "IPY_MODEL_1034d889e788492f8926bdd6881f253b",
       "IPY_MODEL_30d5d5edd5f3478db3b57e49af72a69a",
       "IPY_MODEL_35ad7b90d1174b18a4bb1fcb3a264bf6"
      ],
      "layout": "IPY_MODEL_6cb1bc61dfc34be1b035f69a8dad5620"
     }
    },
    "722297b534e14a26adc091b3ca6ad778": {
     "model_module": "@jupyter-widgets/controls",
     "model_module_version": "1.5.0",
     "model_name": "DescriptionStyleModel",
     "state": {
      "_model_module": "@jupyter-widgets/controls",
      "_model_module_version": "1.5.0",
      "_model_name": "DescriptionStyleModel",
      "_view_count": null,
      "_view_module": "@jupyter-widgets/base",
      "_view_module_version": "1.2.0",
      "_view_name": "StyleView",
      "description_width": ""
     }
    },
    "729e88444cf746e497f65f5a328883e8": {
     "model_module": "@jupyter-widgets/controls",
     "model_module_version": "1.5.0",
     "model_name": "ProgressStyleModel",
     "state": {
      "_model_module": "@jupyter-widgets/controls",
      "_model_module_version": "1.5.0",
      "_model_name": "ProgressStyleModel",
      "_view_count": null,
      "_view_module": "@jupyter-widgets/base",
      "_view_module_version": "1.2.0",
      "_view_name": "StyleView",
      "bar_color": null,
      "description_width": ""
     }
    },
    "735b283d128b417d93ee1060f4863aad": {
     "model_module": "@jupyter-widgets/controls",
     "model_module_version": "1.5.0",
     "model_name": "HBoxModel",
     "state": {
      "_dom_classes": [],
      "_model_module": "@jupyter-widgets/controls",
      "_model_module_version": "1.5.0",
      "_model_name": "HBoxModel",
      "_view_count": null,
      "_view_module": "@jupyter-widgets/controls",
      "_view_module_version": "1.5.0",
      "_view_name": "HBoxView",
      "box_style": "",
      "children": [
       "IPY_MODEL_9229f1dfcd1b49b29e24101b9669f98c",
       "IPY_MODEL_d29034b7bb8944e68cf5cd60687656eb"
      ],
      "layout": "IPY_MODEL_b5c6c623c0114078bcabec93f8e2603a"
     }
    },
    "7438096ce4f34d1e97d217a9ef53f375": {
     "model_module": "@jupyter-widgets/controls",
     "model_module_version": "1.5.0",
     "model_name": "HTMLModel",
     "state": {
      "_dom_classes": [],
      "_model_module": "@jupyter-widgets/controls",
      "_model_module_version": "1.5.0",
      "_model_name": "HTMLModel",
      "_view_count": null,
      "_view_module": "@jupyter-widgets/controls",
      "_view_module_version": "1.5.0",
      "_view_name": "HTMLView",
      "description": "",
      "description_tooltip": null,
      "layout": "IPY_MODEL_21a3955a06b44d6bbf9b0676a999aa8e",
      "placeholder": "​",
      "style": "IPY_MODEL_f06d687a08cc4b9ba7aa738ff475e928",
      "value": " 121/121 [00:19&lt;00:00,  6.13ex/s]"
     }
    },
    "79b4e78aba7243c4a7bbc5c1242aa922": {
     "model_module": "@jupyter-widgets/base",
     "model_module_version": "1.2.0",
     "model_name": "LayoutModel",
     "state": {
      "_model_module": "@jupyter-widgets/base",
      "_model_module_version": "1.2.0",
      "_model_name": "LayoutModel",
      "_view_count": null,
      "_view_module": "@jupyter-widgets/base",
      "_view_module_version": "1.2.0",
      "_view_name": "LayoutView",
      "align_content": null,
      "align_items": null,
      "align_self": null,
      "border": null,
      "bottom": null,
      "display": null,
      "flex": null,
      "flex_flow": null,
      "grid_area": null,
      "grid_auto_columns": null,
      "grid_auto_flow": null,
      "grid_auto_rows": null,
      "grid_column": null,
      "grid_gap": null,
      "grid_row": null,
      "grid_template_areas": null,
      "grid_template_columns": null,
      "grid_template_rows": null,
      "height": null,
      "justify_content": null,
      "justify_items": null,
      "left": null,
      "margin": null,
      "max_height": null,
      "max_width": null,
      "min_height": null,
      "min_width": null,
      "object_fit": null,
      "object_position": null,
      "order": null,
      "overflow": null,
      "overflow_x": null,
      "overflow_y": null,
      "padding": null,
      "right": null,
      "top": null,
      "visibility": null,
      "width": null
     }
    },
    "79df678373b44db48e04aab20c9465e2": {
     "model_module": "@jupyter-widgets/controls",
     "model_module_version": "1.5.0",
     "model_name": "DescriptionStyleModel",
     "state": {
      "_model_module": "@jupyter-widgets/controls",
      "_model_module_version": "1.5.0",
      "_model_name": "DescriptionStyleModel",
      "_view_count": null,
      "_view_module": "@jupyter-widgets/base",
      "_view_module_version": "1.2.0",
      "_view_name": "StyleView",
      "description_width": ""
     }
    },
    "7a7201020c88464a9fb641e0c5dc313e": {
     "model_module": "@jupyter-widgets/base",
     "model_module_version": "1.2.0",
     "model_name": "LayoutModel",
     "state": {
      "_model_module": "@jupyter-widgets/base",
      "_model_module_version": "1.2.0",
      "_model_name": "LayoutModel",
      "_view_count": null,
      "_view_module": "@jupyter-widgets/base",
      "_view_module_version": "1.2.0",
      "_view_name": "LayoutView",
      "align_content": null,
      "align_items": null,
      "align_self": null,
      "border": null,
      "bottom": null,
      "display": null,
      "flex": null,
      "flex_flow": null,
      "grid_area": null,
      "grid_auto_columns": null,
      "grid_auto_flow": null,
      "grid_auto_rows": null,
      "grid_column": null,
      "grid_gap": null,
      "grid_row": null,
      "grid_template_areas": null,
      "grid_template_columns": null,
      "grid_template_rows": null,
      "height": null,
      "justify_content": null,
      "justify_items": null,
      "left": null,
      "margin": null,
      "max_height": null,
      "max_width": null,
      "min_height": null,
      "min_width": null,
      "object_fit": null,
      "object_position": null,
      "order": null,
      "overflow": null,
      "overflow_x": null,
      "overflow_y": null,
      "padding": null,
      "right": null,
      "top": null,
      "visibility": null,
      "width": null
     }
    },
    "7ad0e3340eb4476e9d9610ae740cf560": {
     "model_module": "@jupyter-widgets/controls",
     "model_module_version": "1.5.0",
     "model_name": "ProgressStyleModel",
     "state": {
      "_model_module": "@jupyter-widgets/controls",
      "_model_module_version": "1.5.0",
      "_model_name": "ProgressStyleModel",
      "_view_count": null,
      "_view_module": "@jupyter-widgets/base",
      "_view_module_version": "1.2.0",
      "_view_name": "StyleView",
      "bar_color": null,
      "description_width": ""
     }
    },
    "7bcc8e538ff34d4196055461811097ac": {
     "model_module": "@jupyter-widgets/controls",
     "model_module_version": "1.5.0",
     "model_name": "HBoxModel",
     "state": {
      "_dom_classes": [],
      "_model_module": "@jupyter-widgets/controls",
      "_model_module_version": "1.5.0",
      "_model_name": "HBoxModel",
      "_view_count": null,
      "_view_module": "@jupyter-widgets/controls",
      "_view_module_version": "1.5.0",
      "_view_name": "HBoxView",
      "box_style": "",
      "children": [
       "IPY_MODEL_9da77be834fa48e2a416844aae7ee58a",
       "IPY_MODEL_101d52fef40d426fa713c385304499bf"
      ],
      "layout": "IPY_MODEL_8f144001036e4ffb845cb2d5575bb86e"
     }
    },
    "7fa14e6449d94a0fbbcb0b74c4320cf0": {
     "model_module": "@jupyter-widgets/controls",
     "model_module_version": "1.5.0",
     "model_name": "HBoxModel",
     "state": {
      "_dom_classes": [],
      "_model_module": "@jupyter-widgets/controls",
      "_model_module_version": "1.5.0",
      "_model_name": "HBoxModel",
      "_view_count": null,
      "_view_module": "@jupyter-widgets/controls",
      "_view_module_version": "1.5.0",
      "_view_name": "HBoxView",
      "box_style": "",
      "children": [
       "IPY_MODEL_91270037a515446eb5d0664fda4fcd83",
       "IPY_MODEL_b6bb9113a8154ee881f8651460b59676",
       "IPY_MODEL_e1cf4ee157bd47a280f61d511c5b0f9e"
      ],
      "layout": "IPY_MODEL_b230b005925b46d191a613228cadb490"
     }
    },
    "80dbda961f8b47f69326938f87ee66aa": {
     "model_module": "@jupyter-widgets/controls",
     "model_module_version": "1.5.0",
     "model_name": "HTMLModel",
     "state": {
      "_dom_classes": [],
      "_model_module": "@jupyter-widgets/controls",
      "_model_module_version": "1.5.0",
      "_model_name": "HTMLModel",
      "_view_count": null,
      "_view_module": "@jupyter-widgets/controls",
      "_view_module_version": "1.5.0",
      "_view_name": "HTMLView",
      "description": "",
      "description_tooltip": null,
      "layout": "IPY_MODEL_83e6edb1509a43fdbdf58a628f113117",
      "placeholder": "​",
      "style": "IPY_MODEL_e3b4e0a422184a6f96a724f00eebd3f3",
      "value": " 158/158 [00:00&lt;00:00, 3.52kB/s]"
     }
    },
    "821ee8ae573a4e7092c810dfa5317802": {
     "model_module": "@jupyter-widgets/controls",
     "model_module_version": "1.5.0",
     "model_name": "HBoxModel",
     "state": {
      "_dom_classes": [],
      "_model_module": "@jupyter-widgets/controls",
      "_model_module_version": "1.5.0",
      "_model_name": "HBoxModel",
      "_view_count": null,
      "_view_module": "@jupyter-widgets/controls",
      "_view_module_version": "1.5.0",
      "_view_name": "HBoxView",
      "box_style": "",
      "children": [
       "IPY_MODEL_9431932a569c4bd3a8c46e99ff07aefd",
       "IPY_MODEL_25942482b41141088bd3628b1e47d57a"
      ],
      "layout": "IPY_MODEL_599f611af5d54d1ebf48d2357e25f189"
     }
    },
    "83e6edb1509a43fdbdf58a628f113117": {
     "model_module": "@jupyter-widgets/base",
     "model_module_version": "1.2.0",
     "model_name": "LayoutModel",
     "state": {
      "_model_module": "@jupyter-widgets/base",
      "_model_module_version": "1.2.0",
      "_model_name": "LayoutModel",
      "_view_count": null,
      "_view_module": "@jupyter-widgets/base",
      "_view_module_version": "1.2.0",
      "_view_name": "LayoutView",
      "align_content": null,
      "align_items": null,
      "align_self": null,
      "border": null,
      "bottom": null,
      "display": null,
      "flex": null,
      "flex_flow": null,
      "grid_area": null,
      "grid_auto_columns": null,
      "grid_auto_flow": null,
      "grid_auto_rows": null,
      "grid_column": null,
      "grid_gap": null,
      "grid_row": null,
      "grid_template_areas": null,
      "grid_template_columns": null,
      "grid_template_rows": null,
      "height": null,
      "justify_content": null,
      "justify_items": null,
      "left": null,
      "margin": null,
      "max_height": null,
      "max_width": null,
      "min_height": null,
      "min_width": null,
      "object_fit": null,
      "object_position": null,
      "order": null,
      "overflow": null,
      "overflow_x": null,
      "overflow_y": null,
      "padding": null,
      "right": null,
      "top": null,
      "visibility": null,
      "width": null
     }
    },
    "83fd2cd4161c4d5bafd3b6290f98d14b": {
     "model_module": "@jupyter-widgets/base",
     "model_module_version": "1.2.0",
     "model_name": "LayoutModel",
     "state": {
      "_model_module": "@jupyter-widgets/base",
      "_model_module_version": "1.2.0",
      "_model_name": "LayoutModel",
      "_view_count": null,
      "_view_module": "@jupyter-widgets/base",
      "_view_module_version": "1.2.0",
      "_view_name": "LayoutView",
      "align_content": null,
      "align_items": null,
      "align_self": null,
      "border": null,
      "bottom": null,
      "display": null,
      "flex": null,
      "flex_flow": null,
      "grid_area": null,
      "grid_auto_columns": null,
      "grid_auto_flow": null,
      "grid_auto_rows": null,
      "grid_column": null,
      "grid_gap": null,
      "grid_row": null,
      "grid_template_areas": null,
      "grid_template_columns": null,
      "grid_template_rows": null,
      "height": null,
      "justify_content": null,
      "justify_items": null,
      "left": null,
      "margin": null,
      "max_height": null,
      "max_width": null,
      "min_height": null,
      "min_width": null,
      "object_fit": null,
      "object_position": null,
      "order": null,
      "overflow": null,
      "overflow_x": null,
      "overflow_y": null,
      "padding": null,
      "right": null,
      "top": null,
      "visibility": null,
      "width": null
     }
    },
    "863249661fb9464eb5c1396bf52cad68": {
     "model_module": "@jupyter-widgets/controls",
     "model_module_version": "1.5.0",
     "model_name": "DescriptionStyleModel",
     "state": {
      "_model_module": "@jupyter-widgets/controls",
      "_model_module_version": "1.5.0",
      "_model_name": "DescriptionStyleModel",
      "_view_count": null,
      "_view_module": "@jupyter-widgets/base",
      "_view_module_version": "1.2.0",
      "_view_name": "StyleView",
      "description_width": ""
     }
    },
    "86b895aedb3446bdb5f7380a7677b03b": {
     "model_module": "@jupyter-widgets/controls",
     "model_module_version": "1.5.0",
     "model_name": "HBoxModel",
     "state": {
      "_dom_classes": [],
      "_model_module": "@jupyter-widgets/controls",
      "_model_module_version": "1.5.0",
      "_model_name": "HBoxModel",
      "_view_count": null,
      "_view_module": "@jupyter-widgets/controls",
      "_view_module_version": "1.5.0",
      "_view_name": "HBoxView",
      "box_style": "",
      "children": [
       "IPY_MODEL_ce1cf206122446888c04e38323860dbc",
       "IPY_MODEL_3dddc5e034a84aa5ba12052c3262c372"
      ],
      "layout": "IPY_MODEL_2a30879c7e3240c08f6c63e857317958"
     }
    },
    "880b1b767a814e1ab5813102a3927e4e": {
     "model_module": "@jupyter-widgets/controls",
     "model_module_version": "1.5.0",
     "model_name": "ProgressStyleModel",
     "state": {
      "_model_module": "@jupyter-widgets/controls",
      "_model_module_version": "1.5.0",
      "_model_name": "ProgressStyleModel",
      "_view_count": null,
      "_view_module": "@jupyter-widgets/base",
      "_view_module_version": "1.2.0",
      "_view_name": "StyleView",
      "bar_color": null,
      "description_width": ""
     }
    },
    "8a5be3ab74704643a36dd219fa3eb5a3": {
     "model_module": "@jupyter-widgets/controls",
     "model_module_version": "1.5.0",
     "model_name": "HBoxModel",
     "state": {
      "_dom_classes": [],
      "_model_module": "@jupyter-widgets/controls",
      "_model_module_version": "1.5.0",
      "_model_name": "HBoxModel",
      "_view_count": null,
      "_view_module": "@jupyter-widgets/controls",
      "_view_module_version": "1.5.0",
      "_view_name": "HBoxView",
      "box_style": "",
      "children": [
       "IPY_MODEL_969ace95cb9742258efb81f517fccbe9",
       "IPY_MODEL_ae3d53de5af147e98ee12966054cf41c"
      ],
      "layout": "IPY_MODEL_0094521e8cf64ac098cfe122cf7021c4"
     }
    },
    "8d908d01e07d4452a67852f8d03bc1e7": {
     "model_module": "@jupyter-widgets/controls",
     "model_module_version": "1.5.0",
     "model_name": "DescriptionStyleModel",
     "state": {
      "_model_module": "@jupyter-widgets/controls",
      "_model_module_version": "1.5.0",
      "_model_name": "DescriptionStyleModel",
      "_view_count": null,
      "_view_module": "@jupyter-widgets/base",
      "_view_module_version": "1.2.0",
      "_view_name": "StyleView",
      "description_width": ""
     }
    },
    "8e7f210188f44d7b8f6a65b930abe563": {
     "model_module": "@jupyter-widgets/base",
     "model_module_version": "1.2.0",
     "model_name": "LayoutModel",
     "state": {
      "_model_module": "@jupyter-widgets/base",
      "_model_module_version": "1.2.0",
      "_model_name": "LayoutModel",
      "_view_count": null,
      "_view_module": "@jupyter-widgets/base",
      "_view_module_version": "1.2.0",
      "_view_name": "LayoutView",
      "align_content": null,
      "align_items": null,
      "align_self": null,
      "border": null,
      "bottom": null,
      "display": null,
      "flex": null,
      "flex_flow": null,
      "grid_area": null,
      "grid_auto_columns": null,
      "grid_auto_flow": null,
      "grid_auto_rows": null,
      "grid_column": null,
      "grid_gap": null,
      "grid_row": null,
      "grid_template_areas": null,
      "grid_template_columns": null,
      "grid_template_rows": null,
      "height": null,
      "justify_content": null,
      "justify_items": null,
      "left": null,
      "margin": null,
      "max_height": null,
      "max_width": null,
      "min_height": null,
      "min_width": null,
      "object_fit": null,
      "object_position": null,
      "order": null,
      "overflow": null,
      "overflow_x": null,
      "overflow_y": null,
      "padding": null,
      "right": null,
      "top": null,
      "visibility": null,
      "width": null
     }
    },
    "8f144001036e4ffb845cb2d5575bb86e": {
     "model_module": "@jupyter-widgets/base",
     "model_module_version": "1.2.0",
     "model_name": "LayoutModel",
     "state": {
      "_model_module": "@jupyter-widgets/base",
      "_model_module_version": "1.2.0",
      "_model_name": "LayoutModel",
      "_view_count": null,
      "_view_module": "@jupyter-widgets/base",
      "_view_module_version": "1.2.0",
      "_view_name": "LayoutView",
      "align_content": null,
      "align_items": null,
      "align_self": null,
      "border": null,
      "bottom": null,
      "display": null,
      "flex": null,
      "flex_flow": null,
      "grid_area": null,
      "grid_auto_columns": null,
      "grid_auto_flow": null,
      "grid_auto_rows": null,
      "grid_column": null,
      "grid_gap": null,
      "grid_row": null,
      "grid_template_areas": null,
      "grid_template_columns": null,
      "grid_template_rows": null,
      "height": null,
      "justify_content": null,
      "justify_items": null,
      "left": null,
      "margin": null,
      "max_height": null,
      "max_width": null,
      "min_height": null,
      "min_width": null,
      "object_fit": null,
      "object_position": null,
      "order": null,
      "overflow": null,
      "overflow_x": null,
      "overflow_y": null,
      "padding": null,
      "right": null,
      "top": null,
      "visibility": null,
      "width": null
     }
    },
    "91270037a515446eb5d0664fda4fcd83": {
     "model_module": "@jupyter-widgets/controls",
     "model_module_version": "1.5.0",
     "model_name": "HTMLModel",
     "state": {
      "_dom_classes": [],
      "_model_module": "@jupyter-widgets/controls",
      "_model_module_version": "1.5.0",
      "_model_name": "HTMLModel",
      "_view_count": null,
      "_view_module": "@jupyter-widgets/controls",
      "_view_module_version": "1.5.0",
      "_view_name": "HTMLView",
      "description": "",
      "description_tooltip": null,
      "layout": "IPY_MODEL_0bbf6f18021e48a089b39820b2f0af6f",
      "placeholder": "​",
      "style": "IPY_MODEL_722297b534e14a26adc091b3ca6ad778",
      "value": "Downloading: 100%"
     }
    },
    "9229f1dfcd1b49b29e24101b9669f98c": {
     "model_module": "@jupyter-widgets/controls",
     "model_module_version": "1.5.0",
     "model_name": "FloatProgressModel",
     "state": {
      "_dom_classes": [],
      "_model_module": "@jupyter-widgets/controls",
      "_model_module_version": "1.5.0",
      "_model_name": "FloatProgressModel",
      "_view_count": null,
      "_view_module": "@jupyter-widgets/controls",
      "_view_module_version": "1.5.0",
      "_view_name": "ProgressView",
      "bar_style": "success",
      "description": "Downloading: 100%",
      "description_tooltip": null,
      "layout": "IPY_MODEL_6ba7834558484368a9cb78f03d1afc25",
      "max": 1925,
      "min": 0,
      "orientation": "horizontal",
      "style": "IPY_MODEL_482acb885cfc409ab154abceeb15a436",
      "value": 1925
     }
    },
    "92636f7a713147e19a5a7af33a654db0": {
     "model_module": "@jupyter-widgets/base",
     "model_module_version": "1.2.0",
     "model_name": "LayoutModel",
     "state": {
      "_model_module": "@jupyter-widgets/base",
      "_model_module_version": "1.2.0",
      "_model_name": "LayoutModel",
      "_view_count": null,
      "_view_module": "@jupyter-widgets/base",
      "_view_module_version": "1.2.0",
      "_view_name": "LayoutView",
      "align_content": null,
      "align_items": null,
      "align_self": null,
      "border": null,
      "bottom": null,
      "display": null,
      "flex": null,
      "flex_flow": null,
      "grid_area": null,
      "grid_auto_columns": null,
      "grid_auto_flow": null,
      "grid_auto_rows": null,
      "grid_column": null,
      "grid_gap": null,
      "grid_row": null,
      "grid_template_areas": null,
      "grid_template_columns": null,
      "grid_template_rows": null,
      "height": null,
      "justify_content": null,
      "justify_items": null,
      "left": null,
      "margin": null,
      "max_height": null,
      "max_width": null,
      "min_height": null,
      "min_width": null,
      "object_fit": null,
      "object_position": null,
      "order": null,
      "overflow": null,
      "overflow_x": null,
      "overflow_y": null,
      "padding": null,
      "right": null,
      "top": null,
      "visibility": null,
      "width": null
     }
    },
    "9431932a569c4bd3a8c46e99ff07aefd": {
     "model_module": "@jupyter-widgets/controls",
     "model_module_version": "1.5.0",
     "model_name": "FloatProgressModel",
     "state": {
      "_dom_classes": [],
      "_model_module": "@jupyter-widgets/controls",
      "_model_module_version": "1.5.0",
      "_model_name": "FloatProgressModel",
      "_view_count": null,
      "_view_module": "@jupyter-widgets/controls",
      "_view_module_version": "1.5.0",
      "_view_name": "ProgressView",
      "bar_style": "success",
      "description": "Downloading: 100%",
      "description_tooltip": null,
      "layout": "IPY_MODEL_b7af7737c23248309a362885e9b9fe0b",
      "max": 398,
      "min": 0,
      "orientation": "horizontal",
      "style": "IPY_MODEL_49880831258d43f59096117a8c2c02eb",
      "value": 398
     }
    },
    "947766db621a4ff0869f6d44e23b68af": {
     "model_module": "@jupyter-widgets/controls",
     "model_module_version": "1.5.0",
     "model_name": "DescriptionStyleModel",
     "state": {
      "_model_module": "@jupyter-widgets/controls",
      "_model_module_version": "1.5.0",
      "_model_name": "DescriptionStyleModel",
      "_view_count": null,
      "_view_module": "@jupyter-widgets/base",
      "_view_module_version": "1.2.0",
      "_view_name": "StyleView",
      "description_width": ""
     }
    },
    "94d90f1cc58e4a07ae9b2af8773f8728": {
     "model_module": "@jupyter-widgets/base",
     "model_module_version": "1.2.0",
     "model_name": "LayoutModel",
     "state": {
      "_model_module": "@jupyter-widgets/base",
      "_model_module_version": "1.2.0",
      "_model_name": "LayoutModel",
      "_view_count": null,
      "_view_module": "@jupyter-widgets/base",
      "_view_module_version": "1.2.0",
      "_view_name": "LayoutView",
      "align_content": null,
      "align_items": null,
      "align_self": null,
      "border": null,
      "bottom": null,
      "display": null,
      "flex": null,
      "flex_flow": null,
      "grid_area": null,
      "grid_auto_columns": null,
      "grid_auto_flow": null,
      "grid_auto_rows": null,
      "grid_column": null,
      "grid_gap": null,
      "grid_row": null,
      "grid_template_areas": null,
      "grid_template_columns": null,
      "grid_template_rows": null,
      "height": null,
      "justify_content": null,
      "justify_items": null,
      "left": null,
      "margin": null,
      "max_height": null,
      "max_width": null,
      "min_height": null,
      "min_width": null,
      "object_fit": null,
      "object_position": null,
      "order": null,
      "overflow": null,
      "overflow_x": null,
      "overflow_y": null,
      "padding": null,
      "right": null,
      "top": null,
      "visibility": null,
      "width": null
     }
    },
    "969ace95cb9742258efb81f517fccbe9": {
     "model_module": "@jupyter-widgets/controls",
     "model_module_version": "1.5.0",
     "model_name": "FloatProgressModel",
     "state": {
      "_dom_classes": [],
      "_model_module": "@jupyter-widgets/controls",
      "_model_module_version": "1.5.0",
      "_model_name": "FloatProgressModel",
      "_view_count": null,
      "_view_module": "@jupyter-widgets/controls",
      "_view_module_version": "1.5.0",
      "_view_name": "ProgressView",
      "bar_style": "info",
      "description": "",
      "description_tooltip": null,
      "layout": "IPY_MODEL_ee8702b9d94c4b869e0601d42df0519c",
      "max": 1,
      "min": 0,
      "orientation": "horizontal",
      "style": "IPY_MODEL_5a4c57e5833840e19700a650781a95db",
      "value": 1
     }
    },
    "992a468bf6d54c2d98837e10a562cfab": {
     "model_module": "@jupyter-widgets/base",
     "model_module_version": "1.2.0",
     "model_name": "LayoutModel",
     "state": {
      "_model_module": "@jupyter-widgets/base",
      "_model_module_version": "1.2.0",
      "_model_name": "LayoutModel",
      "_view_count": null,
      "_view_module": "@jupyter-widgets/base",
      "_view_module_version": "1.2.0",
      "_view_name": "LayoutView",
      "align_content": null,
      "align_items": null,
      "align_self": null,
      "border": null,
      "bottom": null,
      "display": null,
      "flex": null,
      "flex_flow": null,
      "grid_area": null,
      "grid_auto_columns": null,
      "grid_auto_flow": null,
      "grid_auto_rows": null,
      "grid_column": null,
      "grid_gap": null,
      "grid_row": null,
      "grid_template_areas": null,
      "grid_template_columns": null,
      "grid_template_rows": null,
      "height": null,
      "justify_content": null,
      "justify_items": null,
      "left": null,
      "margin": null,
      "max_height": null,
      "max_width": null,
      "min_height": null,
      "min_width": null,
      "object_fit": null,
      "object_position": null,
      "order": null,
      "overflow": null,
      "overflow_x": null,
      "overflow_y": null,
      "padding": null,
      "right": null,
      "top": null,
      "visibility": null,
      "width": null
     }
    },
    "9c607a2a04164cd7aec8fbb22a24070e": {
     "model_module": "@jupyter-widgets/controls",
     "model_module_version": "1.5.0",
     "model_name": "ProgressStyleModel",
     "state": {
      "_model_module": "@jupyter-widgets/controls",
      "_model_module_version": "1.5.0",
      "_model_name": "ProgressStyleModel",
      "_view_count": null,
      "_view_module": "@jupyter-widgets/base",
      "_view_module_version": "1.2.0",
      "_view_name": "StyleView",
      "bar_color": null,
      "description_width": ""
     }
    },
    "9c93948f6db741abb93847a7df55d800": {
     "model_module": "@jupyter-widgets/controls",
     "model_module_version": "1.5.0",
     "model_name": "DescriptionStyleModel",
     "state": {
      "_model_module": "@jupyter-widgets/controls",
      "_model_module_version": "1.5.0",
      "_model_name": "DescriptionStyleModel",
      "_view_count": null,
      "_view_module": "@jupyter-widgets/base",
      "_view_module_version": "1.2.0",
      "_view_name": "StyleView",
      "description_width": ""
     }
    },
    "9d76f30b2da34f95adc14d65a5db42be": {
     "model_module": "@jupyter-widgets/controls",
     "model_module_version": "1.5.0",
     "model_name": "HBoxModel",
     "state": {
      "_dom_classes": [],
      "_model_module": "@jupyter-widgets/controls",
      "_model_module_version": "1.5.0",
      "_model_name": "HBoxModel",
      "_view_count": null,
      "_view_module": "@jupyter-widgets/controls",
      "_view_module_version": "1.5.0",
      "_view_name": "HBoxView",
      "box_style": "",
      "children": [
       "IPY_MODEL_dae4b191c7a24f1296a72be45254ed17",
       "IPY_MODEL_ef2247cf25584486b3e6f7fd5bd8c754"
      ],
      "layout": "IPY_MODEL_df988cc1226d411e9b45c00430508207"
     }
    },
    "9da77be834fa48e2a416844aae7ee58a": {
     "model_module": "@jupyter-widgets/controls",
     "model_module_version": "1.5.0",
     "model_name": "FloatProgressModel",
     "state": {
      "_dom_classes": [],
      "_model_module": "@jupyter-widgets/controls",
      "_model_module_version": "1.5.0",
      "_model_name": "FloatProgressModel",
      "_view_count": null,
      "_view_module": "@jupyter-widgets/controls",
      "_view_module_version": "1.5.0",
      "_view_name": "ProgressView",
      "bar_style": "success",
      "description": "100%",
      "description_tooltip": null,
      "layout": "IPY_MODEL_2f21becfde73488ea26aeb8d338fa332",
      "max": 16,
      "min": 0,
      "orientation": "horizontal",
      "style": "IPY_MODEL_b280d16336ce4cca95c8577025fd4764",
      "value": 16
     }
    },
    "9e06357dce304539a00f3e88a051246d": {
     "model_module": "@jupyter-widgets/base",
     "model_module_version": "1.2.0",
     "model_name": "LayoutModel",
     "state": {
      "_model_module": "@jupyter-widgets/base",
      "_model_module_version": "1.2.0",
      "_model_name": "LayoutModel",
      "_view_count": null,
      "_view_module": "@jupyter-widgets/base",
      "_view_module_version": "1.2.0",
      "_view_name": "LayoutView",
      "align_content": null,
      "align_items": null,
      "align_self": null,
      "border": null,
      "bottom": null,
      "display": null,
      "flex": null,
      "flex_flow": null,
      "grid_area": null,
      "grid_auto_columns": null,
      "grid_auto_flow": null,
      "grid_auto_rows": null,
      "grid_column": null,
      "grid_gap": null,
      "grid_row": null,
      "grid_template_areas": null,
      "grid_template_columns": null,
      "grid_template_rows": null,
      "height": null,
      "justify_content": null,
      "justify_items": null,
      "left": null,
      "margin": null,
      "max_height": null,
      "max_width": null,
      "min_height": null,
      "min_width": null,
      "object_fit": null,
      "object_position": null,
      "order": null,
      "overflow": null,
      "overflow_x": null,
      "overflow_y": null,
      "padding": null,
      "right": null,
      "top": null,
      "visibility": null,
      "width": null
     }
    },
    "9e47a64fb00444198069a6e02f672149": {
     "model_module": "@jupyter-widgets/controls",
     "model_module_version": "1.5.0",
     "model_name": "FloatProgressModel",
     "state": {
      "_dom_classes": [],
      "_model_module": "@jupyter-widgets/controls",
      "_model_module_version": "1.5.0",
      "_model_name": "FloatProgressModel",
      "_view_count": null,
      "_view_module": "@jupyter-widgets/controls",
      "_view_module_version": "1.5.0",
      "_view_name": "ProgressView",
      "bar_style": "success",
      "description": "",
      "description_tooltip": null,
      "layout": "IPY_MODEL_7a7201020c88464a9fb641e0c5dc313e",
      "max": 158,
      "min": 0,
      "orientation": "horizontal",
      "style": "IPY_MODEL_7ad0e3340eb4476e9d9610ae740cf560",
      "value": 158
     }
    },
    "a092ff2c57664a9a94d19824970d8fa6": {
     "model_module": "@jupyter-widgets/controls",
     "model_module_version": "1.5.0",
     "model_name": "HTMLModel",
     "state": {
      "_dom_classes": [],
      "_model_module": "@jupyter-widgets/controls",
      "_model_module_version": "1.5.0",
      "_model_name": "HTMLModel",
      "_view_count": null,
      "_view_module": "@jupyter-widgets/controls",
      "_view_module_version": "1.5.0",
      "_view_name": "HTMLView",
      "description": "",
      "description_tooltip": null,
      "layout": "IPY_MODEL_164c729dae0044598a4324180bb3e75e",
      "placeholder": "​",
      "style": "IPY_MODEL_f0679d95ad024c0298eff54e66101cd0",
      "value": " 138/138 [00:00&lt;00:00, 3.78kB/s]"
     }
    },
    "a0aef644a8fb41259b931f8ba552a556": {
     "model_module": "@jupyter-widgets/controls",
     "model_module_version": "1.5.0",
     "model_name": "FloatProgressModel",
     "state": {
      "_dom_classes": [],
      "_model_module": "@jupyter-widgets/controls",
      "_model_module_version": "1.5.0",
      "_model_name": "FloatProgressModel",
      "_view_count": null,
      "_view_module": "@jupyter-widgets/controls",
      "_view_module_version": "1.5.0",
      "_view_name": "ProgressView",
      "bar_style": "success",
      "description": "",
      "description_tooltip": null,
      "layout": "IPY_MODEL_f6b43a956dcc41868570019068d571bc",
      "max": 2,
      "min": 0,
      "orientation": "horizontal",
      "style": "IPY_MODEL_ccab05142c5d4bb5828deab12c4e2ffe",
      "value": 2
     }
    },
    "a4ee7fd34a3045c290ed696b04dbf599": {
     "model_module": "@jupyter-widgets/controls",
     "model_module_version": "1.5.0",
     "model_name": "DescriptionStyleModel",
     "state": {
      "_model_module": "@jupyter-widgets/controls",
      "_model_module_version": "1.5.0",
      "_model_name": "DescriptionStyleModel",
      "_view_count": null,
      "_view_module": "@jupyter-widgets/base",
      "_view_module_version": "1.2.0",
      "_view_name": "StyleView",
      "description_width": ""
     }
    },
    "a6508c4c275547669f0f3646e9d6e599": {
     "model_module": "@jupyter-widgets/controls",
     "model_module_version": "1.5.0",
     "model_name": "HBoxModel",
     "state": {
      "_dom_classes": [],
      "_model_module": "@jupyter-widgets/controls",
      "_model_module_version": "1.5.0",
      "_model_name": "HBoxModel",
      "_view_count": null,
      "_view_module": "@jupyter-widgets/controls",
      "_view_module_version": "1.5.0",
      "_view_name": "HBoxView",
      "box_style": "",
      "children": [
       "IPY_MODEL_0dff4d876a8d4f879f977312dff1b358",
       "IPY_MODEL_b891b8a8b07b4b88b6d0dda55ccab66b"
      ],
      "layout": "IPY_MODEL_c6c6aaf73a45402f89cce228bbbbcda1"
     }
    },
    "a68fdcd0b0ef4349a2fd46d5d10ad4fb": {
     "model_module": "@jupyter-widgets/controls",
     "model_module_version": "1.5.0",
     "model_name": "DescriptionStyleModel",
     "state": {
      "_model_module": "@jupyter-widgets/controls",
      "_model_module_version": "1.5.0",
      "_model_name": "DescriptionStyleModel",
      "_view_count": null,
      "_view_module": "@jupyter-widgets/base",
      "_view_module_version": "1.2.0",
      "_view_name": "StyleView",
      "description_width": ""
     }
    },
    "a6d0ca3153884127ae8d26fa01ffd0da": {
     "model_module": "@jupyter-widgets/base",
     "model_module_version": "1.2.0",
     "model_name": "LayoutModel",
     "state": {
      "_model_module": "@jupyter-widgets/base",
      "_model_module_version": "1.2.0",
      "_model_name": "LayoutModel",
      "_view_count": null,
      "_view_module": "@jupyter-widgets/base",
      "_view_module_version": "1.2.0",
      "_view_name": "LayoutView",
      "align_content": null,
      "align_items": null,
      "align_self": null,
      "border": null,
      "bottom": null,
      "display": null,
      "flex": null,
      "flex_flow": null,
      "grid_area": null,
      "grid_auto_columns": null,
      "grid_auto_flow": null,
      "grid_auto_rows": null,
      "grid_column": null,
      "grid_gap": null,
      "grid_row": null,
      "grid_template_areas": null,
      "grid_template_columns": null,
      "grid_template_rows": null,
      "height": null,
      "justify_content": null,
      "justify_items": null,
      "left": null,
      "margin": null,
      "max_height": null,
      "max_width": null,
      "min_height": null,
      "min_width": null,
      "object_fit": null,
      "object_position": null,
      "order": null,
      "overflow": null,
      "overflow_x": null,
      "overflow_y": null,
      "padding": null,
      "right": null,
      "top": null,
      "visibility": null,
      "width": null
     }
    },
    "a7ecde28fffd442a9b40ea3824ac1e92": {
     "model_module": "@jupyter-widgets/controls",
     "model_module_version": "1.5.0",
     "model_name": "HBoxModel",
     "state": {
      "_dom_classes": [],
      "_model_module": "@jupyter-widgets/controls",
      "_model_module_version": "1.5.0",
      "_model_name": "HBoxModel",
      "_view_count": null,
      "_view_module": "@jupyter-widgets/controls",
      "_view_module_version": "1.5.0",
      "_view_name": "HBoxView",
      "box_style": "",
      "children": [
       "IPY_MODEL_3dab69222f3c44ce98a86c81bfb54fad",
       "IPY_MODEL_0c7dcf7611f748959ff5d1b91459e072",
       "IPY_MODEL_cf524370fb0f44a9bcefe4fa00169015"
      ],
      "layout": "IPY_MODEL_31f78dc3a5a3479eb991d80c98750e57"
     }
    },
    "a9c7d9dd865041a0bf83c0a9abd134c7": {
     "model_module": "@jupyter-widgets/base",
     "model_module_version": "1.2.0",
     "model_name": "LayoutModel",
     "state": {
      "_model_module": "@jupyter-widgets/base",
      "_model_module_version": "1.2.0",
      "_model_name": "LayoutModel",
      "_view_count": null,
      "_view_module": "@jupyter-widgets/base",
      "_view_module_version": "1.2.0",
      "_view_name": "LayoutView",
      "align_content": null,
      "align_items": null,
      "align_self": null,
      "border": null,
      "bottom": null,
      "display": null,
      "flex": null,
      "flex_flow": null,
      "grid_area": null,
      "grid_auto_columns": null,
      "grid_auto_flow": null,
      "grid_auto_rows": null,
      "grid_column": null,
      "grid_gap": null,
      "grid_row": null,
      "grid_template_areas": null,
      "grid_template_columns": null,
      "grid_template_rows": null,
      "height": null,
      "justify_content": null,
      "justify_items": null,
      "left": null,
      "margin": null,
      "max_height": null,
      "max_width": null,
      "min_height": null,
      "min_width": null,
      "object_fit": null,
      "object_position": null,
      "order": null,
      "overflow": null,
      "overflow_x": null,
      "overflow_y": null,
      "padding": null,
      "right": null,
      "top": null,
      "visibility": null,
      "width": null
     }
    },
    "aa846c8383044771ab3d072d3c628eb4": {
     "model_module": "@jupyter-widgets/controls",
     "model_module_version": "1.5.0",
     "model_name": "DescriptionStyleModel",
     "state": {
      "_model_module": "@jupyter-widgets/controls",
      "_model_module_version": "1.5.0",
      "_model_name": "DescriptionStyleModel",
      "_view_count": null,
      "_view_module": "@jupyter-widgets/base",
      "_view_module_version": "1.2.0",
      "_view_name": "StyleView",
      "description_width": ""
     }
    },
    "ae3d53de5af147e98ee12966054cf41c": {
     "model_module": "@jupyter-widgets/controls",
     "model_module_version": "1.5.0",
     "model_name": "HTMLModel",
     "state": {
      "_dom_classes": [],
      "_model_module": "@jupyter-widgets/controls",
      "_model_module_version": "1.5.0",
      "_model_name": "HTMLModel",
      "_view_count": null,
      "_view_module": "@jupyter-widgets/controls",
      "_view_module_version": "1.5.0",
      "_view_name": "HTMLView",
      "description": "",
      "description_tooltip": null,
      "layout": "IPY_MODEL_654a83f92aec429a823f89cfadd618cb",
      "placeholder": "​",
      "style": "IPY_MODEL_5c8945a46d2748c9b50c939e178c9d97",
      "value": " 1/? [00:00&lt;00:00, 12.16 tables/s]"
     }
    },
    "aff498eb17bc4fa3a509350065e46916": {
     "model_module": "@jupyter-widgets/controls",
     "model_module_version": "1.5.0",
     "model_name": "HTMLModel",
     "state": {
      "_dom_classes": [],
      "_model_module": "@jupyter-widgets/controls",
      "_model_module_version": "1.5.0",
      "_model_name": "HTMLModel",
      "_view_count": null,
      "_view_module": "@jupyter-widgets/controls",
      "_view_module_version": "1.5.0",
      "_view_name": "HTMLView",
      "description": "",
      "description_tooltip": null,
      "layout": "IPY_MODEL_366df876edc241eba60b22bc7fe3bed3",
      "placeholder": "​",
      "style": "IPY_MODEL_3a460649fa0e493caabc232ffdd7d1d6",
      "value": " 535/535 [00:00&lt;00:00, 14.4kB/s]"
     }
    },
    "b230b005925b46d191a613228cadb490": {
     "model_module": "@jupyter-widgets/base",
     "model_module_version": "1.2.0",
     "model_name": "LayoutModel",
     "state": {
      "_model_module": "@jupyter-widgets/base",
      "_model_module_version": "1.2.0",
      "_model_name": "LayoutModel",
      "_view_count": null,
      "_view_module": "@jupyter-widgets/base",
      "_view_module_version": "1.2.0",
      "_view_name": "LayoutView",
      "align_content": null,
      "align_items": null,
      "align_self": null,
      "border": null,
      "bottom": null,
      "display": null,
      "flex": null,
      "flex_flow": null,
      "grid_area": null,
      "grid_auto_columns": null,
      "grid_auto_flow": null,
      "grid_auto_rows": null,
      "grid_column": null,
      "grid_gap": null,
      "grid_row": null,
      "grid_template_areas": null,
      "grid_template_columns": null,
      "grid_template_rows": null,
      "height": null,
      "justify_content": null,
      "justify_items": null,
      "left": null,
      "margin": null,
      "max_height": null,
      "max_width": null,
      "min_height": null,
      "min_width": null,
      "object_fit": null,
      "object_position": null,
      "order": null,
      "overflow": null,
      "overflow_x": null,
      "overflow_y": null,
      "padding": null,
      "right": null,
      "top": null,
      "visibility": null,
      "width": null
     }
    },
    "b272e2bd14844d4698a87b58d8e11f4a": {
     "model_module": "@jupyter-widgets/controls",
     "model_module_version": "1.5.0",
     "model_name": "HTMLModel",
     "state": {
      "_dom_classes": [],
      "_model_module": "@jupyter-widgets/controls",
      "_model_module_version": "1.5.0",
      "_model_name": "HTMLModel",
      "_view_count": null,
      "_view_module": "@jupyter-widgets/controls",
      "_view_module_version": "1.5.0",
      "_view_name": "HTMLView",
      "description": "",
      "description_tooltip": null,
      "layout": "IPY_MODEL_0bdd3c43f8934c0dad45b424f82b8547",
      "placeholder": "​",
      "style": "IPY_MODEL_eca6efe5323e460f957eb0728c869122",
      "value": "100%"
     }
    },
    "b280d16336ce4cca95c8577025fd4764": {
     "model_module": "@jupyter-widgets/controls",
     "model_module_version": "1.5.0",
     "model_name": "ProgressStyleModel",
     "state": {
      "_model_module": "@jupyter-widgets/controls",
      "_model_module_version": "1.5.0",
      "_model_name": "ProgressStyleModel",
      "_view_count": null,
      "_view_module": "@jupyter-widgets/base",
      "_view_module_version": "1.2.0",
      "_view_name": "StyleView",
      "bar_color": null,
      "description_width": "initial"
     }
    },
    "b34af14010c34fc19db828708389a196": {
     "model_module": "@jupyter-widgets/base",
     "model_module_version": "1.2.0",
     "model_name": "LayoutModel",
     "state": {
      "_model_module": "@jupyter-widgets/base",
      "_model_module_version": "1.2.0",
      "_model_name": "LayoutModel",
      "_view_count": null,
      "_view_module": "@jupyter-widgets/base",
      "_view_module_version": "1.2.0",
      "_view_name": "LayoutView",
      "align_content": null,
      "align_items": null,
      "align_self": null,
      "border": null,
      "bottom": null,
      "display": null,
      "flex": null,
      "flex_flow": null,
      "grid_area": null,
      "grid_auto_columns": null,
      "grid_auto_flow": null,
      "grid_auto_rows": null,
      "grid_column": null,
      "grid_gap": null,
      "grid_row": null,
      "grid_template_areas": null,
      "grid_template_columns": null,
      "grid_template_rows": null,
      "height": null,
      "justify_content": null,
      "justify_items": null,
      "left": null,
      "margin": null,
      "max_height": null,
      "max_width": null,
      "min_height": null,
      "min_width": null,
      "object_fit": null,
      "object_position": null,
      "order": null,
      "overflow": null,
      "overflow_x": null,
      "overflow_y": null,
      "padding": null,
      "right": null,
      "top": null,
      "visibility": null,
      "width": null
     }
    },
    "b5c6c623c0114078bcabec93f8e2603a": {
     "model_module": "@jupyter-widgets/base",
     "model_module_version": "1.2.0",
     "model_name": "LayoutModel",
     "state": {
      "_model_module": "@jupyter-widgets/base",
      "_model_module_version": "1.2.0",
      "_model_name": "LayoutModel",
      "_view_count": null,
      "_view_module": "@jupyter-widgets/base",
      "_view_module_version": "1.2.0",
      "_view_name": "LayoutView",
      "align_content": null,
      "align_items": null,
      "align_self": null,
      "border": null,
      "bottom": null,
      "display": null,
      "flex": null,
      "flex_flow": null,
      "grid_area": null,
      "grid_auto_columns": null,
      "grid_auto_flow": null,
      "grid_auto_rows": null,
      "grid_column": null,
      "grid_gap": null,
      "grid_row": null,
      "grid_template_areas": null,
      "grid_template_columns": null,
      "grid_template_rows": null,
      "height": null,
      "justify_content": null,
      "justify_items": null,
      "left": null,
      "margin": null,
      "max_height": null,
      "max_width": null,
      "min_height": null,
      "min_width": null,
      "object_fit": null,
      "object_position": null,
      "order": null,
      "overflow": null,
      "overflow_x": null,
      "overflow_y": null,
      "padding": null,
      "right": null,
      "top": null,
      "visibility": null,
      "width": null
     }
    },
    "b6bb9113a8154ee881f8651460b59676": {
     "model_module": "@jupyter-widgets/controls",
     "model_module_version": "1.5.0",
     "model_name": "FloatProgressModel",
     "state": {
      "_dom_classes": [],
      "_model_module": "@jupyter-widgets/controls",
      "_model_module_version": "1.5.0",
      "_model_name": "FloatProgressModel",
      "_view_count": null,
      "_view_module": "@jupyter-widgets/controls",
      "_view_module_version": "1.5.0",
      "_view_name": "ProgressView",
      "bar_style": "success",
      "description": "",
      "description_tooltip": null,
      "layout": "IPY_MODEL_94d90f1cc58e4a07ae9b2af8773f8728",
      "max": 1562,
      "min": 0,
      "orientation": "horizontal",
      "style": "IPY_MODEL_504e3a6ec38c45ba80ff394f64f8ff51",
      "value": 1562
     }
    },
    "b7af7737c23248309a362885e9b9fe0b": {
     "model_module": "@jupyter-widgets/base",
     "model_module_version": "1.2.0",
     "model_name": "LayoutModel",
     "state": {
      "_model_module": "@jupyter-widgets/base",
      "_model_module_version": "1.2.0",
      "_model_name": "LayoutModel",
      "_view_count": null,
      "_view_module": "@jupyter-widgets/base",
      "_view_module_version": "1.2.0",
      "_view_name": "LayoutView",
      "align_content": null,
      "align_items": null,
      "align_self": null,
      "border": null,
      "bottom": null,
      "display": null,
      "flex": null,
      "flex_flow": null,
      "grid_area": null,
      "grid_auto_columns": null,
      "grid_auto_flow": null,
      "grid_auto_rows": null,
      "grid_column": null,
      "grid_gap": null,
      "grid_row": null,
      "grid_template_areas": null,
      "grid_template_columns": null,
      "grid_template_rows": null,
      "height": null,
      "justify_content": null,
      "justify_items": null,
      "left": null,
      "margin": null,
      "max_height": null,
      "max_width": null,
      "min_height": null,
      "min_width": null,
      "object_fit": null,
      "object_position": null,
      "order": null,
      "overflow": null,
      "overflow_x": null,
      "overflow_y": null,
      "padding": null,
      "right": null,
      "top": null,
      "visibility": null,
      "width": null
     }
    },
    "b891b8a8b07b4b88b6d0dda55ccab66b": {
     "model_module": "@jupyter-widgets/controls",
     "model_module_version": "1.5.0",
     "model_name": "HTMLModel",
     "state": {
      "_dom_classes": [],
      "_model_module": "@jupyter-widgets/controls",
      "_model_module_version": "1.5.0",
      "_model_name": "HTMLModel",
      "_view_count": null,
      "_view_module": "@jupyter-widgets/controls",
      "_view_module_version": "1.5.0",
      "_view_name": "HTMLView",
      "description": "",
      "description_tooltip": null,
      "layout": "IPY_MODEL_8e7f210188f44d7b8f6a65b930abe563",
      "placeholder": "​",
      "style": "IPY_MODEL_947766db621a4ff0869f6d44e23b68af",
      "value": " 535/535 [00:00&lt;00:00, 5.04kB/s]"
     }
    },
    "b93ac0ee773043308e8615f482ab1689": {
     "model_module": "@jupyter-widgets/base",
     "model_module_version": "1.2.0",
     "model_name": "LayoutModel",
     "state": {
      "_model_module": "@jupyter-widgets/base",
      "_model_module_version": "1.2.0",
      "_model_name": "LayoutModel",
      "_view_count": null,
      "_view_module": "@jupyter-widgets/base",
      "_view_module_version": "1.2.0",
      "_view_name": "LayoutView",
      "align_content": null,
      "align_items": null,
      "align_self": null,
      "border": null,
      "bottom": null,
      "display": null,
      "flex": null,
      "flex_flow": null,
      "grid_area": null,
      "grid_auto_columns": null,
      "grid_auto_flow": null,
      "grid_auto_rows": null,
      "grid_column": null,
      "grid_gap": null,
      "grid_row": null,
      "grid_template_areas": null,
      "grid_template_columns": null,
      "grid_template_rows": null,
      "height": null,
      "justify_content": null,
      "justify_items": null,
      "left": null,
      "margin": null,
      "max_height": null,
      "max_width": null,
      "min_height": null,
      "min_width": null,
      "object_fit": null,
      "object_position": null,
      "order": null,
      "overflow": null,
      "overflow_x": null,
      "overflow_y": null,
      "padding": null,
      "right": null,
      "top": null,
      "visibility": null,
      "width": null
     }
    },
    "ba879b3bdd0b44329aec961c5d62a4c5": {
     "model_module": "@jupyter-widgets/base",
     "model_module_version": "1.2.0",
     "model_name": "LayoutModel",
     "state": {
      "_model_module": "@jupyter-widgets/base",
      "_model_module_version": "1.2.0",
      "_model_name": "LayoutModel",
      "_view_count": null,
      "_view_module": "@jupyter-widgets/base",
      "_view_module_version": "1.2.0",
      "_view_name": "LayoutView",
      "align_content": null,
      "align_items": null,
      "align_self": null,
      "border": null,
      "bottom": null,
      "display": null,
      "flex": null,
      "flex_flow": null,
      "grid_area": null,
      "grid_auto_columns": null,
      "grid_auto_flow": null,
      "grid_auto_rows": null,
      "grid_column": null,
      "grid_gap": null,
      "grid_row": null,
      "grid_template_areas": null,
      "grid_template_columns": null,
      "grid_template_rows": null,
      "height": null,
      "justify_content": null,
      "justify_items": null,
      "left": null,
      "margin": null,
      "max_height": null,
      "max_width": null,
      "min_height": null,
      "min_width": null,
      "object_fit": null,
      "object_position": null,
      "order": null,
      "overflow": null,
      "overflow_x": null,
      "overflow_y": null,
      "padding": null,
      "right": null,
      "top": null,
      "visibility": null,
      "width": null
     }
    },
    "bca57f08a63a47b8897dbc4cf7eccae8": {
     "model_module": "@jupyter-widgets/controls",
     "model_module_version": "1.5.0",
     "model_name": "HBoxModel",
     "state": {
      "_dom_classes": [],
      "_model_module": "@jupyter-widgets/controls",
      "_model_module_version": "1.5.0",
      "_model_name": "HBoxModel",
      "_view_count": null,
      "_view_module": "@jupyter-widgets/controls",
      "_view_module_version": "1.5.0",
      "_view_name": "HBoxView",
      "box_style": "",
      "children": [
       "IPY_MODEL_1c8cd3635c674ba1a893a5d9a9846410",
       "IPY_MODEL_0e971f449c674f3a9bf3695799d77300"
      ],
      "layout": "IPY_MODEL_ba879b3bdd0b44329aec961c5d62a4c5"
     }
    },
    "be3c58e652fa4b5fbf5a4f56e215007f": {
     "model_module": "@jupyter-widgets/base",
     "model_module_version": "1.2.0",
     "model_name": "LayoutModel",
     "state": {
      "_model_module": "@jupyter-widgets/base",
      "_model_module_version": "1.2.0",
      "_model_name": "LayoutModel",
      "_view_count": null,
      "_view_module": "@jupyter-widgets/base",
      "_view_module_version": "1.2.0",
      "_view_name": "LayoutView",
      "align_content": null,
      "align_items": null,
      "align_self": null,
      "border": null,
      "bottom": null,
      "display": null,
      "flex": null,
      "flex_flow": null,
      "grid_area": null,
      "grid_auto_columns": null,
      "grid_auto_flow": null,
      "grid_auto_rows": null,
      "grid_column": null,
      "grid_gap": null,
      "grid_row": null,
      "grid_template_areas": null,
      "grid_template_columns": null,
      "grid_template_rows": null,
      "height": null,
      "justify_content": null,
      "justify_items": null,
      "left": null,
      "margin": null,
      "max_height": null,
      "max_width": null,
      "min_height": null,
      "min_width": null,
      "object_fit": null,
      "object_position": null,
      "order": null,
      "overflow": null,
      "overflow_x": null,
      "overflow_y": null,
      "padding": null,
      "right": null,
      "top": null,
      "visibility": null,
      "width": null
     }
    },
    "c31e680698c440e2bcf9d2a0ad7b10ac": {
     "model_module": "@jupyter-widgets/base",
     "model_module_version": "1.2.0",
     "model_name": "LayoutModel",
     "state": {
      "_model_module": "@jupyter-widgets/base",
      "_model_module_version": "1.2.0",
      "_model_name": "LayoutModel",
      "_view_count": null,
      "_view_module": "@jupyter-widgets/base",
      "_view_module_version": "1.2.0",
      "_view_name": "LayoutView",
      "align_content": null,
      "align_items": null,
      "align_self": null,
      "border": null,
      "bottom": null,
      "display": null,
      "flex": null,
      "flex_flow": null,
      "grid_area": null,
      "grid_auto_columns": null,
      "grid_auto_flow": null,
      "grid_auto_rows": null,
      "grid_column": null,
      "grid_gap": null,
      "grid_row": null,
      "grid_template_areas": null,
      "grid_template_columns": null,
      "grid_template_rows": null,
      "height": null,
      "justify_content": null,
      "justify_items": null,
      "left": null,
      "margin": null,
      "max_height": null,
      "max_width": null,
      "min_height": null,
      "min_width": null,
      "object_fit": null,
      "object_position": null,
      "order": null,
      "overflow": null,
      "overflow_x": null,
      "overflow_y": null,
      "padding": null,
      "right": null,
      "top": null,
      "visibility": null,
      "width": null
     }
    },
    "c3d1935d11764b65aa03c1b8abd431cc": {
     "model_module": "@jupyter-widgets/controls",
     "model_module_version": "1.5.0",
     "model_name": "HBoxModel",
     "state": {
      "_dom_classes": [],
      "_model_module": "@jupyter-widgets/controls",
      "_model_module_version": "1.5.0",
      "_model_name": "HBoxModel",
      "_view_count": null,
      "_view_module": "@jupyter-widgets/controls",
      "_view_module_version": "1.5.0",
      "_view_name": "HBoxView",
      "box_style": "",
      "children": [
       "IPY_MODEL_fc3498912378423b856ae47d79a37cc3",
       "IPY_MODEL_7438096ce4f34d1e97d217a9ef53f375"
      ],
      "layout": "IPY_MODEL_56318e1f4b4a41f5bfcd9239ba2442b9"
     }
    },
    "c46dd46b44254074aee0b4344a5cfa3a": {
     "model_module": "@jupyter-widgets/base",
     "model_module_version": "1.2.0",
     "model_name": "LayoutModel",
     "state": {
      "_model_module": "@jupyter-widgets/base",
      "_model_module_version": "1.2.0",
      "_model_name": "LayoutModel",
      "_view_count": null,
      "_view_module": "@jupyter-widgets/base",
      "_view_module_version": "1.2.0",
      "_view_name": "LayoutView",
      "align_content": null,
      "align_items": null,
      "align_self": null,
      "border": null,
      "bottom": null,
      "display": null,
      "flex": null,
      "flex_flow": null,
      "grid_area": null,
      "grid_auto_columns": null,
      "grid_auto_flow": null,
      "grid_auto_rows": null,
      "grid_column": null,
      "grid_gap": null,
      "grid_row": null,
      "grid_template_areas": null,
      "grid_template_columns": null,
      "grid_template_rows": null,
      "height": null,
      "justify_content": null,
      "justify_items": null,
      "left": null,
      "margin": null,
      "max_height": null,
      "max_width": null,
      "min_height": null,
      "min_width": null,
      "object_fit": null,
      "object_position": null,
      "order": null,
      "overflow": null,
      "overflow_x": null,
      "overflow_y": null,
      "padding": null,
      "right": null,
      "top": null,
      "visibility": null,
      "width": null
     }
    },
    "c4e0188a78504385b5e3849f621a2660": {
     "model_module": "@jupyter-widgets/controls",
     "model_module_version": "1.5.0",
     "model_name": "HBoxModel",
     "state": {
      "_dom_classes": [],
      "_model_module": "@jupyter-widgets/controls",
      "_model_module_version": "1.5.0",
      "_model_name": "HBoxModel",
      "_view_count": null,
      "_view_module": "@jupyter-widgets/controls",
      "_view_module_version": "1.5.0",
      "_view_name": "HBoxView",
      "box_style": "",
      "children": [
       "IPY_MODEL_5a0c1ba72f7443858c65d0a7c4e27fa3",
       "IPY_MODEL_e0a34bb58a214bc1b954639600532319"
      ],
      "layout": "IPY_MODEL_1662eecc294843c9b267116e6a9c239f"
     }
    },
    "c4f8258c3eb641409f9f5e09964df278": {
     "model_module": "@jupyter-widgets/controls",
     "model_module_version": "1.5.0",
     "model_name": "HBoxModel",
     "state": {
      "_dom_classes": [],
      "_model_module": "@jupyter-widgets/controls",
      "_model_module_version": "1.5.0",
      "_model_name": "HBoxModel",
      "_view_count": null,
      "_view_module": "@jupyter-widgets/controls",
      "_view_module_version": "1.5.0",
      "_view_name": "HBoxView",
      "box_style": "",
      "children": [
       "IPY_MODEL_e08e5e40fe084369ad98b1c8b29201f4",
       "IPY_MODEL_0d8121b262a84b38bd5ba6a62877feb1",
       "IPY_MODEL_aff498eb17bc4fa3a509350065e46916"
      ],
      "layout": "IPY_MODEL_2b035a6077da46ca8dc94afad8a7b3bf"
     }
    },
    "c6c6aaf73a45402f89cce228bbbbcda1": {
     "model_module": "@jupyter-widgets/base",
     "model_module_version": "1.2.0",
     "model_name": "LayoutModel",
     "state": {
      "_model_module": "@jupyter-widgets/base",
      "_model_module_version": "1.2.0",
      "_model_name": "LayoutModel",
      "_view_count": null,
      "_view_module": "@jupyter-widgets/base",
      "_view_module_version": "1.2.0",
      "_view_name": "LayoutView",
      "align_content": null,
      "align_items": null,
      "align_self": null,
      "border": null,
      "bottom": null,
      "display": null,
      "flex": null,
      "flex_flow": null,
      "grid_area": null,
      "grid_auto_columns": null,
      "grid_auto_flow": null,
      "grid_auto_rows": null,
      "grid_column": null,
      "grid_gap": null,
      "grid_row": null,
      "grid_template_areas": null,
      "grid_template_columns": null,
      "grid_template_rows": null,
      "height": null,
      "justify_content": null,
      "justify_items": null,
      "left": null,
      "margin": null,
      "max_height": null,
      "max_width": null,
      "min_height": null,
      "min_width": null,
      "object_fit": null,
      "object_position": null,
      "order": null,
      "overflow": null,
      "overflow_x": null,
      "overflow_y": null,
      "padding": null,
      "right": null,
      "top": null,
      "visibility": null,
      "width": null
     }
    },
    "c7cba6ab31094e20824306840f79303f": {
     "model_module": "@jupyter-widgets/base",
     "model_module_version": "1.2.0",
     "model_name": "LayoutModel",
     "state": {
      "_model_module": "@jupyter-widgets/base",
      "_model_module_version": "1.2.0",
      "_model_name": "LayoutModel",
      "_view_count": null,
      "_view_module": "@jupyter-widgets/base",
      "_view_module_version": "1.2.0",
      "_view_name": "LayoutView",
      "align_content": null,
      "align_items": null,
      "align_self": null,
      "border": null,
      "bottom": null,
      "display": null,
      "flex": null,
      "flex_flow": null,
      "grid_area": null,
      "grid_auto_columns": null,
      "grid_auto_flow": null,
      "grid_auto_rows": null,
      "grid_column": null,
      "grid_gap": null,
      "grid_row": null,
      "grid_template_areas": null,
      "grid_template_columns": null,
      "grid_template_rows": null,
      "height": null,
      "justify_content": null,
      "justify_items": null,
      "left": null,
      "margin": null,
      "max_height": null,
      "max_width": null,
      "min_height": null,
      "min_width": null,
      "object_fit": null,
      "object_position": null,
      "order": null,
      "overflow": null,
      "overflow_x": null,
      "overflow_y": null,
      "padding": null,
      "right": null,
      "top": null,
      "visibility": null,
      "width": null
     }
    },
    "c89b05684f55439d92e66fb9bd8242f0": {
     "model_module": "@jupyter-widgets/base",
     "model_module_version": "1.2.0",
     "model_name": "LayoutModel",
     "state": {
      "_model_module": "@jupyter-widgets/base",
      "_model_module_version": "1.2.0",
      "_model_name": "LayoutModel",
      "_view_count": null,
      "_view_module": "@jupyter-widgets/base",
      "_view_module_version": "1.2.0",
      "_view_name": "LayoutView",
      "align_content": null,
      "align_items": null,
      "align_self": null,
      "border": null,
      "bottom": null,
      "display": null,
      "flex": null,
      "flex_flow": null,
      "grid_area": null,
      "grid_auto_columns": null,
      "grid_auto_flow": null,
      "grid_auto_rows": null,
      "grid_column": null,
      "grid_gap": null,
      "grid_row": null,
      "grid_template_areas": null,
      "grid_template_columns": null,
      "grid_template_rows": null,
      "height": null,
      "justify_content": null,
      "justify_items": null,
      "left": null,
      "margin": null,
      "max_height": null,
      "max_width": null,
      "min_height": null,
      "min_width": null,
      "object_fit": null,
      "object_position": null,
      "order": null,
      "overflow": null,
      "overflow_x": null,
      "overflow_y": null,
      "padding": null,
      "right": null,
      "top": null,
      "visibility": null,
      "width": null
     }
    },
    "c8a130f37df54acf8e9c36489e483ca4": {
     "model_module": "@jupyter-widgets/controls",
     "model_module_version": "1.5.0",
     "model_name": "DescriptionStyleModel",
     "state": {
      "_model_module": "@jupyter-widgets/controls",
      "_model_module_version": "1.5.0",
      "_model_name": "DescriptionStyleModel",
      "_view_count": null,
      "_view_module": "@jupyter-widgets/base",
      "_view_module_version": "1.2.0",
      "_view_name": "StyleView",
      "description_width": ""
     }
    },
    "cac3d72d95d049a1a5267bcc3fac83c7": {
     "model_module": "@jupyter-widgets/base",
     "model_module_version": "1.2.0",
     "model_name": "LayoutModel",
     "state": {
      "_model_module": "@jupyter-widgets/base",
      "_model_module_version": "1.2.0",
      "_model_name": "LayoutModel",
      "_view_count": null,
      "_view_module": "@jupyter-widgets/base",
      "_view_module_version": "1.2.0",
      "_view_name": "LayoutView",
      "align_content": null,
      "align_items": null,
      "align_self": null,
      "border": null,
      "bottom": null,
      "display": null,
      "flex": null,
      "flex_flow": null,
      "grid_area": null,
      "grid_auto_columns": null,
      "grid_auto_flow": null,
      "grid_auto_rows": null,
      "grid_column": null,
      "grid_gap": null,
      "grid_row": null,
      "grid_template_areas": null,
      "grid_template_columns": null,
      "grid_template_rows": null,
      "height": null,
      "justify_content": null,
      "justify_items": null,
      "left": null,
      "margin": null,
      "max_height": null,
      "max_width": null,
      "min_height": null,
      "min_width": null,
      "object_fit": null,
      "object_position": null,
      "order": null,
      "overflow": null,
      "overflow_x": null,
      "overflow_y": null,
      "padding": null,
      "right": null,
      "top": null,
      "visibility": null,
      "width": null
     }
    },
    "ccab05142c5d4bb5828deab12c4e2ffe": {
     "model_module": "@jupyter-widgets/controls",
     "model_module_version": "1.5.0",
     "model_name": "ProgressStyleModel",
     "state": {
      "_model_module": "@jupyter-widgets/controls",
      "_model_module_version": "1.5.0",
      "_model_name": "ProgressStyleModel",
      "_view_count": null,
      "_view_module": "@jupyter-widgets/base",
      "_view_module_version": "1.2.0",
      "_view_name": "StyleView",
      "bar_color": null,
      "description_width": ""
     }
    },
    "cda3af05d21349dcbecf1b18d2e41788": {
     "model_module": "@jupyter-widgets/base",
     "model_module_version": "1.2.0",
     "model_name": "LayoutModel",
     "state": {
      "_model_module": "@jupyter-widgets/base",
      "_model_module_version": "1.2.0",
      "_model_name": "LayoutModel",
      "_view_count": null,
      "_view_module": "@jupyter-widgets/base",
      "_view_module_version": "1.2.0",
      "_view_name": "LayoutView",
      "align_content": null,
      "align_items": null,
      "align_self": null,
      "border": null,
      "bottom": null,
      "display": null,
      "flex": null,
      "flex_flow": null,
      "grid_area": null,
      "grid_auto_columns": null,
      "grid_auto_flow": null,
      "grid_auto_rows": null,
      "grid_column": null,
      "grid_gap": null,
      "grid_row": null,
      "grid_template_areas": null,
      "grid_template_columns": null,
      "grid_template_rows": null,
      "height": null,
      "justify_content": null,
      "justify_items": null,
      "left": null,
      "margin": null,
      "max_height": null,
      "max_width": null,
      "min_height": null,
      "min_width": null,
      "object_fit": null,
      "object_position": null,
      "order": null,
      "overflow": null,
      "overflow_x": null,
      "overflow_y": null,
      "padding": null,
      "right": null,
      "top": null,
      "visibility": null,
      "width": null
     }
    },
    "ce1cf206122446888c04e38323860dbc": {
     "model_module": "@jupyter-widgets/controls",
     "model_module_version": "1.5.0",
     "model_name": "FloatProgressModel",
     "state": {
      "_dom_classes": [],
      "_model_module": "@jupyter-widgets/controls",
      "_model_module_version": "1.5.0",
      "_model_name": "FloatProgressModel",
      "_view_count": null,
      "_view_module": "@jupyter-widgets/controls",
      "_view_module_version": "1.5.0",
      "_view_name": "ProgressView",
      "bar_style": "success",
      "description": "Downloading: 100%",
      "description_tooltip": null,
      "layout": "IPY_MODEL_1343c8850129492b9f65386320479dcf",
      "max": 23,
      "min": 0,
      "orientation": "horizontal",
      "style": "IPY_MODEL_1824dace1db2480189f2fb64ce2d3d74",
      "value": 23
     }
    },
    "ce32d53e552942b1a32cc4ca6206993b": {
     "model_module": "@jupyter-widgets/controls",
     "model_module_version": "1.5.0",
     "model_name": "FloatProgressModel",
     "state": {
      "_dom_classes": [],
      "_model_module": "@jupyter-widgets/controls",
      "_model_module_version": "1.5.0",
      "_model_name": "FloatProgressModel",
      "_view_count": null,
      "_view_module": "@jupyter-widgets/controls",
      "_view_module_version": "1.5.0",
      "_view_name": "ProgressView",
      "bar_style": "success",
      "description": "",
      "description_tooltip": null,
      "layout": "IPY_MODEL_42d2d262aede4dd588d3eff061965d3c",
      "max": 2,
      "min": 0,
      "orientation": "horizontal",
      "style": "IPY_MODEL_2d94e80403a345428cbdcf1c38ff30ea",
      "value": 2
     }
    },
    "cf524370fb0f44a9bcefe4fa00169015": {
     "model_module": "@jupyter-widgets/controls",
     "model_module_version": "1.5.0",
     "model_name": "HTMLModel",
     "state": {
      "_dom_classes": [],
      "_model_module": "@jupyter-widgets/controls",
      "_model_module_version": "1.5.0",
      "_model_name": "HTMLModel",
      "_view_count": null,
      "_view_module": "@jupyter-widgets/controls",
      "_view_module_version": "1.5.0",
      "_view_name": "HTMLView",
      "description": "",
      "description_tooltip": null,
      "layout": "IPY_MODEL_83fd2cd4161c4d5bafd3b6290f98d14b",
      "placeholder": "​",
      "style": "IPY_MODEL_aa846c8383044771ab3d072d3c628eb4",
      "value": " 2/2 [00:00&lt;00:00, 35.83it/s]"
     }
    },
    "d29034b7bb8944e68cf5cd60687656eb": {
     "model_module": "@jupyter-widgets/controls",
     "model_module_version": "1.5.0",
     "model_name": "HTMLModel",
     "state": {
      "_dom_classes": [],
      "_model_module": "@jupyter-widgets/controls",
      "_model_module_version": "1.5.0",
      "_model_name": "HTMLModel",
      "_view_count": null,
      "_view_module": "@jupyter-widgets/controls",
      "_view_module_version": "1.5.0",
      "_view_name": "HTMLView",
      "description": "",
      "description_tooltip": null,
      "layout": "IPY_MODEL_a6d0ca3153884127ae8d26fa01ffd0da",
      "placeholder": "​",
      "style": "IPY_MODEL_863249661fb9464eb5c1396bf52cad68",
      "value": " 1.93k/1.93k [00:28&lt;00:00, 68.2B/s]"
     }
    },
    "d5e84bc6021746ac834f95b6850e397e": {
     "model_module": "@jupyter-widgets/base",
     "model_module_version": "1.2.0",
     "model_name": "LayoutModel",
     "state": {
      "_model_module": "@jupyter-widgets/base",
      "_model_module_version": "1.2.0",
      "_model_name": "LayoutModel",
      "_view_count": null,
      "_view_module": "@jupyter-widgets/base",
      "_view_module_version": "1.2.0",
      "_view_name": "LayoutView",
      "align_content": null,
      "align_items": null,
      "align_self": null,
      "border": null,
      "bottom": null,
      "display": null,
      "flex": null,
      "flex_flow": null,
      "grid_area": null,
      "grid_auto_columns": null,
      "grid_auto_flow": null,
      "grid_auto_rows": null,
      "grid_column": null,
      "grid_gap": null,
      "grid_row": null,
      "grid_template_areas": null,
      "grid_template_columns": null,
      "grid_template_rows": null,
      "height": null,
      "justify_content": null,
      "justify_items": null,
      "left": null,
      "margin": null,
      "max_height": null,
      "max_width": null,
      "min_height": null,
      "min_width": null,
      "object_fit": null,
      "object_position": null,
      "order": null,
      "overflow": null,
      "overflow_x": null,
      "overflow_y": null,
      "padding": null,
      "right": null,
      "top": null,
      "visibility": null,
      "width": null
     }
    },
    "d604cbae5d454c7d95a1526da7061756": {
     "model_module": "@jupyter-widgets/controls",
     "model_module_version": "1.5.0",
     "model_name": "ProgressStyleModel",
     "state": {
      "_model_module": "@jupyter-widgets/controls",
      "_model_module_version": "1.5.0",
      "_model_name": "ProgressStyleModel",
      "_view_count": null,
      "_view_module": "@jupyter-widgets/base",
      "_view_module_version": "1.2.0",
      "_view_name": "StyleView",
      "bar_color": null,
      "description_width": "initial"
     }
    },
    "d615711c30a7493881baef3a896e16bf": {
     "model_module": "@jupyter-widgets/controls",
     "model_module_version": "1.5.0",
     "model_name": "ProgressStyleModel",
     "state": {
      "_model_module": "@jupyter-widgets/controls",
      "_model_module_version": "1.5.0",
      "_model_name": "ProgressStyleModel",
      "_view_count": null,
      "_view_module": "@jupyter-widgets/base",
      "_view_module_version": "1.2.0",
      "_view_name": "StyleView",
      "bar_color": null,
      "description_width": ""
     }
    },
    "d6a5965fd00145a1bc5a19b777edcfaa": {
     "model_module": "@jupyter-widgets/controls",
     "model_module_version": "1.5.0",
     "model_name": "DescriptionStyleModel",
     "state": {
      "_model_module": "@jupyter-widgets/controls",
      "_model_module_version": "1.5.0",
      "_model_name": "DescriptionStyleModel",
      "_view_count": null,
      "_view_module": "@jupyter-widgets/base",
      "_view_module_version": "1.2.0",
      "_view_name": "StyleView",
      "description_width": ""
     }
    },
    "d6dd1739c20346878e3261cbe4c24a98": {
     "model_module": "@jupyter-widgets/controls",
     "model_module_version": "1.5.0",
     "model_name": "HTMLModel",
     "state": {
      "_dom_classes": [],
      "_model_module": "@jupyter-widgets/controls",
      "_model_module_version": "1.5.0",
      "_model_name": "HTMLModel",
      "_view_count": null,
      "_view_module": "@jupyter-widgets/controls",
      "_view_module_version": "1.5.0",
      "_view_name": "HTMLView",
      "description": "",
      "description_tooltip": null,
      "layout": "IPY_MODEL_f5bbc200eb474c8e838f4106f5bef571",
      "placeholder": "​",
      "style": "IPY_MODEL_fd5e4239c0374f348c4f818e05206a09",
      "value": " 2/2 [00:00&lt;00:00, 45.26it/s]"
     }
    },
    "d927a7c072be4c48ac6fce955d6fdc33": {
     "model_module": "@jupyter-widgets/controls",
     "model_module_version": "1.5.0",
     "model_name": "HTMLModel",
     "state": {
      "_dom_classes": [],
      "_model_module": "@jupyter-widgets/controls",
      "_model_module_version": "1.5.0",
      "_model_name": "HTMLModel",
      "_view_count": null,
      "_view_module": "@jupyter-widgets/controls",
      "_view_module_version": "1.5.0",
      "_view_name": "HTMLView",
      "description": "",
      "description_tooltip": null,
      "layout": "IPY_MODEL_9e06357dce304539a00f3e88a051246d",
      "placeholder": "​",
      "style": "IPY_MODEL_d6a5965fd00145a1bc5a19b777edcfaa",
      "value": "Downloading: 100%"
     }
    },
    "d9e6578f2ae14d73bc81ad5d042565ad": {
     "model_module": "@jupyter-widgets/controls",
     "model_module_version": "1.5.0",
     "model_name": "HTMLModel",
     "state": {
      "_dom_classes": [],
      "_model_module": "@jupyter-widgets/controls",
      "_model_module_version": "1.5.0",
      "_model_name": "HTMLModel",
      "_view_count": null,
      "_view_module": "@jupyter-widgets/controls",
      "_view_module_version": "1.5.0",
      "_view_name": "HTMLView",
      "description": "",
      "description_tooltip": null,
      "layout": "IPY_MODEL_4adafe9def374c22a8bfa0f45d29ce3a",
      "placeholder": "​",
      "style": "IPY_MODEL_39ef6094908742bc9984908f4f2c7567",
      "value": "Downloading: 100%"
     }
    },
    "dae4b191c7a24f1296a72be45254ed17": {
     "model_module": "@jupyter-widgets/controls",
     "model_module_version": "1.5.0",
     "model_name": "FloatProgressModel",
     "state": {
      "_dom_classes": [],
      "_model_module": "@jupyter-widgets/controls",
      "_model_module_version": "1.5.0",
      "_model_name": "FloatProgressModel",
      "_view_count": null,
      "_view_module": "@jupyter-widgets/controls",
      "_view_module_version": "1.5.0",
      "_view_name": "ProgressView",
      "bar_style": "success",
      "description": "Downloading: 100%",
      "description_tooltip": null,
      "layout": "IPY_MODEL_4a87c1f5f89247a08d7c3a905068c6d3",
      "max": 1266153513,
      "min": 0,
      "orientation": "horizontal",
      "style": "IPY_MODEL_1b3d7294af164cb9bf623532b0c57430",
      "value": 1266153513
     }
    },
    "de82d2e144454914a374e81f919e5d28": {
     "model_module": "@jupyter-widgets/base",
     "model_module_version": "1.2.0",
     "model_name": "LayoutModel",
     "state": {
      "_model_module": "@jupyter-widgets/base",
      "_model_module_version": "1.2.0",
      "_model_name": "LayoutModel",
      "_view_count": null,
      "_view_module": "@jupyter-widgets/base",
      "_view_module_version": "1.2.0",
      "_view_name": "LayoutView",
      "align_content": null,
      "align_items": null,
      "align_self": null,
      "border": null,
      "bottom": null,
      "display": null,
      "flex": null,
      "flex_flow": null,
      "grid_area": null,
      "grid_auto_columns": null,
      "grid_auto_flow": null,
      "grid_auto_rows": null,
      "grid_column": null,
      "grid_gap": null,
      "grid_row": null,
      "grid_template_areas": null,
      "grid_template_columns": null,
      "grid_template_rows": null,
      "height": null,
      "justify_content": null,
      "justify_items": null,
      "left": null,
      "margin": null,
      "max_height": null,
      "max_width": null,
      "min_height": null,
      "min_width": null,
      "object_fit": null,
      "object_position": null,
      "order": null,
      "overflow": null,
      "overflow_x": null,
      "overflow_y": null,
      "padding": null,
      "right": null,
      "top": null,
      "visibility": null,
      "width": null
     }
    },
    "df988cc1226d411e9b45c00430508207": {
     "model_module": "@jupyter-widgets/base",
     "model_module_version": "1.2.0",
     "model_name": "LayoutModel",
     "state": {
      "_model_module": "@jupyter-widgets/base",
      "_model_module_version": "1.2.0",
      "_model_name": "LayoutModel",
      "_view_count": null,
      "_view_module": "@jupyter-widgets/base",
      "_view_module_version": "1.2.0",
      "_view_name": "LayoutView",
      "align_content": null,
      "align_items": null,
      "align_self": null,
      "border": null,
      "bottom": null,
      "display": null,
      "flex": null,
      "flex_flow": null,
      "grid_area": null,
      "grid_auto_columns": null,
      "grid_auto_flow": null,
      "grid_auto_rows": null,
      "grid_column": null,
      "grid_gap": null,
      "grid_row": null,
      "grid_template_areas": null,
      "grid_template_columns": null,
      "grid_template_rows": null,
      "height": null,
      "justify_content": null,
      "justify_items": null,
      "left": null,
      "margin": null,
      "max_height": null,
      "max_width": null,
      "min_height": null,
      "min_width": null,
      "object_fit": null,
      "object_position": null,
      "order": null,
      "overflow": null,
      "overflow_x": null,
      "overflow_y": null,
      "padding": null,
      "right": null,
      "top": null,
      "visibility": null,
      "width": null
     }
    },
    "dfa792fb574346f7920fb508103248a2": {
     "model_module": "@jupyter-widgets/controls",
     "model_module_version": "1.5.0",
     "model_name": "DescriptionStyleModel",
     "state": {
      "_model_module": "@jupyter-widgets/controls",
      "_model_module_version": "1.5.0",
      "_model_name": "DescriptionStyleModel",
      "_view_count": null,
      "_view_module": "@jupyter-widgets/base",
      "_view_module_version": "1.2.0",
      "_view_name": "StyleView",
      "description_width": ""
     }
    },
    "e00c64f9820d43a98e6877c5088b287b": {
     "model_module": "@jupyter-widgets/controls",
     "model_module_version": "1.5.0",
     "model_name": "DescriptionStyleModel",
     "state": {
      "_model_module": "@jupyter-widgets/controls",
      "_model_module_version": "1.5.0",
      "_model_name": "DescriptionStyleModel",
      "_view_count": null,
      "_view_module": "@jupyter-widgets/base",
      "_view_module_version": "1.2.0",
      "_view_name": "StyleView",
      "description_width": ""
     }
    },
    "e08e5e40fe084369ad98b1c8b29201f4": {
     "model_module": "@jupyter-widgets/controls",
     "model_module_version": "1.5.0",
     "model_name": "HTMLModel",
     "state": {
      "_dom_classes": [],
      "_model_module": "@jupyter-widgets/controls",
      "_model_module_version": "1.5.0",
      "_model_name": "HTMLModel",
      "_view_count": null,
      "_view_module": "@jupyter-widgets/controls",
      "_view_module_version": "1.5.0",
      "_view_name": "HTMLView",
      "description": "",
      "description_tooltip": null,
      "layout": "IPY_MODEL_246d9f6782234154864a0684bd8ca2f2",
      "placeholder": "​",
      "style": "IPY_MODEL_a4ee7fd34a3045c290ed696b04dbf599",
      "value": "Downloading: 100%"
     }
    },
    "e0a34bb58a214bc1b954639600532319": {
     "model_module": "@jupyter-widgets/controls",
     "model_module_version": "1.5.0",
     "model_name": "HTMLModel",
     "state": {
      "_dom_classes": [],
      "_model_module": "@jupyter-widgets/controls",
      "_model_module_version": "1.5.0",
      "_model_name": "HTMLModel",
      "_view_count": null,
      "_view_module": "@jupyter-widgets/controls",
      "_view_module_version": "1.5.0",
      "_view_name": "HTMLView",
      "description": "",
      "description_tooltip": null,
      "layout": "IPY_MODEL_0fd3649215604be3ae625b375b42a200",
      "placeholder": "​",
      "style": "IPY_MODEL_9c93948f6db741abb93847a7df55d800",
      "value": " 309/309 [00:00&lt;00:00, 2.99kB/s]"
     }
    },
    "e1cf4ee157bd47a280f61d511c5b0f9e": {
     "model_module": "@jupyter-widgets/controls",
     "model_module_version": "1.5.0",
     "model_name": "HTMLModel",
     "state": {
      "_dom_classes": [],
      "_model_module": "@jupyter-widgets/controls",
      "_model_module_version": "1.5.0",
      "_model_name": "HTMLModel",
      "_view_count": null,
      "_view_module": "@jupyter-widgets/controls",
      "_view_module_version": "1.5.0",
      "_view_name": "HTMLView",
      "description": "",
      "description_tooltip": null,
      "layout": "IPY_MODEL_b93ac0ee773043308e8615f482ab1689",
      "placeholder": "​",
      "style": "IPY_MODEL_e00c64f9820d43a98e6877c5088b287b",
      "value": " 1.53k/1.53k [00:00&lt;00:00, 39.8kB/s]"
     }
    },
    "e3b4e0a422184a6f96a724f00eebd3f3": {
     "model_module": "@jupyter-widgets/controls",
     "model_module_version": "1.5.0",
     "model_name": "DescriptionStyleModel",
     "state": {
      "_model_module": "@jupyter-widgets/controls",
      "_model_module_version": "1.5.0",
      "_model_name": "DescriptionStyleModel",
      "_view_count": null,
      "_view_module": "@jupyter-widgets/base",
      "_view_module_version": "1.2.0",
      "_view_name": "StyleView",
      "description_width": ""
     }
    },
    "eca6efe5323e460f957eb0728c869122": {
     "model_module": "@jupyter-widgets/controls",
     "model_module_version": "1.5.0",
     "model_name": "DescriptionStyleModel",
     "state": {
      "_model_module": "@jupyter-widgets/controls",
      "_model_module_version": "1.5.0",
      "_model_name": "DescriptionStyleModel",
      "_view_count": null,
      "_view_module": "@jupyter-widgets/base",
      "_view_module_version": "1.2.0",
      "_view_name": "StyleView",
      "description_width": ""
     }
    },
    "ee8702b9d94c4b869e0601d42df0519c": {
     "model_module": "@jupyter-widgets/base",
     "model_module_version": "1.2.0",
     "model_name": "LayoutModel",
     "state": {
      "_model_module": "@jupyter-widgets/base",
      "_model_module_version": "1.2.0",
      "_model_name": "LayoutModel",
      "_view_count": null,
      "_view_module": "@jupyter-widgets/base",
      "_view_module_version": "1.2.0",
      "_view_name": "LayoutView",
      "align_content": null,
      "align_items": null,
      "align_self": null,
      "border": null,
      "bottom": null,
      "display": null,
      "flex": null,
      "flex_flow": null,
      "grid_area": null,
      "grid_auto_columns": null,
      "grid_auto_flow": null,
      "grid_auto_rows": null,
      "grid_column": null,
      "grid_gap": null,
      "grid_row": null,
      "grid_template_areas": null,
      "grid_template_columns": null,
      "grid_template_rows": null,
      "height": null,
      "justify_content": null,
      "justify_items": null,
      "left": null,
      "margin": null,
      "max_height": null,
      "max_width": null,
      "min_height": null,
      "min_width": null,
      "object_fit": null,
      "object_position": null,
      "order": null,
      "overflow": null,
      "overflow_x": null,
      "overflow_y": null,
      "padding": null,
      "right": null,
      "top": null,
      "visibility": null,
      "width": null
     }
    },
    "ef2247cf25584486b3e6f7fd5bd8c754": {
     "model_module": "@jupyter-widgets/controls",
     "model_module_version": "1.5.0",
     "model_name": "HTMLModel",
     "state": {
      "_dom_classes": [],
      "_model_module": "@jupyter-widgets/controls",
      "_model_module_version": "1.5.0",
      "_model_name": "HTMLModel",
      "_view_count": null,
      "_view_module": "@jupyter-widgets/controls",
      "_view_module_version": "1.5.0",
      "_view_name": "HTMLView",
      "description": "",
      "description_tooltip": null,
      "layout": "IPY_MODEL_f333b755188f4c5db4a013eb3d925229",
      "placeholder": "​",
      "style": "IPY_MODEL_3bf30dcb727a45f496f3ecce705a93b2",
      "value": " 1.27G/1.27G [00:25&lt;00:00, 49.8MB/s]"
     }
    },
    "f0679d95ad024c0298eff54e66101cd0": {
     "model_module": "@jupyter-widgets/controls",
     "model_module_version": "1.5.0",
     "model_name": "DescriptionStyleModel",
     "state": {
      "_model_module": "@jupyter-widgets/controls",
      "_model_module_version": "1.5.0",
      "_model_name": "DescriptionStyleModel",
      "_view_count": null,
      "_view_module": "@jupyter-widgets/base",
      "_view_module_version": "1.2.0",
      "_view_name": "StyleView",
      "description_width": ""
     }
    },
    "f06d687a08cc4b9ba7aa738ff475e928": {
     "model_module": "@jupyter-widgets/controls",
     "model_module_version": "1.5.0",
     "model_name": "DescriptionStyleModel",
     "state": {
      "_model_module": "@jupyter-widgets/controls",
      "_model_module_version": "1.5.0",
      "_model_name": "DescriptionStyleModel",
      "_view_count": null,
      "_view_module": "@jupyter-widgets/base",
      "_view_module_version": "1.2.0",
      "_view_name": "StyleView",
      "description_width": ""
     }
    },
    "f333b755188f4c5db4a013eb3d925229": {
     "model_module": "@jupyter-widgets/base",
     "model_module_version": "1.2.0",
     "model_name": "LayoutModel",
     "state": {
      "_model_module": "@jupyter-widgets/base",
      "_model_module_version": "1.2.0",
      "_model_name": "LayoutModel",
      "_view_count": null,
      "_view_module": "@jupyter-widgets/base",
      "_view_module_version": "1.2.0",
      "_view_name": "LayoutView",
      "align_content": null,
      "align_items": null,
      "align_self": null,
      "border": null,
      "bottom": null,
      "display": null,
      "flex": null,
      "flex_flow": null,
      "grid_area": null,
      "grid_auto_columns": null,
      "grid_auto_flow": null,
      "grid_auto_rows": null,
      "grid_column": null,
      "grid_gap": null,
      "grid_row": null,
      "grid_template_areas": null,
      "grid_template_columns": null,
      "grid_template_rows": null,
      "height": null,
      "justify_content": null,
      "justify_items": null,
      "left": null,
      "margin": null,
      "max_height": null,
      "max_width": null,
      "min_height": null,
      "min_width": null,
      "object_fit": null,
      "object_position": null,
      "order": null,
      "overflow": null,
      "overflow_x": null,
      "overflow_y": null,
      "padding": null,
      "right": null,
      "top": null,
      "visibility": null,
      "width": null
     }
    },
    "f4f5ab54359f4038b835a05ce42d33f3": {
     "model_module": "@jupyter-widgets/base",
     "model_module_version": "1.2.0",
     "model_name": "LayoutModel",
     "state": {
      "_model_module": "@jupyter-widgets/base",
      "_model_module_version": "1.2.0",
      "_model_name": "LayoutModel",
      "_view_count": null,
      "_view_module": "@jupyter-widgets/base",
      "_view_module_version": "1.2.0",
      "_view_name": "LayoutView",
      "align_content": null,
      "align_items": null,
      "align_self": null,
      "border": null,
      "bottom": null,
      "display": null,
      "flex": null,
      "flex_flow": null,
      "grid_area": null,
      "grid_auto_columns": null,
      "grid_auto_flow": null,
      "grid_auto_rows": null,
      "grid_column": null,
      "grid_gap": null,
      "grid_row": null,
      "grid_template_areas": null,
      "grid_template_columns": null,
      "grid_template_rows": null,
      "height": null,
      "justify_content": null,
      "justify_items": null,
      "left": null,
      "margin": null,
      "max_height": null,
      "max_width": null,
      "min_height": null,
      "min_width": null,
      "object_fit": null,
      "object_position": null,
      "order": null,
      "overflow": null,
      "overflow_x": null,
      "overflow_y": null,
      "padding": null,
      "right": null,
      "top": null,
      "visibility": null,
      "width": null
     }
    },
    "f5bbc200eb474c8e838f4106f5bef571": {
     "model_module": "@jupyter-widgets/base",
     "model_module_version": "1.2.0",
     "model_name": "LayoutModel",
     "state": {
      "_model_module": "@jupyter-widgets/base",
      "_model_module_version": "1.2.0",
      "_model_name": "LayoutModel",
      "_view_count": null,
      "_view_module": "@jupyter-widgets/base",
      "_view_module_version": "1.2.0",
      "_view_name": "LayoutView",
      "align_content": null,
      "align_items": null,
      "align_self": null,
      "border": null,
      "bottom": null,
      "display": null,
      "flex": null,
      "flex_flow": null,
      "grid_area": null,
      "grid_auto_columns": null,
      "grid_auto_flow": null,
      "grid_auto_rows": null,
      "grid_column": null,
      "grid_gap": null,
      "grid_row": null,
      "grid_template_areas": null,
      "grid_template_columns": null,
      "grid_template_rows": null,
      "height": null,
      "justify_content": null,
      "justify_items": null,
      "left": null,
      "margin": null,
      "max_height": null,
      "max_width": null,
      "min_height": null,
      "min_width": null,
      "object_fit": null,
      "object_position": null,
      "order": null,
      "overflow": null,
      "overflow_x": null,
      "overflow_y": null,
      "padding": null,
      "right": null,
      "top": null,
      "visibility": null,
      "width": null
     }
    },
    "f6b43a956dcc41868570019068d571bc": {
     "model_module": "@jupyter-widgets/base",
     "model_module_version": "1.2.0",
     "model_name": "LayoutModel",
     "state": {
      "_model_module": "@jupyter-widgets/base",
      "_model_module_version": "1.2.0",
      "_model_name": "LayoutModel",
      "_view_count": null,
      "_view_module": "@jupyter-widgets/base",
      "_view_module_version": "1.2.0",
      "_view_name": "LayoutView",
      "align_content": null,
      "align_items": null,
      "align_self": null,
      "border": null,
      "bottom": null,
      "display": null,
      "flex": null,
      "flex_flow": null,
      "grid_area": null,
      "grid_auto_columns": null,
      "grid_auto_flow": null,
      "grid_auto_rows": null,
      "grid_column": null,
      "grid_gap": null,
      "grid_row": null,
      "grid_template_areas": null,
      "grid_template_columns": null,
      "grid_template_rows": null,
      "height": null,
      "justify_content": null,
      "justify_items": null,
      "left": null,
      "margin": null,
      "max_height": null,
      "max_width": null,
      "min_height": null,
      "min_width": null,
      "object_fit": null,
      "object_position": null,
      "order": null,
      "overflow": null,
      "overflow_x": null,
      "overflow_y": null,
      "padding": null,
      "right": null,
      "top": null,
      "visibility": null,
      "width": null
     }
    },
    "fbda753f79544148b6e8763f03e5bc9e": {
     "model_module": "@jupyter-widgets/controls",
     "model_module_version": "1.5.0",
     "model_name": "HTMLModel",
     "state": {
      "_dom_classes": [],
      "_model_module": "@jupyter-widgets/controls",
      "_model_module_version": "1.5.0",
      "_model_name": "HTMLModel",
      "_view_count": null,
      "_view_module": "@jupyter-widgets/controls",
      "_view_module_version": "1.5.0",
      "_view_name": "HTMLView",
      "description": "",
      "description_tooltip": null,
      "layout": "IPY_MODEL_be3c58e652fa4b5fbf5a4f56e215007f",
      "placeholder": "​",
      "style": "IPY_MODEL_dfa792fb574346f7920fb508103248a2",
      "value": " 2/2 [00:00&lt;00:00, 30.18it/s]"
     }
    },
    "fc3498912378423b856ae47d79a37cc3": {
     "model_module": "@jupyter-widgets/controls",
     "model_module_version": "1.5.0",
     "model_name": "FloatProgressModel",
     "state": {
      "_dom_classes": [],
      "_model_module": "@jupyter-widgets/controls",
      "_model_module_version": "1.5.0",
      "_model_name": "FloatProgressModel",
      "_view_count": null,
      "_view_module": "@jupyter-widgets/controls",
      "_view_module_version": "1.5.0",
      "_view_name": "ProgressView",
      "bar_style": "success",
      "description": "100%",
      "description_tooltip": null,
      "layout": "IPY_MODEL_92636f7a713147e19a5a7af33a654db0",
      "max": 121,
      "min": 0,
      "orientation": "horizontal",
      "style": "IPY_MODEL_66120bcdfe194074b51c204be44a6bf5",
      "value": 121
     }
    },
    "fd5e4239c0374f348c4f818e05206a09": {
     "model_module": "@jupyter-widgets/controls",
     "model_module_version": "1.5.0",
     "model_name": "DescriptionStyleModel",
     "state": {
      "_model_module": "@jupyter-widgets/controls",
      "_model_module_version": "1.5.0",
      "_model_name": "DescriptionStyleModel",
      "_view_count": null,
      "_view_module": "@jupyter-widgets/base",
      "_view_module_version": "1.2.0",
      "_view_name": "StyleView",
      "description_width": ""
     }
    }
   }
  }
 },
 "nbformat": 4,
 "nbformat_minor": 4
}
