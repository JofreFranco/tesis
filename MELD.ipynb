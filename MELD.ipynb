{
 "metadata": {
  "language_info": {
   "codemirror_mode": {
    "name": "ipython",
    "version": 3
   },
   "file_extension": ".py",
   "mimetype": "text/x-python",
   "name": "python",
   "nbconvert_exporter": "python",
   "pygments_lexer": "ipython3",
   "version": 3
  },
  "orig_nbformat": 2
 },
 "nbformat": 4,
 "nbformat_minor": 2,
 "cells": [
  {
   "source": [
    "### IMPORTS"
   ],
   "cell_type": "markdown",
   "metadata": {}
  },
  {
   "cell_type": "code",
   "execution_count": null,
   "metadata": {},
   "outputs": [],
   "source": [
    "import csv\n",
    "import subprocess\n",
    "import glob\n",
    "import os"
   ]
  },
  {
   "source": [
    "#### Constantes"
   ],
   "cell_type": "markdown",
   "metadata": {}
  },
  {
   "cell_type": "code",
   "execution_count": null,
   "metadata": {},
   "outputs": [],
   "source": [
    "FILES_DIRECTORY = \"/home/francoj/Descargas/MELD.Raw/train_splits/\"\n",
    "CSV_FILE = \"/home/francoj/Descargas/MELD.Raw/train_sent_emo.csv\"\n",
    "DESTINATION_DIRECTORY = (\n",
    "    \"/home/francoj/Documentos/Reconocimiento de emociones/tesis/Data/MELD3/\"\n",
    ")"
   ]
  },
  {
   "source": [
    "#### Proceso"
   ],
   "cell_type": "markdown",
   "metadata": {}
  },
  {
   "cell_type": "code",
   "execution_count": null,
   "metadata": {},
   "outputs": [],
   "source": [
    "with open(CSV_FILE, \"r\") as csv_file:\n",
    "    csv_reader = csv.reader(csv_file)\n",
    "    header = next(csv_reader)\n",
    "\n",
    "    for row in csv_reader:\n",
    "        emotion = row[3]\n",
    "        utt = row[6]\n",
    "        diag = row[5]\n",
    "\n",
    "        mp4_name = f\"dia{diag}_utt{utt}.mp4\"\n",
    "        mp3_name = f\"dia{diag}_utt{utt}_{emotion}.mp3\"\n",
    "        mp4_path = os.path.join(FILES_DIRECTORY, mp4_name)\n",
    "        mp3_path = os.path.join(DESTINATION_DIRECTORY, mp3_name)\n",
    "\n",
    "        command = f\"ffmpeg -i {mp4_path} {mp3_path}\"\n",
    "\n",
    "        completed = subprocess.run(command, shell=True)"
   ]
  },
  {
   "source": [
    "#### Lista de emociones"
   ],
   "cell_type": "markdown",
   "metadata": {}
  },
  {
   "cell_type": "code",
   "execution_count": null,
   "metadata": {},
   "outputs": [],
   "source": [
    "emotions = dict()\n",
    "for file in os.listdir(DESTINATION_DIRECTORY):\n",
    "    emotion = file.split(\"_\")[2].replace(\".mp3\", \"\")\n",
    "    if emotion in emotions:\n",
    "        emotions[emotion] = emotions[emotion] + 1\n",
    "    else:\n",
    "        emotions[emotion] = 1\n",
    "\n",
    "print(emotions)"
   ]
  }
 ]
}