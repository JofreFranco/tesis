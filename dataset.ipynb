{
 "metadata": {
  "language_info": {
   "codemirror_mode": {
    "name": "ipython",
    "version": 3
   },
   "file_extension": ".py",
   "mimetype": "text/x-python",
   "name": "python",
   "nbconvert_exporter": "python",
   "pygments_lexer": "ipython3",
   "version": "3.8.7-final"
  },
  "orig_nbformat": 2,
  "kernelspec": {
   "name": "python38764bitpyenv389060af4eb43a4d22820780620fff68d6",
   "display_name": "Python 3.8.7 64-bit ('.PyEnv38')"
  }
 },
 "nbformat": 4,
 "nbformat_minor": 2,
 "cells": [
  {
   "source": [
    "### Prepocesamiento y preparación del dataset.\n",
    "\n",
    "En primer lugar los audios se convierten a formato mp3 para que estén igual a las grabaciones del call center. Después se aplica un filtro de 300 a 3300 Hz porque es el rango de frecuencias en el que trabajan los codecs de audio más utilizados para telefonía IP. Por último, a los audios se les calcula el los features.\n",
    "Los casos positivos se incrementan agregando ruido y desplazándolos en tiempo."
   ],
   "cell_type": "markdown",
   "metadata": {}
  },
  {
   "source": [
    "#### Imports"
   ],
   "cell_type": "markdown",
   "metadata": {}
  },
  {
   "cell_type": "code",
   "execution_count": 20,
   "metadata": {},
   "outputs": [],
   "source": [
    "import os\n",
    "import glob\n",
    "import random\n",
    "import numpy as np\n",
    "import statistics\n",
    "import librosa\n",
    "from sklearn.model_selection import train_test_split\n",
    "from database import Database\n",
    "from audio_process import Augmenter, TimeStretcher, PitchShifter, Reverberator, Distorter, feature_extraction\n",
    "import re\n",
    "import pandas as pd"
   ]
  },
  {
   "source": [
    "#### Armado del dataset completo\n",
    "\n",
    "- Se eliminan los audios de menos de 1 segundo"
   ],
   "cell_type": "markdown",
   "metadata": {}
  },
  {
   "cell_type": "code",
   "execution_count": 2,
   "metadata": {},
   "outputs": [],
   "source": [
    "\n",
    "def process_dataset(collection_name, directory, name, n_mfcc, n_start, augment=True ):\n",
    "    db = Database(collection_name)\n",
    "    f0min = 300\n",
    "    f0max = 3300\n",
    "    directory = directory + '*.mp3'\n",
    "    print(directory)\n",
    "    files = glob.glob(directory)\n",
    "    anger = 0\n",
    "    files = files[n_start :]\n",
    "    try:\n",
    "        for n, path in enumerate(files):\n",
    "            if n % 1000 == 0:\n",
    "                print(n)\n",
    "\n",
    "            file_name = os.path.basename(path)\n",
    "            file_name = file_name.replace(\"-\", \"_\")\n",
    "            in_db = db.select_by_id(file_name, like=True)\n",
    "            if in_db:\n",
    "                continue\n",
    "            emotion = file_name.split('_')[2]\n",
    "            file_name = f'{name}_{file_name}'\n",
    "            if emotion == '05' or emotion == 'anger.mp3' or emotion =='ANG':\n",
    "                emotion = 1\n",
    "                anger = anger + 1\n",
    "            else:\n",
    "                emotion = 0\n",
    "            \n",
    "            audio, sr = librosa.load_mp3(path)\n",
    "            if len(list(audio))/sr < 0.5:\n",
    "                    continue\n",
    "            features = feature_extraction(audio, sr, f0min, f0max, n_mfcc, unit=\"Hertz\" )\n",
    "            if features != 'skip':\n",
    "                 db.post(file_name, emotion, features, augmentation='')\n",
    "            processors = [Distorter(), TimeStretcher(), PitchShifter(), Reverberator()]\n",
    "            names = ['clipping', 'time_stretch', 'pitch_shift', 'reverb']\n",
    "            augmenter = Augmenter(processors)\n",
    "            augmented_audios = augmenter.augment(audio, sr)\n",
    "            for audio, aug in zip(augmented_audios, names):\n",
    "                features = feature_extraction(audio, sr, f0min, f0max, n_mfcc, unit=\"Hertz\" )\n",
    "                if features != 'skip':\n",
    "                    db.post(file_name, emotion, features, augmentation=aug)\n",
    "                else:\n",
    "                    print(features)\n",
    "    except Exception as e:\n",
    "        print(path)\n",
    "        raise(e)\n"
   ]
  },
  {
   "cell_type": "code",
   "execution_count": 3,
   "metadata": {},
   "outputs": [
    {
     "output_type": "stream",
     "name": "stdout",
     "text": [
      "IEMOCAP/*.mp3\n"
     ]
    }
   ],
   "source": [
    "Meld = \"Data/Meld/*/\"\n",
    "Enterface = \"Data/Enterface/*/\"\n",
    "Crema = \"Data/CREMA-D/\"\n",
    "IEMOCAP = \"Data/IEMOCAP/\"\n",
    "datasets= [Meld, Enterface, Crema, IEMOCAP]\n",
    "names = ['Meld', 'Enterface', 'Crema', 'IEMOCAP']\n",
    "process_dataset('IEMOCAP', 'IEMOCAP/', 'iemocap', 16, 0 )\n"
   ]
  },
  {
   "cell_type": "code",
   "execution_count": 14,
   "metadata": {},
   "outputs": [
    {
     "output_type": "stream",
     "name": "stdout",
     "text": [
      "positives_no_aug: 1074\nnegatives_no_aug: 8608\npostives_aug: 4296\nnegatives_aug: 34428\nTotal_positives: 5370\nTotal_negatives: 43036\n"
     ]
    }
   ],
   "source": [
    "db = Database('Meld')\n",
    "db.print_balance()"
   ]
  },
  {
   "cell_type": "code",
   "execution_count": 6,
   "metadata": {},
   "outputs": [
    {
     "output_type": "stream",
     "name": "stdout",
     "text": [
      "0\n"
     ]
    }
   ],
   "source": [
    "# db = Database(\"Meld\")\n",
    "# rgx = re.compile(\"Enterface_.._.._05.*\")\n",
    "# result = db.collection.find({\"_id\": rgx})\n",
    "# for r in result:\n",
    "#     id = r[\"_id\"]\n",
    "#     r[\"label\"] = 1\n",
    "#     db.collection.update_one({\"_id\": id}, {\"$set\": r})\n",
    "# rgx = re.compile(\"Enterface.*\")\n",
    "# result = db.collection.find({\"_id\": rgx, \"label\": 1})\n",
    "# print(len(list(result)))\n",
    "\n",
    "rgx = re.compile(\"Meld_.*_anger.*\")\n",
    "result = db.collection.find({\"_id\": rgx})\n",
    "for r in result:\n",
    "    id = r[\"_id\"]\n",
    "    r[\"label\"] = 1\n",
    "    db.collection.update_one({\"_id\": id}, {\"$set\": r})\n",
    "rgx = re.compile(\"Meld.*\")\n",
    "result = db.collection.find({\"_id\": rgx, \"label\": 1})\n",
    "print(len(list(result)))\n",
    "\n",
    "# rgx = re.compile(\"Crema_.*_ANG.*\")\n",
    "# result = db.collection.find({\"_id\": rgx})\n",
    "# for r in result:\n",
    "#     id = r[\"_id\"]\n",
    "#     r[\"label\"] = 1\n",
    "#     db.collection.update_one({\"_id\": id}, {\"$set\": r})\n",
    "# rgx = re.compile(\"Crema.*\")\n",
    "# result = db.collection.find({\"_id\": rgx, \"label\": 1})\n",
    "# print(len(list(result)))\n",
    "\n",
    "\n"
   ]
  },
  {
   "cell_type": "code",
   "execution_count": null,
   "metadata": {},
   "outputs": [],
   "source": [
    "iemocap_Ses01M_script03_2_F031_ang.mp3_"
   ]
  },
  {
   "cell_type": "code",
   "execution_count": 9,
   "metadata": {},
   "outputs": [
    {
     "output_type": "stream",
     "name": "stdout",
     "text": [
      "0\n"
     ]
    }
   ],
   "source": [
    "db = Database('IEMOCAP')\n",
    "rgx = re.compile(\"iemocap_.*_ang.*\")\n",
    "result = db.collection.find({\"_id\": rgx})\n",
    "for r in result:\n",
    "    id = r[\"_id\"]\n",
    "    r[\"label\"] = 1\n",
    "    db.collection.update_one({\"_id\": id}, {\"$set\": r})\n",
    "rgx = re.compile(\"IEMOCAP.*\")\n",
    "result = db.collection.find({\"_id\": rgx, \"label\": 1})\n",
    "print(len(list(result)))"
   ]
  },
  {
   "cell_type": "code",
   "execution_count": 16,
   "metadata": {},
   "outputs": [
    {
     "output_type": "stream",
     "name": "stdout",
     "text": [
      "positives_no_aug: 1074\nnegatives_no_aug: 8608\npostives_aug: 4296\nnegatives_aug: 34428\nTotal_positives: 5370\nTotal_negatives: 43036\n"
     ]
    }
   ],
   "source": [
    "db.print_balance()"
   ]
  },
  {
   "cell_type": "code",
   "execution_count": 15,
   "metadata": {},
   "outputs": [
    {
     "output_type": "execute_result",
     "data": {
      "text/plain": [
       "<pymongo.results.DeleteResult at 0x7fefc3a53d40>"
      ]
     },
     "metadata": {},
     "execution_count": 15
    }
   ],
   "source": [
    "l = [{field: np.nan} for field in db.feature_names]\n",
    "r = {\"$or\": l}\n",
    "db.collection.delete_many(r)"
   ]
  },
  {
   "cell_type": "code",
   "execution_count": 12,
   "metadata": {},
   "outputs": [
    {
     "output_type": "execute_result",
     "data": {
      "text/plain": [
       "<pymongo.results.DeleteResult at 0x7fefa3d725c0>"
      ]
     },
     "metadata": {},
     "execution_count": 12
    }
   ],
   "source": [
    "rgx = re.compile(\".*xxx.*\")\n",
    "db.collection.delete_many({\"_id\": rgx})"
   ]
  },
  {
   "cell_type": "code",
   "execution_count": 3,
   "metadata": {},
   "outputs": [],
   "source": [
    "\n",
    "db = Database(\"IEMOCAP\")\n",
    "db2 = Database(\"IEMOCAP_Norm_MinMax\")\n",
    "db3 = Database(\"IEMOCAP_Norm_Std\")"
   ]
  },
  {
   "cell_type": "code",
   "execution_count": 30,
   "metadata": {},
   "outputs": [],
   "source": [
    "_,_, x, y, _, _ = db.get_datasets()\n"
   ]
  },
  {
   "cell_type": "code",
   "execution_count": 7,
   "metadata": {},
   "outputs": [],
   "source": [
    "from dataset_preprocessor import MinMax_Scaler, Standard_Scaler, Preprocessor\n",
    "features_names = db.feature_names"
   ]
  },
  {
   "cell_type": "code",
   "execution_count": 31,
   "metadata": {},
   "outputs": [],
   "source": [
    "minmax = Preprocessor(scaler=MinMax_Scaler())\n",
    "standard = Preprocessor(scaler=Standard_Scaler())\n",
    "\n"
   ]
  },
  {
   "cell_type": "code",
   "execution_count": 33,
   "metadata": {},
   "outputs": [],
   "source": [
    "df2 = db.dataset_full_aug.drop(columns=features_names)"
   ]
  },
  {
   "cell_type": "code",
   "execution_count": 36,
   "metadata": {},
   "outputs": [],
   "source": [
    "x_minmax = minmax.scale(x,y)\n",
    "df_minmax = pd.DataFrame(x_minmax, columns=features_names)\n",
    "df_minmax = pd.concat([df_minmax, df2], axis=1)\n",
    "db2.insert_dataframe(df_minmax)"
   ]
  },
  {
   "cell_type": "code",
   "execution_count": 37,
   "metadata": {},
   "outputs": [
    {
     "output_type": "error",
     "ename": "BulkWriteError",
     "evalue": "batch op errors occurred, full error: {'writeErrors': [{'index': 0, 'code': 11000, 'keyPattern': {'_id': 1}, 'keyValue': {'_id': 'iemocap_Ses03F_impro06_M010_sad.mp3_'}, 'errmsg': 'E11000 duplicate key error collection: Tesis.IEMOCAP_Norm_Std index: _id_ dup key: { _id: \"iemocap_Ses03F_impro06_M010_sad.mp3_\" }', 'op': {'mfcc0': 0.037354555225482144, 'mfcc1': 0.7772019189121098, 'mfcc2': 0.45184993395628015, 'mfcc3': 0.5436528772482063, 'mfcc4': 0.5854399940629592, 'mfcc5': 0.38339087248328685, 'mfcc6': 0.542885522130489, 'mfcc7': 0.27575079458093676, 'mfcc8': 0.6296203181894152, 'mfcc9': 0.43191857787076793, 'mfcc10': 0.2529374457393436, 'mfcc11': 0.5739083770430544, 'mfcc12': 0.18759146392852843, 'mfcc13': 0.2963378680050647, 'mfcc14': 0.1670185700743878, 'mfcc15': 0.322569974529594, 'mfcc_delta10': 0.6263422555874288, 'mfcc_delta11': 0.5973730327367147, 'mfcc_delta12': 0.4718026681305149, 'mfcc_delta13': 0.5392592242945502, 'mfcc_delta14': 0.42843454224055066, 'mfcc_delta15': 0.47648324488567934, 'mfcc_delta16': 0.46213594056884466, 'mfcc_delta17': 0.4231218428289463, 'mfcc_delta18': 0.5857039416109636, 'mfcc_delta19': 0.4090009433910831, 'mfcc_delta110': 0.47896077079564947, 'mfcc_delta111': 0.4497639074094657, 'mfcc_delta112': 0.6022736090237831, 'mfcc_delta113': 0.5406119637382617, 'mfcc_delta114': 0.4460727994934851, 'mfcc_delta115': 0.5218932362306228, 'mfcc_delta20': 0.4225284171358692, 'mfcc_delta21': 0.4412072207259951, 'mfcc_delta22': 0.43956429821122706, 'mfcc_delta23': 0.5391262060414245, 'mfcc_delta24': 0.3800969407225951, 'mfcc_delta25': 0.3898419919972349, 'mfcc_delta26': 0.4382702066566367, 'mfcc_delta27': 0.4695672293251141, 'mfcc_delta28': 0.47816624467306545, 'mfcc_delta29': 0.5415288950371192, 'mfcc_delta210': 0.5345959094058413, 'mfcc_delta211': 0.5200666975999964, 'mfcc_delta212': 0.5270629055298918, 'mfcc_delta213': 0.39333848258780435, 'mfcc_delta214': 0.45801722200894585, 'mfcc_delta215': 0.3135057025665891, 'meanF0': 0.3040088189543409, 'stdevF0': 0.7521346603871952, 'meanF0delta': 0.6034705005686838, 'hnr': 0.2916217734699884, 'crest_factor': 0.07650662728031621, 'rms': 0.00034228352963551684, 'spectral_centroid': 0.36674487569299474, 'spectral_rollof': 0.5214991059061873, 'zero_crossing_rate': 0.35766654572016354, '_id': 'iemocap_Ses03F_impro06_M010_sad.mp3_', 'label': 0, 'augmented': False}}], 'writeConcernErrors': [], 'nInserted': 0, 'nUpserted': 0, 'nMatched': 0, 'nModified': 0, 'nRemoved': 0, 'upserted': []}",
     "traceback": [
      "\u001b[0;31m---------------------------------------------------------------------------\u001b[0m",
      "\u001b[0;31mBulkWriteError\u001b[0m                            Traceback (most recent call last)",
      "\u001b[0;32m<ipython-input-37-1e370e811707>\u001b[0m in \u001b[0;36m<module>\u001b[0;34m\u001b[0m\n\u001b[1;32m      2\u001b[0m \u001b[0mdf_std\u001b[0m \u001b[0;34m=\u001b[0m \u001b[0mpd\u001b[0m\u001b[0;34m.\u001b[0m\u001b[0mDataFrame\u001b[0m\u001b[0;34m(\u001b[0m\u001b[0mx_std\u001b[0m\u001b[0;34m,\u001b[0m \u001b[0mcolumns\u001b[0m\u001b[0;34m=\u001b[0m\u001b[0mfeatures_names\u001b[0m\u001b[0;34m)\u001b[0m\u001b[0;34m\u001b[0m\u001b[0;34m\u001b[0m\u001b[0m\n\u001b[1;32m      3\u001b[0m \u001b[0mdf_std\u001b[0m \u001b[0;34m=\u001b[0m \u001b[0mpd\u001b[0m\u001b[0;34m.\u001b[0m\u001b[0mconcat\u001b[0m\u001b[0;34m(\u001b[0m\u001b[0;34m[\u001b[0m\u001b[0mdf_std\u001b[0m\u001b[0;34m,\u001b[0m \u001b[0mdf2\u001b[0m\u001b[0;34m]\u001b[0m\u001b[0;34m,\u001b[0m \u001b[0maxis\u001b[0m\u001b[0;34m=\u001b[0m\u001b[0;36m1\u001b[0m\u001b[0;34m)\u001b[0m\u001b[0;34m\u001b[0m\u001b[0;34m\u001b[0m\u001b[0m\n\u001b[0;32m----> 4\u001b[0;31m \u001b[0mdb3\u001b[0m\u001b[0;34m.\u001b[0m\u001b[0minsert_dataframe\u001b[0m\u001b[0;34m(\u001b[0m\u001b[0mdf_std\u001b[0m\u001b[0;34m)\u001b[0m\u001b[0;34m\u001b[0m\u001b[0;34m\u001b[0m\u001b[0m\n\u001b[0m",
      "\u001b[0;32m~/Documentos/Reconocimiento de emociones/tesis/database.py\u001b[0m in \u001b[0;36minsert_dataframe\u001b[0;34m(self, df)\u001b[0m\n\u001b[1;32m    136\u001b[0m \u001b[0;34m\u001b[0m\u001b[0m\n\u001b[1;32m    137\u001b[0m     \u001b[0;32mdef\u001b[0m \u001b[0minsert_dataframe\u001b[0m\u001b[0;34m(\u001b[0m\u001b[0mself\u001b[0m\u001b[0;34m,\u001b[0m \u001b[0mdf\u001b[0m\u001b[0;34m)\u001b[0m\u001b[0;34m:\u001b[0m\u001b[0;34m\u001b[0m\u001b[0;34m\u001b[0m\u001b[0m\n\u001b[0;32m--> 138\u001b[0;31m         \u001b[0mself\u001b[0m\u001b[0;34m.\u001b[0m\u001b[0mcollection\u001b[0m\u001b[0;34m.\u001b[0m\u001b[0minsert_many\u001b[0m\u001b[0;34m(\u001b[0m\u001b[0mdf\u001b[0m\u001b[0;34m.\u001b[0m\u001b[0mto_dict\u001b[0m\u001b[0;34m(\u001b[0m\u001b[0;34m\"records\"\u001b[0m\u001b[0;34m)\u001b[0m\u001b[0;34m)\u001b[0m\u001b[0;34m\u001b[0m\u001b[0;34m\u001b[0m\u001b[0m\n\u001b[0m\u001b[1;32m    139\u001b[0m \u001b[0;34m\u001b[0m\u001b[0m\n\u001b[1;32m    140\u001b[0m \u001b[0;34m\u001b[0m\u001b[0m\n",
      "\u001b[0;32m~/.PyEnv38/lib/python3.8/site-packages/pymongo/collection.py\u001b[0m in \u001b[0;36minsert_many\u001b[0;34m(self, documents, ordered, bypass_document_validation, session)\u001b[0m\n\u001b[1;32m    587\u001b[0m         \u001b[0mblk\u001b[0m \u001b[0;34m=\u001b[0m \u001b[0m_Bulk\u001b[0m\u001b[0;34m(\u001b[0m\u001b[0mself\u001b[0m\u001b[0;34m,\u001b[0m \u001b[0mordered\u001b[0m\u001b[0;34m,\u001b[0m \u001b[0mbypass_document_validation\u001b[0m\u001b[0;34m)\u001b[0m\u001b[0;34m\u001b[0m\u001b[0;34m\u001b[0m\u001b[0m\n\u001b[1;32m    588\u001b[0m         \u001b[0mblk\u001b[0m\u001b[0;34m.\u001b[0m\u001b[0mops\u001b[0m \u001b[0;34m=\u001b[0m \u001b[0;34m[\u001b[0m\u001b[0mdoc\u001b[0m \u001b[0;32mfor\u001b[0m \u001b[0mdoc\u001b[0m \u001b[0;32min\u001b[0m \u001b[0mgen\u001b[0m\u001b[0;34m(\u001b[0m\u001b[0;34m)\u001b[0m\u001b[0;34m]\u001b[0m\u001b[0;34m\u001b[0m\u001b[0;34m\u001b[0m\u001b[0m\n\u001b[0;32m--> 589\u001b[0;31m         \u001b[0mblk\u001b[0m\u001b[0;34m.\u001b[0m\u001b[0mexecute\u001b[0m\u001b[0;34m(\u001b[0m\u001b[0mwrite_concern\u001b[0m\u001b[0;34m,\u001b[0m \u001b[0msession\u001b[0m\u001b[0;34m=\u001b[0m\u001b[0msession\u001b[0m\u001b[0;34m)\u001b[0m\u001b[0;34m\u001b[0m\u001b[0;34m\u001b[0m\u001b[0m\n\u001b[0m\u001b[1;32m    590\u001b[0m         \u001b[0;32mreturn\u001b[0m \u001b[0mInsertManyResult\u001b[0m\u001b[0;34m(\u001b[0m\u001b[0minserted_ids\u001b[0m\u001b[0;34m,\u001b[0m \u001b[0mwrite_concern\u001b[0m\u001b[0;34m.\u001b[0m\u001b[0macknowledged\u001b[0m\u001b[0;34m)\u001b[0m\u001b[0;34m\u001b[0m\u001b[0;34m\u001b[0m\u001b[0m\n\u001b[1;32m    591\u001b[0m \u001b[0;34m\u001b[0m\u001b[0m\n",
      "\u001b[0;32m~/.PyEnv38/lib/python3.8/site-packages/pymongo/bulk.py\u001b[0m in \u001b[0;36mexecute\u001b[0;34m(self, write_concern, session)\u001b[0m\n\u001b[1;32m    446\u001b[0m                 \u001b[0mself\u001b[0m\u001b[0;34m.\u001b[0m\u001b[0mexecute_no_results\u001b[0m\u001b[0;34m(\u001b[0m\u001b[0msock_info\u001b[0m\u001b[0;34m,\u001b[0m \u001b[0mgenerator\u001b[0m\u001b[0;34m)\u001b[0m\u001b[0;34m\u001b[0m\u001b[0;34m\u001b[0m\u001b[0m\n\u001b[1;32m    447\u001b[0m         \u001b[0;32melse\u001b[0m\u001b[0;34m:\u001b[0m\u001b[0;34m\u001b[0m\u001b[0;34m\u001b[0m\u001b[0m\n\u001b[0;32m--> 448\u001b[0;31m             \u001b[0;32mreturn\u001b[0m \u001b[0mself\u001b[0m\u001b[0;34m.\u001b[0m\u001b[0mexecute_command\u001b[0m\u001b[0;34m(\u001b[0m\u001b[0mgenerator\u001b[0m\u001b[0;34m,\u001b[0m \u001b[0mwrite_concern\u001b[0m\u001b[0;34m,\u001b[0m \u001b[0msession\u001b[0m\u001b[0;34m)\u001b[0m\u001b[0;34m\u001b[0m\u001b[0;34m\u001b[0m\u001b[0m\n\u001b[0m",
      "\u001b[0;32m~/.PyEnv38/lib/python3.8/site-packages/pymongo/bulk.py\u001b[0m in \u001b[0;36mexecute_command\u001b[0;34m(self, generator, write_concern, session)\u001b[0m\n\u001b[1;32m    346\u001b[0m \u001b[0;34m\u001b[0m\u001b[0m\n\u001b[1;32m    347\u001b[0m         \u001b[0;32mif\u001b[0m \u001b[0mfull_result\u001b[0m\u001b[0;34m[\u001b[0m\u001b[0;34m\"writeErrors\"\u001b[0m\u001b[0;34m]\u001b[0m \u001b[0;32mor\u001b[0m \u001b[0mfull_result\u001b[0m\u001b[0;34m[\u001b[0m\u001b[0;34m\"writeConcernErrors\"\u001b[0m\u001b[0;34m]\u001b[0m\u001b[0;34m:\u001b[0m\u001b[0;34m\u001b[0m\u001b[0;34m\u001b[0m\u001b[0m\n\u001b[0;32m--> 348\u001b[0;31m             \u001b[0m_raise_bulk_write_error\u001b[0m\u001b[0;34m(\u001b[0m\u001b[0mfull_result\u001b[0m\u001b[0;34m)\u001b[0m\u001b[0;34m\u001b[0m\u001b[0;34m\u001b[0m\u001b[0m\n\u001b[0m\u001b[1;32m    349\u001b[0m         \u001b[0;32mreturn\u001b[0m \u001b[0mfull_result\u001b[0m\u001b[0;34m\u001b[0m\u001b[0;34m\u001b[0m\u001b[0m\n\u001b[1;32m    350\u001b[0m \u001b[0;34m\u001b[0m\u001b[0m\n",
      "\u001b[0;32m~/.PyEnv38/lib/python3.8/site-packages/pymongo/bulk.py\u001b[0m in \u001b[0;36m_raise_bulk_write_error\u001b[0;34m(full_result)\u001b[0m\n\u001b[1;32m    131\u001b[0m         full_result[\"writeErrors\"].sort(\n\u001b[1;32m    132\u001b[0m             key=lambda error: error[\"index\"])\n\u001b[0;32m--> 133\u001b[0;31m     \u001b[0;32mraise\u001b[0m \u001b[0mBulkWriteError\u001b[0m\u001b[0;34m(\u001b[0m\u001b[0mfull_result\u001b[0m\u001b[0;34m)\u001b[0m\u001b[0;34m\u001b[0m\u001b[0;34m\u001b[0m\u001b[0m\n\u001b[0m\u001b[1;32m    134\u001b[0m \u001b[0;34m\u001b[0m\u001b[0m\n\u001b[1;32m    135\u001b[0m \u001b[0;34m\u001b[0m\u001b[0m\n",
      "\u001b[0;31mBulkWriteError\u001b[0m: batch op errors occurred, full error: {'writeErrors': [{'index': 0, 'code': 11000, 'keyPattern': {'_id': 1}, 'keyValue': {'_id': 'iemocap_Ses03F_impro06_M010_sad.mp3_'}, 'errmsg': 'E11000 duplicate key error collection: Tesis.IEMOCAP_Norm_Std index: _id_ dup key: { _id: \"iemocap_Ses03F_impro06_M010_sad.mp3_\" }', 'op': {'mfcc0': 0.037354555225482144, 'mfcc1': 0.7772019189121098, 'mfcc2': 0.45184993395628015, 'mfcc3': 0.5436528772482063, 'mfcc4': 0.5854399940629592, 'mfcc5': 0.38339087248328685, 'mfcc6': 0.542885522130489, 'mfcc7': 0.27575079458093676, 'mfcc8': 0.6296203181894152, 'mfcc9': 0.43191857787076793, 'mfcc10': 0.2529374457393436, 'mfcc11': 0.5739083770430544, 'mfcc12': 0.18759146392852843, 'mfcc13': 0.2963378680050647, 'mfcc14': 0.1670185700743878, 'mfcc15': 0.322569974529594, 'mfcc_delta10': 0.6263422555874288, 'mfcc_delta11': 0.5973730327367147, 'mfcc_delta12': 0.4718026681305149, 'mfcc_delta13': 0.5392592242945502, 'mfcc_delta14': 0.42843454224055066, 'mfcc_delta15': 0.47648324488567934, 'mfcc_delta16': 0.46213594056884466, 'mfcc_delta17': 0.4231218428289463, 'mfcc_delta18': 0.5857039416109636, 'mfcc_delta19': 0.4090009433910831, 'mfcc_delta110': 0.47896077079564947, 'mfcc_delta111': 0.4497639074094657, 'mfcc_delta112': 0.6022736090237831, 'mfcc_delta113': 0.5406119637382617, 'mfcc_delta114': 0.4460727994934851, 'mfcc_delta115': 0.5218932362306228, 'mfcc_delta20': 0.4225284171358692, 'mfcc_delta21': 0.4412072207259951, 'mfcc_delta22': 0.43956429821122706, 'mfcc_delta23': 0.5391262060414245, 'mfcc_delta24': 0.3800969407225951, 'mfcc_delta25': 0.3898419919972349, 'mfcc_delta26': 0.4382702066566367, 'mfcc_delta27': 0.4695672293251141, 'mfcc_delta28': 0.47816624467306545, 'mfcc_delta29': 0.5415288950371192, 'mfcc_delta210': 0.5345959094058413, 'mfcc_delta211': 0.5200666975999964, 'mfcc_delta212': 0.5270629055298918, 'mfcc_delta213': 0.39333848258780435, 'mfcc_delta214': 0.45801722200894585, 'mfcc_delta215': 0.3135057025665891, 'meanF0': 0.3040088189543409, 'stdevF0': 0.7521346603871952, 'meanF0delta': 0.6034705005686838, 'hnr': 0.2916217734699884, 'crest_factor': 0.07650662728031621, 'rms': 0.00034228352963551684, 'spectral_centroid': 0.36674487569299474, 'spectral_rollof': 0.5214991059061873, 'zero_crossing_rate': 0.35766654572016354, '_id': 'iemocap_Ses03F_impro06_M010_sad.mp3_', 'label': 0, 'augmented': False}}], 'writeConcernErrors': [], 'nInserted': 0, 'nUpserted': 0, 'nMatched': 0, 'nModified': 0, 'nRemoved': 0, 'upserted': []}"
     ]
    }
   ],
   "source": [
    "x_std = minmax.scale(x,y)\n",
    "df_std = pd.DataFrame(x_std, columns=features_names)\n",
    "df_std = pd.concat([df_std, df2], axis=1)\n",
    "db3.insert_dataframe(df_std)"
   ]
  }
 ]
}